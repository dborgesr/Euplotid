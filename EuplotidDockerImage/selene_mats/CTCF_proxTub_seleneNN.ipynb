{
 "cells": [
  {
   "cell_type": "markdown",
   "metadata": {},
   "source": [
    "# Notebook to train and evaluate NN trained against CTCF binding in fetal proximal tubule cells\n",
    "\n",
    "This is a minimal example of training a neural network using selene against a transcription-specific peak file.\n",
    "\n",
    "Steps:\n"
   ]
  },
  {
   "cell_type": "markdown",
   "metadata": {},
   "source": [
    "## Get human genome annotation\n",
    "\n",
    "Get human fasta file using 2bit from UCSC\n",
    "\n",
    "```sh\n",
    "wget http://hgdownload.soe.ucsc.edu/goldenPath/hg38/bigZips/hg38.2bit\n",
    "wget http://hgdownload.soe.ucsc.edu/admin/exe/linux.x86_64/twoBitToFa \n",
    "chmod 755 twoBitToFa\n",
    "./twoBitToFa hg38.2bit hg38.fa\n",
    "```"
   ]
  },
  {
   "cell_type": "markdown",
   "metadata": {},
   "source": [
    "## Download and format the data\n",
    "\n",
    "Get input and background peaks from ENCSR000DXD which is a fetal kidney proximal epithelial CTCF chip-seq dataset\n",
    "\n",
    "### Get and process background peaks  \n",
    "```sh\n",
    "wget https://encode-public.s3.amazonaws.com/2016/12/16/d944f665-0b23-418b-b297-c36bc585942b/ENCFF932EHP.bed.gz\n",
    "bgzip -f -d ENCFF932EHP.bed.gz\n",
    "cut -f 1-3 ENCFF932EHP.bed > ENCFF932EHP_cut.bed\n",
    "sed -i \"s/$/\\tRPTEC|bg|None/\" ENCFF932EHP_cut.bed\n",
    "sort -k1V -k2n -k3n ENCFF932EHP_cut.bed > ENCFF932EHP_cut_sorted.bed\n",
    "bgzip -c ENCFF932EHP_cut_sorted.bed > ENCFF932EHP_cut_sorted.bed.gz\n",
    "tabix -p bed ENCFF932EHP_cut_sorted.bed.gz\n",
    "```"
   ]
  },
  {
   "cell_type": "markdown",
   "metadata": {},
   "source": [
    "## Get and process CTCF peaks\n",
    "``` sh\n",
    "wget https://encode-public.s3.amazonaws.com/2016/12/16/f5a83928-69e1-4d5f-ba89-e8ea0124261c/ENCFF192UQS.bed.gz\n",
    "bgzip -f -d ENCFF192UQS.bed.gz\n",
    "cut -f 1-3 ENCFF192UQS.bed > ENCFF192UQS_cut.bed\n",
    "sed -i \"s/$/\\tRPTEC|CTCF|None/\" ENCFF192UQS_cut.bed\n",
    "sort -k1V -k2n -k3n ENCFF192UQS_cut.bed > ENCFF192UQS_cut_sorted.bed\n",
    "bgzip -c ENCFF192UQS_cut_sorted.bed > ENCFF192UQS_cut_sorted.bed.gz\n",
    "tabix -p bed ENCFF192UQS_cut_sorted.bed.gz\n",
    "```"
   ]
  },
  {
   "cell_type": "markdown",
   "metadata": {},
   "source": [
    "\n",
    "## Get genomic features to predict\n",
    "\n",
    "Distinct features = genomic features to predict\n",
    "\n",
    "```sh\n",
    "cut -f 4 ENCFF192UQS_cut_sorted.bed | sort -u > distinct_features.txt\n",
    "```"
   ]
  },
  {
   "cell_type": "markdown",
   "metadata": {},
   "source": [
    "\n",
    "# Neural network configuration\n",
    "\n",
    "### Literal arguments\n",
    "\n",
    "### List arguments\n",
    "\n",
    "### Dictionary arguments\n",
    "\n",
    "```YAML\n",
    "model: {\n",
    "    path: <absolute path>/deeperdeepsea.py,\n",
    "    class: DeeperDeepSEA,\n",
    "    class_args: {\n",
    "        sequence_length: 1000,\n",
    "        n_targets: 1\n",
    "    },\n",
    "    non_strand_specific: mean\n",
    "}\n",
    "```\n",
    "\n",
    "### Function arguments \n",
    "\n",
    "```YAML\n",
    "features: !obj.selene_sdk.utils.load_features_list {\n",
    "    input_path: <absolute path>/distinct_features.txt\n",
    "}\n",
    "```\n",
    "\n",
    "## Training a model and analyzing sequences with it\n",
    "\n",
    "#### ops\n",
    "\n",
    "```YAML\n",
    "ops: [train, analyze]\n",
    "```\n",
    "\n",
    "```YAML\n",
    "ops: [train, evaluate]\n",
    "```\n",
    "\n",
    "#### model\n",
    "\n",
    "```python\n",
    "def criterion():\n",
    "    return torch.nn.BCELoss()\n",
    "```\n",
    "\n",
    "```python\n",
    "def get_optimizer(lr):\n",
    "    return (torch.optim.SGD, {\"lr\": lr, \"weight_decay\": 1e-6, \"momentum\": 0.9})\n",
    "```\n",
    "\n",
    "#### sampler\n",
    "\n",
    "Using target genomic intervals from the TF binding dataset and background from DeepSea at least 1 TF binding set\n",
    "\n",
    "```YAML\n",
    "sampler: !obj:selene_sdk.samplers.IntervalsSampler {\n",
    "    reference_sequence: !obj:selene_sdk.sequences.Genome {\n",
    "        input_path: male.hg19.fasta\n",
    "    },\n",
    "    features: !obj:selene_sdk.utils.load_features_list {\n",
    "        input_path: <absolute path>/distinct_features.txt\n",
    "    },\n",
    "    target_path: <absolute path>/sorted_GM12878_CTCF.bed.gz,\n",
    "    intervals_path: <absolute path>/ENCFF192UQS_cut_sorted.bed,\n",
    "    seed: 127,\n",
    "    sample_negative: True,\n",
    "    sequence_length: 1000,\n",
    "    center_bin_to_predict: 200,\n",
    "    test_holdout: [chr8, chr9],\n",
    "    validation_holdout: [chr6, chr7],\n",
    "    feature_thresholds: 0.5,\n",
    "    mode: train,\n",
    "    save_datasets: [test]\n",
    "}\n",
    "```\n"
   ]
  },
  {
   "cell_type": "markdown",
   "metadata": {},
   "source": [
    "\n",
    "#### train_model\n",
    "\n",
    "```YAML\n",
    "train_model: !obj:selene_sdk.TrainModel {\n",
    "    batch_size: 64,\n",
    "    # typically the number of steps is much higher\n",
    "    max_steps: 16000,  \n",
    "    # the number of mini-batches the model should sample before reporting performance\n",
    "    report_stats_every_n_steps: 2000,\n",
    "    n_validation_samples: 32000,\n",
    "    n_test_samples: 120000,\n",
    "    cpu_n_threads: 32,\n",
    "    use_cuda: False,\n",
    "    data_parallel: False\n",
    "}\n",
    "```\n",
    "\n",
    "#### other arguments\n",
    "\n",
    "```YAML\n",
    "lr: 0.01\n",
    "random_seed: 1447\n",
    "output_dir: ./training_outputs\n",
    "create_subdirectory: True\n",
    "```\n",
    "Save test dataset to save time if it doesnt finish running\n",
    "\n",
    "```YAML\n",
    "load_test_set: False\n",
    "```\n",
    "\n"
   ]
  },
  {
   "cell_type": "markdown",
   "metadata": {},
   "source": [
    "## Train and evaluate NN"
   ]
  },
  {
   "cell_type": "code",
   "execution_count": 1,
   "metadata": {},
   "outputs": [],
   "source": [
    "%matplotlib inline\n",
    "\n",
    "from selene_sdk.utils import load_path\n",
    "from selene_sdk.utils import parse_configs_and_run"
   ]
  },
  {
   "cell_type": "code",
   "execution_count": 2,
   "metadata": {},
   "outputs": [],
   "source": [
    "configs = load_path(\"./CTCF_kidney_train.yml\")"
   ]
  },
  {
   "cell_type": "code",
   "execution_count": null,
   "metadata": {},
   "outputs": [
    {
     "name": "stdout",
     "output_type": "stream",
     "text": [
      "Outputs and logs saved to /input_dir/ml_testing/kidney_test/training_outputs\n",
      "2020-04-06 21:12:14,450 - Creating validation dataset.\n",
      "2020-04-06 21:14:07,039 - 112.58383131027222 s to load 32000 validation examples (500 validation batches) to evaluate after each training step.\n",
      "2020-04-06 21:31:03,462 - [STEP 1000] average number of steps per second: 1.0\n",
      "2020-04-06 21:32:42,640 - validation roc_auc: 0.7525198756563279\n",
      "2020-04-06 21:32:42,641 - validation average_precision: 0.04557017384717893\n",
      "2020-04-06 21:32:44,159 - training loss: 0.1443811058998108\n",
      "2020-04-06 21:32:44,160 - validation loss: 0.0470037256591022\n",
      "2020-04-06 21:47:08,922 - [STEP 2000] average number of steps per second: 1.2\n",
      "2020-04-06 21:48:48,752 - validation roc_auc: 0.8042294552957752\n",
      "2020-04-06 21:48:48,753 - validation average_precision: 0.06160666347778087\n",
      "2020-04-06 21:48:50,699 - training loss: 0.010772843845188618\n",
      "2020-04-06 21:48:50,700 - validation loss: 0.04442669021524489\n",
      "2020-04-06 22:01:39,554 - [STEP 3000] average number of steps per second: 1.3\n",
      "2020-04-06 22:03:19,367 - validation roc_auc: 0.9054715232369117\n",
      "2020-04-06 22:03:19,369 - validation average_precision: 0.2898709659797808\n",
      "2020-04-06 22:03:21,283 - training loss: 0.011397086083889008\n",
      "2020-04-06 22:03:21,284 - validation loss: 0.03605182409705594\n"
     ]
    }
   ],
   "source": [
    "parse_configs_and_run(configs, lr=0.01)"
   ]
  },
  {
   "cell_type": "code",
   "execution_count": null,
   "metadata": {},
   "outputs": [],
   "source": []
  }
 ],
 "metadata": {
  "kernelspec": {
   "display_name": "Python 3",
   "language": "python",
   "name": "python3"
  },
  "language_info": {
   "codemirror_mode": {
    "name": "ipython",
    "version": 3
   },
   "file_extension": ".py",
   "mimetype": "text/x-python",
   "name": "python",
   "nbconvert_exporter": "python",
   "pygments_lexer": "ipython3",
   "version": "3.6.9"
  }
 },
 "nbformat": 4,
 "nbformat_minor": 4
}
