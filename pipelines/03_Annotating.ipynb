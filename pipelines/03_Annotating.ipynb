{
 "cells": [
  {
   "cell_type": "code",
   "execution_count": 2,
   "metadata": {
    "collapsed": true,
    "init_cell": true,
    "slideshow": {
     "slide_type": "skip"
    }
   },
   "outputs": [],
   "source": [
    "from ipynb_latex_setup import *"
   ]
  },
  {
   "cell_type": "markdown",
   "metadata": {},
   "source": [
    "# Annotating"
   ]
  },
  {
   "cell_type": "code",
   "execution_count": 4,
   "metadata": {
    "latex_figure": {
     "caption": "Annotating the Insulated Neighborhoods",
     "label": "fig:annotating",
     "placement": "H",
     "widefigure": false
    }
   },
   "outputs": [],
   "source": [
    "#Image(\"https://raw.githubusercontent.com/dborgesr/Euplotid/gh-pages/web_euplotid/lab_meeting_slides_Annotating.png\",width=1000)"
   ]
  },
  {
   "cell_type": "markdown",
   "metadata": {},
   "source": [
    "<img src=\"https://raw.githubusercontent.com/dborgesr/Euplotid/gh-pages/web_euplotid/lab_meeting_slides_Annotating.png\" style=\"width: 1000px;\">"
   ]
  },
  {
   "cell_type": "markdown",
   "metadata": {},
   "source": [
    "## Color nodes\n",
    "&nbsp;&nbsp;&nbsp;&nbsp;&nbsp;&nbsp;&nbsp;&nbsp;After assembling the Insulated Neighborhood skeleton it is key to be able to visualize the impact of Histone modifications on the local regulatory structure, therefore we simply color the nodes of the genomic graph by histone modifications in the given cell state of interest. Specifically, Red if node overlaps only with H3K27Ac and blue if it overlaps H3k4me3 \\cite{consortium_integrated_2012}."
   ]
  },
  {
   "cell_type": "markdown",
   "metadata": {},
   "source": [
    "## Train neural networks \n",
    "Begin by training Convolutional Neural Networks (CNNs) based on all chip-seq and SELEX data for all TFs ever surveyed. The initial implementation of Euplotid uses pre-trained CNNs from [Deepbind](http://www.nature.com/nbt/journal/v33/n8/full/nbt.3300.html) \\cite{alipanahi_predicting_2015}. These CNNs are able to identify the TFs which fall under each chromatin accessiblity peak, but in order to understand the peak as a whole Euplotid takes advantage of [Basset](http://genome.cshlp.org/content/early/2016/06/10/gr.200535.115.abstract) to train neural networks which are capable of predicting changes in chromatin accessibility \\cite{kelley_basset:_2016}. Basset is trained on all available chromatin accessibility data in ENCODE, DNAse of 180 different cell lines. Basset is therefore able to perform in-silico simulations to gauge the impact of a given mutation on the the complex as a whole (SNP Accesibility Difference (SAD) profile), by combining this with the CNNs from Deepbind, we are able to make a prediction as to what factor is causing this change. "
   ]
  },
  {
   "cell_type": "markdown",
   "metadata": {},
   "source": [
    "## Select chromatin accessibility peaks\n",
    "Taking all chromatin accesibility peaks within a set distance (50kb) from all the nodes of a given IN allows us to identify the relevant areas of chromatin which are actively being used in this particular cell state, some potentially actin as Cis-Regulatory Elements. Any method of chromatin accessibility is appropriate, DNAse-seq, ATAC-seq, MNAse-seq etc all can be used as inputs."
   ]
  },
  {
   "cell_type": "markdown",
   "metadata": {},
   "source": [
    "## Identify TF constituents\n",
    "Applying the trained neural network on each chromatin accessibility peak we are able to identify the constiuents, thereby identifying complexes putatively making up each Cis-Regulatory element. Currently this is performed by [Deepbind](http://www.nature.com/nbt/journal/v33/n8/full/nbt.3300.html), but a custom built pytorch based network will soon be implemented \\cite{pytorch_pytorch_2017}."
   ]
  },
  {
   "cell_type": "markdown",
   "metadata": {},
   "source": [
    "## Select and annotate SNPs/CNVs\n",
    "We can then take all SNPs/CNVs ever observed in the human population in dbSNP which overlap the chromatin accessibility peaks within the IN \\cite{sherry_dbsnp:_2001}. This variation is then annotated with the following data if available:\n",
    "* eQTL in 32 tissues (FastQTL+GTeX)\n",
    "* Ease of CRISPR editing (GT-Scan2)\n",
    "* Results of over 2,000 GWAS studies (GRASP)\n",
    "* 667 Methylomes (NGSMethDB)\n",
    "* Estimate of deleteriousness (CADD Score)"
   ]
  },
  {
   "cell_type": "markdown",
   "metadata": {},
   "source": [
    "## Predict effect of SNPs/CNVs\n",
    "For each variant which falls within the IN we perform an in-silico mutational analysis. This in-silico mutational analysis is simple, predict the chromatin accessibility with and without the variant. The difference in SNP accessibility (SAD score) is calculated by [Basset](http://genome.cshlp.org/content/early/2016/05/03/gr.200535.115.abstract) with the pre-trained networks as described above."
   ]
  }
 ],
 "metadata": {
  "anaconda-cloud": {},
  "celltoolbar": "Edit Metadata",
  "cite2c": {
   "citations": {
    "1745311/CK98NF24": {
     "DOI": "10.1038/nbt.3300",
     "URL": "http://www.nature.com/nbt/journal/v33/n8/full/nbt.3300.html",
     "abstract": "Knowing the sequence specificities of DNA- and RNA-binding proteins is essential for developing models of the regulatory processes in biological systems and for identifying causal disease variants. Here we show that sequence specificities can be ascertained from experimental data with 'deep learning' techniques, which offer a scalable, flexible and unified computational approach for pattern discovery. Using a diverse array of experimental data and evaluation metrics, we find that deep learning outperforms other state-of-the-art methods, even when training on in vitro data and testing on in vivo data. We call this approach DeepBind and have built a stand-alone software tool that is fully automatic and handles millions of sequences per experiment. Specificities determined by DeepBind are readily visualized as a weighted ensemble of position weight matrices or as a 'mutation map' that indicates how variations affect binding within a specific sequence.",
     "accessed": {
      "raw": "2016-08-17"
     },
     "author": [
      {
       "family": "Alipanahi",
       "given": "Babak"
      },
      {
       "family": "Delong",
       "given": "Andrew"
      },
      {
       "family": "Weirauch",
       "given": "Matthew T."
      },
      {
       "family": "Frey",
       "given": "Brendan J."
      }
     ],
     "container-title": "Nature Biotechnology",
     "issue": "8",
     "issued": {
      "raw": "August 2015"
     },
     "journalAbbreviation": "Nat Biotech",
     "language": "en",
     "page": "831-838",
     "title": "Predicting the sequence specificities of DNA- and RNA-binding proteins by deep learning",
     "type": "article-journal",
     "volume": "33"
    },
    "1745311/DC357K83": {
     "URL": "http://pytorch.org/",
     "accessed": {
      "day": "7",
      "month": "7",
      "year": "2017"
     },
     "id": "1745311/DC357K83",
     "title": "PyTorch",
     "type": "article"
    },
    "1745311/NM2EGZV6": {
     "abstract": "In response to a need for a general catalog of genome variation to address the large-scale sampling designs required by association studies, gene mapping and evolutionary biology, the National Center for Biotechnology Information (NCBI) has established the dbSNP database [S.T.Sherry, M.Ward and K. Sirotkin (1999) Genome Res., 9, 677-679]. Submissions to dbSNP will be integrated with other sources of information at NCBI such as GenBank, PubMed, LocusLink and the Human Genome Project data. The complete contents of dbSNP are available to the public at website: http://www.ncbi.nlm.nih.gov/SNP. The complete contents of dbSNP can also be downloaded in multiple formats via anonymous FTP at ftp://ncbi.nlm.nih.gov/snp/.",
     "author": [
      {
       "family": "Sherry",
       "given": "S. T."
      },
      {
       "family": "Ward",
       "given": "M. H."
      },
      {
       "family": "Kholodov",
       "given": "M."
      },
      {
       "family": "Baker",
       "given": "J."
      },
      {
       "family": "Phan",
       "given": "L."
      },
      {
       "family": "Smigielski",
       "given": "E. M."
      },
      {
       "family": "Sirotkin",
       "given": "K."
      }
     ],
     "container-title": "Nucleic Acids Research",
     "container-title-short": "Nucleic Acids Res.",
     "id": "1745311/NM2EGZV6",
     "issue": "1",
     "issued": {
      "day": 1,
      "month": "1",
      "year": "2001"
     },
     "journalAbbreviation": "Nucleic Acids Res.",
     "language": "eng",
     "note": "PMID: 11125122\nPMCID: PMC29783",
     "page": "308-311",
     "page-first": "308",
     "shortTitle": "dbSNP",
     "title": "dbSNP: the NCBI database of genetic variation",
     "title-short": "dbSNP",
     "type": "article-journal",
     "volume": "29"
    },
    "1745311/U2TFM933": {
     "DOI": "10.1038/nature11247",
     "URL": "http://www.nature.com/nature/journal/v489/n7414/full/nature11247.html",
     "abstract": "The human genome encodes the blueprint of life, but the function of the vast majority of its nearly three billion bases is unknown. The Encyclopedia of DNA Elements (ENCODE) project has systematically mapped regions of transcription, transcription factor association, chromatin structure and histone modification. These data enabled us to assign biochemical functions for 80% of the genome, in particular outside of the well-studied protein-coding regions. Many discovered candidate regulatory elements are physically associated with one another and with expressed genes, providing new insights into the mechanisms of gene regulation. The newly identified elements also show a statistical correspondence to sequence variants linked to human disease, and can thereby guide interpretation of this variation. Overall, the project provides new insights into the organization and regulation of our genes and genome, and is an expansive resource of functional annotations for biomedical research.",
     "accessed": {
      "day": "7",
      "month": "4",
      "year": "2016"
     },
     "author": [
      {
       "family": "Consortium",
       "given": "The ENCODE Project"
      }
     ],
     "container-title": "Nature",
     "container-title-short": "Nature",
     "id": "1745311/U2TFM933",
     "issue": "7414",
     "issued": {
      "day": 6,
      "month": "9",
      "year": "2012"
     },
     "journalAbbreviation": "Nature",
     "language": "en",
     "page": "57-74",
     "page-first": "57",
     "title": "An integrated encyclopedia of DNA elements in the human genome",
     "type": "article-journal",
     "volume": "489"
    },
    "1745311/W54HWWD3": {
     "DOI": "10.1101/gr.200535.115",
     "URL": "http://genome.cshlp.org/content/early/2016/05/03/gr.200535.115",
     "abstract": "The complex language of eukaryotic gene expression remains incompletely understood. Despite the importance suggested by many noncoding variants statistically associated with human disease, nearly all such variants have unknown mechanism. Here, we address this challenge using an approach based on a recent machine learning advance - deep convolutional neural networks (CNNs). We introduce an open source package Basset to apply CNNs to learn the functional activity of DNA sequences from genomics data. We trained Basset on a compendium of accessible genomic sites mapped in 164 cell types by DNase-seq and demonstrate greater predictive accuracy than previous methods. Basset predictions for the change in accessibility between variant alleles were far greater for GWAS SNPs that are likely to be causal relative to nearby SNPs in linkage disequilibrium with them. With Basset, a researcher can perform a single sequencing assay in their cell type of interest and simultaneously learn that cell's chromatin accessibility code and annotate every mutation in the genome with its influence on present accessibility and latent potential for accessibility. Thus, Basset offers a powerful computational approach to annotate and interpret the noncoding genome.",
     "accessed": {
      "day": "28",
      "month": "4",
      "year": "2017"
     },
     "author": [
      {
       "family": "Kelley",
       "given": "David R."
      },
      {
       "family": "Snoek",
       "given": "Jasper"
      },
      {
       "family": "Rinn",
       "given": "John"
      }
     ],
     "container-title": "Genome Research",
     "container-title-short": "Genome Res.",
     "id": "1745311/W54HWWD3",
     "issued": {
      "day": "3",
      "month": "5",
      "year": "2016"
     },
     "journalAbbreviation": "Genome Res.",
     "language": "en",
     "note": "PMID: 27197224",
     "page": "gr.200535.115",
     "page-first": "gr.200535.115",
     "shortTitle": "Basset",
     "title": "Basset: Learning the regulatory code of the accessible genome with deep convolutional neural networks",
     "title-short": "Basset",
     "type": "article-journal"
    },
    "undefined": {
     "DOI": "10.1038/nbt.3300",
     "URL": "http://www.nature.com/nbt/journal/v33/n8/full/nbt.3300.html",
     "abstract": "Knowing the sequence specificities of DNA- and RNA-binding proteins is essential for developing models of the regulatory processes in biological systems and for identifying causal disease variants. Here we show that sequence specificities can be ascertained from experimental data with 'deep learning' techniques, which offer a scalable, flexible and unified computational approach for pattern discovery. Using a diverse array of experimental data and evaluation metrics, we find that deep learning outperforms other state-of-the-art methods, even when training on in vitro data and testing on in vivo data. We call this approach DeepBind and have built a stand-alone software tool that is fully automatic and handles millions of sequences per experiment. Specificities determined by DeepBind are readily visualized as a weighted ensemble of position weight matrices or as a 'mutation map' that indicates how variations affect binding within a specific sequence.",
     "accessed": {
      "day": "17",
      "month": "8",
      "year": "2016"
     },
     "author": [
      {
       "family": "Alipanahi",
       "given": "Babak"
      },
      {
       "family": "Delong",
       "given": "Andrew"
      },
      {
       "family": "Weirauch",
       "given": "Matthew T."
      },
      {
       "family": "Frey",
       "given": "Brendan J."
      }
     ],
     "container-title": "Nature Biotechnology",
     "container-title-short": "Nat Biotech",
     "id": "undefined",
     "issue": "8",
     "issued": {
      "month": "8",
      "year": "2015"
     },
     "journalAbbreviation": "Nat Biotech",
     "language": "en",
     "page": "831-838",
     "page-first": "831",
     "title": "Predicting the sequence specificities of DNA- and RNA-binding proteins by deep learning",
     "type": "article-journal",
     "volume": "33"
    }
   }
  },
  "kernelspec": {
   "display_name": "Python [conda root]",
   "language": "python",
   "name": "conda-root-py"
  },
  "language_info": {
   "codemirror_mode": {
    "name": "ipython",
    "version": 2
   },
   "file_extension": ".py",
   "mimetype": "text/x-python",
   "name": "python",
   "nbconvert_exporter": "python",
   "pygments_lexer": "ipython2",
   "version": "2.7.13"
  },
  "latex_envs": {
   "LaTeX_envs_menu_present": true,
   "autocomplete": true,
   "bibliofile": "biblio.bib",
   "cite_by": "apalike",
   "current_citInitial": 1,
   "eqLabelWithNumbers": true,
   "eqNumInitial": 0,
   "hotkeys": {
    "equation": "Ctrl-E",
    "itemize": "Ctrl-I"
   },
   "labels_anchors": false,
   "latex_user_defs": false,
   "report_style_numbering": false,
   "user_envs_cfg": false
  }
 },
 "nbformat": 4,
 "nbformat_minor": 2
}
