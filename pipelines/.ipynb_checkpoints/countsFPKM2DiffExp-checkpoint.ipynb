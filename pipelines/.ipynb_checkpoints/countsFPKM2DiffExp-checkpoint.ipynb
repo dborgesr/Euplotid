{
 "cells": [
  {
   "cell_type": "markdown",
   "metadata": {},
   "source": [
    "# Take RNA-Seq counts and get differentially expressed genes"
   ]
  },
  {
   "cell_type": "markdown",
   "metadata": {},
   "source": [
    "## Install packages"
   ]
  },
  {
   "cell_type": "code",
   "execution_count": null,
   "metadata": {
    "nbpresent": {
     "id": "88b24b88-d238-4072-bd07-3f4c2d345e52"
    },
    "scrolled": true
   },
   "outputs": [
    {
     "name": "stderr",
     "output_type": "stream",
     "text": [
      "Bioconductor version 3.4 (BiocInstaller 1.24.0), ?biocLite for help\n",
      "A new version of Bioconductor is available after installing the most recent\n",
      "  version of R; see http://bioconductor.org/install\n",
      "BioC_mirror: https://bioconductor.org\n",
      "Using Bioconductor 3.4 (BiocInstaller 1.24.0), R 3.3.2 (2016-10-31).\n",
      "Installing package(s) 'edgeR'\n",
      "Updating HTML index of packages in '.Library'\n",
      "Making 'packages.html' ... done\n",
      "Old packages: 'XML'\n",
      "BioC_mirror: https://bioconductor.org\n",
      "Using Bioconductor 3.4 (BiocInstaller 1.24.0), R 3.3.2 (2016-10-31).\n",
      "Installing package(s) 'compcodeR'\n",
      "Warning message in install.packages(pkgs = doing, lib = lib, ...):\n",
      "\"installation of package 'compcodeR' had non-zero exit status\"Updating HTML index of packages in '.Library'\n",
      "Making 'packages.html' ... done\n",
      "Old packages: 'XML'\n",
      "BioC_mirror: https://bioconductor.org\n",
      "Using Bioconductor 3.4 (BiocInstaller 1.24.0), R 3.3.2 (2016-10-31).\n",
      "Installing package(s) 'EBSeq'\n",
      "Updating HTML index of packages in '.Library'\n",
      "Making 'packages.html' ... done\n",
      "Old packages: 'XML'\n"
     ]
    }
   ],
   "source": [
    "#Install needed packages\n",
    "source(\"https://bioconductor.org/biocLite.R\")\n",
    "biocLite(\"edgeR\")\n",
    "biocLite(\"compcodeR\")\n",
    "biocLite(\"EBSeq\")\n",
    "biocLite(\"DESeq2\")\n",
    "install.packages(\"heatmaply\")\n",
    "install.packages(\"manhattanly\")\n",
    "#devtools::install_github('hadley/ggplot2')\n",
    "install.packages(\"RColorBrewer\")"
   ]
  },
  {
   "cell_type": "markdown",
   "metadata": {},
   "source": [
    "## Load required libraries"
   ]
  },
  {
   "cell_type": "code",
   "execution_count": 1,
   "metadata": {
    "nbpresent": {
     "id": "fcaa72c2-d4fb-4c89-a424-b5e3e621fdc7"
    }
   },
   "outputs": [
    {
     "name": "stderr",
     "output_type": "stream",
     "text": [
      "Loading required package: limma\n",
      "Loading required package: blockmodeling\n",
      "Loading required package: gplots\n",
      "\n",
      "Attaching package: 'gplots'\n",
      "\n",
      "The following object is masked from 'package:stats':\n",
      "\n",
      "    lowess\n",
      "\n",
      "Loading required package: testthat\n",
      "Loading required package: S4Vectors\n",
      "Loading required package: stats4\n",
      "Loading required package: BiocGenerics\n",
      "Loading required package: parallel\n",
      "\n",
      "Attaching package: 'BiocGenerics'\n",
      "\n",
      "The following objects are masked from 'package:parallel':\n",
      "\n",
      "    clusterApply, clusterApplyLB, clusterCall, clusterEvalQ,\n",
      "    clusterExport, clusterMap, parApply, parCapply, parLapply,\n",
      "    parLapplyLB, parRapply, parSapply, parSapplyLB\n",
      "\n",
      "The following object is masked from 'package:limma':\n",
      "\n",
      "    plotMA\n",
      "\n",
      "The following objects are masked from 'package:stats':\n",
      "\n",
      "    IQR, mad, xtabs\n",
      "\n",
      "The following objects are masked from 'package:base':\n",
      "\n",
      "    Filter, Find, Map, Position, Reduce, anyDuplicated, append,\n",
      "    as.data.frame, cbind, colnames, do.call, duplicated, eval, evalq,\n",
      "    get, grep, grepl, intersect, is.unsorted, lapply, lengths, mapply,\n",
      "    match, mget, order, paste, pmax, pmax.int, pmin, pmin.int, rank,\n",
      "    rbind, rownames, sapply, setdiff, sort, table, tapply, union,\n",
      "    unique, unsplit, which, which.max, which.min\n",
      "\n",
      "\n",
      "Attaching package: 'S4Vectors'\n",
      "\n",
      "The following object is masked from 'package:testthat':\n",
      "\n",
      "    compare\n",
      "\n",
      "The following object is masked from 'package:gplots':\n",
      "\n",
      "    space\n",
      "\n",
      "The following objects are masked from 'package:base':\n",
      "\n",
      "    colMeans, colSums, expand.grid, rowMeans, rowSums\n",
      "\n",
      "Loading required package: IRanges\n",
      "Loading required package: GenomicRanges\n",
      "Loading required package: GenomeInfoDb\n",
      "Loading required package: SummarizedExperiment\n",
      "Loading required package: Biobase\n",
      "Welcome to Bioconductor\n",
      "\n",
      "    Vignettes contain introductory material; view with\n",
      "    'browseVignettes()'. To cite Bioconductor, see\n",
      "    'citation(\"Biobase\")', and for packages 'citation(\"pkgname\")'.\n",
      "\n",
      "Loading required package: ggplot2\n",
      "\n",
      "Attaching package: 'plotly'\n",
      "\n",
      "The following object is masked from 'package:ggplot2':\n",
      "\n",
      "    last_plot\n",
      "\n",
      "The following object is masked from 'package:IRanges':\n",
      "\n",
      "    slice\n",
      "\n",
      "The following object is masked from 'package:S4Vectors':\n",
      "\n",
      "    rename\n",
      "\n",
      "The following object is masked from 'package:stats':\n",
      "\n",
      "    filter\n",
      "\n",
      "The following object is masked from 'package:graphics':\n",
      "\n",
      "    layout\n",
      "\n"
     ]
    },
    {
     "ename": "ERROR",
     "evalue": "Error in library(\"compcodeR\"): there is no package called 'compcodeR'\n",
     "output_type": "error",
     "traceback": [
      "Error in library(\"compcodeR\"): there is no package called 'compcodeR'\nTraceback:\n",
      "1. library(\"compcodeR\")",
      "2. stop(txt, domain = NA)"
     ]
    }
   ],
   "source": [
    "#load packages\n",
    "library(\"edgeR\")\n",
    "library(\"EBSeq\")\n",
    "library(\"DESeq2\")\n",
    "library(\"plotly\")\n",
    "library(\"compcodeR\")\n",
    "library(\"heatmaply\")\n",
    "library(\"manhattanly\")\n",
    "library(\"reshape2\")"
   ]
  },
  {
   "cell_type": "markdown",
   "metadata": {},
   "source": [
    "## Load count matrix from RSEM output"
   ]
  },
  {
   "cell_type": "code",
   "execution_count": 12,
   "metadata": {
    "nbpresent": {
     "id": "f85c3937-9145-4f4a-82fc-08258b871839"
    }
   },
   "outputs": [
    {
     "data": {
      "text/html": [
       "<table>\n",
       "<thead><tr><th></th><th scope=col>wt_mesc.genes.results</th><th scope=col>prdm14_mesc.genes.results</th><th scope=col>mir290_mesc.genes.results</th><th scope=col>syk1_mesc.genes.results</th></tr></thead>\n",
       "<tbody>\n",
       "\t<tr><th scope=row>0610005C13Rik</th><td>  9.00</td><td>  4.00</td><td>  6.00</td><td> 16.00</td></tr>\n",
       "\t<tr><th scope=row>0610007P14Rik</th><td>336.00</td><td>314.00</td><td>266.00</td><td>292.00</td></tr>\n",
       "\t<tr><th scope=row>0610009B22Rik</th><td>149.95</td><td>113.59</td><td>165.36</td><td>141.44</td></tr>\n",
       "\t<tr><th scope=row>0610009L18Rik</th><td>  7.00</td><td>  4.00</td><td>  9.00</td><td>  4.00</td></tr>\n",
       "\t<tr><th scope=row>0610009O20Rik</th><td>666.96</td><td>516.00</td><td>635.99</td><td>578.99</td></tr>\n",
       "\t<tr><th scope=row>0610010B08Rik</th><td>181.08</td><td>185.48</td><td>314.89</td><td>147.58</td></tr>\n",
       "</tbody>\n",
       "</table>\n"
      ],
      "text/latex": [
       "\\begin{tabular}{r|llll}\n",
       "  & wt\\_mesc.genes.results & prdm14\\_mesc.genes.results & mir290\\_mesc.genes.results & syk1\\_mesc.genes.results\\\\\n",
       "\\hline\n",
       "\t0610005C13Rik &   9.00 &   4.00 &   6.00 &  16.00\\\\\n",
       "\t0610007P14Rik & 336.00 & 314.00 & 266.00 & 292.00\\\\\n",
       "\t0610009B22Rik & 149.95 & 113.59 & 165.36 & 141.44\\\\\n",
       "\t0610009L18Rik &   7.00 &   4.00 &   9.00 &   4.00\\\\\n",
       "\t0610009O20Rik & 666.96 & 516.00 & 635.99 & 578.99\\\\\n",
       "\t0610010B08Rik & 181.08 & 185.48 & 314.89 & 147.58\\\\\n",
       "\\end{tabular}\n"
      ],
      "text/markdown": [
       "\n",
       "| <!--/--> | wt_mesc.genes.results | prdm14_mesc.genes.results | mir290_mesc.genes.results | syk1_mesc.genes.results | \n",
       "|---|---|---|---|---|---|\n",
       "| 0610005C13Rik |   9.00 |   4.00 |   6.00 |  16.00 | \n",
       "| 0610007P14Rik | 336.00 | 314.00 | 266.00 | 292.00 | \n",
       "| 0610009B22Rik | 149.95 | 113.59 | 165.36 | 141.44 | \n",
       "| 0610009L18Rik |   7.00 |   4.00 |   9.00 |   4.00 | \n",
       "| 0610009O20Rik | 666.96 | 516.00 | 635.99 | 578.99 | \n",
       "| 0610010B08Rik | 181.08 | 185.48 | 314.89 | 147.58 | \n",
       "\n",
       "\n"
      ],
      "text/plain": [
       "              wt_mesc.genes.results prdm14_mesc.genes.results\n",
       "0610005C13Rik   9.00                  4.00                   \n",
       "0610007P14Rik 336.00                314.00                   \n",
       "0610009B22Rik 149.95                113.59                   \n",
       "0610009L18Rik   7.00                  4.00                   \n",
       "0610009O20Rik 666.96                516.00                   \n",
       "0610010B08Rik 181.08                185.48                   \n",
       "              mir290_mesc.genes.results syk1_mesc.genes.results\n",
       "0610005C13Rik   6.00                     16.00                 \n",
       "0610007P14Rik 266.00                    292.00                 \n",
       "0610009B22Rik 165.36                    141.44                 \n",
       "0610009L18Rik   9.00                      4.00                 \n",
       "0610009O20Rik 635.99                    578.99                 \n",
       "0610010B08Rik 314.89                    147.58                 "
      ]
     },
     "metadata": {},
     "output_type": "display_data"
    }
   ],
   "source": [
    "count.matrix = read.table(\"wt_treat_counts_genes.matrix\")\n",
    "sample.annot = data.frame(condition = c(1, 2))\n",
    "rownames(sample.annot) = colnames(count.matrix[,1:2])\n",
    "info.parameters = list(dataset = \"DE_test\", uID = \"11111\")\n",
    "#Save read count data for a condition to get it in the right\n",
    "# format for differential expression R package\n",
    "cpd = compData(count.matrix = count.matrix[,1:2],\n",
    "sample.annotations = sample.annot,\n",
    "info.parameters = info.parameters)\n",
    "saveRDS(cpd, \"wt_treat.rds\")\n",
    "head(count.matrix)"
   ]
  },
  {
   "cell_type": "markdown",
   "metadata": {},
   "source": [
    "## Run differential expression analysis, showing EBSeq w/ default parameters"
   ]
  },
  {
   "cell_type": "code",
   "execution_count": 5,
   "metadata": {
    "nbpresent": {
     "id": "3051000c-5621-46da-a325-8b31f5c3f491"
    }
   },
   "outputs": [
    {
     "name": "stderr",
     "output_type": "stream",
     "text": [
      "\n",
      "\n",
      "processing file: tempcode.Rmd\n"
     ]
    },
    {
     "name": "stdout",
     "output_type": "stream",
     "text": [
      "\r",
      "  |                                                                       \r",
      "  |                                                                 |   0%\r",
      "  |                                                                       \r",
      "  |................................                                 |  50%\n",
      "  ordinary text without R code\n",
      "\n",
      "\r",
      "  |                                                                       \r",
      "  |.................................................................| 100%\n",
      "label: unnamed-chunk-1 (with options) \n",
      "List of 6\n",
      " $ echo   : logi TRUE\n",
      " $ eval   : logi TRUE\n",
      " $ include: logi TRUE\n",
      " $ message: logi TRUE\n",
      " $ error  : logi TRUE\n",
      " $ warning: logi TRUE\n",
      "\n",
      "\n"
     ]
    },
    {
     "name": "stderr",
     "output_type": "stream",
     "text": [
      "output file: tempcode.md\n",
      "\n"
     ]
    },
    {
     "data": {
      "text/html": [
       "TRUE"
      ],
      "text/latex": [
       "TRUE"
      ],
      "text/markdown": [
       "TRUE"
      ],
      "text/plain": [
       "[1] TRUE"
      ]
     },
     "metadata": {},
     "output_type": "display_data"
    }
   ],
   "source": [
    "runDiffExp(data.file = \"wt_treat.rds\", result.extent = \"EBSeq\",\n",
    "           Rmdfunction = \"EBSeq.createRmd\",output.directory = \".\", \n",
    "           norm.method = \"median\", norm.path=\"True\")\n",
    "#look up all different diff exp R possible runs w/ help(runDiffExp)\n",
    "#runDiffExp(data.file = \"wt_prdm14.rds\", result.extent = \"DESeq2\",Rmdfunction = \"DESeq2.createRmd\",output.directory = \".\", fit.type=\"mean\", test=\"Wald\")"
   ]
  },
  {
   "cell_type": "markdown",
   "metadata": {},
   "source": [
    "## Suck in diff exp results and FPKM RSEM output"
   ]
  },
  {
   "cell_type": "code",
   "execution_count": 13,
   "metadata": {
    "nbpresent": {
     "id": "4d3d5c2a-8958-4cf3-8f14-bd90eae373bf"
    }
   },
   "outputs": [
    {
     "data": {
      "text/html": [
       "<table>\n",
       "<thead><tr><th></th><th scope=col>wt</th><th scope=col>prdm14</th><th scope=col>mir290</th><th scope=col>syk1</th></tr></thead>\n",
       "<tbody>\n",
       "\t<tr><th scope=row>0610005C13Rik</th><td> 0.63</td><td> 0.31</td><td> 0.45</td><td> 1.15</td></tr>\n",
       "\t<tr><th scope=row>0610007P14Rik</th><td>22.21</td><td>23.05</td><td>18.14</td><td>19.69</td></tr>\n",
       "\t<tr><th scope=row>0610009B22Rik</th><td>15.03</td><td>12.64</td><td>17.10</td><td>14.46</td></tr>\n",
       "\t<tr><th scope=row>0610009L18Rik</th><td> 0.91</td><td> 0.58</td><td> 1.21</td><td> 0.53</td></tr>\n",
       "\t<tr><th scope=row>0610009O20Rik</th><td>21.36</td><td>18.36</td><td>21.02</td><td>18.92</td></tr>\n",
       "\t<tr><th scope=row>0610010B08Rik</th><td> 3.05</td><td> 3.47</td><td> 5.47</td><td> 2.54</td></tr>\n",
       "\t<tr><th scope=row>0610010F05Rik</th><td> 8.83</td><td> 7.68</td><td>12.47</td><td> 6.22</td></tr>\n",
       "\t<tr><th scope=row>0610010K14Rik</th><td>73.21</td><td>63.44</td><td>66.81</td><td>63.51</td></tr>\n",
       "\t<tr><th scope=row>0610012G03Rik</th><td>12.38</td><td>12.05</td><td>12.45</td><td> 9.93</td></tr>\n",
       "\t<tr><th scope=row>0610030E20Rik</th><td> 3.46</td><td> 1.45</td><td> 3.83</td><td> 2.30</td></tr>\n",
       "\t<tr><th scope=row>0610031O16Rik</th><td> 0.00</td><td> 0.00</td><td> 0.00</td><td> 0.00</td></tr>\n",
       "\t<tr><th scope=row>0610037L13Rik</th><td>13.11</td><td> 9.32</td><td>14.40</td><td>10.66</td></tr>\n",
       "\t<tr><th scope=row>0610038B21Rik</th><td> 0.33</td><td> 0.12</td><td> 0.36</td><td> 0.40</td></tr>\n",
       "\t<tr><th scope=row>0610039H22Rik</th><td> 0.99</td><td> 0.49</td><td> 0.45</td><td> 0.56</td></tr>\n",
       "\t<tr><th scope=row>0610039K10Rik</th><td> 0.66</td><td> 0.65</td><td> 1.72</td><td> 0.70</td></tr>\n",
       "\t<tr><th scope=row>0610040B10Rik</th><td> 1.13</td><td> 0.42</td><td> 0.97</td><td> 0.58</td></tr>\n",
       "\t<tr><th scope=row>0610040F04Rik</th><td> 2.63</td><td> 1.24</td><td> 2.57</td><td> 2.07</td></tr>\n",
       "\t<tr><th scope=row>0610040J01Rik</th><td> 0.41</td><td> 0.46</td><td> 0.26</td><td> 0.46</td></tr>\n",
       "\t<tr><th scope=row>0610043K17Rik</th><td> 0.13</td><td> 0.44</td><td> 0.14</td><td> 0.00</td></tr>\n",
       "\t<tr><th scope=row>1010001N08Rik</th><td> 0.36</td><td> 0.00</td><td> 0.00</td><td> 0.12</td></tr>\n",
       "</tbody>\n",
       "</table>\n"
      ],
      "text/latex": [
       "\\begin{tabular}{r|llll}\n",
       "  & wt & prdm14 & mir290 & syk1\\\\\n",
       "\\hline\n",
       "\t0610005C13Rik &  0.63 &  0.31 &  0.45 &  1.15\\\\\n",
       "\t0610007P14Rik & 22.21 & 23.05 & 18.14 & 19.69\\\\\n",
       "\t0610009B22Rik & 15.03 & 12.64 & 17.10 & 14.46\\\\\n",
       "\t0610009L18Rik &  0.91 &  0.58 &  1.21 &  0.53\\\\\n",
       "\t0610009O20Rik & 21.36 & 18.36 & 21.02 & 18.92\\\\\n",
       "\t0610010B08Rik &  3.05 &  3.47 &  5.47 &  2.54\\\\\n",
       "\t0610010F05Rik &  8.83 &  7.68 & 12.47 &  6.22\\\\\n",
       "\t0610010K14Rik & 73.21 & 63.44 & 66.81 & 63.51\\\\\n",
       "\t0610012G03Rik & 12.38 & 12.05 & 12.45 &  9.93\\\\\n",
       "\t0610030E20Rik &  3.46 &  1.45 &  3.83 &  2.30\\\\\n",
       "\t0610031O16Rik &  0.00 &  0.00 &  0.00 &  0.00\\\\\n",
       "\t0610037L13Rik & 13.11 &  9.32 & 14.40 & 10.66\\\\\n",
       "\t0610038B21Rik &  0.33 &  0.12 &  0.36 &  0.40\\\\\n",
       "\t0610039H22Rik &  0.99 &  0.49 &  0.45 &  0.56\\\\\n",
       "\t0610039K10Rik &  0.66 &  0.65 &  1.72 &  0.70\\\\\n",
       "\t0610040B10Rik &  1.13 &  0.42 &  0.97 &  0.58\\\\\n",
       "\t0610040F04Rik &  2.63 &  1.24 &  2.57 &  2.07\\\\\n",
       "\t0610040J01Rik &  0.41 &  0.46 &  0.26 &  0.46\\\\\n",
       "\t0610043K17Rik &  0.13 &  0.44 &  0.14 &  0.00\\\\\n",
       "\t1010001N08Rik &  0.36 &  0.00 &  0.00 &  0.12\\\\\n",
       "\\end{tabular}\n"
      ],
      "text/markdown": [
       "\n",
       "| <!--/--> | wt | prdm14 | mir290 | syk1 | \n",
       "|---|---|---|---|---|---|---|---|---|---|---|---|---|---|---|---|---|---|---|---|\n",
       "| 0610005C13Rik |  0.63 |  0.31 |  0.45 |  1.15 | \n",
       "| 0610007P14Rik | 22.21 | 23.05 | 18.14 | 19.69 | \n",
       "| 0610009B22Rik | 15.03 | 12.64 | 17.10 | 14.46 | \n",
       "| 0610009L18Rik |  0.91 |  0.58 |  1.21 |  0.53 | \n",
       "| 0610009O20Rik | 21.36 | 18.36 | 21.02 | 18.92 | \n",
       "| 0610010B08Rik |  3.05 |  3.47 |  5.47 |  2.54 | \n",
       "| 0610010F05Rik |  8.83 |  7.68 | 12.47 |  6.22 | \n",
       "| 0610010K14Rik | 73.21 | 63.44 | 66.81 | 63.51 | \n",
       "| 0610012G03Rik | 12.38 | 12.05 | 12.45 |  9.93 | \n",
       "| 0610030E20Rik |  3.46 |  1.45 |  3.83 |  2.30 | \n",
       "| 0610031O16Rik |  0.00 |  0.00 |  0.00 |  0.00 | \n",
       "| 0610037L13Rik | 13.11 |  9.32 | 14.40 | 10.66 | \n",
       "| 0610038B21Rik |  0.33 |  0.12 |  0.36 |  0.40 | \n",
       "| 0610039H22Rik |  0.99 |  0.49 |  0.45 |  0.56 | \n",
       "| 0610039K10Rik |  0.66 |  0.65 |  1.72 |  0.70 | \n",
       "| 0610040B10Rik |  1.13 |  0.42 |  0.97 |  0.58 | \n",
       "| 0610040F04Rik |  2.63 |  1.24 |  2.57 |  2.07 | \n",
       "| 0610040J01Rik |  0.41 |  0.46 |  0.26 |  0.46 | \n",
       "| 0610043K17Rik |  0.13 |  0.44 |  0.14 |  0.00 | \n",
       "| 1010001N08Rik |  0.36 |  0.00 |  0.00 |  0.12 | \n",
       "\n",
       "\n"
      ],
      "text/plain": [
       "              wt    prdm14 mir290 syk1 \n",
       "0610005C13Rik  0.63  0.31   0.45   1.15\n",
       "0610007P14Rik 22.21 23.05  18.14  19.69\n",
       "0610009B22Rik 15.03 12.64  17.10  14.46\n",
       "0610009L18Rik  0.91  0.58   1.21   0.53\n",
       "0610009O20Rik 21.36 18.36  21.02  18.92\n",
       "0610010B08Rik  3.05  3.47   5.47   2.54\n",
       "0610010F05Rik  8.83  7.68  12.47   6.22\n",
       "0610010K14Rik 73.21 63.44  66.81  63.51\n",
       "0610012G03Rik 12.38 12.05  12.45   9.93\n",
       "0610030E20Rik  3.46  1.45   3.83   2.30\n",
       "0610031O16Rik  0.00  0.00   0.00   0.00\n",
       "0610037L13Rik 13.11  9.32  14.40  10.66\n",
       "0610038B21Rik  0.33  0.12   0.36   0.40\n",
       "0610039H22Rik  0.99  0.49   0.45   0.56\n",
       "0610039K10Rik  0.66  0.65   1.72   0.70\n",
       "0610040B10Rik  1.13  0.42   0.97   0.58\n",
       "0610040F04Rik  2.63  1.24   2.57   2.07\n",
       "0610040J01Rik  0.41  0.46   0.26   0.46\n",
       "0610043K17Rik  0.13  0.44   0.14   0.00\n",
       "1010001N08Rik  0.36  0.00   0.00   0.12"
      ]
     },
     "metadata": {},
     "output_type": "display_data"
    }
   ],
   "source": [
    "out_EB = readRDS(\"wt_treat_EBSeq.rds\")\n",
    "rsem_fpkm_matrix=data.matrix(read.table(\"diff_exp_fpkm.txt\",header=TRUE,row.names=1,sep=\"\\t\"))\n",
    "head(rsem_fpkm_matrix,20)\n",
    "eb_results = 1-unlist(out_EB@result.table[\"posterior.DE\"])\n",
    "#adding .000001 pseudocount\n",
    "fold_change = log2(rsem_fpkm_matrix[,2]/(rsem_fpkm_matrix[,1]))\n",
    "eb_de_out = data.frame(P=eb_results[is.finite(eb_results)],fold_change=fold_change[is.finite(eb_results)], gene=rownames(out_EB@result.table)[is.finite(eb_results)])\n",
    "colnames(eb_de_out) = c(\"P\",\"EFFECTSIZE\",\"SNP\")\n",
    "#out_DESeq2 = readRDS(\"wt_prdm14_DESeq2.rds\")"
   ]
  },
  {
   "cell_type": "markdown",
   "metadata": {},
   "source": [
    "## Make volcano plot of results\n",
    "Note this is very heavy so it might get laggy!"
   ]
  },
  {
   "cell_type": "code",
   "execution_count": null,
   "metadata": {
    "nbpresent": {
     "id": "e1899931-aa49-4cd6-927d-44e44a27b364"
    }
   },
   "outputs": [],
   "source": [
    "embed_notebook(volcanoly(eb_de_out,highlight=\"Gapdh\",snp=\"SNP\",annotation1 = \"EFFECTSIZE\",annotation2=\"P\",\n",
    "                         title=\"EBSeq DE Analysis of \\n WT vs Treatment\",\n",
    "                         ylab=\"log10 of 1-Posterior Probability of DE\", xlab=\"Log2 fold change\"))"
   ]
  }
 ],
 "metadata": {
  "kernelspec": {
   "display_name": "R",
   "language": "R",
   "name": "ir"
  },
  "language_info": {
   "codemirror_mode": "r",
   "file_extension": ".r",
   "mimetype": "text/x-r-source",
   "name": "R",
   "pygments_lexer": "r",
   "version": "3.3.2"
  },
  "nbpresent": {
   "slides": {
    "36aac809-454f-4a60-b40f-e0e3ec700f75": {
     "id": "36aac809-454f-4a60-b40f-e0e3ec700f75",
     "prev": "b8bc937b-2ac2-44f8-a31e-bc566bdaa952",
     "regions": {
      "499800eb-7291-4682-819d-39558f8d6983": {
       "attrs": {
        "height": 1,
        "width": 1,
        "x": 0,
        "y": 0
       },
       "content": {
        "cell": "e1899931-aa49-4cd6-927d-44e44a27b364",
        "part": "whole"
       },
       "id": "499800eb-7291-4682-819d-39558f8d6983"
      }
     }
    },
    "b8bc937b-2ac2-44f8-a31e-bc566bdaa952": {
     "id": "b8bc937b-2ac2-44f8-a31e-bc566bdaa952",
     "prev": "bd2d253c-28e6-429e-9f03-416921b5bc8d",
     "regions": {
      "abb96713-a34f-4b56-923d-0c05e136d698": {
       "attrs": {
        "height": 0.8,
        "width": 0.45,
        "x": 0.05,
        "y": 0.1
       },
       "content": {
        "cell": "4d3d5c2a-8958-4cf3-8f14-bd90eae373bf",
        "part": "source"
       },
       "id": "abb96713-a34f-4b56-923d-0c05e136d698"
      },
      "f079a960-9df5-4612-afcb-d5330496605e": {
       "attrs": {
        "height": 0.8,
        "width": 0.45,
        "x": 0.5,
        "y": 0.1
       },
       "content": {
        "cell": "4d3d5c2a-8958-4cf3-8f14-bd90eae373bf",
        "part": "outputs"
       },
       "id": "f079a960-9df5-4612-afcb-d5330496605e"
      }
     }
    },
    "bd2d253c-28e6-429e-9f03-416921b5bc8d": {
     "id": "bd2d253c-28e6-429e-9f03-416921b5bc8d",
     "prev": "c8e45b7b-0d11-4aea-9f26-8d2d2fd9baea",
     "regions": {
      "f1d83a1c-b6bc-46d0-b9b2-3853f8f29bfd": {
       "attrs": {
        "height": 1,
        "width": 1,
        "x": 0,
        "y": 0
       },
       "content": {
        "cell": "3051000c-5621-46da-a325-8b31f5c3f491",
        "part": "whole"
       },
       "id": "f1d83a1c-b6bc-46d0-b9b2-3853f8f29bfd"
      }
     }
    },
    "c8e45b7b-0d11-4aea-9f26-8d2d2fd9baea": {
     "id": "c8e45b7b-0d11-4aea-9f26-8d2d2fd9baea",
     "prev": null,
     "regions": {
      "2b15575b-d2b5-4e25-8afe-5aee018993e2": {
       "attrs": {
        "height": 0.8,
        "width": 0.45,
        "x": 0.5,
        "y": 0.1
       },
       "content": {
        "cell": "f85c3937-9145-4f4a-82fc-08258b871839",
        "part": "outputs"
       },
       "id": "2b15575b-d2b5-4e25-8afe-5aee018993e2"
      },
      "9094b112-7d32-4fe3-a2de-c4103af18651": {
       "attrs": {
        "height": 0.8,
        "width": 0.45,
        "x": 0.05,
        "y": 0.1
       },
       "content": {
        "cell": "f85c3937-9145-4f4a-82fc-08258b871839",
        "part": "source"
       },
       "id": "9094b112-7d32-4fe3-a2de-c4103af18651"
      }
     }
    }
   },
   "themes": {}
  }
 },
 "nbformat": 4,
 "nbformat_minor": 2
}
