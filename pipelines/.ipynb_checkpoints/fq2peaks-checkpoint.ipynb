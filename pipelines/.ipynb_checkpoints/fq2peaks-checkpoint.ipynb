{
 "cells": [
  {
   "cell_type": "markdown",
   "metadata": {},
   "source": [
    "# 5. Fq2peaks\n",
    "## Megatid required\n",
    "Call ANY type of peak from reads stored in fq.gz files.\n",
    "Can call **peaks** for:\n",
    "* **factor**:\n",
    "Peak finding for single contact or focal ChIP-Seq experiments or DNase-Seq.  This type of analysis is useful for transcription factors, and aims to identify the precise location of DNA-protein contact.  This type of peak finding uses a FIXED width peak size, which is automatically estimated from the Tag Autocorrelation.\n",
    "\n",
    "* **histone**: \n",
    "Peak finding for broad regions of enrichment found in ChIP-Seq experiments for various histone marks.  This analysis finds variable-width peaks.\n",
    "\n",
    "* **super**: \n",
    "Find Super Enhancers in your data\n",
    "\n",
    "* **groseq**:\n",
    "De novo transcript identification from strand specific GRO-Seq.  This attempts to identify transcripts from nascent RNA sequencing reads.\n",
    "\n",
    "* **tss**\n",
    "Identification of promoter/TSS from 5'RNA-Seq/CAGE or 5'GRO-Seq data.\n",
    "\n",
    "* **dnase**\n",
    "Adjusted parameters for DNase-Seq peak finding.\n",
    "\n",
    "* **mC** \n",
    "DNA methylation analysis\n",
    "\n",
    "## <a href=\"http://homer.ucsd.edu/homer/ngs/peaks.html\"> Homer peak calling tutorial </a> for more info"
   ]
  },
  {
   "cell_type": "code",
   "execution_count": 7,
   "metadata": {
    "collapsed": true
   },
   "outputs": [],
   "source": [
    "#Define data folders, data, and sample name\n",
    "#remember that fasta should have built bowtie2 indices\n",
    "annotation=\"/input_dir/mm9\"\n",
    "tmp=\"/input_dir/\"\n",
    "input_dir=\"/input_dir/\"\n",
    "output_dir=\"/output_dir/\"\n",
    "input_fq_1=\"h3k27ac_mesc_5M.fq.gz\"\n",
    "input_fq_2=\"\"\n",
    "sample_name=\"mesc_h3k27ac_5M\""
   ]
  },
  {
   "cell_type": "markdown",
   "metadata": {},
   "source": [
    "# Align reads to reference genome"
   ]
  },
  {
   "cell_type": "code",
   "execution_count": 9,
   "metadata": {
    "collapsed": false
   },
   "outputs": [
    {
     "name": "stdout",
     "output_type": "stream",
     "text": [
      "Aligning using bowtie2 w/ single end\n",
      "5000000 reads; of these:\n",
      "  5000000 (100.00%) were unpaired; of these:\n",
      "    704720 (14.09%) aligned 0 times\n",
      "    3416197 (68.32%) aligned exactly 1 time\n",
      "    879083 (17.58%) aligned >1 times\n",
      "85.91% overall alignment rate\n"
     ]
    }
   ],
   "source": [
    "#align and sort / filter bam using Bowtie2 and \"sensitive\" settings\n",
    "#paired end\n",
    "if [ -z \"$input_dir\"\"$input_fq_2\" ]; then\n",
    "    echo \"Aligning using bowtie2 w/ paired end\"\n",
    "    bowtie2 -p 8 --sensitive -x  $annotation \\\n",
    "        -1 $input_dir$input_fq_1 -2 $input_dir$input_fq_2 | samtools view -bS - > $tmp$sample_name\".bam\"\n",
    "else\n",
    "    echo \"Aligning using bowtie2 w/ single end\"\n",
    "    bowtie2 -p 8 --sensitive -x  $annotation \\\n",
    "        -U $input_dir$input_fq_1 | samtools view -bS - > $tmp$sample_name\".bam\"\n",
    "fi\n",
    "\n",
    "#sort index and filter for canonical chromosomes\n",
    "samtools sort -@ 10 $tmp$sample_name\".bam\" -o $tmp$sample_name\"_sorted.bam\"\n",
    "samtools index \"$tmp$sample_name\"\"_sorted.bam\"\n",
    "samtools view $tmp$sample_name\"_sorted.bam\" -hu chr1 chr2 chr3 chr4 chr5 chr6 chr7 chr8 chr9 chr10 chr11 chr12 chr13 chr14 chr15 chr16 chr17 chr18 chr19 chrX > \"$output_dir$sample_name\"\"_filt_sorted.bam\"\n",
    "samtools index \"$output_dir$sample_name\"\"_filt_sorted.bam\""
   ]
  },
  {
   "cell_type": "code",
   "execution_count": null,
   "metadata": {
    "collapsed": true
   },
   "outputs": [],
   "source": [
    "#Take a peek at the bam\n",
    "samtools view \"$output_dir$sample_name\"\"_filt_sorted.bam\"| head\n",
    "#get alignment stats\n",
    "samtools flagstat \"$output_dir$sample_name\"\"_filt_sorted.bam\"\n",
    "samtools idxstats \"$output_dir$sample_name\"\"_filt_sorted.bam\""
   ]
  },
  {
   "cell_type": "markdown",
   "metadata": {},
   "source": [
    "# Using Homer to call peaks\n",
    "Homer is a pretty sweet collection of mainly perl scripts which can handle next-gen sequencing data to do things such as call peaks, below we use it to call different types of peaks, more information and a lot of knowledge is <a href=\"http://homer.ucsd.edu/homer/ngs/peaks.html\"> Homer peak calling tutorial </a>  "
   ]
  },
  {
   "cell_type": "code",
   "execution_count": null,
   "metadata": {
    "collapsed": true
   },
   "outputs": [],
   "source": [
    "#Homer run\n",
    "#make tag directory file for Homer using aligned .bam file\n",
    "makeTagDirectory $tmp/\"$sample_name\"_homer_tags \"$output_dir$sample_name\"\"_filt_sorted.bam\""
   ]
  },
  {
   "cell_type": "code",
   "execution_count": 3,
   "metadata": {
    "collapsed": false
   },
   "outputs": [
    {
     "name": "stdout",
     "output_type": "stream",
     "text": [
      "\tWill parse file: /output_dir/mesc_atac_5M_filt_sorted.bam\n",
      "\n",
      "\tCreating directory: /input_dir//mesc_atac_5M_homer_tags and removing existing *.tags.tsv\n",
      "\n",
      "\tTreating /output_dir/mesc_atac_5M_filt_sorted.bam as a bam file\n",
      "\tReading alignment file /output_dir/mesc_atac_5M_filt_sorted.bam\n",
      "\n",
      "\tOptimizing tag files...\n",
      "\tEstimated genome size = 2638916841\n",
      "\tEstimated average read density = 0.000322 per bp\n",
      "\tTotal Tags = 849746.0\n",
      "\tTotal Positions = 1534940\n",
      "\tAverage tag length = 124.5\n",
      "\tMedian tags per position = 0 (ideal: 1)\n",
      "\tAverage tags per position = 0.089\n",
      "\tFragment Length Estimate: 174\n",
      "\tPeak Width Estimate: 607\n",
      "\tAutocorrelation quality control metrics:\n",
      "\t\tSame strand fold enrichment: 1.6\n",
      "\t\tDiff strand fold enrichment: 4.4\n",
      "\t\tSame / Diff fold enrichment: 0.3\n",
      "\n",
      "\t\tGuessing sample is ChIP-Seq - uneven enrichment between same strand and\n",
      "\t\tdifferent strands - may have problems such as clonal amplification.\n",
      "\n",
      "\tFragment Length = 1\n",
      "\tTotal Tags = 849746.0\n",
      "\tTags per bp = 0.000425\n",
      "\tMax tags per bp set automatically to 1.0\n",
      "\tFinding peaks of size 150, no closer than 300\n",
      "\t\tFinding peaks on chr1 (minCount=-0.9), total tags positions = 122489\n",
      "\t\tFinding peaks on chr2 (minCount=-0.9), total tags positions = 112448\n",
      "\t\tFinding peaks on chr3 (minCount=-0.9), total tags positions = 91766\n",
      "\t\tFinding peaks on chr4 (minCount=-0.9), total tags positions = 93150\n",
      "\t\tFinding peaks on chr5 (minCount=-0.9), total tags positions = 88987\n",
      "\t\tFinding peaks on chr6 (minCount=-0.9), total tags positions = 91536\n",
      "\t\tFinding peaks on chr7 (minCount=-0.9), total tags positions = 82812\n",
      "\t\tFinding peaks on chr8 (minCount=-0.9), total tags positions = 74461\n",
      "\t\tFinding peaks on chr9 (minCount=-0.9), total tags positions = 74872\n",
      "\t\tFinding peaks on chr10 (minCount=-0.9), total tags positions = 81494\n",
      "\t\tFinding peaks on chr11 (minCount=-0.9), total tags positions = 79499\n",
      "\t\tFinding peaks on chr12 (minCount=-0.9), total tags positions = 67528\n",
      "\t\tFinding peaks on chr13 (minCount=-0.9), total tags positions = 72764\n",
      "\t\tFinding peaks on chr14 (minCount=-0.9), total tags positions = 65711\n",
      "\t\tFinding peaks on chr15 (minCount=-0.9), total tags positions = 61693\n",
      "\t\tFinding peaks on chr16 (minCount=-0.9), total tags positions = 60499\n",
      "\t\tFinding peaks on chr17 (minCount=-0.9), total tags positions = 57690\n",
      "\t\tFinding peaks on chr18 (minCount=-0.9), total tags positions = 55064\n",
      "\t\tFinding peaks on chr19 (minCount=-0.9), total tags positions = 39903\n",
      "\t\tFinding peaks on chrX (minCount=-0.9), total tags positions = 60574\n",
      "\t\tTags Used for cluster (less clonal tags) = 827104.5 / 849746.0\n",
      "\tExpected tags per peak = 0.062033 (tbp = 0.000414)\n",
      "\t\tThreshold\tPeak Count\tExpected Peak Count\tFDR\tPoisson\n",
      "\t\t7\t33.000\t0.000\t5.37e-07\t6.64e-13\n",
      "\t\t6\t38.000\t0.002\t5.27e-05\t7.50e-11\n",
      "\t\t5\t61.000\t0.194\t3.18e-03\t7.27e-09\n",
      "\t\t4\t129.000\t15.657\t1.21e-01\t5.87e-07\n",
      "\t\t3\t566.000\t1012.764\t1.00e+00\t3.80e-05\n",
      "\t\t2\t10890.000\t49234.353\t1.00e+00\t1.85e-03\n",
      "\t\t1\t197409.000\t1603946.027\t1.00e+00\t6.01e-02\n",
      "\t\t0\t820539.000\t26666666.667\t1.00e+00\t1.00e+00\n",
      "\t0.10% FDR Threshold set at 6.0 (poisson pvalue ~ 7.50e-11)\n",
      "\t38 peaks passed threshold\n",
      "\tLocal Background Filtering: 24 of 38 (63.16% passed)\n",
      "\tClonal filtering: 21 of 24 (87.50% passed)\n",
      "\tTotal Peaks identified = 21\n",
      "\n",
      "\tConverted 21 peaks total\n",
      "\n"
     ]
    }
   ],
   "source": [
    "#find Chromatin accessibility peaks \n",
    "findPeaks $tmp/\"$sample_name\"_homer_tags -style dnase -o auto\n",
    "pos2bed.pl \"$tmp\"\"$sample_name\"_homer_tags/peaks.txt > \"$output_dir$sample_name\"\"_open_peaks.bed\""
   ]
  },
  {
   "cell_type": "code",
   "execution_count": null,
   "metadata": {
    "collapsed": true
   },
   "outputs": [],
   "source": [
    "#find enhancers and super enhancers\n",
    "findPeaks $tmp/\"$sample_name\"_homer_tags -style super -typical  $tmp/\"$sample_name\"_homer_tags/enh_peaks.txt -o auto\n",
    "#convert regular enhancer peak file\n",
    "pos2bed.pl $tmp/\"$sample_name\"_homer_tags/enh_peaks.txt > \"$output_dir$sample_name\"\"_enh_peaks.bed\"\n",
    "#save peaks as bed file in output directory\n",
    "pos2bed.pl \"$tmp\"\"$sample_name\"_homer_tags/peaks.txt > \"$output_dir$sample_name\"\"_se_peaks.bed\""
   ]
  },
  {
   "cell_type": "markdown",
   "metadata": {},
   "source": [
    "## Use MACS2 to call peaks and NucleoATAC to call nucleosomes "
   ]
  },
  {
   "cell_type": "code",
   "execution_count": 4,
   "metadata": {
    "collapsed": false,
    "scrolled": true
   },
   "outputs": [
    {
     "name": "stdout",
     "output_type": "stream",
     "text": [
      "(py27) (py27) INFO  @ Tue, 30 May 2017 23:22:21: \n",
      "# Command line: callpeak -t /output_dir/mesc_atac_5M_filt_sorted.bam --nomodel --shift -37 -f BAMPE --extsize 73 --broad --keep-dup all -n /input_dir/mesc_atac_5M_MACS\n",
      "# ARGUMENTS LIST:\n",
      "# name = /input_dir/mesc_atac_5M_MACS\n",
      "# format = BAMPE\n",
      "# ChIP-seq file = ['/output_dir/mesc_atac_5M_filt_sorted.bam']\n",
      "# control file = None\n",
      "# effective genome size = 2.70e+09\n",
      "# band width = 300\n",
      "# model fold = [5, 50]\n",
      "# qvalue cutoff for narrow/strong regions = 5.00e-02\n",
      "# qvalue cutoff for broad/weak regions = 1.00e-01\n",
      "# Larger dataset will be scaled towards smaller dataset.\n",
      "# Range for calculating regional lambda is: 10000 bps\n",
      "# Broad region calling is on\n",
      "# Paired-End mode is on\n",
      " \n",
      "INFO  @ Tue, 30 May 2017 23:22:21: #1 read fragment files... \n",
      "INFO  @ Tue, 30 May 2017 23:22:21: #1 read treatment fragments... \n",
      "INFO  @ Tue, 30 May 2017 23:22:35:  1000000 \n",
      "INFO  @ Tue, 30 May 2017 23:22:39: #1 mean fragment size is determined as 229 bp from treatment \n",
      "INFO  @ Tue, 30 May 2017 23:22:39: #1 fragment size = 229 \n",
      "INFO  @ Tue, 30 May 2017 23:22:39: #1  total fragments in treatment: 1235897 \n",
      "INFO  @ Tue, 30 May 2017 23:22:39: #1 finished! \n",
      "INFO  @ Tue, 30 May 2017 23:22:39: #2 Build Peak Model... \n",
      "INFO  @ Tue, 30 May 2017 23:22:39: #2 Skipped... \n",
      "INFO  @ Tue, 30 May 2017 23:22:39: #2 Use 229 as fragment length \n",
      "INFO  @ Tue, 30 May 2017 23:22:39: #3 Call peaks... \n",
      "INFO  @ Tue, 30 May 2017 23:22:39: #3 Call broad peaks with given level1 -log10qvalue cutoff and level2: 1.301030, 1.000000... \n",
      "INFO  @ Tue, 30 May 2017 23:22:39: #3 Pre-compute pvalue-qvalue table... \n",
      "INFO  @ Tue, 30 May 2017 23:22:48: #3 Call peaks for each chromosome... \n",
      "INFO  @ Tue, 30 May 2017 23:22:49: #4 Write output xls file... /input_dir/mesc_atac_5M_MACS_peaks.xls \n",
      "INFO  @ Tue, 30 May 2017 23:22:50: #4 Write broad peak in broadPeak format file... /input_dir/mesc_atac_5M_MACS_peaks.broadPeak \n",
      "INFO  @ Tue, 30 May 2017 23:22:50: #4 Write broad peak in bed12/gappedPeak format file... /input_dir/mesc_atac_5M_MACS_peaks.gappedPeak \n",
      "INFO  @ Tue, 30 May 2017 23:22:50: Done! \n",
      "(py27) (py27) Command run:  /root/anaconda3/envs/py27/bin/nucleoatac run --bed /input_dir/mesc_atac_5M_MACS_merged.bed --bam /output_dir/mesc_atac_5M_filt_sorted.bam --fasta /input_dir/mm9.fa --out /input_dir/mesc_atac_5M_nucATAC --cores 8\n",
      "nucleoatac version 0.3.4\n",
      "start run at: 2017-05-30 23:22\n",
      "---------Step1: Computing Occupancy and Nucleosomal Insert Distribution---------\n",
      "Making figure\n",
      "---------Step2: Processing Vplot------------------------------------------------\n",
      "---------Step3: Obtaining nucleosome signal and calling positions---------------\n",
      "/root/anaconda3/envs/py27/lib/python2.7/site-packages/nucleoatac/NucleosomeCalling.py:120: RuntimeWarning: divide by zero encountered in log\n",
      "  nuc_lik = np.sum(np.log(nuc_model) * mat)\n",
      "/root/anaconda3/envs/py27/lib/python2.7/site-packages/nucleoatac/NucleosomeCalling.py:120: RuntimeWarning: invalid value encountered in multiply\n",
      "  nuc_lik = np.sum(np.log(nuc_model) * mat)\n",
      "/root/anaconda3/envs/py27/lib/python2.7/site-packages/nucleoatac/NucleosomeCalling.py:121: RuntimeWarning: divide by zero encountered in log\n",
      "  null_lik = np.sum(np.log(null_model) * mat)\n",
      "/root/anaconda3/envs/py27/lib/python2.7/site-packages/nucleoatac/NucleosomeCalling.py:121: RuntimeWarning: invalid value encountered in multiply\n",
      "  null_lik = np.sum(np.log(null_model) * mat)\n",
      "/root/anaconda3/envs/py27/lib/python2.7/site-packages/nucleoatac/NucleosomeCalling.py:120: RuntimeWarning: divide by zero encountered in log\n",
      "  nuc_lik = np.sum(np.log(nuc_model) * mat)\n",
      "/root/anaconda3/envs/py27/lib/python2.7/site-packages/nucleoatac/NucleosomeCalling.py:120: RuntimeWarning: invalid value encountered in multiply\n",
      "  nuc_lik = np.sum(np.log(nuc_model) * mat)\n",
      "/root/anaconda3/envs/py27/lib/python2.7/site-packages/nucleoatac/NucleosomeCalling.py:121: RuntimeWarning: divide by zero encountered in log\n",
      "  null_lik = np.sum(np.log(null_model) * mat)\n",
      "/root/anaconda3/envs/py27/lib/python2.7/site-packages/nucleoatac/NucleosomeCalling.py:121: RuntimeWarning: invalid value encountered in multiply\n",
      "  null_lik = np.sum(np.log(null_model) * mat)\n",
      "/root/anaconda3/envs/py27/lib/python2.7/site-packages/nucleoatac/NucleosomeCalling.py:120: RuntimeWarning: divide by zero encountered in log\n",
      "  nuc_lik = np.sum(np.log(nuc_model) * mat)\n",
      "/root/anaconda3/envs/py27/lib/python2.7/site-packages/nucleoatac/NucleosomeCalling.py:120: RuntimeWarning: invalid value encountered in multiply\n",
      "  nuc_lik = np.sum(np.log(nuc_model) * mat)\n",
      "/root/anaconda3/envs/py27/lib/python2.7/site-packages/nucleoatac/NucleosomeCalling.py:121: RuntimeWarning: divide by zero encountered in log\n",
      "  null_lik = np.sum(np.log(null_model) * mat)\n",
      "/root/anaconda3/envs/py27/lib/python2.7/site-packages/nucleoatac/NucleosomeCalling.py:121: RuntimeWarning: invalid value encountered in multiply\n",
      "  null_lik = np.sum(np.log(null_model) * mat)\n",
      "/root/anaconda3/envs/py27/lib/python2.7/site-packages/nucleoatac/NucleosomeCalling.py:120: RuntimeWarning: divide by zero encountered in log\n",
      "  nuc_lik = np.sum(np.log(nuc_model) * mat)\n",
      "/root/anaconda3/envs/py27/lib/python2.7/site-packages/nucleoatac/NucleosomeCalling.py:120: RuntimeWarning: invalid value encountered in multiply\n",
      "  nuc_lik = np.sum(np.log(nuc_model) * mat)\n",
      "/root/anaconda3/envs/py27/lib/python2.7/site-packages/nucleoatac/NucleosomeCalling.py:121: RuntimeWarning: divide by zero encountered in log\n",
      "  null_lik = np.sum(np.log(null_model) * mat)\n",
      "/root/anaconda3/envs/py27/lib/python2.7/site-packages/nucleoatac/NucleosomeCalling.py:121: RuntimeWarning: invalid value encountered in multiply\n",
      "  null_lik = np.sum(np.log(null_model) * mat)\n",
      "/root/anaconda3/envs/py27/lib/python2.7/site-packages/nucleoatac/NucleosomeCalling.py:120: RuntimeWarning: divide by zero encountered in log\n",
      "  nuc_lik = np.sum(np.log(nuc_model) * mat)\n",
      "/root/anaconda3/envs/py27/lib/python2.7/site-packages/nucleoatac/NucleosomeCalling.py:120: RuntimeWarning: invalid value encountered in multiply\n",
      "  nuc_lik = np.sum(np.log(nuc_model) * mat)\n",
      "/root/anaconda3/envs/py27/lib/python2.7/site-packages/nucleoatac/NucleosomeCalling.py:121: RuntimeWarning: divide by zero encountered in log\n",
      "  null_lik = np.sum(np.log(null_model) * mat)\n",
      "/root/anaconda3/envs/py27/lib/python2.7/site-packages/nucleoatac/NucleosomeCalling.py:121: RuntimeWarning: invalid value encountered in multiply\n",
      "  null_lik = np.sum(np.log(null_model) * mat)\n",
      "/root/anaconda3/envs/py27/lib/python2.7/site-packages/nucleoatac/NucleosomeCalling.py:120: RuntimeWarning: divide by zero encountered in log\n",
      "  nuc_lik = np.sum(np.log(nuc_model) * mat)\n",
      "/root/anaconda3/envs/py27/lib/python2.7/site-packages/nucleoatac/NucleosomeCalling.py:120: RuntimeWarning: invalid value encountered in multiply\n",
      "  nuc_lik = np.sum(np.log(nuc_model) * mat)\n",
      "/root/anaconda3/envs/py27/lib/python2.7/site-packages/nucleoatac/NucleosomeCalling.py:121: RuntimeWarning: divide by zero encountered in log\n",
      "  null_lik = np.sum(np.log(null_model) * mat)\n",
      "/root/anaconda3/envs/py27/lib/python2.7/site-packages/nucleoatac/NucleosomeCalling.py:121: RuntimeWarning: invalid value encountered in multiply\n",
      "  null_lik = np.sum(np.log(null_model) * mat)\n",
      "/root/anaconda3/envs/py27/lib/python2.7/site-packages/nucleoatac/NucleosomeCalling.py:120: RuntimeWarning: divide by zero encountered in log\n",
      "  nuc_lik = np.sum(np.log(nuc_model) * mat)\n",
      "/root/anaconda3/envs/py27/lib/python2.7/site-packages/nucleoatac/NucleosomeCalling.py:120: RuntimeWarning: invalid value encountered in multiply\n",
      "  nuc_lik = np.sum(np.log(nuc_model) * mat)\n",
      "/root/anaconda3/envs/py27/lib/python2.7/site-packages/nucleoatac/NucleosomeCalling.py:121: RuntimeWarning: divide by zero encountered in log\n",
      "  null_lik = np.sum(np.log(null_model) * mat)\n",
      "/root/anaconda3/envs/py27/lib/python2.7/site-packages/nucleoatac/NucleosomeCalling.py:121: RuntimeWarning: invalid value encountered in multiply\n",
      "  null_lik = np.sum(np.log(null_model) * mat)\n",
      "---------Step4: Making combined nucleosome position map ------------------------\n",
      "---------Step5: Calling NFR positions-------------------------------------------\n",
      "end run at: 2017-05-30 23:28\n",
      "(py27) "
     ]
    }
   ],
   "source": [
    "#Switch to python2.7 for MACS2 and NucleoATAC\n",
    "source activate py27\n",
    "#Call acessibility peaks, and using those peaks define area around to resolve nucleosomes\n",
    "macs2 callpeak -t \"$output_dir$sample_name\"\"_filt_sorted.bam\" --nomodel --shift -37 -f BAMPE \\\n",
    "    --extsize 73 --broad --keep-dup all -n $tmp\"$sample_name\"\"_MACS\"\n",
    "bedops --range 500:500 --everything $tmp\"$sample_name\"\"_MACS_peaks.broadPeak\" | bedtools merge -i - > $tmp\"$sample_name\"\"_MACS_merged.bed\"\n",
    "nucleoatac run --bed $tmp\"$sample_name\"\"_MACS_merged.bed\" --bam $output_dir\"$sample_name\"\"_filt_sorted.bam\" --fasta \"$annotation\"\".fa\" --out $tmp\"$sample_name\"\"_nucATAC\" --cores 8\n",
    "source deactivate py27"
   ]
  }
 ],
 "metadata": {
  "anaconda-cloud": {},
  "kernelspec": {
   "display_name": "Bash",
   "language": "bash",
   "name": "bash"
  },
  "language_info": {
   "codemirror_mode": "shell",
   "file_extension": ".sh",
   "mimetype": "text/x-sh",
   "name": "bash"
  }
 },
 "nbformat": 4,
 "nbformat_minor": 2
}
