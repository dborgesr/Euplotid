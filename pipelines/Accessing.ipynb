{
 "cells": [
  {
   "cell_type": "markdown",
   "metadata": {},
   "source": [
    "# [Accessing](viewINs.md)\n",
    "<img src=\"../docs/web_euplotid/lab_meeting_slides_Accessing.png\" style=\"width: 1000px;\">"
   ]
  },
  {
   "cell_type": "markdown",
   "metadata": {
    "collapsed": true
   },
   "source": [
    "# 1 Pick what cell type and condition you want to look at\n",
    "Using widgets in Jupyter we are able to dynamically access the annotated JSONs in the backend."
   ]
  },
  {
   "cell_type": "code",
   "execution_count": null,
   "metadata": {
    "collapsed": true
   },
   "outputs": [],
   "source": [
    "#Run case\n",
    "def update_run_name(change):\n",
    "    tmp_run_names = [os.path.basename(c_type) for c_type in glob.glob(\"example_output/output_IN_graphs/\" + change[\"new\"] + \"/*\")]\n",
    "    #add dummy variable to switch to so it renders\n",
    "    (tmp_run_names).append(None)\n",
    "    name_picker.options = tmp_run_names\n",
    "\n",
    "def update_global_graph(change):\n",
    "    if (change[\"new\"] is not None):\n",
    "        new_out_dir = \"example_output/output_IN_graphs/\" + cell_picker.value + \"/\" + change[\"new\"] + \"/\"\n",
    "        cur_global_graph = new_out_dir + change[\"new\"] + \"_global_graph_annotated.json\"\n",
    "        with open(cur_global_graph,\"r\") as json_comm:\n",
    "            json_in = json.load(json_comm)\n",
    "            draft_genome_out_annot = json_graph.node_link_graph(json_in)\n",
    "        in_names_2json = dict()\n",
    "        for node in draft_genome_out_annot.nodes(data=True):\n",
    "            in_genes = node[1][\"name\"].split(\" \")[1].split(\",\")\n",
    "            in_names_2json[node[1][\"name\"].split(\" \")[1]] = new_out_dir + node[1][\"json_name\"]\n",
    "        sorted_in_names_2json = [(k, in_names_2json[k]) for k in sorted(in_names_2json, key=in_names_2json.get, reverse=True)]\n",
    "        sorted_IN_jsons = OrderedDict(sorted_in_names_2json)\n",
    "        in_picker.options = sorted_IN_jsons\n",
    "        sad_table_wid.options = sorted_IN_jsons\n",
    "        #Print attributes\n",
    "        interact(in_json_out_plotly_fig, json_name=fixed(cur_global_graph),make_3D=fixed(True), global_in=fixed(True));\n",
    "        print(\"Species: \" + draft_genome_out_annot.graph[\"species\"])\n",
    "        print(\"Genome Version: \" + draft_genome_out_annot.graph[\"genome_version\"])\n",
    "        print(\"Cell Type: \" + draft_genome_out_annot.graph[\"tissue_type\"])\n",
    "    \n",
    "def draw_sad_table(in_json_name): \n",
    "    out_dir = os.path.dirname(in_json_name) + \"/\"\n",
    "    #Fetch the top SNP and max min for Genome browser for target IN\n",
    "    with open(in_json_name,\"r\") as json_comm:\n",
    "        json_in = json.load(json_comm)\n",
    "        in_annot_graph = json_graph.node_link_graph(json_in)\n",
    "        unserial_sad_table = pickle.loads(in_annot_graph.graph[\"sad_table\"])\n",
    "        for in_node in in_annot_graph.nodes(data=True):\n",
    "            if \"in_name\" in in_node[1]:\n",
    "                cur_in_name = in_node[1][\"in_name\"]\n",
    "                target_in_name = in_node[1][\"in_name\"]\n",
    "                cur_in_min = in_node[1][\"in_min\"]\n",
    "                cur_in_max = in_node[1][\"in_max\"]\n",
    "            if \"top_open_snp\" in in_node[1]:\n",
    "                sad_mut = out_dir + in_node[1][\"sad_mut_alt\"]\n",
    "                sad_ref = out_dir + in_node[1][\"sad_mut_ref\"]\n",
    "                \n",
    "                sad_all = out_dir + in_node[1][\"sad_pdf\"]\n",
    "                chrom = in_node[1][\"gen_chrom\"]\n",
    "                snp_loc = in_node[1][\"gen_start\"]\n",
    "                for neigh in in_annot_graph[in_node[0]]:\n",
    "                    open_region = neigh\n",
    "    data = [\n",
    "        go.Heatmap(\n",
    "            z=unserial_sad_table.values,\n",
    "            y=unserial_sad_table.index,\n",
    "            x=unserial_sad_table.columns.values,\n",
    "            colorscale=\"spectral\",\n",
    "        )\n",
    "    ]\n",
    "\n",
    "    layout = go.Layout(\n",
    "        title='Basset SAD Prediction',\n",
    "        xaxis = dict(ticks=''),\n",
    "        yaxis = dict(ticks='' )\n",
    "    )\n",
    "\n",
    "    fig = go.Figure(data=data, layout=layout)\n",
    "    plotly.offline.iplot(fig)\n",
    "    return (sad_ref, sad_mut)\n",
    "\n",
    "\n",
    "cell_types = [os.path.basename(c_type) for c_type in glob.glob(\"example_output/output_IN_graphs/*\")]\n",
    "#picking cell type and run\n",
    "in_args = dict()\n",
    "cell_picker = widgets.Dropdown(\n",
    "    options=cell_types,\n",
    "    value = cell_types[0],\n",
    "    description='Cell type:')\n",
    "name_types = [os.path.basename(c_type) for c_type in glob.glob(\"example_output/output_IN_graphs/\" + cell_types[0] + \"/*\")]\n",
    "name_types.append(None)\n",
    "name_picker = widgets.Dropdown(\n",
    "    options=name_types,\n",
    "    value = name_types[0],\n",
    "    description='Run:')\n",
    "in_picker = widgets.Dropdown(\n",
    "    options=[\"No Run Picked\"],\n",
    "    description='Pick IN:')\n",
    "sad_table_wid = widgets.Dropdown(\n",
    "    options=[\"NA\"],\n",
    "    description=\"SAD Table\")\n",
    "\n",
    "cell_picker.observe(update_run_name, 'value')\n",
    "name_picker.observe(update_global_graph, 'value')\n",
    "#in_picker.observe(sad_table_wid, \"value\")\n",
    "#inlink = widgets.jslink((in_picker, 'value'), (sad_table_wid, 'value'))\n",
    "display(cell_picker)\n",
    "display(name_picker)"
   ]
  },
  {
   "cell_type": "markdown",
   "metadata": {
    "collapsed": true
   },
   "source": [
    "# 2 Pick annotated Insulated Neighborhood (IN) to load up as defined by Genes within it"
   ]
  },
  {
   "cell_type": "markdown",
   "metadata": {
    "collapsed": true
   },
   "source": [
    "# 3 View IN in 1D on UCSC genome browser, the left and right most nodes define the boundaries"
   ]
  },
  {
   "cell_type": "markdown",
   "metadata": {
    "collapsed": true
   },
   "source": [
    "# 4 Annotated IN of picked Gene(s) with:\n",
    "* eQTL in 32 tissues (FastQTL+GTeX)\n",
    "* Ease of CRISPR editing (GT-Scan2)\n",
    "* Results of over 2,000 GWAS studies (GRASP)\n",
    "* 667 Methylomes (NGSMethDB)\n",
    "* Estimate of deleteriousness (CADD Score)\n",
    "* Convolutional Neural Network prediction of TF identity"
   ]
  },
  {
   "cell_type": "markdown",
   "metadata": {
    "collapsed": true
   },
   "source": [
    "# 5 View DNA-DNA interactions in 2D on the fly with [Higlass.io](higlass.io)"
   ]
  },
  {
   "cell_type": "code",
   "execution_count": null,
   "metadata": {
    "collapsed": true
   },
   "outputs": [],
   "source": [
    "%%javascript\n",
    "\n",
    "var config = {\n",
    "  \"editable\": true,\n",
    "  \"zoomFixed\": false,\n",
    "  \"trackSourceServers\": [\n",
    "    \"http://higlass.io/api/v1\"\n",
    "  ],\n",
    "  \"exportViewUrl\": \"http://higlass.io/api/v1/viewconfs/\",\n",
    "  \"views\": [\n",
    "    {\n",
    "      \"uid\": \"aa\",\n",
    "      \"initialXDomain\": [\n",
    "        509161199.6251172,\n",
    "        2590838800.374883\n",
    "      ],\n",
    "      \"autocompleteSource\": \"http://higlass.io/api/v1/suggest/?d=OHJakQICQD6gTD7skx4EWA&\",\n",
    "      \"genomePositionSearchBoxVisible\": true,\n",
    "      \"chromInfoPath\": \"//s3.amazonaws.com/pkerp/data/hg19/chromSizes.tsv\",\n",
    "      \"tracks\": {\n",
    "        \"top\": [\n",
    "          {\n",
    "            \"type\": \"horizontal-gene-annotations\",\n",
    "            \"height\": 60,\n",
    "            \"tilesetUid\": \"OHJakQICQD6gTD7skx4EWA\",\n",
    "            \"server\": \"http://higlass.io/api/v1\",\n",
    "            \"position\": \"top\",\n",
    "            \"uid\": \"OHJakQICQD6gTD7skx4EWA\",\n",
    "            \"name\": \"Gene Annotations (hg19)\",\n",
    "            \"options\": {\n",
    "              \"name\": \"Gene Annotations (hg19)\"\n",
    "            },\n",
    "            \"maxWidth\": 4294967296,\n",
    "            \"maxZoom\": 22\n",
    "          },\n",
    "          {\n",
    "            \"chromInfoPath\": \"//s3.amazonaws.com/pkerp/data/hg19/chromSizes.tsv\",\n",
    "            \"type\": \"horizontal-chromosome-labels\",\n",
    "            \"position\": \"top\",\n",
    "            \"name\": \"Chromosome Labels (hg19)\",\n",
    "            \"height\": 30,\n",
    "            \"uid\": \"N_w4XVIpTPSpq2xBVTToLA\",\n",
    "            \"options\": {}\n",
    "          }\n",
    "        ],\n",
    "        \"left\": [\n",
    "          {\n",
    "            \"type\": \"vertical-gene-annotations\",\n",
    "            \"width\": 60,\n",
    "            \"tilesetUid\": \"OHJakQICQD6gTD7skx4EWA\",\n",
    "            \"server\": \"http://higlass.io/api/v1\",\n",
    "            \"position\": \"left\",\n",
    "            \"name\": \"Gene Annotations (hg19)\",\n",
    "            \"options\": {\n",
    "              \"labelPosition\": \"bottomRight\",\n",
    "              \"name\": \"Gene Annotations (hg19)\"\n",
    "            },\n",
    "            \"uid\": \"BtHSrxzrSUy21KQ7D6lmZA\",\n",
    "            \"maxWidth\": 4294967296,\n",
    "            \"maxZoom\": 22\n",
    "          },\n",
    "          {\n",
    "            \"chromInfoPath\": \"//s3.amazonaws.com/pkerp/data/hg19/chromSizes.tsv\",\n",
    "            \"type\": \"vertical-chromosome-labels\",\n",
    "            \"position\": \"left\",\n",
    "            \"name\": \"Chromosome Labels (hg19)\",\n",
    "            \"width\": 30,\n",
    "            \"uid\": \"V74xYbctSbKB2XSesy2Glg\",\n",
    "            \"options\": {}\n",
    "          }\n",
    "        ],\n",
    "        \"center\": [\n",
    "          {\n",
    "            \"uid\": \"c1\",\n",
    "            \"type\": \"combined\",\n",
    "            \"height\": 200,\n",
    "            \"contents\": [\n",
    "              {\n",
    "                \"server\": \"http://higlass.io/api/v1\",\n",
    "                \"tilesetUid\": \"CQMd6V_cRw6iCI_-Unl3PQ\",\n",
    "                \"type\": \"heatmap\",\n",
    "                \"position\": \"center\",\n",
    "                \"options\": {\n",
    "                  \"colorRange\": [\n",
    "                    \"#FFFFFF\",\n",
    "                    \"#F8E71C\",\n",
    "                    \"#F5A623\",\n",
    "                    \"#D0021B\"\n",
    "                  ],\n",
    "                  \"maxZoom\": null,\n",
    "                  \"labelPosition\": \"bottomRight\",\n",
    "                  \"name\": \"Rao et al. (2014) GM12878 MboI (allreps) 1kb\"\n",
    "                },\n",
    "                \"uid\": \"QGf8KgUsSPCoVlk-EPWn3w\",\n",
    "                \"name\": \"Rao et al. (2014) GM12878 MboI (allreps) 1kb\",\n",
    "                \"maxWidth\": 4194304000,\n",
    "                \"binsPerDimension\": 256,\n",
    "                \"maxZoom\": 14\n",
    "              }\n",
    "            ],\n",
    "            \"position\": \"center\",\n",
    "            \"options\": {}\n",
    "          }\n",
    "        ],\n",
    "        \"right\": [],\n",
    "        \"bottom\": []\n",
    "      },\n",
    "      \"initialYDomain\": [\n",
    "        619564198.6879103,\n",
    "        2480435801.312089\n",
    "      ],\n",
    "      \"layout\": {\n",
    "        \"w\": 6,\n",
    "        \"h\": 12,\n",
    "        \"x\": 0,\n",
    "        \"y\": 0,\n",
    "        \"i\": \"aa\",\n",
    "        \"moved\": false,\n",
    "        \"static\": false\n",
    "      }\n",
    "    }\n",
    "  ],\n",
    "  \"zoomLocks\": {\n",
    "    \"locksByViewUid\": {},\n",
    "    \"locksDict\": {}\n",
    "  },\n",
    "  \"locationLocks\": {\n",
    "    \"locksByViewUid\": {},\n",
    "    \"locksDict\": {}\n",
    "  }\n",
    "};\n",
    "\n",
    "element.append('<div><div id=\"higlass\" class=\"full-dim\"></div></div>');\n",
    "\n",
    "requirejs.config({\n",
    "    paths: {\n",
    "        \"hglib\": \"//higlass.io/assets/scripts-third-party/hglib\"\n",
    "    },\n",
    "    waitSeconds: 2\n",
    "});\n",
    "\n",
    "require(['hglib'], function(hglib) {\n",
    "    hglib.createHgComponent( \n",
    "        document.querySelector(\"#higlass\"), \n",
    "        config, \n",
    "        { bounded: true}, \n",
    "        function (api) { window.higlassApi = api; }\n",
    "    );\n",
    "});"
   ]
  },
  {
   "cell_type": "markdown",
   "metadata": {
    "collapsed": true
   },
   "source": [
    "# 6 All SNPs/CNVs w/in IN are fed through Basset for prediction of impact on  chromatin accesibility in 128 cell types"
   ]
  },
  {
   "cell_type": "markdown",
   "metadata": {
    "collapsed": true
   },
   "source": [
    "# 7 Rough global view derived from polymer simulation using [HSA](https://genomebiology.biomedcentral.com/articles/10.1186/s13059-016-0896-1)"
   ]
  },
  {
   "cell_type": "markdown",
   "metadata": {
    "collapsed": true
   },
   "source": [
    "# 8 In-silico mutation analysis of chromatin accessibility peak using [Basset](http://genome.cshlp.org/content/early/2016/06/10/gr.200535.115.abstract)"
   ]
  },
  {
   "cell_type": "markdown",
   "metadata": {},
   "source": [
    "# 9 Virtual reality visualization of Annotated Insulated Neighborhood"
   ]
  },
  {
   "cell_type": "markdown",
   "metadata": {},
   "source": [
    "# Local Deployment of Euplotid\n",
    "[**INSTALL DOCKER HERE**](https://www.docker.com/community-edition#/download\")\n",
    "Then open your terminal or cmd and:\n",
    "~~~\n",
    "docker run --name euplotid -p 8890:8890 -tid \\\n",
    "\t-v \"/your/input/directory:/input_dir\" \\\n",
    "\t-v \"/your/temporary/directory/:/tmp_dir\" \\\n",
    "\t-v \"/your/output/directory/:/output_dir\" \\\n",
    "\t-v \"/your/annotation/directory/:/annotation_dir\" \\\n",
    "\tdborgesr/euplotid:euplotid\n",
    "~~~"
   ]
  }
 ],
 "metadata": {
  "anaconda-cloud": {},
  "kernelspec": {
   "display_name": "Python [conda root]",
   "language": "python",
   "name": "conda-root-py"
  },
  "language_info": {
   "codemirror_mode": {
    "name": "ipython",
    "version": 2
   },
   "file_extension": ".py",
   "mimetype": "text/x-python",
   "name": "python",
   "nbconvert_exporter": "python",
   "pygments_lexer": "ipython2",
   "version": "2.7.13"
  }
 },
 "nbformat": 4,
 "nbformat_minor": 2
}
