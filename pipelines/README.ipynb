{
 "cells": [
  {
   "cell_type": "markdown",
   "metadata": {},
   "source": [
    "# Pipeline Directory\n",
    "## Pipelines to\n",
    "1. Hello world intro to programming, ipython, and Euplotid [helloWorld](helloWorld.ipynb)\n",
    "2. Databases and good tools to crawl the internet for interesting datasets and hypothesis [databasesTools.ipynb](databasesTools.ipynb)\n",
    "3. Fetch any type of sequencing data from SRA [getFastqReads](getFastqReads.ipynb)*\n",
    "4. QC, trim, and filter sequencing reads [fq2preppedReads](fq2preppedReads.ipynb)*\n",
    "5. Call peaks from Chip-Seq and Chromatin Accessibility reads [fq2peaks](fq2peaks.ipynb)*\n",
    "6. Call normalized interactions from ChiA-PET reads [fq2ChIAInts](fq2ChIAInts.ipynb)*\n",
    "7. Call normalized Interactions from HiC reads [fq2HiCInts](fq2HiCInts.ipynb)*\n",
    "8. Call normalized interactions from Hi-ChIP reads [fq2HiChIPInts](fq2HiChIPInts.ipynb)*\n",
    "9. Call normalized interactions from DNAse-HiC reads [fq2DNAseHiCInts](fq2DNAseHiCInts.ipynb)*\n",
    "10. Call normalized expression and counts from RNA-Seq reads [fq2countsFPKM](fq2countsFPKM.ipynb)*\n",
    "11. Call differentially expressed genes from RNA-seq counts [countsFPKM2DiffExp](countsFPKM2DiffExp.ipynb)*\n",
    "12. Call normalized counts, miRNA promoters, and nascent transcripts from Gro-Seq reads [fq2GroRPKM](fq2GroRPKM.ipynb)*\n",
    "13. Call normalized interactions from 4C [fq24CInts](fq24CInts.ipynb)*\n",
    "14. Build, annotate and add INs to global graph for a given cell state using DNA-DNA interactions, Chromatin Accesibility, and FPKM [addINs](addINs.ipynb)\n",
    "15. View current built and annotated INs for all cell types [viewINs](viewINs.ipynb)\n",
    "16. Search for and/or manipulate annotation and other data available to euplotid [annotationManagement.ipynb](annotationManagement.ipynb)\n",
    "\n",
    " [*] = backend Euplotid image required to run"
   ]
  },
  {
   "cell_type": "markdown",
   "metadata": {},
   "source": [
    "# 1. [helloWorld](helloWorld.ipynb)\n",
    "Hello world intro to programming, ipython, and Euplotid"
   ]
  },
  {
   "cell_type": "markdown",
   "metadata": {},
   "source": [
    "# 2. [databasesTools](databasesTools.ipynb)\n",
    "Databases and good tools to crawl the internet for interesting datasets and hypothesis. Some examples include GTeX, uniprot, SRA, GEO, etc, check them out!!"
   ]
  },
  {
   "cell_type": "markdown",
   "metadata": {},
   "source": [
    "# 3. [getFastqReads](getFastqReads.ipynb)\n",
    "Allows you to use Tony to find local fastq.gz files OR provide an SRA number to pull from"
   ]
  },
  {
   "cell_type": "markdown",
   "metadata": {},
   "source": [
    "# 4. [fq2preppedReads](fq2preppedReads.ipynb)\n",
    "Take fq.gz reads and QC them using FastQC checking for over-represented sequences potentially indicating adapter contamination. Then use cutadapt and sickle to filter and remove adapters. Can also use trimmomatic for flexible trimming. "
   ]
  },
  {
   "cell_type": "markdown",
   "metadata": {},
   "source": [
    "# 5. [fq2peaks](fq2peaks.ipynb)\n",
    "Take fq.gz align it using bowtie2 to the genome. Then using Homer software pick the type of peak (histone, chip-seq, dnase, etc) and chug through to get bed files of peaks. Can also use MACS2 w/ specific analysis parameters to deal with different types of peak finding problems."
   ]
  },
  {
   "cell_type": "markdown",
   "metadata": {},
   "source": [
    "# 6. [fq2ChIAInts](fq2ChIAInts.ipynb)\n",
    "Take fq.gz reads, prep them by removing bridge adapters (can deal with either bridges), align, find interactions, normalize, and spit into cooler format for later viewing. Can perform analysis using either Origami or ChiA-PET2"
   ]
  },
  {
   "cell_type": "markdown",
   "metadata": {},
   "source": [
    "# 7. [fq2HiCInts](fq2HiCInts.ipynb)\n",
    "Take fq.gz reads and chug them through HiCPro w/ tuned relevant parameters. In the end spits out a cooler file which can be loaded for further visualization."
   ]
  },
  {
   "cell_type": "markdown",
   "metadata": {},
   "source": [
    "# 8. [fq2HiChIPInts](fq2HiChIPInts.ipynb)\n",
    "Take fq.gz reads and chug them through customized Origami pipeline and customized HiCPro pipeline. In the end spits out a cooler file which can be loaded for further visualization."
   ]
  },
  {
   "cell_type": "markdown",
   "metadata": {},
   "source": [
    "# 9. [fq2DNAseHiCInts](fq2DNAseHiCInts.ipynb)\n",
    "Take fq.gz reads and chug them through HiCPro pipeline. In the end spits out a cooler file which can be loaded for further visualization."
   ]
  },
  {
   "cell_type": "markdown",
   "metadata": {},
   "source": [
    "# 10. [fq2countsFPKM](fq2countsFPKM.ipynb)\n",
    "Take fq.gz reads and chug them through STAR aligner and then RSEM pipeline. In the end spits out a counts vs transcripts matrix and a normalized transcript/gene FPKM matrix."
   ]
  },
  {
   "cell_type": "markdown",
   "metadata": {},
   "source": [
    "# 11. [countsFPKM2DiffExp](countsFPKM2DiffExp.ipynb)\n",
    "Take RNA-seq count and FPKM matrix and run any one of many R packages (DESeq2,DESeq,EBSeq,edgeR...) to call differentially expressed genes. Plotting and interactive visualization of results included"
   ]
  },
  {
   "cell_type": "markdown",
   "metadata": {},
   "source": [
    "# 12. [fq2GroRPKM](fq2GroRPKM.ipynb)\n",
    "Take fq.gz reads and align them using bowtie2 then find nascent transcripts using FStitch and miRNA promoters using mirSTP"
   ]
  },
  {
   "cell_type": "markdown",
   "metadata": {},
   "source": [
    "# 13. [fq24CInts](fq24CInts.ipynb)\n",
    "Take fq.gz reads and align them using bowtie2. Chug them through HiCPro and/or custom pipeline to get cooler file"
   ]
  },
  {
   "cell_type": "markdown",
   "metadata": {},
   "source": [
    "# 14.  [addINs](addINs.ipynb)\n",
    "Build, annotate and add INs to global graph for a given cell state using DNA-DNA interactions, Chromatin Accesibility, and FPKM."
   ]
  },
  {
   "cell_type": "markdown",
   "metadata": {},
   "source": [
    "# 15. [viewINs](viewINs.ipynb)\n",
    "View current built and annotated INs for all cell types"
   ]
  },
  {
   "cell_type": "markdown",
   "metadata": {},
   "source": [
    "# 16. [annotationManagement](annotationManagement.ipynb)\n",
    "Search for and/or manipulate annotation and other data available to euplotid"
   ]
  }
 ],
 "metadata": {
  "anaconda-cloud": {},
  "kernelspec": {
   "display_name": "Python [conda root]",
   "language": "python",
   "name": "conda-root-py"
  },
  "language_info": {
   "codemirror_mode": {
    "name": "ipython",
    "version": 2
   },
   "file_extension": ".py",
   "mimetype": "text/x-python",
   "name": "python",
   "nbconvert_exporter": "python",
   "pygments_lexer": "ipython2",
   "version": "2.7.12"
  }
 },
 "nbformat": 4,
 "nbformat_minor": 2
}
