{
 "cells": [
  {
   "cell_type": "markdown",
   "metadata": {},
   "source": [
    "## Pipeline to find interconnected regions\n",
    "This pipeline takes in an <a href=\"https://github.com/danielsday/origami/\"> Origami </a> processed DNA-DNA interactions generated using [fq2ChIAInts](fq2ChIAInts.md) and finds interconnected networks of nodes (communities) using default or picked resolution. Plotting functions are also included to visualize output  \n",
    "Range for resolution is from [0,1] with 1e-4 being something close to Insulated Neighborhoods, higher resolution makes bigger communities. You can also pick the \"level\", we start at level 0 then merging level 0 communities we get level 1 communities, so on and so forth."
   ]
  },
  {
   "cell_type": "code",
   "execution_count": null,
   "metadata": {
    "collapsed": false
   },
   "outputs": [],
   "source": [
    "# take a peek to see what DNA-DNA interactions are available\n",
    "!ls /input_dir/*.bedpe -lt\n",
    "#!conda install -y -c conda-forge  lua=5.3.3 "
   ]
  },
  {
   "cell_type": "code",
   "execution_count": null,
   "metadata": {
    "collapsed": true
   },
   "outputs": [],
   "source": [
    "#Input DNA-DNA interactions and where should output text file of communities go?\n",
    "dna_ints = \"/input_dir/Dowen_mesc_SMC1_chia_ints.bedpe\"\n",
    "out_comms = \"/output_dir/mES-SMC1_chiapet_commmunities.txt\"\n",
    "resolution = 1\n",
    "pick_level = 0"
   ]
  },
  {
   "cell_type": "code",
   "execution_count": null,
   "metadata": {
    "collapsed": false
   },
   "outputs": [],
   "source": [
    "#import needed python packages\n",
    "import networkx as nx, community, re, numpy as np, pandas as pd\n",
    "from collections import Counter\n",
    "import plotly\n",
    "from plotly.offline import download_plotlyjs, init_notebook_mode, plot, iplot\n",
    "init_notebook_mode(connected=True)\n",
    "import plotly.graph_objs as go\n",
    "#Function to plot communities\n",
    "def plot_comm(G):\n",
    "    axis=dict(showbackground=False,\n",
    "              showline=False,\n",
    "              zeroline=False,\n",
    "              showgrid=False,\n",
    "              showticklabels=False,\n",
    "              title=\"\")\n",
    "    layout = go.Layout(\n",
    "             title=G.graph[\"bounds\"],\n",
    "             width=600,\n",
    "             height=600,\n",
    "             showlegend=False,\n",
    "             xaxis=go.XAxis(axis),\n",
    "             yaxis=go.YAxis(axis),\n",
    "             scene=go.Scene(\n",
    "             xaxis=go.XAxis(axis),\n",
    "             yaxis=go.YAxis(axis),\n",
    "             zaxis=go.ZAxis(axis)),\n",
    "        margin=go.Margin(l=0,\n",
    "                         r=0,\n",
    "                         b=0,\n",
    "                         t=50),\n",
    "        hovermode=\"closest\")\n",
    "    all_position = nx.spring_layout(G,dim=2)  \n",
    "    #make node trace\n",
    "    traceN = go.Scatter(x=[], y=[], mode=\"markers\", text=[],marker=go.Marker(color=[],size=[],opacity=[]))\n",
    "    traceN[\"name\"] = \"\"\n",
    "    traceN[\"hoverinfo\"] = \"text\"\n",
    "    for all_node in G.nodes(data=True):\n",
    "        text_node = all_node[0]\n",
    "        traceN[\"text\"].append(text_node.replace(\"\\n\",\"<br>\"))\n",
    "        traceN[\"marker\"][\"color\"].append(\"grey\")\n",
    "        traceN[\"marker\"][\"size\"].append(20)\n",
    "        traceN[\"marker\"][\"opacity\"].append(1)\n",
    "        traceN[\"x\"].append(all_position[all_node[0]][0])\n",
    "        traceN[\"y\"].append(all_position[all_node[0]][1])\n",
    "\n",
    "    traceE = go.Scatter(x=[], y=[], mode=\"lines\", hoverinfo = \"none\")\n",
    "    traceE[\"name\"] = \"\"\n",
    "    traceE[\"line\"][\"width\"] = 1\n",
    "    for edge in G.edges(data=True):\n",
    "        traceE[\"x\"] += [all_position[edge[0]][0],all_position[edge[1]][0], None]\n",
    "        traceE[\"y\"] += [all_position[edge[0]][1],all_position[edge[1]][1], None]\n",
    "\n",
    "    data = go.Data([traceE, traceN])\n",
    "    fig = go.Figure(data=data, layout=layout)\n",
    "    plotly.offline.iplot(fig)"
   ]
  },
  {
   "cell_type": "markdown",
   "metadata": {},
   "source": [
    "## Louvain community finding\n",
    "This chunk runs a <a href=\"https://en.wikipedia.org/wiki/Louvain_Modularity\"> Louvain </a>  algorithm to partition the DNA-DNA interaction network into Communities. Output text file has the following format:\n",
    "* First column is the start and end of the max / min of the community (linearly)\n",
    "* Second column is the number of nodes that make up that community\n",
    "* Third column and more are the member nodes"
   ]
  },
  {
   "cell_type": "code",
   "execution_count": null,
   "metadata": {
    "collapsed": true,
    "scrolled": true
   },
   "outputs": [],
   "source": [
    "#Make a graph to store DNA-DNA interactions\n",
    "dna_int_graph = nx.Graph(style=\"filled\")\n",
    "#Load DNA interactions\n",
    "with open(dna_ints) as dna_ints_iter:\n",
    "    for dna_int in dna_ints_iter:\n",
    "        arr = dna_int.split()\n",
    "        x = str(arr[0]) + \":\" + str(arr[1]) + \"-\" + str(arr[2])\n",
    "        mid_x = (int(arr[1])+int(arr[2]))/2.0\n",
    "        y = str(arr[3]) + \":\" + str(arr[4]) + \"-\" + str(arr[5])\n",
    "        mid_y = (int(arr[4])+int(arr[5]))/2.0\n",
    "        if (arr[0] == arr[3]):\n",
    "            dna_int_graph.add_edge(x,y,label=1, capacity = 1, weight=float(arr[6]))\n",
    "\n",
    "#Run louvain algorithm at defined resolution\n",
    "dendogram_com = community.generate_dendrogram(dna_int_graph, resolution = resolution)\n",
    "#Pull the first level of partitions\n",
    "dna_int_comm = community.partition_at_level(dendogram_com, pick_level)\n",
    "size2comm = Counter(dna_int_comm.values())\n",
    "size_comms = [size for size in size2comm.values()]\n",
    "boundary2nodes = dict()\n",
    "bound_list_num_nodes = list()\n",
    "bound_list_names = list()\n",
    "comm_num_nodes = list()\n",
    "#iterate over dna_int_comm keys and add each start/end to set stored in dict of comm --> min and comm-->max\n",
    "inv_map = {}\n",
    "for k, v in dna_int_comm.items():\n",
    "    inv_map[v] = inv_map.get(v, [])\n",
    "    inv_map[v].append(k)\n",
    "for comm, nodes in inv_map.items():\n",
    "    #get max and min of neighborhoods\n",
    "    ref_node_arr = re.split(r\"[-:]\",nodes[0])\n",
    "    min_comm = 1e10\n",
    "    max_comm = 0\n",
    "    for node in nodes:\n",
    "        node_arr = re.split(r\"[-:]\",node)\n",
    "        if node_arr[0] == ref_node_arr[0]:\n",
    "            if (min(int(node_arr[1]),int(node_arr[2])) <= min_comm):\n",
    "                min_comm = min(int(node_arr[1]),int(node_arr[2]))\n",
    "            if (max(int(node_arr[1]),int(node_arr[2])) >= max_comm):\n",
    "                max_comm = max(int(node_arr[1]),int(node_arr[2]))\n",
    "    comm_name = ref_node_arr[0] + \":\" + str(min_comm) + \"-\" + str(max_comm+1)\n",
    "    boundary2nodes[comm_name] = nodes\n",
    "    bound_list_num_nodes.append(len(nodes))\n",
    "    bound_list_names.append(comm_name)\n",
    "#Output text file with first column as the boundary of community, second # nodes, third all nodes w/ tabs\n",
    "with open(out_comms, \"w\") as out_txt_comm: \n",
    "    for key, value in boundary2nodes.items():\n",
    "        out_txt_comm.write(key+\"\\t\" + str(len(value)) + \"\\t\")\n",
    "        for node in value:\n",
    "            out_txt_comm.write(node+\"\\t\")\n",
    "        out_txt_comm.write(\"\\n\")"
   ]
  },
  {
   "cell_type": "markdown",
   "metadata": {},
   "source": [
    "# Find all Communities encompassing a DNA position\n",
    "This allows you to pick a community to view as defined by a DNA position (ex. chr5:142275000), it will find ALL communities which encompass that location, print them, and plot the last one."
   ]
  },
  {
   "cell_type": "code",
   "execution_count": null,
   "metadata": {
    "collapsed": true
   },
   "outputs": [],
   "source": [
    "#Where do you want to look?\n",
    "dna_position = \"chr1:13117222\""
   ]
  },
  {
   "cell_type": "code",
   "execution_count": null,
   "metadata": {
    "collapsed": true
   },
   "outputs": [],
   "source": [
    "#overlap with boundaries of defined communities and if it overlaps plot it\n",
    "pick_split = re.split(r\"[-:]\",dna_position)\n",
    "for key, value in boundary2nodes.items():\n",
    "    bound_split = re.split(r\"[-:]\",key)\n",
    "    if (pick_split[0] == bound_split[0]) and (int(bound_split[1])<int(pick_split[1])) and (int(bound_split[2])>int(pick_split[1])): \n",
    "        print(\"target: \" + dna_position + \"\\tCommunity Overlapping: \" \n",
    "              + key + \"\\tlinear_length: \" + \n",
    "              str((int(bound_split[2])-int(bound_split[1]))/1000) + \"Kb\" +\n",
    "              \"\\tnum_nodes: \" + str(len(value)))\n",
    "        pick_comm_graph = dna_int_graph.subgraph(value)\n",
    "        pick_comm_graph.graph[\"bounds\"] = key\n",
    "plot_comm(pick_comm_graph)"
   ]
  },
  {
   "cell_type": "markdown",
   "metadata": {},
   "source": [
    "# Plot specific community as defined by name of boundaries"
   ]
  },
  {
   "cell_type": "code",
   "execution_count": null,
   "metadata": {
    "collapsed": false
   },
   "outputs": [],
   "source": [
    "comm_name = \"chr1:12854095-13129135\"\n",
    "pick_comm_graph = dna_int_graph.subgraph(boundary2nodes[comm_name])\n",
    "pick_comm_graph.graph[\"bounds\"] = comm_name\n",
    "plot_comm(pick_comm_graph)"
   ]
  },
  {
   "cell_type": "markdown",
   "metadata": {},
   "source": [
    "# Print top 10 communities with most nodes and plot #1"
   ]
  },
  {
   "cell_type": "code",
   "execution_count": null,
   "metadata": {
    "collapsed": false
   },
   "outputs": [],
   "source": [
    "comm_sort_ix = np.argsort(bound_list_num_nodes)[::-1]\n",
    "top_10_comm = [bound_list_names[comm] for comm in comm_sort_ix[0:9]]\n",
    "for comm in top_10_comm:\n",
    "    cur_nodes = boundary2nodes[comm]\n",
    "    bound_split = re.split(r\"[-:]\",comm)\n",
    "    print(\"Community name: \" \n",
    "              + comm + \"\\tlinear_length: \" + \n",
    "              str((int(bound_split[2])-int(bound_split[1]))/1000) + \"Kb\" +\n",
    "              \"\\tnum_nodes: \" + str(len(cur_nodes)))\n",
    "\n",
    "comm_top_graph = dna_int_graph.subgraph(boundary2nodes[top_10_comm[0]])\n",
    "comm_top_graph.graph[\"bounds\"] = top_10_comm[0]\n",
    "plot_comm(comm_top_graph)"
   ]
  }
 ],
 "metadata": {
  "anaconda-cloud": {},
  "kernelspec": {
   "display_name": "Python [conda root]",
   "language": "python",
   "name": "conda-root-py"
  },
  "language_info": {
   "codemirror_mode": {
    "name": "ipython",
    "version": 2
   },
   "file_extension": ".py",
   "mimetype": "text/x-python",
   "name": "python",
   "nbconvert_exporter": "python",
   "pygments_lexer": "ipython2",
   "version": "2.7.12"
  }
 },
 "nbformat": 4,
 "nbformat_minor": 2
}
