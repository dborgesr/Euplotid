{
 "cells": [
  {
   "cell_type": "code",
   "execution_count": 76,
   "metadata": {
    "collapsed": true
   },
   "outputs": [],
   "source": [
    "#subsample \n",
    "!zcat /coop_SE/brd2_data/AGGCAGAA-s_2_1_sequence.txt.tar.gz | sed '1 s/.*@/@/' | \\\n",
    "    gzip > \"/coop_SE/primed_testing/AGGCAGAA_1.fq.gz\"\n",
    "!zcat /coop_SE/brd2_data/AGGCAGAA-s_2_2_sequence.txt.tar.gz | sed '1 s/.*@/@/' | \\\n",
    "    gzip > \"/coop_SE/primed_testing/AGGCAGAA_2.fq.gz\"\n",
    "\n",
    "!zcat /coop_SE/brd2_data/AGGCAGAA-s_2_1_sequence.txt.tar.gz | sed '1 s/.*@/@/' | \\\n",
    "    gzip > \"/coop_SE/primed_testing/AGGCAGAA_1.fq.gz\"\n",
    "!zcat /coop_SE/brd2_data/AGGCAGAA-s_2_2_sequence.txt.tar.gz | sed '1 s/.*@/@/' | \\\n",
    "    gzip > \"/coop_SE/primed_testing/AGGCAGAA_2.fq.gz\"\n"
   ]
  },
  {
   "cell_type": "code",
   "execution_count": 79,
   "metadata": {
    "collapsed": true
   },
   "outputs": [],
   "source": [
    "#Define data folders, data, and sample name\n",
    "annotation=\"/annotation/mm9_norandom\"\n",
    "tmp=\"/input_data/\"\n",
    "input_dir=\"/coop_SE/primed_testing/\"\n",
    "output_dir=\"/coop_SE/primed_testing\"\n",
    "input_fq_1=\"AGGCAGAA_1.fq.gz\"\n",
    "input_fq_2=\"AGGCAGAA_2.fq.gz\"\n",
    "sample_name=\"AGGCAGAA\""
   ]
  },
  {
   "cell_type": "code",
   "execution_count": 78,
   "metadata": {},
   "outputs": [
    {
     "name": "stdout",
     "output_type": "stream",
     "text": [
      "AGGCAGAA_1.fq.gz\t   HiChip_mesc_1_1M.fq.gz\r\n",
      "AGGCAGAA_2.fq.gz\t   HiChip_mesc_2_1M.fq.gz\r\n",
      "ATAC_h7_1M.fq.gz\t   dnaseHiC_hesc_1_1M.fq.gz\r\n",
      "ATAC_h7_1_1M.fq.gz\t   dnaseHiC_hesc_2_1M.fq.gz\r\n",
      "ATAC_h7_1_2M.fq.gz\t   dnaseHiC_patski_1_1M.fq.gz\r\n",
      "ATAC_h7_1_5M.fq.gz\t   dnaseHiC_patski_2_1M.fq.gz\r\n",
      "ATAC_h7_2_1M.fq.gz\t   filt_ATAC_h7_1_1M.fq.gz\r\n",
      "ATAC_h7_2_2M.fq.gz\t   filt_ATAC_h7_1_5M.fq.gz\r\n",
      "ATAC_h7_2_5M.fq.gz\t   filt_ATAC_h7_2_1M.fq.gz\r\n",
      "ATAC_h7_Smtmrs_1_1M.fq.gz  filt_ATAC_h7_2_5M.fq.gz\r\n",
      "ATAC_h7_Smtmrs_1_5M.fq.gz  filt_ATAC_h7_Smtmrs_1_1M.fq.gz\r\n",
      "ATAC_h7_Smtmrs_2_1M.fq.gz  filt_ATAC_h7_Smtmrs_2_1M.fq.gz\r\n",
      "ATAC_h7_Smtmrs_2_5M.fq.gz  h3k27Ac_hesc_1M.fq.gz\r\n",
      "ATAC_mesc_1_0M.fq.gz\t   h3k27Ac_mesc_1M.fq.gz\r\n",
      "ATAC_mesc_1_1M.fq.gz\t   input_hesc_1M.fq.gz\r\n",
      "ATAC_mesc_2_0M.fq.gz\t   input_mesc_1M.fq.gz\r\n",
      "ATAC_mesc_2_1M.fq.gz\t   output_data_1M.fq.gz\r\n",
      "CTCF_hesc_1M.fq.gz\t   output_data_1_1M.fq.gz\r\n",
      "CTCF_mesc_1M.fq.gz\t   output_data_2_1M.fq.gz\r\n",
      "ChiA_SMC1_hesc_1_1M.fq.gz  single_ATAC_h7_1_1M.fq.gz\r\n",
      "ChiA_SMC1_hesc_2_1M.fq.gz  single_ATAC_h7_1_5M.fq.gz\r\n",
      "ChiA_SMC1_mesc_1M.fq.gz    single_ATAC_h7_Smtmrs_1_1M.fq.gz\r\n",
      "ChiA_SMC1_mesc_1_1M.fq.gz  test_1.fq.gz\r\n",
      "ChiA_SMC1_mesc_2_1M.fq.gz  test_2.fq.gz\r\n",
      "HiC_hesc_1_1M.fq.gz\t   trimmed_ATAC_h7_1_1M.fq.gz\r\n",
      "HiC_hesc_2_1M.fq.gz\t   trimmed_ATAC_h7_1_5M.fq.gz\r\n",
      "HiC_mesc_1_1M.fq.gz\t   trimmed_ATAC_h7_2_1M.fq.gz\r\n",
      "HiC_mesc_2_1M.fq.gz\t   trimmed_ATAC_h7_2_5M.fq.gz\r\n",
      "HiChip_hesc_1_1M.fq.gz\t   trimmed_ATAC_h7_Smtmrs_1_1M.fq.gz\r\n",
      "HiChip_hesc_2_1M.fq.gz\t   trimmed_ATAC_h7_Smtmrs_2_1M.fq.gz\r\n"
     ]
    }
   ],
   "source": [
    "!ls \"/coop_SE/primed_testing/\""
   ]
  },
  {
   "cell_type": "code",
   "execution_count": null,
   "metadata": {},
   "outputs": [
    {
     "name": "stdout",
     "output_type": "stream",
     "text": [
      "Aligning using bowtie2 w/ paired end\n"
     ]
    }
   ],
   "source": [
    "#align and sort / filter bam\n",
    "#paired end\n",
    "if(input_fq_2):\n",
    "    print(\"Aligning using bowtie2 w/ paired end\")\n",
    "    !/root/bowtie2-2.3.1/bowtie2 -p 24 --sensitive -x  $annotation \\\n",
    "        -1 $input_data$input_fq_1 -2 $input_data$input_fq_2 | samtools view -bS - > $sample_name\".bam\"\n",
    "else:\n",
    "    print(\"Aligning using bowtie2 w/ single end\")\n",
    "    !/root/bowtie2-2.3.1/bowtie2 -p 24 --sensitive -x  $annotation \\\n",
    "        -U $input_data$input_fq_1 | samtools view -bS - > $sample_name\".bam\"\n",
    "    \n",
    "#sort index and filter for canonical chromosomes\n",
    "!samtools sort -@ 10 $sample_name\".bam\" -o $sample_name\"_sorted.bam\"\n",
    "!samtools index $sample_name\"_sorted.bam\"\n",
    "!samtools view $sample_name\"_sorted.bam\" -hu chr1 chr2 chr3 chr4 chr5 chr6 chr7 chr8 chr9 chr10 chr11 chr12 chr13 chr14 chr15 chr16 chr17 chr18 chr19 chrX > \"$sample_name\"\"_filt_sorted.bam\"\n"
   ]
  },
  {
   "cell_type": "code",
   "execution_count": 47,
   "metadata": {},
   "outputs": [
    {
     "name": "stdout",
     "output_type": "stream",
     "text": [
      "WIGTC-HISEQ2:2:2303:15765:19757#AGGCAG/1;1\t99\tchr1\t3044725\t6\t50M\t=\t3044873\t198\tCCTGCAGCCTGGCCCTTACAGCCCACTAAGGGATGGTGTAATCCACTGAT\taaaaaeeeeeeeeeeeeeeeee[eeeeeeeeeeeeeeeeeeeeeeeeeee\tAS:i:0\tXS:i:-6\tXN:i:0\tXM:i:0\tXO:i:0\tXG:i:0\tNM:i:0\tMD:Z:50\tYS:i:0\tYT:Z:CP\n",
      "WIGTC-HISEQ2:2:2303:15765:19757#AGGCAG/2;1\t147\tchr1\t3044873\t6\t50M\t=\t3044725\t-198\tGCCTGACCTTTAAGGTTCCGCTTCTAACAATCATAAAGCATCCATAGGAC\teeeeaeeeeeeeeeeeeeeeeeeeeeeeeeeeeeeeeeeeeeeeeaaaaa\tAS:i:0\tXS:i:0\tXN:i:0\tXM:i:0\tXO:i:0\tXG:i:0\tNM:i:0\tMD:Z:50\tYS:i:0\tYT:Z:CP\n",
      "WIGTC-HISEQ2:2:2303:2301:48708#AGGCAG/1;1\t99\tchr1\t3064121\t40\t50M\t=\t3064635\t564\tTTGCTGCTCCGGGCTGGGGGCCTCATGTTCACTGACTTTGAAGTTCTTTA\taaaaaeeeeeeeeeeeeeeeeeeeeeeeeeeeeeeeeeeeeeeeeeeeee\tAS:i:-6\tXN:i:0\tXM:i:1\tXO:i:0\tXG:i:0\tNM:i:1\tMD:Z:45A4\tYS:i:-6\tYT:Z:CP\n",
      "WIGTC-HISEQ2:2:2303:2301:48708#AGGCAG/2;1\t147\tchr1\t3064635\t40\t50M\t=\t3064121\t-564\tAGAACTTATAAGTTACTTATAAAATGGACTTGTAAAAGTCCATTTTAACA\teeeeeeeeeeeeeeeeeeeeeeeeeeeeeeeeeeeeeeeeeeeeeaaaaa\tAS:i:-6\tXN:i:0\tXM:i:1\tXO:i:0\tXG:i:0\tNM:i:1\tMD:Z:2G47\tYS:i:-6\tYT:Z:CP\n",
      "WIGTC-HISEQ2:2:2303:13082:32091#AGGCAG/2;1\t163\tchr1\t3107003\t42\t50M\t=\t3107459\t506\tCATTAACTTTCCTCAAGTCGCAAAGGTCAAAAGTCCAAAGGGCAGAATGG\taaaaaeeeeeeeeeeeeeeeeeeeeeeeeeeeeeeeeeeeeeeeeeeeee\tAS:i:0\tXN:i:0\tXM:i:0\tXO:i:0\tXG:i:0\tNM:i:0\tMD:Z:50\tYS:i:0\tYT:Z:CP\n",
      "WIGTC-HISEQ2:2:2303:8225:10058#AGGCAG/1;1\t99\tchr1\t3107153\t42\t50M\t=\t3107238\t135\tCCTTAGGACTGCTGCTTACTCCCCATATTTTGGAGACAGGAAACTTGATA\ta[aaaaaaeeNNaeeeee[eeeeeeeeeeeeeeeaaeeeeeeeeeeeee[\tAS:i:0\tXN:i:0\tXM:i:0\tXO:i:0\tXG:i:0\tNM:i:0\tMD:Z:50\tYS:i:0\tYT:Z:CP\n",
      "WIGTC-HISEQ2:2:2303:8225:10058#AGGCAG/2;1\t147\tchr1\t3107238\t42\t50M\t=\t3107153\t-135\tTCTTGAACCCTACTGCAATACTGTTATTTTTTTCTACTCTGGGGTAATGG\te[eeeeeeeeeeaee[eeeeeeeeeeeeeNeaaaeeeeNaeeeNaaaaaa\tAS:i:0\tXN:i:0\tXM:i:0\tXO:i:0\tXG:i:0\tNM:i:0\tMD:Z:50\tYS:i:0\tYT:Z:CP\n",
      "WIGTC-HISEQ2:2:2303:13082:32091#AGGCAG/1;1\t83\tchr1\t3107459\t42\t50M\t=\t3107003\t-506\tTTGTATTACTTTCCTCCTTTTCAAAATAGATAGTCTGATTTCTCTGACAC\teeeeeeaeeeeeeeeeeeeeeeeeeeeeeeeeeeeeeeeeeeeeeaaaaa\tAS:i:0\tXN:i:0\tXM:i:0\tXO:i:0\tXG:i:0\tNM:i:0\tMD:Z:50\tYS:i:0\tYT:Z:CP\n",
      "WIGTC-HISEQ2:2:2303:13385:28211#AGGCAG/1;1\t99\tchr1\t3109281\t42\t50M\t=\t3109610\t379\tCCCTGAAGGACTCTGGGATCACCTTGCAGACAGCTTTATTTAAGAATTCT\taaaaaeeeeeeeeeeeeeeeeeeeeeeeeeeeeeeeeeeeeeeeeeeeee\tAS:i:0\tXN:i:0\tXM:i:0\tXO:i:0\tXG:i:0\tNM:i:0\tMD:Z:50\tYS:i:0\tYT:Z:CP\n",
      "WIGTC-HISEQ2:2:2303:13385:28211#AGGCAG/2;1\t147\tchr1\t3109610\t42\t50M\t=\t3109281\t-379\tAAACTAGCAAGGATTAAAGCATTACAATGGAACTTTATAATATCTGCTGC\teeeeeeeeeeeeeeeeeeeeeeeeeeeeeeeeeeeeeeeeeeeeeaaaaa\tAS:i:0\tXN:i:0\tXM:i:0\tXO:i:0\tXG:i:0\tNM:i:0\tMD:Z:50\tYS:i:0\tYT:Z:CP\n",
      "samtools view: writing to standard output failed: Broken pipe\n",
      "samtools view: error closing standard output: -1\n",
      "500000 + 0 in total (QC-passed reads + QC-failed reads)\n",
      "0 + 0 secondary\n",
      "0 + 0 supplementary\n",
      "0 + 0 duplicates\n",
      "471324 + 0 mapped (94.26% : N/A)\n",
      "500000 + 0 paired in sequencing\n",
      "250000 + 0 read1\n",
      "250000 + 0 read2\n",
      "471324 + 0 properly paired (94.26% : N/A)\n",
      "471324 + 0 with itself and mate mapped\n",
      "0 + 0 singletons (0.00% : N/A)\n",
      "0 + 0 with mate mapped to a different chr\n",
      "0 + 0 with mate mapped to a different chr (mapQ>=5)\n",
      "chr1\t197195432\t53298\t0\n",
      "chr2\t181748087\t23174\t0\n",
      "chr3\t159599783\t14862\t0\n",
      "chr4\t155630120\t12850\t0\n",
      "chr5\t152537259\t13340\t0\n",
      "chr6\t149517037\t13916\t0\n",
      "chr7\t152524553\t12534\t0\n",
      "chr8\t131738871\t11616\t0\n",
      "chr9\t124076172\t13776\t0\n",
      "chr10\t129993255\t11422\t0\n",
      "chr11\t121843856\t10204\t0\n",
      "chr12\t121257530\t11248\t0\n",
      "chr13\t120284312\t10172\t0\n",
      "chr14\t125194864\t10940\t0\n",
      "chr15\t103494974\t10896\t0\n",
      "chr16\t98319150\t8650\t0\n",
      "chr17\t95272651\t8406\t0\n",
      "chr18\t90772031\t7352\t0\n",
      "chr19\t61342430\t4392\t0\n",
      "chrM\t16299\t198328\t0\n",
      "chrX\t166650296\t9454\t0\n",
      "chrY\t15902555\t494\t0\n",
      "*\t0\t0\t28676\n"
     ]
    }
   ],
   "source": [
    "#Take a peek at the bam\n",
    "!samtools view $sample_name\"_sorted.bam\" | head\n",
    "#get alignment stats\n",
    "!samtools flagstat \"$sample_name\"\"_sorted.bam\"\n",
    "!samtools idxstats \"$sample_name\"\"_sorted.bam\""
   ]
  },
  {
   "cell_type": "code",
   "execution_count": 48,
   "metadata": {},
   "outputs": [
    {
     "name": "stdout",
     "output_type": "stream",
     "text": [
      "INFO  @ Sun, 14 May 2017 00:54:40: \n",
      "# Command line: callpeak -t test_sorted.bam --nomodel --shift -37 --extsize 73 --broad --keep-dup all -n test_MACS\n",
      "# ARGUMENTS LIST:\n",
      "# name = test_MACS\n",
      "# format = AUTO\n",
      "# ChIP-seq file = ['test_sorted.bam']\n",
      "# control file = None\n",
      "# effective genome size = 2.70e+09\n",
      "# band width = 300\n",
      "# model fold = [5, 50]\n",
      "# qvalue cutoff for narrow/strong regions = 5.00e-02\n",
      "# qvalue cutoff for broad/weak regions = 1.00e-01\n",
      "# Larger dataset will be scaled towards smaller dataset.\n",
      "# Range for calculating regional lambda is: 10000 bps\n",
      "# Broad region calling is on\n",
      "# Paired-End mode is off\n",
      " \n",
      "INFO  @ Sun, 14 May 2017 00:54:40: #1 read tag files... \n",
      "INFO  @ Sun, 14 May 2017 00:54:40: #1 read treatment tags... \n",
      "INFO  @ Sun, 14 May 2017 00:54:40: Detected format is: BAM \n",
      "INFO  @ Sun, 14 May 2017 00:54:40: * Input file is gzipped. \n",
      "INFO  @ Sun, 14 May 2017 00:54:43: #1 tag size is determined as 50 bps \n",
      "INFO  @ Sun, 14 May 2017 00:54:43: #1 tag size = 50 \n",
      "INFO  @ Sun, 14 May 2017 00:54:43: #1  total tags in treatment: 235662 \n",
      "INFO  @ Sun, 14 May 2017 00:54:43: #1 finished! \n",
      "INFO  @ Sun, 14 May 2017 00:54:43: #2 Build Peak Model... \n",
      "INFO  @ Sun, 14 May 2017 00:54:43: #2 Skipped... \n",
      "INFO  @ Sun, 14 May 2017 00:54:43: #2 Sequencing ends will be shifted towards 5' by 37 bp(s) \n",
      "INFO  @ Sun, 14 May 2017 00:54:43: #2 Use 73 as fragment length \n",
      "INFO  @ Sun, 14 May 2017 00:54:43: #3 Call peaks... \n",
      "INFO  @ Sun, 14 May 2017 00:54:43: #3 Call broad peaks with given level1 -log10qvalue cutoff and level2: 1.301030, 1.000000... \n",
      "INFO  @ Sun, 14 May 2017 00:54:43: #3 Pre-compute pvalue-qvalue table... \n",
      "INFO  @ Sun, 14 May 2017 00:54:45: #3 Call peaks for each chromosome... \n",
      "INFO  @ Sun, 14 May 2017 00:54:45: #4 Write output xls file... test_MACS_peaks.xls \n",
      "INFO  @ Sun, 14 May 2017 00:54:45: #4 Write broad peak in broadPeak format file... test_MACS_peaks.broadPeak \n",
      "INFO  @ Sun, 14 May 2017 00:54:45: #4 Write broad peak in bed12/gappedPeak format file... test_MACS_peaks.gappedPeak \n",
      "INFO  @ Sun, 14 May 2017 00:54:45: Done! \n",
      "Command run:  /root/anaconda2/bin/nucleoatac run --bed test_MACS_merged.bed --bam test_sorted.bam --fasta /annotation/mm9_norandom.fa --out test_nucATAC --cores 10\n",
      "nucleoatac version 0.3.4\n",
      "start run at: 2017-05-14 00:54\n",
      "---------Step1: Computing Occupancy and Nucleosomal Insert Distribution---------\n",
      "Making figure\n",
      "---------Step2: Processing Vplot------------------------------------------------\n",
      "/root/anaconda2/lib/python2.7/site-packages/pyatac/VMat.py:100: RuntimeWarning: invalid value encountered in divide\n",
      "  tmp1 = self.mat / np.sum(self.mat)\n",
      "---------Step3: Obtaining nucleosome signal and calling positions---------------\n",
      "/root/anaconda2/lib/python2.7/site-packages/nucleoatac/NucleosomeCalling.py:280: RuntimeWarning: invalid value encountered in less\n",
      "  self.smoothed.vals[ self.smoothed.vals < 0] = 0\n",
      "/root/anaconda2/lib/python2.7/site-packages/nucleoatac/NucleosomeCalling.py:280: RuntimeWarning: invalid value encountered in less\n",
      "  self.smoothed.vals[ self.smoothed.vals < 0] = 0\n",
      "/root/anaconda2/lib/python2.7/site-packages/nucleoatac/NucleosomeCalling.py:280: RuntimeWarning: invalid value encountered in less\n",
      "  self.smoothed.vals[ self.smoothed.vals < 0] = 0\n",
      "/root/anaconda2/lib/python2.7/site-packages/nucleoatac/NucleosomeCalling.py:280: RuntimeWarning: invalid value encountered in less\n",
      "  self.smoothed.vals[ self.smoothed.vals < 0] = 0\n",
      "/root/anaconda2/lib/python2.7/site-packages/nucleoatac/NucleosomeCalling.py:280: RuntimeWarning: invalid value encountered in less\n",
      "  self.smoothed.vals[ self.smoothed.vals < 0] = 0\n",
      "/root/anaconda2/lib/python2.7/site-packages/nucleoatac/NucleosomeCalling.py:280: RuntimeWarning: invalid value encountered in less\n",
      "  self.smoothed.vals[ self.smoothed.vals < 0] = 0\n",
      "/root/anaconda2/lib/python2.7/site-packages/nucleoatac/NucleosomeCalling.py:280: RuntimeWarning: invalid value encountered in less\n",
      "  self.smoothed.vals[ self.smoothed.vals < 0] = 0\n",
      "/root/anaconda2/lib/python2.7/site-packages/nucleoatac/NucleosomeCalling.py:280: RuntimeWarning: invalid value encountered in less\n",
      "  self.smoothed.vals[ self.smoothed.vals < 0] = 0\n",
      "/root/anaconda2/lib/python2.7/site-packages/nucleoatac/NucleosomeCalling.py:280: RuntimeWarning: invalid value encountered in less\n",
      "  self.smoothed.vals[ self.smoothed.vals < 0] = 0\n",
      "---------Step4: Making combined nucleosome position map ------------------------\n",
      "---------Step5: Calling NFR positions-------------------------------------------\n",
      "end run at: 2017-05-14 00:55\n"
     ]
    }
   ],
   "source": [
    "#Call acessibility peaks, and using those peaks define area around to resolve nucleosomes\n",
    "!macs2 callpeak -t \"$sample_name\"\"_sorted.bam\" --nomodel --shift -37 --extsize 73 --broad --keep-dup all -n \"$sample_name\"\"_MACS\"\n",
    "!/root/bedops/bin/bedops --range 500:500 --everything \"$sample_name\"\"_MACS_peaks.broadPeak\" | bedtools merge -i - > \"$sample_name\"\"_MACS_merged.bed\"\n",
    "!nucleoatac run --bed \"$sample_name\"\"_MACS_merged.bed\" --bam \"$sample_name\"\"_sorted.bam\" --fasta \"$annotation\"\".fa\" --out \"$sample_name\"\"_nucATAC\" --cores 10"
   ]
  }
 ],
 "metadata": {
  "anaconda-cloud": {},
  "kernelspec": {
   "display_name": "Python [conda root]",
   "language": "python",
   "name": "conda-root-py"
  },
  "language_info": {
   "codemirror_mode": {
    "name": "ipython",
    "version": 3
   },
   "file_extension": ".py",
   "mimetype": "text/x-python",
   "name": "python",
   "nbconvert_exporter": "python",
   "pygments_lexer": "ipython3",
   "version": "3.6.1"
  }
 },
 "nbformat": 4,
 "nbformat_minor": 2
}
