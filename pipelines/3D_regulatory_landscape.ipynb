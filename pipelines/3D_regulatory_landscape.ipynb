{
 "cells": [
  {
   "cell_type": "markdown",
   "metadata": {},
   "source": [
    "# Abstract\n",
    "In this study, we describe the 3D chromosome regu- latory landscape of human naive and primed embry- onic stem cells. To devise this map, we identified transcriptional enhancers and insulators in these cells and placed them within the context of cohe- sin-associated CTCF-CTCF loops using cohesin ChIA-PET data. The CTCF-CTCF loops we identified form a chromosomal framework of insulated ne- ighborhoods, which in turn form topologically asso- ciating domains (TADs) that are largely preserved during the transition between the naive and primed states. Regulatory changes in enhancer-promoter in- teractions occur within insulated neighborhoods during cell state transition. The CTCF anchor regions we identified are conserved across species, influ- ence gene expression, and are a frequent site of mutations in cancer cells, underscoring their functional importance in cellular regulation. These 3D regula- tory maps of human pluripotent cells therefore pro- vide a foundation for future interrogation of the relationships between chromosome structure and gene control in development and disease."
   ]
  },
  {
   "cell_type": "markdown",
   "metadata": {},
   "source": [
    "# Introduction\n",
    "The gene expression programs that establish and maintain specific cell states in humans are controlled by regulatory proteins that bind specific genomic elements (Heinz et al., 2015; Levine et al., 2014; Plank and Dean, 2014; Smith and Shilatifard, 2014; Spitz and Furlong, 2012). Enhancer elements, first described over 30 years ago (Banerji et al., 1981; Benoist and Chambon, 1981; Gruss et al., 1981), are bound by transcription factors and can loop long distances to contact and regulate spe- cific genes. There are approximately 1 million enhancers that have been identified in the human genome (Dunham et al., 2012; Thurman et al., 2012), and the constraints that cause\n",
    "them to operate only on their specific target genes are not fully understood (Zabidi et al., 2015). Insulator elements are bound by CTCF and prevent enhancers from operating across insulator boundaries (Bell et al., 1999; Geyer and Corces, 1992), and recent studies suggest such boundaries function in the context of 3D chromosome structures (Dixon et al., 2012; Dowen et al., 2014; Handoko et al., 2011; Heidari et al., 2014; Nora et al., 2012; Phillips-Cremins et al., 2013; Rao et al., 2014). Under- standing the control of a cell’s gene expression program thus re- quires a map of enhancers and insulators in the context of 3D chromosome structure.\n",
    "The 3D topology of the genome is thought to contribute to the regulation of gene expression by creating constraints that pro- duce regions of active and repressed transcription (Bickmore, 2013; de Graaf and van Steensel, 2013; de Laat and Duboule, 2013). Recent evidence indicates that both active and repressed compartments of chromosomes are partitioned into megabase- sized topologically associating domains (TADs) (Dixon et al., 2012; Nora et al., 2012). TADs are regions of chromosomes that show evidence of relatively high DNA interaction fre- quencies based on Hi-C chromosome conformation capture data. TADs are largely maintained through development, as TAD boundaries tend to be similar among various cell types (Dixon et al., 2012, 2015; Phillips-Cremins et al., 2013).\n",
    "The chromosome-structuring proteins CTCF and cohesin are important for the integrity of TAD boundaries and substructures (Guo et al., 2015; Narendra et al., 2015; Phillips-Cremins et al., 2013; Seitan et al., 2013; Sofueva et al., 2013; Zuin et al., 2014). CTCF and cohesin are essential for early embryogenesis, ubiquitously expressed and retained on their interphase chromatin sites in mitotic chromatin, and are thought to play im- portant roles in epigenetic inheritance (Dorsett and Merkenschl- ager, 2013; Go ́ mez-Dı ́az and Corces, 2014; Merkenschlager and Odom, 2013). CTCF is an 11 zinc-finger protein that binds CCCTC motifs and can form homodimers, enabling two distal DNA-bound CTCF molecules to loop DNA. Cohesin is loaded at enhancer-promoter loops and occupies these sites and CTCF sites (Dowen et al., 2013, 2014; Hadjur et al., 2009; Kagey et al., 2010; Parelho et al., 2008; Rubio et al., 2008; Wendt et al., 2008). Cohesin forms a large ring capable of encircling two DNA molecules (Gruber et al., 2003; Haering et al., 2002) and is thought to facilitate establishment and/or maintenance of enhancer-promoter loops and CTCF-CTCF loops. An emerging model suggests that cohesin-associated CTCF-CTCF loops occur within TADs and that enhancers generally interact with genes that occur within these loops (DeMare et al., 2013; Dowen et al., 2014; Doyle et al., 2014; Handoko et al., 2011; Heidari et al., 2014; Phillips-Cremins et al., 2013; Rao et al., 2014). These CTCF-CTCF loops appear to function as insulated neighbor- hoods for gene regulation because the loss of either of the CTCF sites that close the loop can alter gene regulation within and immediately outside the loop (Dowen et al., 2014). Insulated neighborhood structures have been described for key pluripo- tency genes in murine embryonic stem cells (mESCs) (Dowen et al., 2014), but the extent to which these structures account for the Hi-C DNA interactions used to define TADs is not clear.\n",
    "It is assumed that development is controlled by transcriptional and epigenetic regulators that function in the context of various chromosome structures, but we lack a map of such structures in cells representative of early human development. With the recent isolation of naive human embryonic stem cells (hESCs) (Chan et al., 2013; Gafni et al., 2013; Takashima et al., 2014; Theunis- sen et al., 2014; Ware et al., 2014), it is possible to deduce the 3D regulatory landscape of one of the earliest stages of human development. Naive ESCs represent the ground state of pluripo- tency and are characterized by a gene expression profile that is similar to that in cleavage embryos (De Los Angeles et al., 2015; Hackett and Surani, 2014; Martello and Smith, 2014). Primed ESCs, while pluripotent, represent a subsequent post-implanta- tion epiblast cell state that has a developmental bias toward the ectoderm (De Los Angeles et al., 2015; Hackett and Surani, 2014; Martello and Smith, 2014). Although these two states of human pluripotency have been characterized by global gene expression analyses, it is not known whether the conversion of the naive to the primed state involves changes in chromatin configuration. Defining the 3D regulatory landscape of these two cell states should prove to be valuable for understanding the transcriptional control of early human development.\n",
    "To deduce the 3D regulatory landscape of naive and primed hESCs, we identified enhancers, insulators, and cohesin-associ- ated chromatin interactions. The results show how cohesin- associated CTCF-CTCF loops, and the cohesin-associated enhancer-promoter loops within them, organize TADs in naive and primed hESCs. Enhancers interact with specific genes located within the CTCF-CTCF loops, indicating that they func- tion as insulated neighborhoods. The CTCF sites that contribute to these loops are highly conserved and hypomethylated, and loss of these sites occurs frequently in cancer. We thus provide an initial map of the 3D regulatory landscapes of human pluripo- tent cells and a foundation for further studies of the relationships between chromosome structure and gene control in develop- ment and disease."
   ]
  },
  {
   "cell_type": "markdown",
   "metadata": {},
   "source": [
    "# Results\n",
    "To investigate the 3D regulatory landscape of naive hESCs and the isogenic primed hESCs from which the naive cells were derived, we generated populations of both cell states and rein- vestigated their morphology and gene expression programs to confirm that they maintained key features previously described\n",
    "for these cells reproducibly (Theunissen et al., 2014). As ex- pected, the colonies of naive hESCs exhibited a dome-shaped morphology and the colonies of primed hESCs had a flat morphology (Figure S1A). The gene expression programs were reinvestigated by generating high-quality RNA sequencing (RNA-seq) datasets (Supplemental Experimental Procedures). Cross-species clustering confirmed that the naive and primed hESC gene expression datasets were highly similar to those previously established for naive and primed hESCs as well as their murine counterparts (Figure S1B; Theunissen et al., 2014; Huang et al., 2014). Further analysis of the RNA-seq data confirmed that genes previously noted as preferentially expressed in either naive or primed hESCs were indeed prefer- entially expressed in these RNA-seq datasets (Figure S1C; Ta- kashima et al., 2014; Theunissen et al., 2014). A complete list of genes that are preferentially expressed in the naive or primed hESCs can be found in Table S1. These results confirm that the conditions used for growth and maintenance of these isogenic naive and primed human pluripotent states are repro- ducible (Theunissen et al., 2014)."
   ]
  },
  {
   "cell_type": "code",
   "execution_count": null,
   "metadata": {
    "collapsed": true,
    "latex_figure": {
     "caption": "",
     "label": "fig:fig1",
     "placement": "H",
     "widefigure": false
    }
   },
   "outputs": [],
   "source": [
    "Image(\"fig1.png\",width=1000)"
   ]
  },
  {
   "cell_type": "markdown",
   "metadata": {
    "latex_doc": {
     "caption": "fig:fig1"
    }
   },
   "source": [
    "Figure 1. Components of the 3D Regulatory Landscape (A) Enhancers and insulators (left). Enhancers are occupied by transcription factors, mediator, and cohesin, and their associated nucleosomes are marked by H3K27ac. Candidate insulators are occupied by CTCF and cohesin. A model shows insulated neighborhoods formed by cohesin- associated CTCF-CTCF interactions, within which enhancers loop to promoters of target genes (right). (B) Heatmap representation of ChIP-seq data for H3K27ac, MED1, OCT4, CTCF, and H3K27me3 at SMC1-occupied regions in naive (left) and primed (right) hESCs. Read density is displayed within a 10-kb window and color-scale intensities are shown in reads per million mapped reads per base pair. Cohesin occupies three classes of sites as follows: enhancer/promoter sites, Polycomb- occupied sites, and CTCF-occupied sites. (C) Cohesin (SMC1) ChIA-PET data analysis at the MYCN locus in naive hESCs. The algorithm used to identify paired-end tags (PETs) is described in the Supplemental Experimental Procedures. PETs and interactions involving enhancers and promoters within the window are displayed at each step in the analysis pipeline. Binding profiles for CTCF, SMC1, and H3K27ac are displayed at the bottom. (D) High-confidence cohesin-associated interac- tion maps in naive (left) and primed (right) hESCs. CTCF-binding sites, enhancers, and promoters involved in cohesin-associated interactions are indicated as circles, and the size of circles corre- sponds to the number of sites. The interactions between two regions are indicated as gray lines, and the size of lines corresponds to the number of interactions. See also Figure S1 and Tables S1, S2, and S3."
   ]
  },
  {
   "cell_type": "markdown",
   "metadata": {},
   "source": [
    "## Enhancers, Insulators, and Cohesin-Associated DNA Interactions in hESCs\n",
    "Enhancers and insulators are cis-regulatory elements that can be identified by the regulatory proteins that occupy them and by the looped structures that are formed by cohesin-associated interactions (Figure 1A). For both naive and primed hESCs, we identified regions occupied by cohesin and then identified puta- tive enhancers and insulators (Figure 1B; Table S2). Enhancers were identified by generating chromatin immunoprecipitation sequencing (ChIP-seq) data for histone H3K27ac and confirmed with ChIP-seq data for the MED1 subunit of Mediator and the OCT4 master transcription factor (Figure 1B; Table S2). Candi- date insulators were identified by determining the genome- wide occupancy of CTCF (Figure 1B; Table S2). The data for the naive hESCs indicate that $29% of cohesin-occupied sites involve active enhancers and promoters and $57% involve CTCF sites that are not associated with enhancers and pro- moters (Figure 1B). Similar results were obtained for the primed hESCs, except there was a substantial fraction of cohesin-occu- pied regions that were associated with Polycomb modifications (Figure 1B), as noted previously (Theunissen et al., 2014).\n",
    "To identify cohesin-associated loops, we generated chro- matin interaction analysis by paired-end tag sequencing (ChIA- PET) data for cohesin in both naive and primed hESCs. The ChIA-PET technique was used because it yields genome-wide, high-resolution ($4kb) interaction data coupled to the location of a specific protein, thus providing potential mechanistic insight into that set of chromatin interactions (Fullwood et al., 2009). We selected cohesin for ChIA-PET because it is a relatively well- studied SMC complex that is loaded at enhancer-promoter loops and thus can identify those interactions, and it also can occupy CTCF sites and thus identify those interactions as well.\n",
    "Biological replicate ChIA-PET datasets for the cohesin subunit SMC1 were generated for both the naive and primed hESCs. We acquired a total of $400 million reads for both naive and primed hESCs (Table S3). The respective replicates showed a high de- gree of correlation (Pearson’s r > 0.98, Figures S1D and S1E), so replicate data were pooled and processed as described in the Supplemental Experimental Procedures. The naive hESC da- taset contained $88 million unique paired-end tags (PETs) that identified 35,286 high-confidence cohesin-associated intra- chromosomal interactions (Table S3), and the primed hESC da- taset contained $125 million unique PETs that identified 46,257 high-confidence cohesin-associated intra-chromosomal inter- actions (Table S3). The results for the MYCN locus in naive hESCs and the effects of filtering for high-confidence interac- tions are shown in Figure 1C. At this locus, multiple interactions between super-enhancer constituents and the MYCN promoter are observed. A summary of a subset of the high-confidence in- teractions identified in naive and primed hESCs based on the Dowen et al. (2014) analysis pipeline (Supplemental Ex- perimental Procedures) is shown in Figure 1D. These high-con- fidence interactions were used for further analyses unless otherwise stated."
   ]
  },
  {
   "cell_type": "code",
   "execution_count": null,
   "metadata": {
    "collapsed": true,
    "latex_figure": {
     "caption": "",
     "label": "fig:fig2",
     "placement": "H",
     "widefigure": false
    }
   },
   "outputs": [],
   "source": [
    "Image(\"fig2.png\",width=1000)"
   ]
  },
  {
   "cell_type": "markdown",
   "metadata": {
    "latex_doc": {
     "caption": "fig:fig2"
    }
   },
   "source": [
    "Figure 2. CTCF-CTCF Loops Underlie Much of TAD Structure (A) Heatmap of cohesin-associated CTCF-CTCF loops showing that these loops in naive hESCs are largely preserved in primed hESCs. The 9,344 CTCF-CTCF loops that define the putative insulated neighborhoods in naive hESCs were ranked by size and shown. The color bar indicates normalized PET signal at these CTCF-CTCF loops. (B) TAD heatmap of interaction frequencies and CTCF-CTCF loops that define the putative insulated neighborhoods. Normalized Hi-C interaction frequencies in H1 hESCs are displayed in a two-dimensional heatmap (Dixon et al., 2015) with the TADs indicated as black bars. Shared CTCF-CTCF loops are indicated as blue lines (naive) and red lines (primed). A correlation analysis between Hi-C interaction frequency (H1 hESCs) and CTCF-CTCF loops in naive and primed hESCs is displayed to the right in a boxplot plotted in log scale; randomly generated TADs were used as the background control. (C) CTCF-CTCF loops span many TADs identified using Hi-C data in H1 hESCs. Chromosome 6 is displayed as a circos plot in both naive and primed hESCs, with zoomed-in regions below. CTCF-CTCF loops (R1 PET) are indicated as blue arcs (naive) and red arcs (primed). The bar graphs show percentages of TADs spanned by CTCF-CTCF loops when various confidence thresholds (1, 2, and R3 PETs) were used. Random shuffling of TAD locations (100 iterations) served as the background control. (D) Physical distance between TAD borders is shorter than an equidistant control locus. The Hi-C interaction heatmaps, TADs, and CTCF-CTCF loops were shown the same as in (B). The green, red, and blue bars indicate the location of BAC probes used for DNA FISH at each locus. Boxplots of minimal normalized distances between pairs of loci generated from >1,500 FISH probe spots per condition are displayed with the corresponding probe pairs labeled below. Sig- nificance was determined using the Mann-Whitney test (*p < 10^-28). Images were obtained using a 403 objective. (E) Measurement of DNA proximity by 3D DNA FISH before and after deletions of CTCF-binding sites at either end of a TAD-spanning CTCF-CTCF loop. The Hi-C interaction heatmaps, TADs, and CTCF-CTCF loops were shown the same as in (B). The green and red bars indicate the location of BAC probes used for DNA FISH. The scissor-marked regions (C1 and C2) were deleted by CRISPR-mediated deletion. Examples of two-color DNA FISH images are shown (right), and the quantification of distance between green and red probes is displayed with a bar graph below. Significance was determined using the Mann-Whitney test (*p < 10^-13). Images were obtained using a 1003 objective; n = number of alleles quantified for each sample. The genotyping PCR data also are displayed (bottom right). (F) Cohesin ChIA-PET data can be used to discover TADs. A comparison of TADs derived with the same algorithm from Hi-C data (Dixon et al., 2015) and cohesin ChIA-PET data for a portion of chromosome 12 is shown (left). A global analysis indicates that the cohesin ChIA-PET- and Hi-C-derived TAD boundaries are close (right).\n",
    "See also Figure S2 and Table S3."
   ]
  },
  {
   "cell_type": "markdown",
   "metadata": {},
   "source": [
    "## Cohesin-Associated Loops Organize TADs\n",
    "We first studied the cohesin-associated DNA loops that occur between two CTCF-bound sites in the two hESC conditions and found that the majority (80%) of such loops in naive hESCs also were found in the primed hESCs (Figure 2A). There were 12,987 CTCF-CTCF loops in naive hESCs, encompassing 37% of the genome and 33% of protein-coding genes (Table S3). These CTCF-CTCF loops ranged from 4 to >800 kb and con- tained 0–24 protein-coding genes, with a median of 200 kb and one protein-coding gene per loop. Similar numbers were ob- tained for the primed hESCs (Table S3). Previous studies have noted that when CTCF homo-dimers form DNA loops, the two CTCF sequence motifs that are bound occur in specific orienta- tions (Rao et al., 2014), and we found that the two occupied sites that contribute to CTCF loops do occur predominantly in the convergent orientation (Figure S2A).\n",
    "Recent studies have noted a degree of correspondence be- tween CTCF-CTCF loops and TAD structures (Dowen et al., 2014; Rao et al., 2014). A comparison of the CTCF-CTCF loops identified here with TADs identified previously in H1 hESCs (primed hESCs) with Hi-C data (Dixon et al., 2015) revealed several especially striking features. The CTCF-CTCF loops almost always occurred within TADs and showed interactions that closely corresponded to the Hi-C interaction heatmap (Fig- ure 2B). Genome-wide analysis indicated that the CTCF-CTCF loops correlated with the H1 hESC Hi-C signal to a striking de- gree and much more than would be expected at random (Fig- ure 2B). We found evidence for CTCF-CTCF loops that spanned entire TADs for a large fraction of TADs (Figure 2C). Saturation analysis indicated that the ChIA-PET datasets were approximately 50% complete (Figure S2B), indicating that only a subset of all CTCF-CTCF loops were identified in the high-confidence data, so it is possible that most TAD boundaries are defined by CTCF-CTCF loops. For two TADs spanned by CTCF-CTCF loops, 3D DNA fluorescence in situ hybridization (FISH) was used to show that the boundaries of these TADs were in close proximity compared to their distance to a third, genomically equidistant, locus in naive hESCs (Fig- ure 2D). To determine whether TAD-spanning CTCF-CTCF loops are required for the proximity of TAD boundaries, we first confirmed that the boundaries of a different TAD with CTCF- CTCF spanning loops were in close proximity and then deleted the CTCF-binding sites at either end and measured the effects on proximity of the two boundaries using 3D DNA FISH (Fig- ure 2E). The results showed that loss of either binding site caused a separation between the two boundary regions that were otherwise close in space. Together, these results suggest that TAD-spanning CTCF-CTCF loops make important contri- butions to TAD structure.\n",
    "If cohesin-associated loops play a major role in TAD structure, it should be possible to reconstruct TADs, which were previously derived solely from Hi-C data, by using cohesin ChIA-PET data. The results shown in Figure 2F confirm that the cohesin ChIA-PET data, processed using the same Hidden Markov algo- rithm used to process Hi-C data, can capture most TAD bound- aries derived from Hi-C data in H1 hESCs. This observation led us to determine whether similar results could be obtained for mESC TADs using previously generated mESC cohesin ChIA- PET data. The results confirmed that CTCF-CTCF loops span a substantial portion of TADs (Figure S2C) and that cohesin ChIA-PET data and Hi-C data produce similar TAD structures (Figure S2D). Because TAD structures are known to be largely preserved in various cell types (Dixon et al., 2012, 2015; Phil- lips-Cremins et al., 2013), we compared the primed hESC CTCF-CTCF loops to those predicted from Hi-C datasets from H1 hESCs and in situ Hi-C datasets from seven different somatic cell types (Rao et al., 2014), and we found a high degree of over- lap in predicted loops (Figures S2E–S2H). These results are consistent with the idea that cohesin-associated DNA interac- tions provide much of the underlying structure of TADs."
   ]
  },
  {
   "cell_type": "code",
   "execution_count": null,
   "metadata": {
    "collapsed": true,
    "latex_figure": {
     "caption": "",
     "label": "fig:fig3",
     "placement": "H",
     "widefigure": false
    }
   },
   "outputs": [],
   "source": [
    "Image(\"fig3.png\",width=1000)"
   ]
  },
  {
   "cell_type": "markdown",
   "metadata": {
    "latex_doc": {
     "caption": "fig:fig3"
    }
   },
   "source": [
    "Figure 3. Putative Insulated Neighborhoods in hESC. (A) Schematic of insulated neighborhood is shown. (B) Enhancer-promoter interactions occur pre- dominantly within CTCF-CTCF loops that define putative insulated neighborhoods in hESCs. The color bar indicates the number of enhancer-pro- moter interactions spanning the genomic location. (C and D) CRISPR-mediated deletion of CTCF sites at two loci, PRDM14 locus (C) and LEFTY1 locus (D). The top of each panel shows a subset of CTCF- CTCF loops depicted as red lines and binding profiles for CTCF, cohesin (SMC1), and H3K27ac in primed hESCs at the respective loci. A subset of genes present in these loops is shown for simplicity. The super-enhancers are indicated as red bars. The bottom of each panel shows RT- qPCR results for the gene expression levels of the indicated genes in wild-type and cells with deleted CTCF sites. Gene expression was assayed with at least three technical replicates and is displayed as the mean with SD.\n",
    "See also Figure S3.See also Figure S2 and Table S3."
   ]
  },
  {
   "cell_type": "markdown",
   "metadata": {},
   "source": [
    "## CTCF-CTCF Loops Form Insulated Neighborhoods\n",
    "Previous studies in mESCs showed that CTCF-CTCF loops con- taining active pluripotency genes or silent Polycomb-associated genes can function as insulated neighborhoods for gene control (Figure 3A), because DNA interactions between regulatory ele- ments and genes occur within the CTCF-CTCF loops and the loss of either of the CTCF sites can alter gene regulation within or immediately outside the loop (Dowen et al., 2014). If the CTCF-CTCF loops identified in hESC function as insulated neighborhoods, we expect that most cohesin-associated inter- actions with an endpoint inside the loop have their other endpoint within the loop. Indeed, interactions that originated within a CTCF-CTCF loop almost invariably ended within the boundaries of the loop in naive and primed hESCs (Figure S3A).\n",
    "CTCF loops constrain enhancer-promoter interactions within the loops.\n",
    "To determine whether CTCF-CTCF loops are functionally important for normal expression of local genes, we performed CRISPR-mediated deletions of anchors of CTCF-CTCF loops that surround the super-enhancer associated genes PRDM14 and LEFTY1. Deletion of CTCF anchor sites had limited effects on expression of these super-enhancer-driven genes that play essential roles in these ESCs, but it caused substantial upregula- tion of genes that occur immediately outside the CTCF-CTCF loop, consistent with the idea that the loop constrains the super- enhancers to function within the loop (Figures 3C, 3D, and S3B). These results further demonstrate that the integrity of CTCF- CTCF loops is important for proper expression of local genes.\n",
    "We examined CTCF-CTCF loops in syntenic regions of human and mouse chromosomes to ascertain whether they are conserved, as has been observed previously for TADs (Dixon et al., 2012). Examination of the CTCF-CTCF loop structures in mESCs and hESCs revealed that they are largely preserved in these syntenic regions (Figure S3C). We found that the CTCF boundary elements that were shown to function as insulated neighborhood boundaries in mESCs (Dowen et al., 2014) have counterparts in the hESCs studied here, and these CTCF- CTCF loops contain human homologs of the murine pluripotency genes (Figure S3D). Thus, cohesin-associated CTCF-CTCF loops are largely preserved between syntenic regions of human and mouse, where conserved boundary CTCF sites previously have been shown to be essential for insulator function in mouse."
   ]
  },
  {
   "cell_type": "code",
   "execution_count": null,
   "metadata": {
    "collapsed": true,
    "latex_figure": {
     "caption": "",
     "label": "fig:fig4",
     "placement": "H",
     "widefigure": false
    }
   },
   "outputs": [],
   "source": [
    "Image(\"fig4.png\",width=1000)"
   ]
  },
  {
   "cell_type": "markdown",
   "metadata": {
    "latex_doc": {
     "caption": "fig:fig4"
    }
   },
   "source": [
    "Figure 4. 3D Regulatory Structures of TADs Containing Key Pluripotency Genes (A–F) Schematics of 3D structure for TADs containing SMAD3, HMGB3, TBX3, LEFTY1, KLF4, and NANOG in naive hESCs. For each TAD, Hi-C interaction data (Dixon et al., 2015) are shown together with cohesin-associated loop data for TAD-spanning CTCF loops, insulated neighborhood-spanning CTCF loops, enhancer-enhancer loops, and enhancer-promoter loops. A subset of CTCF-CTCF loops was selected for display based on a directionality index (Supplemental Experimental Procedures), and a subset of genes present in these loops is shown for simplicity. See also Figure S4."
   ]
  },
  {
   "cell_type": "markdown",
   "metadata": {},
   "source": [
    "## Schematics of TAD Structures\n",
    "We assembled structural schematics of TADs based on CTCF- CTCF loops and enhancer-promoter loops, and here we show a subset that illustrates common themes (Figures 4 and S4). CTCF-CTCF loops frequently span TADs, effectively forming one large insulated neighborhood. In some TADs, nested CTCF-CTCF interactions occur such that genes are embedded within two or more independent CTCF-CTCF loops. Cohesin- associated enhancer-promoter interactions essentially always occur within the smallest CTCF-CTCF loop formed within the TAD where the gene occurs, again consistent with the idea\n",
    "that the CTCF-CTCF loops have insulating properties. The CTCF-CTCF loop structures of TADs in naive and primed cells were very similar, although there were some instances where a TAD-spanning loop or an internal loop identified in one of the pluripotent cells was absent in data for the other cell (Figure S4).\n",
    "The TAD schematics assembled with cohesin-associated loop data likely represent the minimal set of structures, as the cohesin ChIA-PET data were not saturated and some lower-confidence data were not included. In addition, these schematics represent one potential conformation of TADs, but because the underlying data originated from a population of cells, additional conforma- tions are possible. Nonetheless, it is useful to use this to estimate the minimal frequencies of TAD substructures due to CTCF- CTCF loops. TADs range in size from 0.2 to 21 Mb and contain 0–768 genes. The median number of CTCF-CTCF insulated neighborhoods that occurred within each TAD was two and these ranged from 4 kb to 2.9 Mb and contained 0–24 protein- coding genes. In this Version 1.0 map of TADs containing insu- lated neighborhoods, the median neighborhood was 200 kb and contained one gene whose average size was $30 kb."
   ]
  },
  {
   "cell_type": "code",
   "execution_count": null,
   "metadata": {
    "collapsed": true,
    "latex_figure": {
     "caption": "",
     "label": "fig:fig5",
     "placement": "H",
     "widefigure": false
    }
   },
   "outputs": [],
   "source": [
    "Image(\"fig5.png\",width=1000)"
   ]
  },
  {
   "cell_type": "markdown",
   "metadata": {
    "latex_doc": {
     "caption": "fig:fig5"
    }
   },
   "source": [
    "Figure 5. Differential Enhancer Landscape Reveals Key Transcription Factors, Chromatin Regulators, and MicroRNAs in Naive and Primed Pluripotencies (A) Scatterplot comparison shows H3K27ac ChIP-seq peaks used to call enhancers in naive and primed hESCs. (B) Scatterplot comparison shows super-enhancers in naive and primed hESCs. (C) Distribution of differential H3K27ac ChIP-seq signal density across the super-enhancer regions of naive and primed hESCs. Genes encoding key transcription factors, chromatin regulators, and microRNAs (miRNAs) associated with super-enhancers are listed. (D) 3D regulatory structure of a TAD containing KLF4 in both naive and primed hESCs with Hi-C and cohesin ChIA-PET data as described in Figure 4. The naive and primed cells share TAD and insulated neighborhood structure, but a super-enhancer and cohesin-associated interactions between the super-enhancer and the KLF4 promoter are readily detected only in naive cells. (E) 3D regulatory structure of a TAD containing OTX2 in both naive and primed hESCs with Hi-C, cohesin ChIA-PET, and enhancer data, as described in (D), is shown. (F) Gene expression analysis after shRNA knockdown of KLF4 in naive and primed hESCs. The RT-qPCR results were displayed as black (control) and red (shRNA KLF4) bar graphs. Gene expression was assayed with at least three technical replicates and is displayed as the mean with SD."
   ]
  },
  {
   "cell_type": "markdown",
   "metadata": {},
   "source": [
    "## Differential Gene Control in Naive and Primed hESCs\n",
    "To gain insights into the differential regulation of genes that contribute to naive and primed states of pluripotency, we compared the enhancer landscapes of the two cell types (Fig- ure 5A). Of the 24,755 active enhancers identified in naive and primed hESCs using H3K27ac ChIP-seq data, 16% showed >2-fold H3K27ac signal in naive hESCs relative to primed hESCs and 26% showed >2-fold H3K27ac signal in primed hESCs rela- tive to naive hESCs (Figure 5A). To focus on genes likely to contribute to the differential control of these pluripotent states, we concentrated our analysis on super-enhancers and their associated genes (Figures 5B and 5C; Table S4), because su- per-enhancers are known to drive expression of key pluripo- tency genes in mESCs (Whyte et al., 2013).\n",
    "We found that differentially regulated pluripotency genes generally occurred in similar TAD CTCF-CTCF loop structures in naive and primed cells (Figures 5D, 5E, and S5A–S5D). Inspec- tion of 3D chromosome structure at loci for genes that have naive-preferred enhancers and are preferentially expressed in naive hESCs revealed that they share cohesin-associated CTCF-CTCF structures in naive and primed hESCs, as shown for KLF4 in Figure 5D. KLF4 has a super-enhancer only in naive cells and is expressed 5-fold higher in naive than primed cells. Similarly, many genes that are preferentially expressed in primed hESCs occur within shared CTCF-CTCF structures, as shown for OTX2 in Figure 5E. OTX2 has a super-enhancer only in primed cells and is expressed 10-fold higher in primed cells than in naive cells. The theme of differential expression within the context of similar CTCF-CTCF loops was observed in many additional TADs (Figures S5A–S5D). Although we could identify 125 naive-specific CTCF-CTCF loops and 28 primed-specific CTCF-CTCF loops (Table S4), some of which showed striking differences in loop structure (Figure S2I), none of these harbored genes with known roles in pluripotency. These results indicate that differential expression of a key set of pluripotency genes generally occurs in the context of preserved structural frame- works composed of CTCF-CTCF loops in naive and primed hESCs.\n",
    "The differential regulation of certain pluripotency genes might be due to a state-specific function in naive or primed cells. To\n",
    "test this idea, we investigated whether the naive state is more dependent on KLF4 than the primed state. KLF4 mRNA was knocked down using small hairpin RNA (shRNA) in both naive and primed cells, and the results showed that expression of plu- ripotency markers in naive cells is more dependent on normal levels of KLF4 mRNA in primed cells (Figure 5F). These results suggest that naive pluripotency in hESCs is especially depen- dent on the KLF4 transcription factor.\n",
    "The CTCF sites at CTCF-CTCF loop anchors in the hESCs are consistently bound by CTCF in many other human cell types, as exemplified by ChIP-seq data for 16 different cell types at the TBX3 and OTX2 loci (Figures S5E and S5F), so these may contribute to similar loop structures in differentiated cells. Similar evidence for consistent binding of CTCF in multiple cell types has been reported previously (Cuddapah et al., 2009; Dowen et al., 2014; Heidari et al., 2014; Kim et al., 2007; Phillips-Cremins et al., 2013; Schmidt et al., 2012; Wang et al., 2012). This rein- forces the idea that CTCF, together with cohesin, generates similar chromosomal frameworks in different cells and that tran- scriptional regulatory elements function within this context to produce cell-type-specific gene expression programs."
   ]
  },
  {
   "cell_type": "code",
   "execution_count": null,
   "metadata": {
    "collapsed": true,
    "latex_figure": {
     "caption": "",
     "label": "fig:fig6",
     "placement": "H",
     "widefigure": false
    }
   },
   "outputs": [],
   "source": [
    "Image(\"fig6.png\",width=1000)"
   ]
  },
  {
   "cell_type": "markdown",
   "metadata": {
    "latex_doc": {
     "caption": "fig:fig6"
    }
   },
   "source": [
    "Figure 6. Conservation of 3D Structure and Associations with Disease (A and B) DNA sequence in anchor regions (A) and the CTCF DNA sequence motif (B) of CTCF-CTCF loops in hESCs are more conserved in primates than DNA sequence in hESC regions bound by CTCF that do not serve as loop anchors. (C) A CTCF-CTCF loop containing the PAX3 gene in human and ChIP-seq gene tracks shows conserved binding of CTCF at this locus in human, orangutan, chimpanzee, and tamarin genomes (Schwalie et al., 2013). (D) Catalog of SNPs linked to phenotypic traits and diseases in genome-wide association studies (GWASs) and SNP association with enhancer and CTCF anchor regions in hESCs. Pie chart shows percentage of SNPs associated with the highlighted classes of traits and diseases (left). Distribution of trait-associated SNPs in coding and noncoding regions of the genome is shown (middle left). Location of all noncoding trait-associated SNPs relative to all enhancers identified in 86 human cell and tissue samples is shown. The x axis reflects binned distances of each SNP to the nearest enhancer. SNPs located within enhancers are assigned to the 0 bin (middle right). Location of all noncoding trait-associated SNPs relative to CTCF binding sites in loop anchor regions is shown (right). (E) Cancer mutations in transcription factor motifs at hESC CTCF-CTCF loop anchors are shown. (F) Cancer mutations found at CTCF motifs at the anchors of CTCF-CTCF loops in hESCs that contain the proto-oncogenes CCNE1 and NOTCH1. Blue (naive) and red (primed) CTCF-CTCF loops with mutations within the CTCF motifs in their anchors are displayed above the proto-oncogene contained within these loops. Below, mutations from the ICGC are displayed along with the cancers from which these were sequenced. See also Figure S6 and Table S5."
   ]
  },
  {
   "cell_type": "markdown",
   "metadata": {},
   "source": [
    "## Conservation of 3D Structure and Associations with Disease\n",
    "It has been estimated that approximately 65% of Hi-C-derived chromosome structures are static among different cell types and different species (Dixon et al., 2015). The observation that chromosome structures are largely conserved in primates (Dixon et al., 2012, 2015; Rao et al., 2014; Vietri Rudan et al., 2015) led us to investigate the extent to which CTCF binding at loop an- chors is similarly conserved. Analysis of CTCF-binding sites across ten primates indicated that the DNA sequence in anchor regions of CTCF-CTCF loops in hESCs is more conserved in pri- mates and vertebrates than in regions bound by CTCF that do not participate in loops (Figures 6A and S6A). A similar analysis showed that the CTCF DNA sequence motif in hESC loop anchor regions is highly conserved in primates and vertebrates (Figures 6B, 6C, and S6B). CTCF is known to preferentially bind to hypo- methylated DNA sequences (Wang et al., 2012), and further analysis revealed that the CTCF-binding sequences in hESC loop anchor regions exhibit DNA hypomethylation across 37 human cell/tissue types (Figure S6C). Hypomethylation at CTCF-CTCF loop anchors persists in a broad spectrum of hu- man cells, and it is evident even during stages of embryogenesis when DNA is globally hypomethylated (Figure S6D).\n",
    "The conservation of CTCF-CTCF loop anchor sequences led us to consider whether their variation contributes to various hu- man diseases and syndromes. Analysis of disease-associated SNPs showed that they tend to occur in proximity to enhancers, as observed previously (Hnisz et al., 2013; Maurano et al., 2012), but were not enriched in CTCF-CTCF loop anchor regions that lack evidence of local enhancer activity (Figure 6D). Deletions, duplications, and inversions that affect TAD structure and contribute to congenital diseases have been reported (Giorgio et al., 2015; Lupia ́ n ̃ ez et al., 2015), but the present results sug- gest that disease-associated SNPs generally occur much more frequently in enhancers than in CTCF loop anchor regions.\n",
    "Misregulation of gene expression is a common feature in can- cer (Hanahan and Weinberg, 2011; Lee and Young, 2013), and, with evidence that proper regulation of gene expression de- pends on CTCF-CTCF insulated neighborhoods, it is possible that this framework is altered in cancer cells. Indeed, a recent report indicates that CTCF/cohesin-binding sites are frequently mutated in colorectal cancer (Katainen et al., 2015). Analysis of somatic mutations present in the International Cancer Genome Consortium (ICGC) database (Zhang et al., 2011) revealed that 7,307 mutations occur in hESC CTCF loop anchors (Table S5), and that the CTCF DNA-binding motif present in hESC loop an- chor regions is among the most altered human factor-binding sequence in cancer cells (Figure 6E). Given the conservation of CTCF loop anchors, and evidence that CTCF-CTCF loops are mostly preserved between hESC and cancer cells (Figure S6E), it was striking to note that the mutations in the ICGC database that occur in CTCF anchor sites are often adjacent to oncogenes and other cancer-associated genes known to be dysregulated in specific cancer cells (Table S5). For example, CCNE1 overex- pression is associated with pancreatic, liver, and ovarian can- cers (Calhoun et al., 2003; Etemadmoghadam et al., 2013; Jung et al., 2001), and mutations affecting the anchor CTCF mo- tifs have been documented for the hESC loop containing CCNE1 (Figure 6F). Similarly, NOTCH1 overexpression is associated with ovarian cancer (Rose et al., 2010), and mutations affecting an anchor CTCF motif has been documented for the hESC loop containing NOTCH1 (Figure 6F). These results support the idea that mutations that alter the cohesin-associated CTCF- CTCF loops identified in hESCs may contribute to the misregula- tion of gene expression that is inherent to the cancer state."
   ]
  },
  {
   "cell_type": "markdown",
   "metadata": {},
   "source": [
    "# Discussions\n",
    "We describe here a first draft of the 3D regulatory landscape of hESCs in two pluripotent states and new insights into the rela- tionships between chromosome structure and gene regulation. The naive and primed states of pluripotency represent an in vitro correlate of the earliest states of human development, and our results are likely relevant for our understanding of epige- netic mechanisms that govern initial cell fate decisions in the em- bryo. Enhancers and genes generally interact within the context of the CTCF-CTCF loops identified here, and these loops thus form insulated neighborhoods that constrain interactions be- tween regulatory elements and genes. TADs appear to be formed by clusters of CTCF-CTCF loops and the gene regulatory interactions that occur within them. The CTCF sites that contribute to insulated neighborhoods in hESCs are highly\n",
    "conserved in primates, are rarely affected by sequence variation in humans, but are frequently altered in cancer. These initial 3D regulatory maps of human pluripotent cells thus reveal how co- hesin-associated CTCF-CTCF and enhancer-promoter loops contribute to the control of key genes, and they provide a foun- dation for further studies of development and disease.\n",
    "Our results suggest that TADs can be considered as nested sets of cohesin-associated CTCF-CTCF loops, as illustrated by the schematics shown in Figure 4. In many cases, the largest CTCF-CTCF loop spans the TAD and additional CTCF-CTCF loops often occur within the TAD. This structure helps explain why enhancers generally control only a limited number of genes despite having an ability to function in either orientation and at long distances and why only a subset of CTCF-bound sites func- tion as insulators. The pairs of CTCF-bound sites that interact to form a loop can function to produce an insulated neighborhood within which regulatory interactions occur. These results confirm and provide a mechanistic explanation for the hypothesis that TADs provide physical and functional constraints on interactions between regulatory elements and genes (Dekker, 2014; Gorkin et al., 2014). The data are also consistent with a growing body of evidence that cohesin-associated CTCF-CTCF loops occur within TADs and that enhancers generally interact with genes that occur within these loops (DeMare et al., 2013; Dowen et al., 2014; Handoko et al., 2011; Heidari et al., 2014; Phillips- Cremins et al., 2013; Rao et al., 2014).\n",
    "The CTCF-binding sites that form the loop anchors of insu- lated neighborhoods in hESCs are highly conserved in primates. These loop anchor CTCF sites are hypomethylated, which may be important for CTCF binding and/or for formation of CTCF-co- hesin loop structures. The anchor sites are rarely affected by hu- man sequence variation, but are frequently altered by somatic mutations in cancer. It thus will be important to determine whether cancer cells exploit rearrangement of insulated neigh- borhoods to facilitate acquisition of their oncogenic gene expression programs.\n",
    "The naive and primed hESCs studied here represent the earliest stages of human development that can be cultured. Comparison of these genetically identical naive and primed ESCs revealed that key differences in gene control occur in the context of similar insulated neighborhoods in the two pluripotent cell states. Most of the hESC chromosome struc- tures that occur in these cells are probably retained during differentiation and thus provide a foundation for further under- standing transcriptional control of cell identity in a broad spec- trum of human cells, where approximately a million regulatory elements have been mapped but most have yet to be physi- cally and functionally linked to genes. These maps of hESC genome structure also should prove valuable for identifying and further understanding genetic alterations that disrupt 3D structures and cause disease."
   ]
  },
  {
   "cell_type": "markdown",
   "metadata": {},
   "source": [
    "## References\n",
    "\\cite{f_scattering_2012,grigoryev_chromatin_2012,green_molecular_2012,donaldson_natural_2012,fedorenko_mechanism_2012,janiszewska_imp2_2012,larsen_biomarkers_2012,wilkinson_rapamycin_2012,frazier_biochemical_2012,wang_widespread_2012,thurman_accessible_2012,spitz_transcription_2012,schmidt_waves_2012,dixon_topological_2012,nora_spatial_2012,maurano_systematic_2012}"
   ]
  },
  {
   "cell_type": "markdown",
   "metadata": {},
   "source": [
    "# Experimental Procedures\n",
    "Additional information and details regarding this work may be found in the Supplemental Experimental Produces.\n",
    "Cell Culture\n",
    "Naive and primed hESCs were cultured as described previously (Theunissen et al., 2014). Detailed information is provided in the Supplemental Experi- mental Procedures.\n",
    "ChIP-Seq Library Generation and Sequencing\n",
    "ChIP was performed as previously described (Ji et al., 2015). Naive or primed hESCs (50 million) were used for each ChIP experiment. The following anti- bodies were used for ChIP: anti-H3K27ac (Abcam, ab4729), anti-CTCF (Milli- pore, 07-729), anti-MED1 (Bethyl Laboratories, A300-793A), and anti-OCT4 (Santa Cruz Biotechnology, sc-8628). For each ChIP, 5 mg antibody and 50 ml protein G Dynabeads (Life Technologies, 10004D) were used. The ChIP-seq libraries were prepared using the TruSeq ChIP Sample Prep Kit (Illu- mina, IP-202-1012) and sequenced on the Illumina HiSeq 2000.\n",
    "ChIA-PET\n",
    "ChIA-PET was performed using a modified version of a previously described protocol (Dowen et al., 2014). Naive or primed hESCs (400 million) were used for each ChIA-PET library construction. The ChIA-PET libraries were generated in three stages. In the first stage, ChIP was performed using 25 mg anti-SMC1 antibody (Bethyl Labs, A300-055A) and 250 ml protein G Dy- nabeads (Life Technologies, 10004D). This stage was the same as the exper- imental procedure described in the ChIP-seq library generation. The second stage was proximity ligation of ChIP-DNA fragments, which consists of end blunting and A-tailing to create easily ligated ends, followed by ligation to simultaneously add linker sequences required for later steps and ligate ends of fragments together. The third stage was the tagmentation of ligated prod- ucts, purification of the tagmented DNA fragments, amplification of the DNA by PCR, size selection, and paired-end sequencing. The ChIA-PET library was subjected to 100 3 100 paired-end sequencing using Illumina HiSeq 2000. Details are described in the Supplemental Experimental Procedures.\n",
    "Data Analysis\n",
    "Analysis of ChIA-PET data was performed essentially as previously described (Dowen et al., 2014). ChIA-PET interactions and additional ChIA-PET analysis may be found in the Supplemental Experimental Procedures (Tables S3 and S6). The TAD-related analyses were performed as previously described (Dixon et al., 2012). Detailed information is given in the Supplemental Experimental Procedures.\n",
    "## Accession numbers\n",
    "The accession number for the raw and processed sequencing data reported in this paper is GEO: GSE69647.\n",
    "# Supplemental Information\n",
    "Supplemental Information includes Supplemental Experimental Procedures, six figures, and six tables and can be found with this article online at http:// dx.doi.org/10.1016/j.stem.2015.11.007.\n",
    "## Author Contributors\n",
    "X.J., D.B.D., B.E.P., and R.A.Y. designed experiments. X.J., D.B.D., Z.P.F., D.B.-R., T.I.L., and R.A.Y. designed data analysis. B.E.P., D.B.D., and X.J. generated naive and primed hESCs. X.J. performed ChIA-PET, ChIP-seq, RNA-seq, and 3D DNA FISH. B.E.P. performed shRNA knockdown experi- ments. B.E.P., X.J., and D.B.D. performed genome editing experiments. S.S., G.P., D.B.D., and T.M. designed and performed high-throughput 3D DNA FISH experiments. Z.P.F. and D.B.-R. performed computational ana- lyses. T.I.L., D.H., and A.S.W. contributed critical comments on the manu- script. X.J., D.B.D., T.I.L., R.J., and R.A.Y. wrote the paper. All authors edited the manuscript.\n",
    "## Acknowledgements\n",
    "We thank Brian J. Abraham and Jill Dowen for data analysis. We thank Tom Volkert at the Whitehead Genome Technology Core for sequencing. We thank Wendy Salmon for assistance with confocal microscopy and Raaji Alagappan, Dongdong Fu, and Tenzin Lungjangwa for preparation of mouse embryonic fi- broblasts. This research was in part supported by the Intramural Research Program of the NIH, NCI, Center for Cancer Research. This work was sup- ported by an Erwin Schro ̈ dinger Fellowship (J3490) from the Austrian Science Fund (FWF) (to D.H.), Ludwig Graduate Fellowship Funds (A.S.W.), NIH Grants HG002668 (to R.A.Y.) and HD 045022 (to R.J.), and a grant from the Simons Foundation SFLIFE 286977 (to R.J.). R.J. is a founder of Fate Therapeutics and R.A.Y. is a founder of Syros Pharmaceuticals.\n",
    "Received: June 22, 2015 Revised: October 21, 2015 Accepted: November 9, 2015 Published: December 10, 2015"
   ]
  }
 ],
 "metadata": {
  "anaconda-cloud": {},
  "celltoolbar": "Edit Metadata",
  "hide_input": false,
  "kernelspec": {
   "display_name": "Python [conda root]",
   "language": "python",
   "name": "conda-root-py"
  },
  "language_info": {
   "codemirror_mode": {
    "name": "ipython",
    "version": 2
   },
   "file_extension": ".py",
   "mimetype": "text/x-python",
   "name": "python",
   "nbconvert_exporter": "python",
   "pygments_lexer": "ipython2",
   "version": "2.7.13"
  },
  "latex_envs": {
   "LaTeX_envs_menu_present": true,
   "autocomplete": true,
   "bibliofile": "masters_refs.bib",
   "cite_by": "apalike",
   "current_citInitial": 1,
   "eqLabelWithNumbers": true,
   "eqNumInitial": 1,
   "hotkeys": {
    "equation": "Ctrl-E",
    "itemize": "Ctrl-I"
   },
   "labels_anchors": false,
   "latex_user_defs": false,
   "report_style_numbering": false,
   "user_envs_cfg": false
  },
  "latex_metadata": {
   "author": "Xiong Ji, Daniel B. Dadon, Benjamin E. Powell, Zi Peng Fan, Diego Borges-Rivera, Sigal Shachar, Abraham S. Weintraub, Denes Hnisz, Gianluca Pegoraro, Tong Ihn Lee, Tom Misteli, Rudolf Jaenisch, Richard A. Young",
   "email": "dborgesr@mit.edu",
   "logo": "mit-university-logo",
   "publisher": [
    "Nature Methods"
   ],
   "title": "3D Chromosome Regulatory Landscape of Human Pluripotent Cells"
  }
 },
 "nbformat": 4,
 "nbformat_minor": 2
}
