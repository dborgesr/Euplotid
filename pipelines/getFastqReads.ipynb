{
 "cells": [
  {
   "cell_type": "markdown",
   "metadata": {
    "collapsed": true
   },
   "source": [
    "# Pull sequencing reads into fastq.gz from local storage (Tony) or SRA"
   ]
  },
  {
   "cell_type": "code",
   "execution_count": 3,
   "metadata": {
    "collapsed": true
   },
   "outputs": [],
   "source": [
    "#Set directories for output\n",
    "#Define data folders\n",
    "out_dir=\"/input_dir/\""
   ]
  },
  {
   "cell_type": "markdown",
   "metadata": {},
   "source": [
    "### Find the local fastq.gz file using \n",
    "[Tony frontend](http://iona.wi.mit.edu/tonydev/dbSearch.pl)"
   ]
  },
  {
   "cell_type": "code",
   "execution_count": 5,
   "metadata": {
    "collapsed": false
   },
   "outputs": [
    {
     "name": "stdout",
     "output_type": "stream",
     "text": [
      "gzip: input_fq.gz: No such file or directory\n"
     ]
    }
   ],
   "source": [
    "#Subsample local file while stripping STUPID fucking header\n",
    "read_num=1000000\n",
    "in_fq_1 = /lab/solexa_public/Youn/solexa_public/170505_WIGTC-HISEQ2A_CALADANXX/QualityScores\n",
    "zcat \"input_fq.gz\" | sed '1 s/.*@/@/' | head -n $read_num | \\\n",
    "    gzip > $out_dir/input_down_fq.gz"
   ]
  },
  {
   "cell_type": "markdown",
   "metadata": {},
   "source": [
    "## Example below pulls 1M reads for every type of seq data supported <br> Types of seq pulled:\n",
    "    * Chip-Seq and Chromatin Accessibility (ATAC-Seq and DNAse-Seq)\n",
    "    * ChiA-PET\n",
    "    * Hi-C\n",
    "    * Hi-ChIP\n",
    "    * DNAse-HiC\n",
    "    * RNA-Seq\n",
    "    * Gro-Seq\n",
    "    * 4C\n",
    "### links to pipelines for each type of data below"
   ]
  },
  {
   "cell_type": "markdown",
   "metadata": {},
   "source": [
    "# Don't forget!!!\n",
    "to quality-check, trim, and filter your reads using [this pipeline](fq2preppedReads.md) before running ANY of the downstream pipelines"
   ]
  },
  {
   "cell_type": "code",
   "execution_count": 4,
   "metadata": {
    "collapsed": true
   },
   "outputs": [],
   "source": [
    "#Chip-seq/Chromatin Accessibility\n",
    "#CTCF mesc\n",
    "#/root/Euplotid/src/SRA2fq SRR524848 $out_dir CTCF_mesc 1000000\n",
    "#Input mesc\n",
    "/root/Euplotid/src/SRA2fq SRR524849 $out_dir input_mesc 5000000\n",
    "#H3k27Ac mesc\n",
    "/root/Euplotid/src/SRA2fq SRR066766 $out_dir h3k27ac_mesc 5000000\n",
    "#ATAC mesc\n",
    "#/root/Euplotid/src/SRA2fq SRR2927023 $out_dir ATAC_mesc 5000000\n",
    "\n",
    "#CTCF hesc\n",
    "#SRA2fq SRR2056018 $out_dir CTCF_hesc 1000000\n",
    "#Input hesc\n",
    "#/root/Euplotid/src/SRA2fq SRR2056020 $out_dir input_hesc 1000000\n",
    "#H3K27Ac hesc\n",
    "#/root/Euplotid/src/SRA2fq SRR2056016 $out_dir h3k27Ac_hesc 1000000\n",
    "#ATAC h7 hesc\n",
    "#/root/Euplotid/src/SRA2fq SRR3689760 $out_dir ATAC_h7 1000000"
   ]
  },
  {
   "cell_type": "markdown",
   "metadata": {},
   "source": [
    "See [this pipeline](fq2peaks.md) to call peaks using Homer and/or MACS2 as well as nucleosome positioning using nucleoatac"
   ]
  },
  {
   "cell_type": "code",
   "execution_count": 2,
   "metadata": {
    "collapsed": false
   },
   "outputs": [
    {
     "name": "stdout",
     "output_type": "stream",
     "text": []
    }
   ],
   "source": [
    "#chia-PET\n",
    "#mesc\n",
    "/root/Euplotid/src/SRA2fq SRR1296617 $out_dir ChiA_SMC1_mesc 1000000\n",
    "#hesc\n",
    "/root/Euplotid/src/SRA2fq SRR2054933 $out_dir ChiA_SMC1_hesc 1000000"
   ]
  },
  {
   "cell_type": "markdown",
   "metadata": {},
   "source": [
    "See [this pipeline](fq2ChIAInts.md) to prep reads, align, call and normalize pairwise interactions using ChiAPet2 and/or Origami and dump into cooler format."
   ]
  },
  {
   "cell_type": "code",
   "execution_count": 3,
   "metadata": {
    "collapsed": true
   },
   "outputs": [],
   "source": [
    "#Hi-c\n",
    "#mesc\n",
    "/root/Euplotid/src/SRA2fq SRR443883 $out_dir HiC_mesc 1000000\n",
    "#hesc\n",
    "/root/Euplotid/src/SRA2fq SRR400260 $out_dir HiC_hesc 1000000"
   ]
  },
  {
   "cell_type": "markdown",
   "metadata": {},
   "source": [
    "See [this pipeline](fq2HiCInts.md) to go from fastq reads, align, normalize and dump into cooler format using HiCPro"
   ]
  },
  {
   "cell_type": "code",
   "execution_count": 19,
   "metadata": {
    "collapsed": true
   },
   "outputs": [],
   "source": [
    "#Hi-ChIp\n",
    "#mesc\n",
    "/root/Euplotid/src/SRA2fq SRR3467183 $out_dir HiChip_mesc 1000000\n",
    "#GM12878\n",
    "/root/Euplotid/src/SRA2fq SRR3467176 $out_dir HiChip_hesc 1000000"
   ]
  },
  {
   "cell_type": "markdown",
   "metadata": {},
   "source": [
    "See [this pipeline](fq2HiChIPInts.md) custom pipeline to go from fastq reads through HiCPro + scripts to normalize and dump into cooler format"
   ]
  },
  {
   "cell_type": "code",
   "execution_count": 20,
   "metadata": {
    "collapsed": true
   },
   "outputs": [],
   "source": [
    "#Dnase Hi-c\n",
    "#mesc patski cells\n",
    "/root/Euplotid/src/SRA2fq SRR2033066 $out_dir dnaseHiC_patski 1000000\n",
    "#hesc\n",
    "/root/Euplotid/src/SRA2fq SRR1248175 $out_dir dnaseHiC_hesc 1000000"
   ]
  },
  {
   "cell_type": "markdown",
   "metadata": {},
   "source": [
    "See [this pipeline](fq2DNAseHiCInts.md) to go from fastq reads, align, normalize and dump into cooler format using HiCPro"
   ]
  },
  {
   "cell_type": "code",
   "execution_count": null,
   "metadata": {
    "collapsed": true
   },
   "outputs": [],
   "source": [
    "#RNA-Seq\n",
    "#mesc 4cell\n",
    "/root/Euplotid/src/SRA2fq SRR1840518 $out_dir rnaseq_mesc 1000000\n",
    "#hesc mesoderm\n",
    "/root/Euplotid/src/SRA2fq SRR3439456 $out_dir rnaseq_hesc 1000000"
   ]
  },
  {
   "cell_type": "markdown",
   "metadata": {},
   "source": [
    "See [this pipeline](fq2countsFPKM.md) to take RNA-Seq reads and align and quantify/normalize expression values (FPKM) using RSEM"
   ]
  },
  {
   "cell_type": "code",
   "execution_count": null,
   "metadata": {
    "collapsed": true
   },
   "outputs": [],
   "source": [
    "#Gro-seq\n",
    "#mesc\n",
    "/root/Euplotid/src/SRA2fq SRR935093 $out_dir groseq_mesc 1000000\n",
    "#h1 hesc (our data!)\n",
    "/root/Euplotid/src/SRA2fq SRR574826 $out_dir groseq_hesc 1000000"
   ]
  },
  {
   "cell_type": "markdown",
   "metadata": {},
   "source": [
    "See [this pipeline](fq2GroRPKM.md) find nascent transcripts using FStitch and miRNA promoters using mirSTP"
   ]
  },
  {
   "cell_type": "code",
   "execution_count": null,
   "metadata": {
    "collapsed": true
   },
   "outputs": [],
   "source": [
    "#4C\n",
    "#mesc poised enhancers = viewpoints\n",
    "/root/Euplotid/src/SRA2fq SRR4451724 $out_dir 4c_poiEnh_mesc 1000000\n",
    "#hesc MT2A\n",
    "/root/Euplotid/src/SRA2fq SRR1409666 $out_dir 4c_MT2A_hesc 1000000"
   ]
  },
  {
   "cell_type": "markdown",
   "metadata": {},
   "source": [
    "See [this pipeline](fq24CInts.md) to get wiggle file from fastq reads using HiCPro and/or custom pipeline"
   ]
  }
 ],
 "metadata": {
  "anaconda-cloud": {},
  "kernelspec": {
   "display_name": "Bash",
   "language": "bash",
   "name": "bash"
  },
  "language_info": {
   "codemirror_mode": "shell",
   "file_extension": ".sh",
   "mimetype": "text/x-sh",
   "name": "bash"
  }
 },
 "nbformat": 4,
 "nbformat_minor": 2
}
