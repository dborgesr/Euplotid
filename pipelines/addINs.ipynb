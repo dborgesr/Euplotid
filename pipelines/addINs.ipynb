{
 "cells": [
  {
   "cell_type": "markdown",
   "metadata": {},
   "source": [
    "# Build and annotate INs\n",
    "Shows how to use the pipeline that first builds Insulated Neighborhoods using a Louvian Graph based partitioning algorithm and then annotates all Cis-regulatory elements using a Neural Network. "
   ]
  },
  {
   "cell_type": "code",
   "execution_count": 30,
   "metadata": {
    "collapsed": false
   },
   "outputs": [
    {
     "name": "stdout",
     "output_type": "stream",
     "text": [
      "usage: buildAnnotatteINs.py [-h] -i INPUT_DIRECTORY -o OUTPUT_DIRECTORY\r\n",
      "                            [-t INSULATED_NEIGH] -c DNA_INT_CELL_TYPE -q\r\n",
      "                            EQTL_TISSUE [-g TOP_GENE_FPKM] -n NAME_OUTPUT\r\n",
      "                            [-m MARKER_REGION]\r\n",
      "\r\n",
      "Pipeline to output graphical genomic model from 2D data\r\n",
      "\r\n",
      "optional arguments:\r\n",
      "  -h, --help            show this help message and exit\r\n",
      "  -i INPUT_DIRECTORY, --input_directory INPUT_DIRECTORY\r\n",
      "                        Where all the input data lives\r\n",
      "  -o OUTPUT_DIRECTORY, --output_directory OUTPUT_DIRECTORY\r\n",
      "                        Output directory of graphs\r\n",
      "  -t INSULATED_NEIGH, --insulated_neigh INSULATED_NEIGH\r\n",
      "                        Comma separated list of Insulated Neighborhoods to\r\n",
      "                        build\r\n",
      "  -c DNA_INT_CELL_TYPE, --dna_int_cell_type DNA_INT_CELL_TYPE\r\n",
      "                        Cell type to use in building Insulated Neighborhoods\r\n",
      "  -q EQTL_TISSUE, --eQTL_tissue EQTL_TISSUE\r\n",
      "                        What tissue from GTeX to do eQTL analysis w/.\r\n",
      "                        Available tissues:\r\n",
      "                        Adipose_Subcutaneous,Adipose_Visceral_Omentum,\r\n",
      "                        Adrenal_Gland, Artery_Aorta, Artery_Coronary,\r\n",
      "                        Artery_Tibial, Brain_Anterior_cingulate_cortex_BA24,\r\n",
      "                        Brain_Caudate_basal_ganglia,\r\n",
      "                        Brain_Cerebellar_Hemisphere, Brain_Cerebellum,\r\n",
      "                        Brain_Cortex, Brain_Frontal_Cortex_BA9,\r\n",
      "                        Brain_Hippocampus, Brain_Hypothalamus,\r\n",
      "                        Brain_Nucleus_accumbens_basal_ganglia,\r\n",
      "                        Brain_Putamen_basal_ganglia,Breast_Mammary_Tissue,\r\n",
      "                        Cells_EBV-transformed_lymphocytes,\r\n",
      "                        Cells_Transformed_fibroblasts, Colon_Sigmoid,\r\n",
      "                        Colon_Transverse, Esophagus_Gastroesophageal_Junction,\r\n",
      "                        Esophagus_Mucosa, Esophagus_Muscularis,\r\n",
      "                        Heart_Atrial_Appendage, Heart_Left_Ventricle, Liver,\r\n",
      "                        Lung, Muscle_Skeletal, Nerve_Tibial, Ovary, Pancreas,\r\n",
      "                        Pituitary, Prostate, Skin_Not_Sun_Exposed_Suprapubic,\r\n",
      "                        Skin_Sun_Exposed_Lower_leg,\r\n",
      "                        Small_Intestine_Terminal_Ileum, Spleen, Stomach,\r\n",
      "                        Testis, Thyroid, Uterus, Vagina, Whole_Blood\r\n",
      "  -g TOP_GENE_FPKM, --top_gene_fpkm TOP_GENE_FPKM\r\n",
      "                        Instead of defining Insulated Neighborhoods take genes\r\n",
      "                        expressed above FPKM cutoff\r\n",
      "  -n NAME_OUTPUT, --name_output NAME_OUTPUT\r\n",
      "                        Output prefix for all output files\r\n",
      "  -m MARKER_REGION, --marker_region MARKER_REGION\r\n",
      "                        Build all Insulated Neighborhoods of genes which fall\r\n",
      "                        within this chromosomal region (ex:\r\n",
      "                        chr1:54996039-55996039)\r\n"
     ]
    }
   ],
   "source": [
    "!python /root/Euplotid/pipelines/buildAnnotatteINs.py --help"
   ]
  },
  {
   "cell_type": "code",
   "execution_count": null,
   "metadata": {
    "collapsed": false
   },
   "outputs": [
    {
     "name": "stdout",
     "output_type": "stream",
     "text": [
      "Number of Target Genes: 6\n",
      "Target Genes to build Insulated Neighborhoods: Y_RNA,FTO,CHD9,RPGRIP1L,JB149426,IRX3\n",
      "Checking resolution parameter against CTCF-CTCF loop\n"
     ]
    }
   ],
   "source": [
    "!python /root/Euplotid/pipelines/buildAnnotateINs.py \\\n",
    "    -i /input_data/ -o /root/Euplotid/pipelines/example_output/output_IN_graphs/ \\\n",
    "    -c primed -q Adipose_Visceral_Omentum \\\n",
    "    -n example -t IRX3,FTO,CHD9"
   ]
  },
  {
   "cell_type": "code",
   "execution_count": 5,
   "metadata": {
    "collapsed": false,
    "scrolled": true
   },
   "outputs": [
    {
     "name": "stderr",
     "output_type": "stream",
     "text": [
      "/Users/dborgesr/anaconda/lib/python2.7/site-packages/matplotlib/font_manager.py:273: UserWarning:\n",
      "\n",
      "Matplotlib is building the font cache using fc-list. This may take a moment.\n",
      "\n"
     ]
    }
   ],
   "source": [
    "#Default Insulated Neighborhoods to \n",
    "!python generate_draft_JSONs_all_funcs.py -i /input_data/ -o /root/Euplotid/pipelines/example_output/output_IN_graphs/ \\\n",
    "    -c primed -q Adipose_Visceral_Omentum -n default \n",
    "!python generate_draft_JSONs_all_funcs.py -i /input_data/ -o /root/Euplotid/pipelines/example_output/output_IN_graphs/ \\\n",
    "    -c jurkatt -q Cells_EBV-transformed_lymphocytes -n default \n",
    "!python generate_draft_JSONs_all_funcs.py -i /input_data/ -o /root/Euplotid/pipelines/example_output/output_IN_graphs/ \\\n",
    "    -c neuron -q Brain_Cortex -n default \n",
    "!python generate_draft_JSONs_all_funcs.py -i /input_data/ -o /root/Euplotid/pipelines/example_output/output_IN_graphs/ \\\n",
    "    -c mesc -q Brain_Cortex -n default "
   ]
  }
 ],
 "metadata": {
  "anaconda-cloud": {},
  "kernelspec": {
   "display_name": "Python [conda root]",
   "language": "python",
   "name": "conda-root-py"
  },
  "language_info": {
   "codemirror_mode": {
    "name": "ipython",
    "version": 2
   },
   "file_extension": ".py",
   "mimetype": "text/x-python",
   "name": "python",
   "nbconvert_exporter": "python",
   "pygments_lexer": "ipython2",
   "version": "2.7.12"
  }
 },
 "nbformat": 4,
 "nbformat_minor": 2
}
