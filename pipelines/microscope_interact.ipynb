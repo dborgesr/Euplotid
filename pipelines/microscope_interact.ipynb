{
 "cells": [
  {
   "cell_type": "markdown",
   "metadata": {},
   "source": [
    "# Manage attached microscope"
   ]
  },
  {
   "cell_type": "code",
   "execution_count": null,
   "metadata": {
    "collapsed": true
   },
   "outputs": [],
   "source": [
    "%%bash\n",
    "#Install RPI cam interface\n",
    "cd /root\n",
    "git clone https://github.com/silvanmelchior/RPi_Cam_Web_Interface.git\n",
    "cd RPi_Cam_Web_Interface\n",
    "chmod u+x *.sh\n",
    "./install.sh q\n",
    "modprobe bcm2835-v4l2\n",
    "./start.sh"
   ]
  }
 ],
 "metadata": {
  "anaconda-cloud": {},
  "kernelspec": {
   "display_name": "Python [conda root]",
   "language": "python",
   "name": "conda-root-py"
  },
  "language_info": {
   "codemirror_mode": {
    "name": "ipython",
    "version": 2
   },
   "file_extension": ".py",
   "mimetype": "text/x-python",
   "name": "python",
   "nbconvert_exporter": "python",
   "pygments_lexer": "ipython2",
   "version": "2.7.12"
  }
 },
 "nbformat": 4,
 "nbformat_minor": 2
}
