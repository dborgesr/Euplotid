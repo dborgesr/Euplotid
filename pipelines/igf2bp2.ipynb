{
 "cells": [
  {
   "cell_type": "markdown",
   "metadata": {},
   "source": [
    "# Abstract\n",
    "\n",
    "Although variants in the IGF2BP2/IMP2 gene confer risk for type 2 diabetes, IMP2, an RNA binding protein, is not known to regulate metabolism. Imp2-/- mice gain less lean mass after weaning and have increased lifespan. Imp2-/-mice are highly resistant to diet-induced obesity and fatty liver and display superior glucose tolerance and insulin sensitivity, increased energy expenditure, and better defense of core temperature on cold exposure. Imp2-/-brown fat and Imp2-/-brown adipocytes differentiated in vitro contain more UCP1 polypeptide than Imp2+/+ despite similar levels of Ucp1 mRNA; the Imp2-/-adipocytes also exhibit greater uncoupled oxygen consumption. IMP2 binds the mRNAs encod- ing Ucp1 and other mitochondrial components, and most exhibit increased translational efficiency in the absence of IMP2. In vitro IMP2 inhibits translation of mRNAs bearing the Ucp1 untranslated segments. Thus IMP2 limits longevity and regulates nutrient and energy metabolism in the mouse by controlling the translation of its client mRNAs."
   ]
  },
  {
   "cell_type": "markdown",
   "metadata": {},
   "source": [
    "# Introduction\n",
    "\n",
    "Susceptibility to type 2 diabetes mellitus (T2DM) is strongly influenced by both environmental \\cite{_reduction_2002} and genetic factors \\cite{diabetes_genetics_replication_and_meta-analysis_diagram_consortium_genome-wide_2014}. Genome-wide association studies (GWAS) have mapped more than 70 genomic locations at which common SNPs are associated with risk of T2D. Most variants map to noncoding regions, making it difficult to implicate a specific gene(s) and mecha- nisms at each locus. One of the first SNPs found by GWAS for T2DM is located in intron 2 of the gene encoding the RNA binding protein, IGF2 mRNA binding protein 2, abbrevi- ated IGF2BP2 or IMP2 \\cite{zeggini_multiple_2007,diabetes_genetics_replication_and_meta-analysis_diagram_consortium_genome-wide_2014}\\cite{scott_genome-wide_2007}.\n",
    "\n",
    "IMP1-3, named for their ability to bind to the leader 3 50 UTR of human IGF2 mRNA \\cite{nielsen_family_1999}, participate in posttran- scriptional RNA processing, i.e., RNA splicing, stabilization, transport, and translation \\cite{yisraeli_vickz_2005} Considered ‘‘oncofe- tal’’ proteins, expression of Imp1-3 in the mouse embryo peaks coordinately at $E12.5 \\cite{larsen_biomarkers_2012}, coinciding with the expression of IGF2 polypeptide. Whereas the expression of Imp1 and Imp3 is largely extinguished before birth \\cite{dai_mtor_2013}, Imp2 expression is widespread in the adult mouse \\cite{dai_igf2bp2/imp2_2015}. Imp2 is phosphorylated by mTOR complex 1 in a rapamycin-sensitive manner \\cite{dai_mtor_2011}, and trans- genic overexpression of IMP2 in mouse liver results in steatosis \\cite{tybl_overexpression_2011}. Nevertheless, little is known of IMP2’s physi- ologic functions, and it is unclear whether and how the function of IMP2 relates to the association with T2D of an intronic SNP in the IMP2 gene.\n",
    "\n",
    "To determine whether IMP2 contributes to metabolism, we generated and characterized mice whose Imp2 gene is inactivated. Imp2 /  mice resist diet-induced obesity and fatty liver due in part to increased energy expenditure (EE) and have a prolonged lifespan. Imp2 /  mice exhibit superior defense of body temperature when placed at 4 C, accompa- nied by an increased abundance of uncoupling protein-1 (UCP1) in Imp2 /  brown fat, whereas Ucp1 mRNA is not altered. IMP2 binds Ucp1 mRNA and inhibits Ucp1 mRNA translation. The loss of IMP2 and the consequent increase in EE due to increased UCP1 contribute to a resistance to obesity, a beneficial metabolic profile, and an increased lifespan."
   ]
  },
  {
   "cell_type": "code",
   "execution_count": null,
   "metadata": {
    "collapsed": true,
    "latex_figure": {
     "caption": "",
     "label": "fig:fig1",
     "placement": "H",
     "widefigure": false
    }
   },
   "outputs": [],
   "source": [
    "Image(\"fig1.png\",width=1000)"
   ]
  },
  {
   "cell_type": "markdown",
   "metadata": {
    "latex_doc": {
     "caption": "fig:fig1"
    }
   },
   "source": [
    "Figure 1. IMP2 Affects Postnatal Growth, Response to Fat Feeding, and Lifespan. (A) Fasting reduces IMP2 polypeptide in liver. Four pairs of male mice 12 weeks of age maintained on normal chow were deprived of food for 24 hr prior to sacrifice. (B) IMP2 abundance in liver and WAT is increased by HFD and in obesity. (Upper) Six-week-old C57Bl6 male mice were fed a HFD for 1 week and sacrificed; (lower) 6-week-old male Lepob/ob mice and wild-type littermates on NCD; extracts of liver and gonadal fat were immunoblotted for IMP2 and actin. (C) Imp2 mRNA and protein expression in mouse embryos. Extracts of wild-type and Imp2 knockout mouse embryos at E12.5 were analyzed for Imp2 and actin mRNA (upper) and protein (lower). (D) Growth curves of wild-type and Imp2 /  male mice on normal chow and HFD. (Upper) Growth curves on normal chow of wild-type and Imp2 /  male mice; error bars, 1 SD. Body weight is not different at 4 weeks (weaning) but is significantly greater in the wild-type at 6 weeks and at all times thereafter (*p < 0.05). (Right) Thirty-week- old wild-type and Imp2 /  female mice main- tained on NCD. (Lower) Growth curves on a HFD from 4 weeks of age; weight is not different at 4 weeks but is significantly greater in the wild- type at 6 weeks of age (p < 0.001) and there- after. (Right) Thirty-week old wild-type and Imp2 /  female mice maintained on a HFD from weaning. (E) Effect of IMP2 deficiency on body composi- tion. (Upper) Fat mass of wild-type (filled circles) and Imp2 /  (open circles) mice on NCD (solid line) and HFD (dashed line), as estimated by MRI; error bar, 1 SD. On the NCD, the fat mass in the wild-type is not greater than the Imp2 /  until 12 weeks of age (*p < 0.01); on the HFD, the fat mass of the wild-type is larger at 8 weeks of age (*p < 0.01). (Lower) Lean mass of wild-type (filled circles) and Imp2 /  (open circles) mice on NCD (solid lines) and HFD, (dashed lines). Lean mass is not different until 8 weeks of age on both diets (*,*p < 0.01). (F) Selected organ weights of wild-type (black bars) and Imp2 /  (white bars) mice maintained on a HFD from weaning, expressed as % of TBW (*p < 0.05). The upper graph summarizes results from 12 pairs of females 30 weeks of age. The lower graph shows results from eight pairs of males, 32 weeks of age. Skeletal muscle is"
   ]
  },
  {
   "cell_type": "markdown",
   "metadata": {},
   "source": [
    "# Results\n",
    "## IMP2 Abundance Is Regulated by Nutrition\n",
    "\n",
    "IMP2 is widely expressed in the adult mouse (Dai et al., 2011). While an overnight fast decreases IMP2 abundance in liver (Fig- ure 1A), a high-fat diet (HFD) increases the abundance of IMP2 in liver and white adipose tissue (WAT, Figure 1B, upper), and IMP2 abundance is higher in the fat pads of Lep /  mice (Figure 1B,lower). Thus, increased intake and/or deposition of fat is accom- panied by a leptin-independent increase in IMP2 abundance."
   ]
  },
  {
   "cell_type": "markdown",
   "metadata": {},
   "source": [
    "## Imp2–/– Mice Are Lean and Resistant to Diet-Induced Obesity\n",
    "\n",
    "Imp2 /  mice (Figure 1C, see Figure S1 available online) are born at the expected Mendelian ratio, appear normal at birth, survive without difficulty, and are similar in weight to wild-type at wean- ing (4 weeks of age). On normal chow diet (NCD), Imp2 /  mice gain less weight thereafter: at 30 weeks of age, the Imp2 /  mice weigh $25% less than wild-type littermates (Figure 1D). More- over, on a HFD the difference in weight gain between male Imp2 /  and wild-type littermates is exaggerated (Figure 1D, lower left). Analysis of body composition by magnetic resonance imaging (ECHO-MRI) shows that whereas wild-type mice gain $17 g in fat between weaning and 28 weeks of age, the Imp2 /  males gain $6 g fat (Figure 1E, upper). Imp2 /  females on a HFD are also lean (Figure 1D, lower right). Thus the IMP2- deficient mice are relatively resistant to diet-induced obesity."
   ]
  },
  {
   "cell_type": "markdown",
   "metadata": {},
   "source": [
    "## Imp2–/– Mice Gain Less Lean Mass after Weaning and Are Longer Lived Than Wild-Type\n",
    "\n",
    "Imp2 /  mice gain lean mass at a slower rate of than wild-type, especially after 12 weeks of age (Figure 1E, lower). The lean mass of Imp2 /  males is $15% lower at 16 weeks and $25% lower at 28 weeks, along with a 5% reduction in crown-to- rump length (males at 14 weeks on normal chow: wild-type 9.8 ± 0.2 cm versus KO 9.3 ± 0.16 cm, p = 0.02). The smaller lean mass of the Imp2 /  mice reflects a proportionate reduction in size; direct measurement of organ weights from mice main- tained on a HFD, when expressed as a fraction of body weight, shows that only the mass of the white adipose depots and the testes are selectively diminished; the weight of interscapular brown fat is similar (Figure 1F). At all times, the fraction of body weight contributed by fat mass is lower in the Imp2 /  than in wild-type mice.\n",
    "\n",
    "Genetic modifications in mice that are associated with a smaller, leaner phenotype (such as seen in the Imp2 / ) have been associated with an extended lifespan. We maintained co- horts of wild-type and Imp2 /  mice on a normal chow without intervention: Imp2 /  mice exhibit a significantly longer median lifespan than wild-type littermates, both in males and females (Figure 1G). As compared to wild-type littermates, the median survival of Imp2 /  males was 120 days longer (846 versus 726 days) and of Imp2 /  females was 183 days longer (943 days versus 760 days). Maximum lifespan of Imp2 /  mice is also increased. The age at 90% survival was 885 and 986 days for male wild-type and Imp2 /  mice, respectively, and 940 and 1,023 days for female wild-type and Imp2 /  mice (including two Imp2 /  females alive at 1,113 and 1,116 days). Combining the sexes, the last surviving 10% were comprised of 2/58 wild-type and 10/65 Imp2 /  mice, p = 0.03 . A caveat to the robust lifespan extension of the Imp2 /  mice as compared with wild-type is that the median lifespan of our wild-type C57Bl/6J cohort, although comparable to many earlier observations (mentioned in \\cite{turturro_survival_2002}), is shorter than that in several recent reports (\\cite{turturro_survival_2002}; http://research.jax.org/faculty/harrison/ ger1vi_LifeStudy1.html).\n",
    "Necropsy was performed on an apparently healthy cohort of six Imp2+/+ and six Imp2 /  mice (five males and one female of each genotype, all between 845 and 850 days age), taken from a cohort of several litters born in the same week and sacrificed at a time when $20% of the Imp2 /  birth cohort had expired. Malignant tumors were detected in 4/6 Imp2+/+ mice, whereas no malignancies were detected in the six Imp2 /  mice. Histopa- tologic findings at necropsy for the individual mice are found in the Supplemental Experimental Procedures."
   ]
  },
  {
   "cell_type": "markdown",
   "metadata": {},
   "source": [
    "## Imp2–/– Mice Are Resistant to Fatty Liver\n",
    "\n",
    "We examined the histology of tissues important to the regulation of nutrient metabolism. Skeletal muscle of wild-type and Imp2 /  mice was indistinguishable by light or electron micro- scopic examination (data not shown). Pancreatic morphology was normal in the Imp2 /  mice; immunohistochemical stains for insulin and glucagon revealed a comparable abundance of normal-appearing islets with a similar staining for glucagon in Imp2 /  and wild-type but a weaker signal for insulin in the Imp2 /  (Figure 2A), consistent with their lower serum insulin level (see below). H&E sections of formalin-fixed white adipose tissue show little or no difference in adipocyte size between Imp2 /  and wild-type mice, whether on normal chow or a HFD (Figure 2B), a finding confirmed by sizing of osmium tetrox- ide-fixed adipocytes (Figure S2A). The smaller white fat depots in HFD-fed Imp2 /  are thus due to fewer adult adipocytes, accompanied by a reduced number of Lin-CD29+CD34+ Sca1+ preadipocytes in the stromal-vascular compartment; the ability of the Imp2 /  adipocyte precursors to proliferate and differentiate in vitro, however, is not different than wild- type (Figures S2B–S2G). The morphology of interscapular brown adipose tissue is similar in wild-type and Imp2 /  mice fed normal chow (data not shown); however, after 8 weeks on a HFD the interscapular brown fat of wild-type mice has a distinctly more pale appearance than the Imp2 /  brown fat (Figure 2C, left), due in part to greater fat deposition (Figure 2C, right).\n",
    "\n",
    "The most striking difference in histologic appearance between wild-type and Imp2 /  mice is found in the liver of mice fed the HFD. As expected, there was abundant deposition of fat in the liver of wild-type mice fed the HFD. In contrast, little fat is seen in the liver of Imp2 /  mice (Figure 2D, left). This histological appearance was confirmed by direct measurement of liver tri- glyceride (Figure 2D, right). The hepatic transcriptional response to the HFD was examined using high-throughput sequencing of RNA extracted from the livers of wild-type and Imp2 /  mice placed on normal chow or a HFD immediately after weaning and sacrificed 1 week later. Focusing on gene products relating to fatty acid and triglyceride metabolism (Figure 2E), the modest differences evident on normal chow are largely eliminated by the HFD, suggesting that the lesser triglyceride deposition in the Imp2 /  liver is not attributable to an altered transcriptional response."
   ]
  },
  {
   "cell_type": "code",
   "execution_count": null,
   "metadata": {
    "collapsed": true,
    "latex_figure": {
     "caption": "",
     "label": "fig:fig2",
     "placement": "H",
     "widefigure": false
    }
   },
   "outputs": [],
   "source": [
    "Image(\"fig2.png\",width=1000)"
   ]
  },
  {
   "cell_type": "markdown",
   "metadata": {
    "latex_doc": {
     "caption": "fig:fig2"
    }
   },
   "source": [
    "Figure 2. Histology of Selected Organs, Liver Triglyceride Content, and Gene Expression on NCD and HFD (A) Representative images of pancreatic islets from 19-week-old male mice maintained on HFD from weaning, stained for insulin (upper; scale bar, 250 mm) and glucagon (lower; scale bar, 50 mm). (B) Gonadal adipose tissue of 12-week-old male wild-type and Imp2 /  mice maintained on normal chow (upper) and HFD from weaning (lower); scale bar, 50 mM. See Figure S2. (C) Interscapular brown adipose tissue from 12-week-old male wild-type and Imp2 /  mice maintained on a HFD from weaning. (Upper) Gross appearance of the depot from wild-type (left) and Imp2 /  mice (right). The photomicrographs show H&E stains of tissue sections of BAT; scale bar, 50 mm. (D) Liver fat content on a HFD. (Upper left) Liver from 19-week-old wild-type and Imp2 /  male mice maintained on HFD, stained with H&E (scale bar, 250 mm). (Left lower) Liver from 12-week-old wild-type and Imp2 /  male mice maintained on HFD stained with oil red O (scale bar, 100 mM). (Right) Liver triglyceride content of 16-week-old wild-type (black) and Imp2 /  (white) male mice maintained on NCD (three pairs) or HFD (three pairs) from weaning; p = < 0.01. (E) Relative abundance of liver mRNAs encoding genes relevant to fat metabolism. Imp2+/+ and Imp2 /  mice were weaned onto normal chow or a HFD and sacrificed 1 week later."
   ]
  },
  {
   "cell_type": "markdown",
   "metadata": {},
   "source": [
    "## Imp2 Null Mice Are Hypolipidemic, Glucose Tolerant, and Insulin Sensitive\n",
    "\n",
    "In Imp2 /  mice, serum-free fatty acids (FFAs), triglyceride (TG), and total cholesterol (Table S1) were lower after a 6 hr (FFA/TG) or overnight (cholesterol) fast, on both normal chow or a HFD, and at all ages examined. On normal chow, blood glucose,whether taken at 7 a.m. after feeding or after an overnight fast, was significantly lower in the Imp2 /  after 4 weeks of age (Fig- ure 3A). On a HFD, the Imp2 /  mice exhibited lower values of fasting glucose (Figure 3A; Table S1) accompanied by lower\n",
    "\n",
    "levels of serum insulin (Table S1). Intraperitoneal glucose toler- ance tests were performed on mice $12–14 weeks of age fed a HFD from weaning; Imp2 /  mice exhibited consistently lower values of glucose and insulin (Figure 3B).\n",
    "The presence of greater insulin sensitivity in the Imp2 /  was confirmed by the insulin tolerance test (Figure 3C); at a dose of 0.4 U/kg, the Imp2 /  mice showed a significantly greater decrease in blood glucose. The abundance of the insulin recep- tor b subunit in liver, muscle, and WAT does not differ between wild-type and Imp2 /  mice, whereas a supramaximal dose of insulin (5 U/kg IP) induces greater relative phosphorylation of Akt(S473) and S6K1(T389) in the tissues of the Imp2 /  mice (Figures 3D and 3E), providing further evidence of their greater insulin responsiveness.\n",
    "A variety of other hormonal measurements at different ages on normal chow and on a HFD are shown in Table S2. Importantly, serum IGF1 and IGFBP3 levels, measured at 4 weeks in males (Table S2) and at 7–8 weeks of age in females (data not shown) are not different in wild-type and Imp2 / ."
   ]
  },
  {
   "cell_type": "code",
   "execution_count": null,
   "metadata": {
    "collapsed": true,
    "latex_figure": {
     "caption": "",
     "label": "fig:fig3",
     "placement": "H",
     "widefigure": false
    }
   },
   "outputs": [],
   "source": [
    "Image(\"fig3.png\",width=1000)"
   ]
  },
  {
   "cell_type": "markdown",
   "metadata": {
    "latex_doc": {
     "caption": "fig:fig3"
    }
   },
   "source": [
    "Figure 3. Glucose and Insulin Responses in Wild-Type and Imp2–/– Mice (A) Fasting blood glucose with age. Blood glucose (±1 SD) measured after ON fast in wild-type (filled circles) and Imp2 /  (open circles) mice on NCD (solid line; n = 8 each genotype) and HFD (dashed line; n = 8 each genotype). Values for fasting glucose are significantly different (at least p < 0.05) between wild-type and Imp2 /  at all times after 4 weeks (weaning) on both diets. (B) Glucose tolerance tests. Glucose, 1 g/kg, was administered intraperitoneally after 14 hr fasting, in 12-week-old wild-type (filled circles; n = 8) and Imp2 /  (open circles; n = 8) male mice maintained on HFD. The glucose (±1 SD) and insulin (±1 SEM) values are significantly different (respectively, p < 0.05 or less and p < 0.01) at all times. (C) Insulin tolerance tests. Insulin, 0.4 U/kg, was administered i.p. after a 5 hr fast to 14-week-old wild-type (filled circles; n = 8) and Imp2 /  (open circles; n = 8) mice maintained on HFD. The preinjection glucose values were slightly lower in the Imp2 /  (p = 0.08), whereas values after insulin injection were all significantly lower (p < 0.02 or lower). (D) Immunoblots of insulin receptor b subunit, Akt, Akt(Ser473-P) in liver and skeletal muscle, and WAT and S6K and S6K(389-P) in skeletal muscle and liver. Three pairs of wild-type and Imp2 /  female mice 30 weeks of age on a HFD were sacrificed 7 min after i.p. injection of insulin (5 U/kg), and extracts were subjected to immunoblot as indicated. The bar graphs show the ratio of insulin receptor b subunit, Akt, Akt(Ser473-P), S6K, and S6K(389-P) in tissues of Imp2 /  mice relative to wild-type mice. The polypeptide immunoblots were quantified; the Akt-and S6K-phosphopeptide immunoblots were normalized for respective polypeptide content. The value for each in the Imp2 /  was divided by the corresponding value in the wild-type mice, and the ratio is shown. *p < 0.05, *p < 0.01 different from a ratio of 1."
   ]
  },
  {
   "cell_type": "markdown",
   "metadata": {},
   "source": [
    "## Imp2–/– Mice Have Increased Energy Expenditure but Normal Food Intake, Fat Absorption, and Physical Activity\n",
    "\n",
    "We next sought to define the basis for the greatly diminished fat deposition in the Imp2 /  mice, especially when maintained on the HFD. Food intake was measured on NCD and HFD, at several ages between 6 and 20 weeks, and over intervals lasting 2–3 days up to 4 weeks (Figures 4A, 4B, and S3A). No differences were observed in the food intake of the wild-type and Imp2 /  littermates. The percent of fecal weight as fat was determined on both diets in mice 17–20 weeks of age (Figure 4C), and was no different in the wild-type and Imp2 /  mice (Figure 4C). Thus the differential accumulation of fat mass in wild-type and Imp2 /  mice on a HFD occurs in the absence of measureable differences in food intake per mouse (on either diet), and in the absence of fat malabsorption.\n",
    "EE was estimated at several ages using indirect calorimetry. Cohorts of males taken immediately after weaning (4 weeks) were placed on a HFD, acclimatized to the metabolic cages, and examined after $4 days on the HFD (Figure 4D): at this time the Imp2 /  males weigh slightly but significantly less than wild-type (15 g versus 14 g, p = 0.046; Figure 4D, upper left), a difference due entirely to a smaller lean mass (Figure 4D, left, second from top). The RER (Figure 4D, bottom left) and absolute EEs per animal (Figure 4D, top right) were not different in Imp2 /  as compared to wild-type. However, EE cor- rected for TBW (Figure 4D, middle right) or lean mass (Figure 4D, lower right) was 10\\% higher in the Imp2 /  (p = 0.01 and 0.002, respectively). Five-week-old female wild-type and Imp2 /  mice placed on the HFD for 4 days were also examined by indirect calorimetry (Figure S3B) with similar findings. Given the rapid divergence in body size and composition after weaning (Fig- ure 1E), the increased EE seen in the 5-week-old Imp2 /  male mice, measured at a time when their size and body composition most closely resemble those of wild-type, provides the most reli- able estimate of relative EE \\cite{cannon_nonshivering_2011,cannon_brown_2004}, as compared with later ages (e.g., 16 weeks of age; Figure S3C) when body weight and composition have diverged further. Finally, measurements of physical activity taken during the calorimetry studies reveal no differences between Imp2 /  and wild-type mice (Figure 4E). Thus, the substantially reduced deposition of fat in Imp2 /  mice is attributable primarily to a modest increase in EE."
   ]
  },
  {
   "cell_type": "code",
   "execution_count": null,
   "metadata": {
    "collapsed": true,
    "latex_figure": {
     "caption": "",
     "label": "fig:fig4",
     "placement": "H",
     "widefigure": false
    }
   },
   "outputs": [],
   "source": [
    "Image(\"fig4.png\",width=1000)"
   ]
  },
  {
   "cell_type": "markdown",
   "metadata": {
    "latex_doc": {
     "caption": "fig:fig4"
    }
   },
   "source": [
    "Figure4. FoodIntake,FecalFat,andEnergy Expenditure in Wild-Type and Imp2–/– Mice (A) Food intake over 24 hr at two ages. (Upper) Food intake of male wild-type (average weight, 19.1 g) and Imp2 /  (average weight, 15.3 g) mice at 4 weeks of age. (Middle) Food intake of male wild-type and Imp2 /  mice at 16 weeks of age on NCD (left; average weight, wild-type = 29.1 g; Imp2 /  = 27 g); (lower) 16-week-old male mice on HFD (right; average weight, wild-type = 37 g; Imp2 /  = 30.9g). See also Figure S3A. (B) Cumulative food intake of wild-type (filled circles) and Imp2 /  (open circles) male mice measured weekly from 17 to 20 weeks of age on NCD and HFD. Wild-type, n = 9; Imp2 / , n = 7 for both diets. (C) Food intake, fecal weight, and percent fecal weight as TG on a NCD (left) and HFD (right); complete collection of feces on HFD not obtained. Three cages each containing three wild-type or Imp2 /  male mice, 18–19 weeks of age, were used for each diet. (D) Body weight, composition, respiratory quo- tient, and energy expenditure of wild-type and Imp2 /  male mice at 4 weeks of age after 4 days on a HFD. Fourteen wild-type and 13 Imp2 /  male mice were placed in acclimatization cages for 3 days before initiating 3 days’ measurements of oxygen and carbon dioxide exchange. A HFD was started 1 day before calorimetry and continued; the data shown are from the last 2 days of calorimetry. Body weight and composition were measured at the finish of the calorimetry. Food intake is shown in (A), upper. See also Figure S3B. (E) Physical activity per 24 hr in X-Y direction. (Left) Fourteen pairs of 6-week-old wild-type (average weight = 19.1 g) and Imp2 /  (average weight = 15.3 g) male mice on normal chow. (Right) Twelve pairs of wild-type (average weight = 29.1g) and Imp2 /   /  ( average weight = 27 g) mice at 16 weeks on NCD."
   ]
  },
  {
   "cell_type": "markdown",
   "metadata": {},
   "source": [
    "## Imp2–/– Mice Exhibit Superior Defense of Core Temperature\n",
    "\n",
    "Given the evidence for increased EE, we examined thermogen- esis. When maintained at room temperature (23 C), the core body temperature of wild-type and Imp2 /  mice at 4, 7, and 20 weeks of age is not different, whether on normal chow or on a HFD (Figures 5A and 5B). To parallel the calorimetry studies, cohorts of 4-week-old male wild-type and Imp2 /  mice were placed at 4 C; body temperature falls progressively in both wild-type and Imp2 / , but to a significantly greater extent in wild-type (Figure 5B, upper). By 7 weeks of age, the ability of Imp2 /  mice fed normal chow to better defend their core temperature is more pronounced (Figure 5B, lower); core body temperature of Imp2 /  mice remains significantly higher than wild-type for the first 24 hr at 4 C. By 48 hr, however, the body temperatures of knockout and wild-type mice have converged (Figure 5C).\n",
    "The superior defense of core temperature in the cold-exposed Imp2 /  mice suggests a greater thermogenic response, espe- cially in view of their smaller size/lean mass and lesser adiposity. Thermogenesis in this circumstance is due to shivering \\cite{block_thermogenesis_1994}, which is evident in both cohorts and generates heat though contractile activity (friction), and to catecholamine- induced activation of thermogenesis in brown fat (Cannon and Nedergaard, 2004). The latter reflects catecholamine-stimulated mitochondrial metabolism and electron transport accompanied by fatty acid activation of UCP1 \\cite{fedorenko_mechanism_2012}, which dissipates the proton gradient as heat \\cite{brandes_maximizing_2006,divakaruni_regulation_2011}."
   ]
  },
  {
   "cell_type": "markdown",
   "metadata": {},
   "source": [
    "## Imp2–/– Brown Adipocytes Have More UCP1 Polypeptide and Higher Uncoupled Oxygen Consumption\n",
    "\n",
    "To estimate of the relative abundance of mitochondria in brown fat and other tissues, we measured the activity of citrate syn- thase (CS) and the electron transport complexes I–IV (Frazier and Thorburn, 2012) as well as the ratio of mitochondrial DNA to nuclear DNA. Whereas the ratio of mitochondrial DNA to nuclear DNA is higher in most tissues of Imp2-/- mice than in wild-type mice (Figure 5D, left), no significant differences in the activity of CS (Figure 5D, right) or of the electron transport com- plexes (Figure S4) were detected; in addition, the level of acety- lated PGC1a in brown fat does not differ between Imp2-/- and wild-type mice (Figure S5A). Inasmuch as CS correlates much more closely with mitochondrial fractional area determined by electron microscopy than does mitochondrial DNA , these data indicate that mitochondrial oxidative ca- pacity is not different in the Imp2-/-\\cite{larsen_biomarkers_2012}. Nevertheless, the presence of UCP1 in BAT mitochondria directs its oxidative metabolism almost entirely to thermogenesis; we therefore examined the abundance of the UCP1 polypeptide in brown adipose tissue from wild-type and Imp2-/- mice. In 5-week-old male wild- type and Imp2-/- mice maintained at room temperature and fed a HFD from weaning (to parallel the conditions used for calo- rimetry), the UCP1 polypeptide content of the Imp2-/- BAT is modestly but significantly greater than wild-type (Figure 5E), whereas the abundance of Ucp1 mRNA does not differ (Fig- ure S5B). In 16-week-old mice maintained at room temperature on NCD, the UCP1 polypeptide in brown fat was also $2-fold more abundant in the Imp2-/- mice than in wild-type. Moreover, the increase in UCP1 protein abundance upon residence at 4 C for 72 hr is much more pronounced in the Imp2-/- mice than in wild-type (Figure 5F). In contrast to the differences in UCP1 poly- peptide abundance in wild-type and Imp2-/- brown fat, the level of Ucp1 mRNA in brown fat, whether measured by QPCR (Fig- ure S5C; Table S3) or by deep sequencing (Table S4), although increased markedly in both genotypes by cold exposure, is not different in the wild-type as compared with Imp2-/- mice. Notably, cold exposure reduces the abundance of IMP2 in the brown fat of wild-type mice by nearly 70\\% (Figure 5G).\n",
    "\n",
    "We sought to determine whether the metabolic activity of brown fat was increased in the Imp2-/-. Measurements of 18F-FDG uptake in vivo into the interscapular brown fat of cold-exposed mice (Figure S6A) and of norepinephrine-stimu- lated oxygen consumption in vitro by primary brown adipocytes isolated from interscapular BAT (Figure S6B) each gave highly variable results that did not reveal significantly different re- sponses between wild-type and Imp2-/-. We next examined oxygen consumption by stromal vascular cells isolated from in- terscapular brown fat pads and differentiated into brown adipo- cytes in vitro \\cite{kajimura_initiation_2009} (Figures 5H–5J). The extent of differentiation was comparable for SVCs isolated from the BAT of Imp2+/+ and Imp2-/- mice, as judged by staining with oil red O and by the abundance of a cohort of differentiation-dependent mRNAs (Figure 5H). Despite the similar Ucp1 mRNA levels, the abundance of the UCP1 polypeptide in the Imp2-/- brown adipocytes obtained by differentiation in vitro was $2-fold higher than wild-type (Figure 5I), as had been observed in inter- scapular BAT (Figure 5E). Overall oxygen consumption by the Imp2-/- brown adipocytes differentiated in vitro (Figure 5J) was significantly greater than that of Imp2+/+ brown adipocytes; pretreatment of the cells with isoproterenol increased the oxygen consumption of all cells but enlarged the difference between Imp2-/- and Imp2+/+ adipocytes. In the presence of oligomycin, the rate of uncoupled oxygen consumption was 2-fold greater in the Imp2-/- adipocytes than in Imp2+/+ cells. These results support the conclusion that the increased abun- dance of UCP1 polypeptide in Imp2-/- BAT is an integral feature of brown fat differentiation in the absence of Imp2-/-.Moreover, they demonstrate that the increased abundance of UCP1 poly- peptide is accompanied by an increase in uncoupled oxygen consumption."
   ]
  },
  {
   "cell_type": "code",
   "execution_count": null,
   "metadata": {
    "collapsed": true,
    "latex_figure": {
     "caption": "",
     "label": "fig:fig5",
     "placement": "H",
     "widefigure": false
    }
   },
   "outputs": [],
   "source": [
    "Image(\"fig5.png\",width=1000)"
   ]
  },
  {
   "cell_type": "markdown",
   "metadata": {
    "latex_doc": {
     "caption": "fig:fig5"
    }
   },
   "source": [
    "Figure 5. BodyTemperatureRegulationand Mitochondrial Abundance in Wild-Type and Imp2–/– Mice and Brown Adipocyte UCP1 Expression and Oxygen Consumption (A) Rectal body temperature measured for 4 consecutive days in 20-week-old male mice maintained on NCD (upper, WT n = 11; average weight = 34.7 g; Imp2 /  n = 9, average weight = 27.5 g) or on a HFD (lower, WT n = 9; average weight = 48.1 g; Imp2 /  n = 7, average weight = 34.9 g). (B) Body temperature in the first hours after exposure to 4  C. Rectal temperature was measured in five pairs of 28-day-old wild-type (average 14.7 g) and Imp2 /  (average 13.1 g) male mice directly after weaning (upper) and in 12 pairs of 7-week-old wild-type (average 20.7 g) and Imp2 /  (average 17. 6g) male mice main- tained on NCD, followed by their transfer from room temperature to 4 C in individual precooled cages; rectal temperature was measured at 60 min (upper) or 30 min (lower) intervals. *p < 0.05; *p < 0.01. (C) Body temperature during a 48 hr exposure to 4 C. Rectal temperature was measured in ten pairs of 7-week-old wild-type (average 21.2 g) and Imp2 /  (average 17.8 g) male mice maintained on NCD, followed by their transfer from room tem- perature to 4 C as in (B), and rectal temperature was measured at the intervals shown. *p < 0.05; *p < 0.01. (D) Mitochondrial DNA and citrate synthase activ- ities in selected tissues of wild-type and Imp2 /  mice. For measurement of citrate synthase (right), five pairs of 36-day-old wild-type and Imp2 /  female mice maintained on NCD were sacrificed, and the tissues indicated were rapidly frozen; activities were determined spectrophotometrically (Frazier and Thorburn, 2012). Values for the res- piratory chain enzyme activities complexes I–IV in these same tissues are found in Figure S4. The ratio of mitochondrial DNA to nuclear DNA (left) was determined in three independent experi- ments; DNA was extracted by phenol-chloroform from littermate pairs of wild-type and Imp2 /  mice placed on a HFD after weaning and sacrificed 3 days thereafter. The abundance of mitochondrial DNA and nuclear DNA was deter- mined through QPCR for DNA encoding ND1 and Pecam1, respectively. The ratio of Ct values from three independent experiments, representing ten pairs of wild-type and Imp2 /  mice, is shown. *p < 0.05, **p < 0.01."
   ]
  },
  {
   "cell_type": "markdown",
   "metadata": {},
   "source": [
    "## IMP2 Binds Ucp1 mRNA and Suppresses Its Translation \n",
    "\n",
    "Given the higher UCP1 polypeptide abundance in Imp2 /\n",
    "versus wild-type brown fat without differences in Ucp1 mRNA abundance, we hypothesized that IMP2, a known translational regulator, might regulate translation of Ucp1 mRNA. Anti-IMP2 immunoprecipitates were prepared from wild-type and Imp2 /  brown fat, as well from wild-type brown fat using anti-IMP2 and nonimmune IgG (Figure 6A). The Ucp1 mRNA was specifically associated with IMP2 using qPCR (Table S3) as well as RNA sequencing. In RNA sequencing data we identified 83 RNAs that exhibit greater than 1.5-fold enrichment in IMP2 immuno- precipitates (Figure 6A; Table S4); over 40% of these candidate IMP2 clients encode mitochondrial components, including Ucp1 (Figure 6B; Table S5).\n",
    "\n",
    "Seeking independent confirmation, we used QPCR to esti- mate the abundance of the top 21 of these 83 candidate IMP2 partner mRNAs, using as input total and anti-IMP2-bound RNAs from wild-type and Imp2 /  brown fat. Of the 21, 15 (71%) were confirmed to be enriched in the IMP2 IP from wild-type BAT (Figure 6C, upper). Note that the total mRNA abundance for 14 of these 15 candidates, including Ucp1, is unaltered by elimination of IMP2 (Figure 6C, lower).\n",
    "To evaluate whether the absence of IMP2 altered the translation of the candidate IMP2 client mRNAs, we prepared postnuclear extracts of wild-type and Imp2 /  brown fat. These extracts were separated by sucrose density gradient centrifuga- tion and the fraction of mRNAs comigrating with polysomes measured by QPCR both for Gapdh (as a control) and of each of the 21 candidate IMP2 clients (Figure 6D). Among the 15 QPCR-confirmed IMP2 client mRNAs, 13—including Ucp1— show a significantly higher fractional polysomal abundance in the Imp2 /  extracts (Figure 6D). All 13 encode mitochondrial components.\n",
    "\n",
    "To directly test the effect of IMP2 on the translation of Ucp1 mRNA, we flanked the coding sequences of firefly luciferase with the 50 and 30 UTR of murine Ucp1 mRNA, as well as with several control UTRs. These controls included the 50 UTRs of human b-globin and the human IGF2 leader 3 (L3) and leader 4 (L4). It has previously been shown that IMP2 does not bind to the beta globin or IGF2L4 50 UTRs, but binds to the IGF2L3 50 UTR and enables translation of this mRNA by internal ribosomal entry. The in vitro-transcribed RNAs were used to program reticulocyte lysates, and their translation was moni- tored by the level of luciferase enzyme activity in the relation to increasing amounts of recombinant Flag-IMP2.\n",
    "\n",
    "As expected, IMP2 does not alter the translation of luciferase mRNAs bearing generic UTRs or the b-globin or IGF2L4 50 UTRs. As before, IMP2 causes a dose-dependent stimulation of IGF2L3-luciferase mRNA. In contrast, addition of IMP2 causes a progressive inhibition of Ucp1-luciferase mRNA translation (Figure 6E).\n",
    "In summary, IMP2 binds many mRNAs encoding mitochon- drial components both in vivo and in vitro, and restrains their steady-state rate of translation. These data support the hypoth- esis that in the absence of IMP2, loss of translational inhibition leads to a higher steady-state level of UCP1 polypeptide in the brown fat, and this modest but sustained increase in UCP1 abundance contributes to the higher EE and resistance to diet-induced obesity."
   ]
  },
  {
   "cell_type": "code",
   "execution_count": null,
   "metadata": {
    "collapsed": true,
    "latex_figure": {
     "caption": "",
     "label": "fig:fig6",
     "placement": "H",
     "widefigure": false
    }
   },
   "outputs": [],
   "source": [
    "Image(\"fig6.png\",width=1000)"
   ]
  },
  {
   "cell_type": "markdown",
   "metadata": {
    "latex_doc": {
     "caption": "fig:fig6"
    }
   },
   "source": [
    "Figure 6. Body Temperature Regulation and Mitochondrial Abundance in Wild-Type and Imp2–/– Mice and Brown Adipocyte UCP1 Expression and Oxygen Consumption (A) Rectal body temperature measured for 4 consecutive days in 20-week-old male mice maintained on NCD (upper, WT n = 11; average weight = 34.7 g; Imp2 /  n = 9, average weight = 27.5 g) or on a HFD (lower, WT n = 9; average weight = 48.1 g; Imp2 /  n = 7, average weight = 34.9 g). (B) Body temperature in the first hours after exposure to 4  C. Rectal temperature was measured in five pairs of 28-day-old wild-type (average 14.7 g) and Imp2 /  (average 13.1 g) male mice directly after weaning (upper) and in 12 pairs of 7-week-old wild-type (average 20.7 g) and Imp2 /  (average 17. 6g) male mice main- tained on NCD, followed by their transfer from room temperature to 4 C in individual precooled cages; rectal temperature was measured at 60 min (upper) or 30 min (lower) intervals. *p < 0.05; *p < 0.01. (C) Body temperature during a 48 hr exposure to 4 C. Rectal temperature was measured in ten pairs of 7-week-old wild-type (average 21.2 g) and Imp2 /  (average 17.8 g) male mice maintained on NCD, followed by their transfer from room tem- perature to 4 C as in (B), and rectal temperature was measured at the intervals shown. *p < 0.05; *p < 0.01. (D) Mitochondrial DNA and citrate synthase activ- ities in selected tissues of wild-type and Imp2 /  mice. For measurement of citrate synthase (right), five pairs of 36-day-old wild-type and Imp2 /  female mice maintained on NCD were sacrificed, and the tissues indicated were rapidly frozen; activities were determined spectrophotometrically (Frazier and Thorburn, 2012). Values for the res- piratory chain enzyme activities complexes I–IV in these same tissues are found in Figure S4. The ratio of mitochondrial DNA to nuclear DNA (left) was determined in three independent experi- ments; DNA was extracted by phenol-chloroform from littermate pairs of wild-type and Imp2 /  mice placed on a HFD after weaning and sacrificed 3 days thereafter. The abundance of mitochondrial DNA and nuclear DNA was deter- mined through QPCR for DNA encoding ND1 and Pecam1, respectively. The ratio of Ct values from three independent experiments, representing ten pairs of wild-type and Imp2 /  mice, is shown. *p < 0.05, *p < 0.01. lysate. Extracts of 293 cells transfected with either an empty flag vector (mock, dashed) or the same vector encoding flag-IMP2 (solid) were adsorbed to immobilized anti-flag MC antibody, and eluted with flag peptide. The content of flag-IMP2 was estimated by C.B. stain, and aliquots of the flag-IMP2 (solid) and corresponding amounts of the mock flag eluate (dashed) were added to the lysates. Translation was estimated by the gain in luciferase activity after incubation for 30 min at 30 C."
   ]
  },
  {
   "cell_type": "markdown",
   "metadata": {},
   "source": [
    "# Discussion\n",
    "\n",
    "The phenotype of the Imp2 /  mice includes the following: (1) modestly smaller size, with slightly diminished linear growth and less accrual of lean mass after weaning; (2) when fed a HFD, there is much less fat in white adipose depots despite similar food intake, fat absorption, and physical activity; (3) smaller white adipose depots containing fewer adipocyte pre- cursors and fewer mature fat cells of equal size to those in obese wild-type littermate; (4) modestly increased EE; (5) improved glucose tolerance, insulin sensitivity, and resistance to the development of fatty liver; and (6) substantially longer lifespan.\n",
    "\n",
    "Imp2+/  mice did not exhibit smaller size or resistance to diet- induced obesity, and the median survival of small cohort (ten males + ten females) did not differ from that of the wild-type mice in Figure 1G. The best explanation we could identify for the differential gain of the Imp2 /  mice in fat mass, both on normal chow and the HFD, is increased EE as measured by indirect calorimetry. As re- gards the source of increased EE in the Imp2 /  mice, the lesser initial fall in their core temperature consistently observed when exposed to 4 C provides an important clue. Mice maintained at 22  C–23  C, far from their thermoneutral temperature (28  C–30  C), are partially cold adapted, a response that involves increased mitochondrial biogenesis and UCP1 expression in brown fat \\cite{cannon_nonshivering_2011,cannon_brown_2004}. Imp2 /  mice maintained at 23  C exhibit a modestly increased mitochon- drial DNA content in most major tissues; however, the activities of CS and electron transport complexes I–IV do not differ, indi- cating that maximal oxidative capacity is unaltered. Neverthe- less, the BAT of Imp2 /  mice contains $2-fold higher content of UCP1 polypeptide than the wild-type; thus, despite the unal- tered electron transport capacity, the greater abundance of UCP1 enables a greater proton leak at any level of electron trans- port and is likely to account for the greater ability of the Imp2 /  mice to defend their core temperature in response to the cate- cholamine surge engendered by cold exposure. Interestingly, UCP1 levels in in Imp2 /  subcutaneous white fat appear dimin- ished; this eliminates ‘‘browning’’ of white fat as the source of the increased EE.\n",
    "\n",
    "The mechanism underlying the increased abundance of UCP1 in Imp2 /  brown fat is posttranscriptional, inasmuch as IMP2 deficiency does not alter Ucp1 mRNA abundance. Rather, IMP2 binds Ucp1 mRNA specifically in brown fat and, as re- flected by fractional polysomal abundance, elimination of IMP2 enhances the translational efficiency of Ucp1 mRNA. IMP2 spe- cifically inhibits Ucp1 mRNA translation in vitro, by binding to un- translated segments; thus, the improved translational efficiency of Ucp1 mRNA in IMP2-deficient brown fat is, at least in part, directly attributable to the elimination of IMP2. This increase in translational efficiency is also likely to account for why, when mice are exposed to 4 C, the abundance of UCP1 polypeptide increases more rapidly in Imp2 /  brown fat, despite compara- ble levels of Ucp1 mRNA.\n",
    "\n",
    "Several features point to a more complex role for IMP2 in mito- chondrial biogenesis and function beyond the control of Ucp1 mRNA translation. These include the widespread increase in mitochondrial DNA and the enhanced translational efficiency of many BAT mRNAs encoding mitochondrial electron transport components in Imp2 /  BAT, occurring without alteration in the enzymatic activity of the BAT electron transport complexes. In preliminary studies, we have observed that mitochondrial DNA is also increased in Imp2 /  (but not Imp1 / ) MEFs, whereas maximal oxygen consumption is actually reduced by 50\\&,suggesting that the increased mitochondrial DNA may be a compensatory response. These findings are consistent with the report of \\cite{janiszewska_imp2_2012}, who also observed that IMP2 binds mRNAs encoding electron transport components and that shRNAs directed at Imp2 resulted in a decrease in the activity of complexes I and IV. Thus we speculate that IMP2, in addition to controlling the translation of some mitochondrial mRNAs, may also be required for the transport of these mRNAs to the vicinity of mitochondria, where their localized translation could facilitate cotranslational mitochondrial uptake, as occurs in yeast . Such a function would be analogous to IMP1, which in addition to its stimulatory role in IGF2 transla- tion (Dai et al., 2013) also binds b actin mRNA, silencing its trans- lation and mediating its transport to the cell periphery, where it is released consequent to IMP1 phosphorylation by cSrc\\cite{_reduction_2002,_reduction_2002-2}.\n",
    "\n",
    "As to the basis for the prolonged lifespan of the Imp2 /  mice, we speculate that increased EE is a likely contributor: several other mouse models with sustained increases in EE also exhibit a lean, obesity-resistant phenotype and prolonged lifespan (e.g., inactivation of Rps6kb1 \\cite{selman_mammalian_2011}, transgenic expres- sion of UCP1 in skeletal muscle \\cite{gates_respiratory_2007}, and low- dose treatment with 2,4 dinitrophenol ). In addition, the presence of malignancies in 4/6 healthy but aged wild-type mice, together with the lack of detectable malignancy in six Imp2 /  littermates, raises the possibility that the lack of the oncofetal protein and cancer biomarker IMP2 \\cite{kessler_igf2_2013} is protective against carcinogenesis. Among the diverse array of genetic alterations known to extend lifespan in mice ; Selman and Withers, 2011) are several loss-of-function mutations in the growth hormone and IGF1 axis; although the Imp2 /  mice show diminished growth especially postweaning \\cite{chen_longevity_2010}, serum levels of IGF1 during and after maximal growth and levels of IGFBPs 1 and 3 are not different from wild-type.\n",
    "\n",
    "We also note that IMP2 is a rapamycin-sensitive substrate for mTORC1  and is also phosphorylated by mTORC2. Rapamycin treatment \\cite{gates_respiratory_2007} and hypomorphic mutation of the mTOR gene in mice each \\cite{wu_increased_2013} prolong lifespan. Whether this occurs by delay of senescent phenotypes or by reduced carcinogenesis (or both) is uncertain \\cite{wilkinson_rapamycin_2012}. It will thus be of interest to test whether IMP2 is contributory to the extension of lifespan engendered by inhibition or deficiency of mTOR complex 1, and whether mTOR phosphorylation of IMP2 is important to its lifespan-related actions.\n",
    "A strong impetus to the investigation of the physiologic roles of IMP2 is the presence in the human IMP2 gene of SNPs in intron 2 that confer increased risk for type 2 diabetes and alterations in insulin secretion \\cite{groenewoud_variants_2008}, the b cell \\cite{marselli_gene_2010}, and insulin resistance. These SNPs are noncoding and insufficient to prove that IMP2 is the causal gene in the linked region. Our finding of substantial meta- bolic and glycemic phenotypes in the Imp2 /  mice supports the case for IMP2 as the causal gene. The demonstration that IMP2 controls the translation of mitochondrial mRNAs and possibly mitochondrial biogenesis focuses further efforts to understand the role of IMP2 to a domain of energy metabolism known to be important to both insulin secretion and insulin action in the periphery and to be altered in human type 2 diabetes."
   ]
  },
  {
   "cell_type": "markdown",
   "metadata": {},
   "source": [
    "# Experimental Procedures\n",
    "\n",
    "## Generation of the Imp2 Targeting Construct\n",
    "The construct was generated by using a genomic fragment of 12 kb containing Imp2 exons 1 and 2 as well as flanking intron sequences of the murine gene extracted from the RP23-163F16 BAC clone. The replacement-type targeting construct consisted of 9.4 kb of Imp2 genomic sequences (4.4 kb in the left homology arm [50] and 5.4 kb in the right homology arm [30]) (Figure S1).\n",
    "\n",
    "## Whole-Animal Studies\n",
    "Animals used for experiments are bred by Imp2+/  ;Imp2+/  mating. Imp2 /  mice and wild-type littermates were maintained on C57Bl/6J background in a specific pathogen-free facility with 12:12 light:dark cycle and fed irradiated chow (Prolab 5P75 Isopro 3000; 5\\& crude fat; PMI nutrition international) or a HFD (D12492i; 60 kca\\&l fat; Research Diets Inc.). Body composition was evaluated in live, conscious animals in triplicate by quantitative nuclear mag- netic resonance spectroscopy (EchoMRI Analyzer; Echo Medical Systems, Houston, TX). After mice had acclimated in individually housed metabolic cages for 3 days, measurements of EE, food intake, and physical activity were performed using an indirect calorimetric system (TSE Labmaster, 17826 Edison Avenue Chesterfield, MO 63005). Glucose tolerance was measured after a 14 hr fast by i.p. injection of glucose (1 g/ kg); insulin toler- ance was estimated after i.p. injection of insulin (0.4 U/kg) after a 5 hr fast. Body temperature was measured a Physitemp BAT-12 rectal probe.\n",
    "\n",
    "## Brown Fat Studies\n",
    "The stromal vascular compartment was isolated from interscapular brown fat, grown to confluence, and differentiated to brown adipocytes according to Kajimura et al. (2009) by incubation with isobuylmethylxanthine (0.5 mM), dexamethasone (1 mM), insulin (17 nM), rosiglitazone (1 mM), and T3 (1 nM). Af- ter 48 hr the medium was changed to contain insulin (17 nM) and rosiglitazone (1 mM); 2 days later rosiglitazone was removed, and 2 days thereafter insulin was reduced to 850 nM. Measurements of total respiration by cell suspensions were taken in a Clark electrode (Strahkelvin Instruments) before and after the addition of oligomycin (1 mM), and normalized for protein content. For IMP2 i.p. from BAT, tissue was extracted for 10 min with tissue lyser (QIAGENe) in ice- cold lysis buffer (140 mM KCl, 1.5 mM MgCl2, 20 mM Tris-HCl [pH 7.4], 0.5\\& Nonidet P-40, 0.5 mM dithiothreitol, 1 U/mL RNase inhibitor, one complete EDTA-free protease inhibitor cocktail tablet). The lysate was centrifuged for 10 min at 14,000 rpm; IMP2 i.p. and RNA extraction were performed as in Dai et al. (2011). For analysis of BAT polysomes, the lysis buffer also contained 150 mg/mL cycloheximide, 1,000 U/ml RNase inhibitor (Roche diagnostics), and 40 mM vanadyl-ribonucleoside complex (NEB). Sucrose density gradient separation of polysomes and in vitro translation in the presence of recombi- nant Flag-IMP2 were performed as before (Dai et al., 2013).\n",
    "\n",
    "## RNA Analyses\n",
    "Total RNA was isolated using the Trizol reagent and QIAGENe RNase kit (QIAGEN). RNA samples were examined for the integrity by Agilent bioanalyzer prior to real time PCR (see Table S6 for primers) or short-fragment library con- struction for Illumina sequencing (MGH next generation sequencing core). Raw sequence FASTQ files were aligned to the Mus musculus genome version 10 (mm 10) using Tophat version 2.0.8 (http://tophat.cbcb.umd.edu) calling\n",
    " lysate. Extracts of 293 cells transfected with either an empty flag vector (mock, dashed) or the same vector encoding flag-IMP2 (solid) were adsorbed to immobilized anti-flag MC antibody, and eluted with flag peptide. The content of flag-IMP2 was estimated by C.B. stain, and aliquots of the flag-IMP2 (solid) and corresponding amounts of the mock flag eluate (dashed) were added to the lysates. Translation was estimated by the gain in luciferase activity after incubation for 30 min at 30 C.     \n",
    "Bowtie version 2.1.0 (http://bowtie-bio.sourceforge.net/manual.shtml) and SAMtools version 0.1.18 (http://samtools.sourceforge.net/). Resulting BAM files were quality tested using RNASeQC version 1.1.7 (http://www. broadinstitute.org/cancer/cga/rna-seqc). Transcript assembly, abundance estimation and differential expression were performed using Cufflinks/Cuffdiff version 2.1.1 (http://cufflinks.cbcb.umd.edu/). Cuffdiff output files used for subsequent analyses were pruned to include only genes with status OK and exclude genes with fold change or test statistic approaching infinity. RNA sequence data from liver (Figure 2E), brown fat, and IMP2 i.p.s are accessible at GEO (to be provided).\n",
    "\n",
    "## Enzyme and Other Assays\n",
    "CS was determined as in Frazier and Thorburn (2012). Immunoblots were per- formed as in Dai et al. (2011). The ratio of nuclear and mitochondrial DNA was quantitated by real-time PCR (Table S6).\n",
    "Statistical Analysis\n",
    "Comparisons between the mean ± SEM or SD of two groups were calculated using two-way ANOVA or Student’s unpaired two-tailed t test. p values of 0.05 or less were considered statistically significant.\n",
    "RNA sequence data from liver (Fig.2E), brown fat and IMP2 IPs are accessible at GEO (GSE66440)."
   ]
  },
  {
   "cell_type": "markdown",
   "metadata": {},
   "source": [
    "## Supplemental Information\n",
    "Supplemental Information includes six figures, six tables, and Supplemental Experimental Procedures and can be found with this article at http://dx.doi. org/10.1016/j.cmet.2015.03.006.\n",
    "\n",
    "## Acknowledgements\n",
    "This work was supported by NIH awards R37DK17776 (J.A.) and P30DK057521 (J.A.); the Instituto Carso de la Salud, A.C., via the Slim Initiative in Genomic Medicine for the Americas (D.A.); and institutional funds. D.K. and L.M. thank the EMBL-Monterotondo gene expression and transgenic services for the production of the Imp2 /  line. L.M. was supported in part by the Lund- beck foundation (grant 177/05). D.K. was supported by an EMBL-postdoctoral fellowship and D.R.T. by an NHMRC Principal Research Fellowship. We thank Evan Rosen, Paul Cohen, Bruce Spiegelman, Youn-Kyoung Lee, Chad Cowan, Gerald I. Shulman, Alex Soukas, and Finn C. Nielsen for discussions; Paul Co- hen and Youn-Kyoung for preliminary experiments; O. Peroni for adipocyte size determination; and A. Laskowski and T. Stait for technical assistance."
   ]
  }
 ],
 "metadata": {
  "anaconda-cloud": {},
  "celltoolbar": "Edit Metadata",
  "hide_input": false,
  "kernelspec": {
   "display_name": "Python [conda root]",
   "language": "python",
   "name": "conda-root-py"
  },
  "language_info": {
   "codemirror_mode": {
    "name": "ipython",
    "version": 2
   },
   "file_extension": ".py",
   "mimetype": "text/x-python",
   "name": "python",
   "nbconvert_exporter": "python",
   "pygments_lexer": "ipython2",
   "version": "2.7.13"
  },
  "latex_envs": {
   "LaTeX_envs_menu_present": true,
   "autocomplete": true,
   "bibliofile": "masters_refs.bib",
   "cite_by": "apalike",
   "current_citInitial": 1,
   "eqLabelWithNumbers": true,
   "eqNumInitial": 1,
   "hotkeys": {
    "equation": "Ctrl-E",
    "itemize": "Ctrl-I"
   },
   "labels_anchors": false,
   "latex_user_defs": false,
   "report_style_numbering": false,
   "user_envs_cfg": false
  },
  "latex_metadata": {
   "author": "Ning Dai, Liping Zhao, Diedra Wrighting, Dana Krämer, Amit Majithia, Yanqun Wang, Valentin Cracan, Diego Borges-Rivera, Vamsi K. Mootha, Matthias Nahrendorf, David R. Thorburn, Liliana Minichiello, David Altshuler and Joseph Avruch1",
   "email": "dborgesr@mit.edu",
   "logo": "mit-university-logo",
   "publisher": [
    "Science"
   ],
   "title": "IGF2BP2/IMP2-Deficient Mice Resist Obesity through Enhanced Translation of Ucp1 mRNA and Other mRNAs Encoding Mitochondrial Proteins"
  }
 },
 "nbformat": 4,
 "nbformat_minor": 2
}
