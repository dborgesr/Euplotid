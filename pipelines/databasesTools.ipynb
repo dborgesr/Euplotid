{
 "cells": [
  {
   "cell_type": "markdown",
   "metadata": {
    "collapsed": true,
    "nbpresent": {
     "id": "409fdb4c-9237-46f6-848f-00d10b37ed7e"
    }
   },
   "source": [
    "## Publicly available databases are <br>expanding and improving at incredible rate\n",
    "* Many publicly available databases exist, many more being added\n",
    "* Aid in asking questions for many things from expression of RNA and/or protein to identification of relevant literature\n",
    "* Can range from easy to use to requiring a strong programming background\n",
    "* Lets see what questions and how these databases can help you with\n"
   ]
  },
  {
   "cell_type": "markdown",
   "metadata": {
    "nbpresent": {
     "id": "326ece8f-dfce-497f-8420-9d26b2cc314a"
    }
   },
   "source": [
    "## What can they can do for you?\n",
    "* <b>Why</b> What kind of questions can this resource help you answer?\n",
    "* <b>What</b>: What is the resource made up of, what data does it contain and expose to you in a digested way?\n",
    "* <b>Where</b>: Where to access the resource\n",
    "* <b>How</b>: How to use the resource, I’ll go through a couple of example play questions which can be answered in each resource"
   ]
  },
  {
   "cell_type": "markdown",
   "metadata": {
    "nbpresent": {
     "id": "74462551-e747-469a-8589-0773dcac6fd8"
    }
   },
   "source": [
    "## Genotype-Tissue Expression (GTEx)\n",
    "* <b>Why</b>:  \n",
    "    * Get estimate of RNA expression of gene/isoform in a tissue of interest\n",
    "    * See if any non-coding mutations associate with change in expression\n",
    "* <b>What</b>:\n",
    "    * Expression across ~53 tissues and 544 Donors\n",
    "    * Latest eQTL analysis for all tissues\n",
    "    * Intuitive and reactive browser for eQTLs in genome and gene, isoform, and exon level expression\n",
    "* <b>Where</b>: \n",
    "    * <a href=\"http://www.gtexportal.org/\">http://www.gtexportal.org/</a>\n",
    "* <b>How</b>: \n",
    "    * <a href=\"https://www.gtexportal.org/home/documentationPage\">https://www.gtexportal.org/home/documentationPage</a>"
   ]
  },
  {
   "cell_type": "markdown",
   "metadata": {
    "collapsed": true,
    "nbpresent": {
     "id": "e0dfe87c-3c2e-4aea-8f46-ddad103ebcb4"
    }
   },
   "source": [
    "## Nextprot\n",
    "* <b>Why</b>:  \n",
    "    * Need to get a better understanding of a protein\n",
    "    * What and where is it expressed?\n",
    "    * What does it look like?\n",
    "    * What might it be doing?\n",
    "* <b>What</b>:\n",
    "    * Amalgamation of many data dumps, such as Human Proteome\n",
    "    * Interface can be taxing on computer and may slow/crash\n",
    "    * Very good way to get an overview of what’s known about a protein’s function\n",
    "* <b>Where</b>: \n",
    "    * <a href=\"http://www.nextprot.org/\">http://www.nextprot.org/</a>\n",
    "* <b>How</b>: \n",
    "    * <a href=\"https://www.nextprot.org/help/simple-search\">https://www.nextprot.org/help/simple-search</a>"
   ]
  },
  {
   "cell_type": "markdown",
   "metadata": {
    "nbpresent": {
     "id": "b1c5e8a3-6481-4607-972e-71b0caa841cc"
    }
   },
   "source": [
    "## Uniprot\n",
    "* <b>Why</b>:  \n",
    "    * Need to fetch protein sequences\n",
    "    * What’s its general structure characteristics?\n",
    "    * Want to find homologous proteins\n",
    "    * What does the protein's 3D structure look like?\n",
    "    * What Post translational modifications does it undergo?\n",
    "* <b>What</b>:\n",
    "    * Lots of mass spec data, phylogenetic relationships, isoform and gene level data\n",
    "    * Many phylogenetic databases, i've had good luck with [InParanoid](http://inparanoid.sbc.su.se/) and [EggNog](http://eggnogdb.embl.de)\n",
    "* <b>Where</b>: \n",
    "    * <a href=\"http://www.uniprot.org/\">http://www.uniprot.org/</a>\n",
    "* <b>How</b>: \n",
    "    * Just search for your protein and scroll down!"
   ]
  },
  {
   "cell_type": "markdown",
   "metadata": {
    "nbpresent": {
     "id": "99a1d96b-903d-4694-95b7-620705a322a5"
    }
   },
   "source": [
    "## StringDB\n",
    "* <b>Why</b>:  \n",
    "    * What proteins have been shown to associate with my protein?\n",
    "    * What gets pulled down with it?\n",
    "    * Has it been investigated in the context of another protein?\n",
    "* <b>What</b>:\n",
    "    * A curated database of protein to protein interactions\n",
    "    * Includes natural language processing of pubmed to find co-mentioned proteins and/or concepts\n",
    "    * Includes and uses knowledge across species\n",
    "* <b>Where</b>: \n",
    "    * <a href=\"https://string-db.org/\">https://string-db.org/</a>\n",
    "* <b>How</b>: \n",
    "    * <a href=\"https://string-db.org/cgi/help.pl\">https://string-db.org/cgi/help.pl</a>"
   ]
  },
  {
   "cell_type": "markdown",
   "metadata": {
    "nbpresent": {
     "id": "2d322691-92f5-4844-a431-8adec09e6724"
    }
   },
   "source": [
    "## Short Read Archive (SRA)\n",
    "* <b>Why</b>:  \n",
    "    * Need to fetch sequencing data from a paper\n",
    "* <b>What</b>:\n",
    "    * Most papers that generate any sequencing data are required to deposit it here. It is stored as SRA files.\n",
    "    * Petabases of information\n",
    "    <img src=\"https://trace.ncbi.nlm.nih.gov/Traces/sra/i/g.png\" style=\"width: 500px;\">\n",
    "* <b>Where</b>: \n",
    "    * <a href=\"https://trace.ncbi.nlm.nih.gov/Traces/sra/\">https://trace.ncbi.nlm.nih.gov/Traces/sra/</a>\n",
    "* <b>How</b>: \n",
    "    * [this pipeline](getFastqReads.md) shows how to pull and process reads from SRA"
   ]
  },
  {
   "cell_type": "markdown",
   "metadata": {
    "nbpresent": {
     "id": "1292717a-c784-4369-9eaf-f7a8af27eb88"
    }
   },
   "source": [
    "## Genome Expression Omnibus\n",
    "* <b>Why</b>:  \n",
    "    * Need to fetch quantified values such as, Wig, FPKM, BedPeaks...\n",
    "* <b>What</b>:\n",
    "    * Data dump of usually a more quantified version of SRA\n",
    "    * Things such as FPKM, bed peaks\n",
    "    * Also a big repository for microarray data\n",
    "* <b>Where</b>: \n",
    "    * <a href=\"https://www.ncbi.nlm.nih.gov/geo/\">https://www.ncbi.nlm.nih.gov/geo/</a>\n",
    "* <b>How</b>: \n",
    "    * <a href=\"https://www.ncbi.nlm.nih.gov/geo/info/download.html\">https://www.ncbi.nlm.nih.gov/geo/info/download.html</a>"
   ]
  },
  {
   "cell_type": "markdown",
   "metadata": {
    "nbpresent": {
     "id": "df1261f5-fa28-4cad-a481-a585f4ca7fa9"
    }
   },
   "source": [
    "## Meta\n",
    "* <b>Why</b>:  \n",
    "    * Literature search\n",
    "* <b>What</b>:\n",
    "    * AI organized pubmed\n",
    "    * Can follow and combine \"streams\" into customized feeds\n",
    "    * Can quickly find influential papers\n",
    "    * A good starting point for new genes\n",
    "* <b>Where</b>: \n",
    "    * <a href=\"http://meta.science/\">http://meta.science/</a>\n",
    "* <b>How</b>: \n",
    "    * <a href=\"http://www.editage.com/insights/using-meta-science-to-streamline-researcher-workflow-systems-a-step-by-step-guide\">How to use Meta"
   ]
  },
  {
   "cell_type": "markdown",
   "metadata": {
    "nbpresent": {
     "id": "918c9089-714e-49fb-aeb5-5752d10fce13"
    }
   },
   "source": [
    "## PRoteomics IDEntifications (PRIDE)\n",
    "* <b>Why</b>:  \n",
    "    * You have found a particular protein or peptide and want the raw data\n",
    "    * Need to rerun MS/MS analysis to quantify a different set of peptides\n",
    "* <b>What</b>:\n",
    "    * Database dump of MS/MS spectra for a large volume of experiments, similar to SRA for sequencing data\n",
    "* <b>Where</b>: \n",
    "    * <a href=\"https://www.ebi.ac.uk/pride/archive/\">https://www.ebi.ac.uk/pride/archive//</a>\n",
    "* <b>How</b>: "
   ]
  },
  {
   "cell_type": "markdown",
   "metadata": {
    "nbpresent": {
     "id": "9430a08a-6256-433b-980a-ae5f02276d91"
    }
   },
   "source": [
    "## Harmonizome\n",
    "* <b>Why</b>:  \n",
    "    * Need to get a general idea of a gene\n",
    "    * Curious about what medical issues have been associated with it\n",
    "    * What complexes has it been found to be a part of?\n",
    "    * What drugs have been shown to affect its behaviour?\n",
    "* <b>What</b>:\n",
    "    * \"Search for genes or proteins and their functional terms extracted and organized from over a hundred publicly available resources\"\n",
    "    * X = gene, Y = database\n",
    "    * Includes clinical information and pharmacological information related to the query gene as well\n",
    "    * Awesome mobile interface!\n",
    "    * http://amp.pharm.mssm.edu/Harmonizome/about\n",
    "* <b>Where</b>: \n",
    "    * <a href=\"http://amp.pharm.mssm.edu/Harmonizome/\">http://amp.pharm.mssm.edu/Harmonizome/</a>\n",
    "* <b>How</b>: \n",
    "    * Simply search for your gene and click through the available databases for that given gene (LOTS of stuff!)"
   ]
  },
  {
   "cell_type": "markdown",
   "metadata": {
    "nbpresent": {
     "id": "4e8a4179-20ff-48c9-89aa-67cde8afb961"
    }
   },
   "source": [
    "## Encode\n",
    "* <b>Why</b>:  \n",
    "    * Need to find Chip-Seq, RNA-seq, DNA-seq/ATAC-seq, etc genome track to look at a particular locus in a particular cell type\n",
    "* <b>What</b>:\n",
    "    * Database dump of mostly Chip-Seq, RNA-seq, and Chromatin Accessibility processed files\n",
    "* <b>Where</b>: \n",
    "    * <a href=\"https://www.encodeproject.org/\">https://www.encodeproject.org/</a>\n",
    "* <b>How</b>: \n",
    "    * <a href=\"https://www.encodeproject.org/help/getting-started/\">https://www.encodeproject.org/help/getting-started/</a>"
   ]
  },
  {
   "cell_type": "markdown",
   "metadata": {},
   "source": [
    "## UCSC Xena Browser\n",
    "* <b>Why</b>:  \n",
    "    * Need to look at expression differences between publicly available cohorts, such as cancer patients or geographic populations\n",
    "    * Dont want to process or make the raw graphs yourself"
   ]
  },
  {
   "cell_type": "code",
   "execution_count": 7,
   "metadata": {
    "collapsed": false
   },
   "outputs": [
    {
     "data": {
      "image/jpeg": "[encoded data removed]",
      "text/html": [
       "\n",
       "        <iframe\n",
       "            width=\"400\"\n",
       "            height=\"300\"\n",
       "            src=\"https://www.youtube.com/embed/TSNc-EDjix4?color=red&start=0&theme=light&autoplay=1\"\n",
       "            frameborder=\"0\"\n",
       "            allowfullscreen\n",
       "        ></iframe>\n",
       "        "
      ],
      "text/plain": [
       "<IPython.lib.display.YouTubeVideo at 0x7fae70295b10>"
      ]
     },
     "execution_count": 7,
     "metadata": {},
     "output_type": "execute_result"
    }
   ],
   "source": [
    "from IPython.display import YouTubeVideo\n",
    "YouTubeVideo(\"TSNc-EDjix4\", start=0, autoplay=1, theme=\"light\", color=\"red\")"
   ]
  },
  {
   "cell_type": "markdown",
   "metadata": {
    "nbpresent": {
     "id": "6c2145a1-a315-4b4d-ad61-f9279bf631be"
    }
   },
   "source": [
    "* <b>What</b>:\n",
    "    * Amalgamation of many data dumps, such as Human Proteome\n",
    "    * Interface can be taxing on computer and may slow/crash\n",
    "    * Very good way to get an overview of what’s known about a protein’s function\n",
    "* <b>Where</b>: \n",
    "    * <a href=\"http://www.nextprot.org/\">http://www.nextprot.org/</a>\n",
    "* <b>How</b>: "
   ]
  },
  {
   "cell_type": "code",
   "execution_count": 8,
   "metadata": {
    "collapsed": false
   },
   "outputs": [
    {
     "data": {
      "image/jpeg": "[encoded data removed]",
      "text/html": [
       "\n",
       "        <iframe\n",
       "            width=\"400\"\n",
       "            height=\"300\"\n",
       "            src=\"https://www.youtube.com/embed/go38U6iLjsw?color=red&start=0&theme=light&autoplay=1\"\n",
       "            frameborder=\"0\"\n",
       "            allowfullscreen\n",
       "        ></iframe>\n",
       "        "
      ],
      "text/plain": [
       "<IPython.lib.display.YouTubeVideo at 0x7fae70275990>"
      ]
     },
     "execution_count": 8,
     "metadata": {},
     "output_type": "execute_result"
    }
   ],
   "source": [
    "YouTubeVideo(\"go38U6iLjsw\", start=0, autoplay=1, theme=\"light\", color=\"red\")"
   ]
  },
  {
   "cell_type": "markdown",
   "metadata": {
    "nbpresent": {
     "id": "76ca7da6-4f2e-451b-8435-50796ac7e0d3"
    }
   },
   "source": [
    "## Ensembl\n",
    "* <b>Why</b>:  \n",
    "    * How far back is your gene conserved?\n",
    "    * Is it lost in some species?\n",
    "    * What's its synteny in humans, other species?\n",
    "    * Is the protein conserved? How far?\n",
    "    * What different isoforms exist?\n",
    "* <b>What</b>:\n",
    "    * HUGE number of different organisms and genome data\n",
    "    * Much integrated knowledge surrounding phylogenetics and transcriptomics\n",
    "    * Data which is accessible is enormous\n",
    "    * Built in genome browser which can be used to compare a huge number of tracks\n",
    "    * Can compare synteny in genome browser view across many species, being able to check for things such as conserved cis regulatory elements and/or synteny\n",
    "* <b>Where</b>: \n",
    "    * <a href=\"http://www.ensembl.org/index.html\">http://www.ensembl.org/index.html</a>\n",
    "* <b>How</b>: \n",
    "    * <a href=\"http://www.ensembl.org/info/website/index.html\">http://www.ensembl.org/info/website/index.html</a>"
   ]
  },
  {
   "cell_type": "markdown",
   "metadata": {},
   "source": [
    "## MobiDB\n",
    "* <b>Why</b>:  \n",
    "    * Does your protein have high mobility domains (does it wiggle lots)?\n",
    "* <b>What</b>:\n",
    "    * A combination of curated (direct provided by <a href=\"http://www.disprot.org/\">DisProt</a>), and indirect PDB NMR/Xray sources amalgamated into a more digestible and encompassing database\n",
    "* <b>Where</b>: \n",
    "    * <a href=\"http://mobidb.bio.unipd.it/about\">http://mobidb.bio.unipd.it/about</a>\n",
    "* <b>How</b>: \n",
    "    * <a href=\"http://mobidb.bio.unipd.it/entries/P49711\">CTCF</a>"
   ]
  },
  {
   "cell_type": "markdown",
   "metadata": {},
   "source": [
    "## The Human Protein Atlas\n",
    "* <b>Why</b>:  \n",
    "    * Where is your protein expressed?\n",
    "    * Is it upregulated in specific cancers?\n",
    "    * what does the histology look like?\n",
    "* <b>What</b>:\n",
    "    * LOTS of staining of tissue slides. \n",
    "    * Integrates well with protein levels from mass proteomics sources\n",
    "* <b>Where</b>: \n",
    "    * <a href=\"http://www.proteinatlas.org/\">http://www.proteinatlas.org/</a>\n",
    "* <b>How</b>: \n",
    "    * <a href=\"http://www.proteinatlas.org/ENSG00000102974-CTCF/cell\">CTCF</a>"
   ]
  }
 ],
 "metadata": {
  "anaconda-cloud": {},
  "kernelspec": {
   "display_name": "Python 3",
   "language": "python",
   "name": "python3"
  },
  "language_info": {
   "codemirror_mode": {
    "name": "ipython",
    "version": 3
   },
   "file_extension": ".py",
   "mimetype": "text/x-python",
   "name": "python",
   "nbconvert_exporter": "python",
   "pygments_lexer": "ipython3",
   "version": "3.5.3"
  },
  "nbpresent": {
   "slides": {
    "1490c4e0-9cd1-4fe8-b0e6-a4dd669bc37e": {
     "id": "1490c4e0-9cd1-4fe8-b0e6-a4dd669bc37e",
     "prev": "9cc0c1e0-d484-424e-b2cb-ecd282078598",
     "regions": {
      "7cb20e56-7efa-488e-b2b0-5a5618f52113": {
       "attrs": {
        "height": 0.8,
        "width": 0.8,
        "x": 0.1,
        "y": 0.1
       },
       "content": {
        "cell": "b1c5e8a3-6481-4607-972e-71b0caa841cc",
        "part": "whole"
       },
       "id": "7cb20e56-7efa-488e-b2b0-5a5618f52113"
      }
     }
    },
    "35b94fc5-7228-4aaf-8289-72c2c76c1bf7": {
     "id": "35b94fc5-7228-4aaf-8289-72c2c76c1bf7",
     "prev": null,
     "regions": {
      "52673529-a1e0-47d6-89f8-6f24efd31088": {
       "attrs": {
        "height": 0.8,
        "width": 0.8,
        "x": 0.1,
        "y": 0.1
       },
       "content": {
        "cell": "409fdb4c-9237-46f6-848f-00d10b37ed7e",
        "part": "whole"
       },
       "id": "52673529-a1e0-47d6-89f8-6f24efd31088"
      }
     }
    },
    "36290a54-0b57-4d9a-8169-cb80fd6f51da": {
     "id": "36290a54-0b57-4d9a-8169-cb80fd6f51da",
     "prev": "58f229c6-8664-402b-9ffd-b7a9c5f9123d",
     "regions": {
      "b98dfea8-7d8a-4b57-bbf7-a5914c0fd37e": {
       "attrs": {
        "height": 0.8,
        "width": 0.8,
        "x": 0.1,
        "y": 0.1
       },
       "content": {
        "cell": "9430a08a-6256-433b-980a-ae5f02276d91",
        "part": "whole"
       },
       "id": "b98dfea8-7d8a-4b57-bbf7-a5914c0fd37e"
      }
     }
    },
    "4b22cf68-cdf8-430c-9e69-9d1b6a00c59d": {
     "id": "4b22cf68-cdf8-430c-9e69-9d1b6a00c59d",
     "prev": "bba3219e-086b-4e39-8a78-be20daa238fd",
     "regions": {
      "82860aea-f621-41b9-aed0-0d6fdf6b3d95": {
       "attrs": {
        "height": 0.8,
        "width": 0.8,
        "x": 0.1,
        "y": 0.1
       },
       "content": {
        "cell": "76ca7da6-4f2e-451b-8435-50796ac7e0d3",
        "part": "whole"
       },
       "id": "82860aea-f621-41b9-aed0-0d6fdf6b3d95"
      }
     }
    },
    "58f229c6-8664-402b-9ffd-b7a9c5f9123d": {
     "id": "58f229c6-8664-402b-9ffd-b7a9c5f9123d",
     "prev": "97de3921-757c-44d9-aaa6-9ac70188b2cc",
     "regions": {
      "b0c8e7df-d8a9-4756-af7c-413df3894948": {
       "attrs": {
        "height": 0.8,
        "width": 0.8,
        "x": 0.1,
        "y": 0.1
       },
       "content": {
        "cell": "918c9089-714e-49fb-aeb5-5752d10fce13",
        "part": "whole"
       },
       "id": "b0c8e7df-d8a9-4756-af7c-413df3894948"
      }
     }
    },
    "5fe0b044-3dc5-44d8-9618-6d59b9c8bb25": {
     "id": "5fe0b044-3dc5-44d8-9618-6d59b9c8bb25",
     "prev": "36290a54-0b57-4d9a-8169-cb80fd6f51da",
     "regions": {
      "b6eab142-8a60-498c-bd4f-e1cfccaf7778": {
       "attrs": {
        "height": 0.8,
        "width": 0.8,
        "x": 0.1,
        "y": 0.1
       },
       "content": {
        "cell": "4e8a4179-20ff-48c9-89aa-67cde8afb961",
        "part": "whole"
       },
       "id": "b6eab142-8a60-498c-bd4f-e1cfccaf7778"
      }
     }
    },
    "8413613a-443a-468e-8c51-15a57044e710": {
     "id": "8413613a-443a-468e-8c51-15a57044e710",
     "prev": "fe163e78-d86c-480c-b870-41783543ef75",
     "regions": {
      "340001b7-d46f-4b51-becd-3f16299acd7f": {
       "attrs": {
        "height": 0.8,
        "width": 0.8,
        "x": 0.1,
        "y": 0.1
       },
       "content": {
        "cell": "74462551-e747-469a-8589-0773dcac6fd8",
        "part": "whole"
       },
       "id": "340001b7-d46f-4b51-becd-3f16299acd7f"
      }
     }
    },
    "9185a8bc-c48d-4b28-9b61-c83cd887f6c8": {
     "id": "9185a8bc-c48d-4b28-9b61-c83cd887f6c8",
     "prev": "1490c4e0-9cd1-4fe8-b0e6-a4dd669bc37e",
     "regions": {
      "959cfd27-1053-4050-9348-7814ab5e6532": {
       "attrs": {
        "height": 0.8,
        "width": 0.8,
        "x": 0.1,
        "y": 0.1
       },
       "content": {
        "cell": "99a1d96b-903d-4694-95b7-620705a322a5",
        "part": "whole"
       },
       "id": "959cfd27-1053-4050-9348-7814ab5e6532"
      }
     }
    },
    "97de3921-757c-44d9-aaa6-9ac70188b2cc": {
     "id": "97de3921-757c-44d9-aaa6-9ac70188b2cc",
     "prev": "b22fea03-ccdb-42b7-bfb8-6d3783de2dfa",
     "regions": {
      "264c2100-65c1-4214-afa1-487db791da13": {
       "attrs": {
        "height": 0.8,
        "width": 0.8,
        "x": 0.1,
        "y": 0.1
       },
       "content": {
        "cell": "df1261f5-fa28-4cad-a481-a585f4ca7fa9",
        "part": "whole"
       },
       "id": "264c2100-65c1-4214-afa1-487db791da13"
      }
     }
    },
    "9cc0c1e0-d484-424e-b2cb-ecd282078598": {
     "id": "9cc0c1e0-d484-424e-b2cb-ecd282078598",
     "prev": "8413613a-443a-468e-8c51-15a57044e710",
     "regions": {
      "7880fbfa-44cd-462b-aa0d-9e5295b0fa53": {
       "attrs": {
        "height": 0.8,
        "width": 0.8,
        "x": 0.1,
        "y": 0.1
       },
       "content": {
        "cell": "e0dfe87c-3c2e-4aea-8f46-ddad103ebcb4",
        "part": "whole"
       },
       "id": "7880fbfa-44cd-462b-aa0d-9e5295b0fa53"
      }
     }
    },
    "aac66cf9-7fb2-4543-a85f-7f3dfa9c7968": {
     "id": "aac66cf9-7fb2-4543-a85f-7f3dfa9c7968",
     "prev": "9185a8bc-c48d-4b28-9b61-c83cd887f6c8",
     "regions": {
      "9b102636-e231-42dd-a6b2-34e0d6ec189f": {
       "attrs": {
        "height": 0.8,
        "width": 0.8,
        "x": 0.1,
        "y": 0.1
       },
       "content": {
        "cell": "2d322691-92f5-4844-a431-8adec09e6724",
        "part": "whole"
       },
       "id": "9b102636-e231-42dd-a6b2-34e0d6ec189f"
      }
     }
    },
    "b22fea03-ccdb-42b7-bfb8-6d3783de2dfa": {
     "id": "b22fea03-ccdb-42b7-bfb8-6d3783de2dfa",
     "prev": "aac66cf9-7fb2-4543-a85f-7f3dfa9c7968",
     "regions": {
      "22e3e8c4-c536-42e5-ab58-e0f63aff7272": {
       "attrs": {
        "height": 0.8,
        "width": 0.8,
        "x": 0.1,
        "y": 0.1
       },
       "content": {
        "cell": "1292717a-c784-4369-9eaf-f7a8af27eb88",
        "part": "whole"
       },
       "id": "22e3e8c4-c536-42e5-ab58-e0f63aff7272"
      }
     }
    },
    "bba3219e-086b-4e39-8a78-be20daa238fd": {
     "id": "bba3219e-086b-4e39-8a78-be20daa238fd",
     "prev": "5fe0b044-3dc5-44d8-9618-6d59b9c8bb25",
     "regions": {
      "c4d9a174-0289-4523-8102-fd48da22457a": {
       "attrs": {
        "height": 0.8,
        "width": 0.8,
        "x": 0.1,
        "y": 0.1
       },
       "content": {
        "cell": "6c2145a1-a315-4b4d-ad61-f9279bf631be",
        "part": "whole"
       },
       "id": "c4d9a174-0289-4523-8102-fd48da22457a"
      }
     }
    },
    "fe163e78-d86c-480c-b870-41783543ef75": {
     "id": "fe163e78-d86c-480c-b870-41783543ef75",
     "prev": "35b94fc5-7228-4aaf-8289-72c2c76c1bf7",
     "regions": {
      "24a9ff78-d26f-47ef-b9b5-7ea7df54f38b": {
       "attrs": {
        "height": 0.8,
        "width": 0.8,
        "x": 0.1,
        "y": 0.1
       },
       "content": {
        "cell": "326ece8f-dfce-497f-8420-9d26b2cc314a",
        "part": "whole"
       },
       "id": "24a9ff78-d26f-47ef-b9b5-7ea7df54f38b"
      }
     }
    }
   },
   "themes": {}
  }
 },
 "nbformat": 4,
 "nbformat_minor": 2
}
