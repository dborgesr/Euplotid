{
 "cells": [
  {
   "cell_type": "markdown",
   "metadata": {
    "collapsed": true
   },
   "source": [
    "## Publicly available databases are <br>expanding and improving at incredible rate\n",
    "* Many publicly available databases exist, many more being added\n",
    "* Aid in asking questions for many things from expression of RNA and/or protein to identification of relevant literature\n",
    "* Can range from easy to use to requiring a strong programming background\n",
    "* Lets see what questions and how these databases can help you with\n"
   ]
  },
  {
   "cell_type": "markdown",
   "metadata": {},
   "source": [
    "## Today We’re going to go over what they can do for you\n",
    "* <b>Why</b> What kind of questions can this resource help you answer?\n",
    "* <b>What</b>: What is the resource made up of, what data does it contain and expose to you in a digested way?\n",
    "* <b>Where</b>: Where to access the resource\n",
    "* <b>How</b>: How to use the resource, I’ll go through a couple of example play questions which can be answered in each resource"
   ]
  },
  {
   "cell_type": "markdown",
   "metadata": {
    "collapsed": false
   },
   "source": [
    "## Genotype-Tissue Expression (GTEx)\n",
    "* <b>Why</b>:  \n",
    "    * Get estimate of RNA expression of gene in a tissue of interest\n",
    "    * See if any non-coding mutations associate with change in expression\n",
    "* <b>What</b>:\n",
    "    * Expression across ~53 tissues and 544 Donors\n",
    "    * Latest eQTL analysis for all tissues\n",
    "    * Intuitive and reactive browser for eQTLs in genome and gene, isoform, and exon level expression\n",
    "* <b>Where</b>: \n",
    "    * <a href=\"http://www.gtexportal.org/\">http://www.gtexportal.org/</a>\n",
    "* <b>How</b>: "
   ]
  },
  {
   "cell_type": "markdown",
   "metadata": {
    "collapsed": true
   },
   "source": [
    "## Nextprot\n",
    "* <b>Why</b>:  \n",
    "    * Need to get a better understanding of a protein\n",
    "    * What and where is it expressed?\n",
    "    * What does it look like?\n",
    "    * What might it be doing?\n",
    "* <b>What</b>:\n",
    "    * Amalgamation of many data dumps, such as Human Proteome\n",
    "    * Interface can be taxing on computer and may slow/crash\n",
    "    * Very good way to get an overview of what’s known about a protein’s function\n",
    "* <b>Where</b>: \n",
    "    * <a href=\"http://www.nextprot.org/\">http://www.nextprot.org/</a>\n",
    "* <b>How</b>: "
   ]
  },
  {
   "cell_type": "markdown",
   "metadata": {},
   "source": [
    "## Uniprot\n",
    "* <b>Why</b>:  \n",
    "    * Need to fetch protein sequences\n",
    "    * How far back is the protein conserved?\n",
    "    * What’s its general structure characterestics?\n",
    "* <b>What</b>:\n",
    "    * Amalgamation of many data dumps, such as Human Proteome\n",
    "    * Interface can be taxing on computer and may slow/crash\n",
    "    * Very good way to get an overview of what’s known about a protein’s function\n",
    "* <b>Where</b>: \n",
    "    * <a href=\"http://www.nextprot.org/\">http://www.nextprot.org/</a>\n",
    "* <b>How</b>: "
   ]
  },
  {
   "cell_type": "markdown",
   "metadata": {},
   "source": [
    "## StringDB\n",
    "* <b>Why</b>:  \n",
    "    * Need to fetch protein sequences\n",
    "    * How far back is the protein conserved?\n",
    "    * What’s its general structure characterestics?\n",
    "* <b>What</b>:\n",
    "    * Amalgamation of many data dumps, such as Human Proteome\n",
    "    * Interface can be taxing on computer and may slow/crash\n",
    "    * Very good way to get an overview of what’s known about a protein’s function\n",
    "* <b>Where</b>: \n",
    "    * <a href=\"http://www.nextprot.org/\">http://www.nextprot.org/</a>\n",
    "* <b>How</b>: "
   ]
  },
  {
   "cell_type": "markdown",
   "metadata": {},
   "source": [
    "## Short Read Archive (SRA)\n",
    "* <b>Why</b>:  \n",
    "    * Need to fetch protein sequences\n",
    "    * How far back is the protein conserved?\n",
    "    * What’s its general structure characterestics?\n",
    "* <b>What</b>:\n",
    "    * Amalgamation of many data dumps, such as Human Proteome\n",
    "    * Interface can be taxing on computer and may slow/crash\n",
    "    * Very good way to get an overview of what’s known about a protein’s function\n",
    "* <b>Where</b>: \n",
    "    * <a href=\"http://www.nextprot.org/\">http://www.nextprot.org/</a>\n",
    "* <b>How</b>: "
   ]
  },
  {
   "cell_type": "markdown",
   "metadata": {},
   "source": [
    "## Genome Expression Omnibus\n",
    "* <b>Why</b>:  \n",
    "    * Need to fetch protein sequences\n",
    "    * How far back is the protein conserved?\n",
    "    * What’s its general structure characterestics?\n",
    "* <b>What</b>:\n",
    "    * Amalgamation of many data dumps, such as Human Proteome\n",
    "    * Interface can be taxing on computer and may slow/crash\n",
    "    * Very good way to get an overview of what’s known about a protein’s function\n",
    "* <b>Where</b>: \n",
    "    * <a href=\"http://www.nextprot.org/\">http://www.nextprot.org/</a>\n",
    "* <b>How</b>: "
   ]
  },
  {
   "cell_type": "markdown",
   "metadata": {},
   "source": [
    "## Meta\n",
    "* <b>Why</b>:  \n",
    "    * Need to fetch protein sequences\n",
    "    * How far back is the protein conserved?\n",
    "    * What’s its general structure characterestics?\n",
    "* <b>What</b>:\n",
    "    * Amalgamation of many data dumps, such as Human Proteome\n",
    "    * Interface can be taxing on computer and may slow/crash\n",
    "    * Very good way to get an overview of what’s known about a protein’s function\n",
    "* <b>Where</b>: \n",
    "    * <a href=\"http://www.nextprot.org/\">http://www.nextprot.org/</a>\n",
    "* <b>How</b>: "
   ]
  },
  {
   "cell_type": "markdown",
   "metadata": {},
   "source": [
    "## PRoteomics IDEntifications (PRIDE)\n",
    "* <b>Why</b>:  \n",
    "    * Need to fetch protein sequences\n",
    "    * How far back is the protein conserved?\n",
    "    * What’s its general structure characterestics?\n",
    "* <b>What</b>:\n",
    "    * Amalgamation of many data dumps, such as Human Proteome\n",
    "    * Interface can be taxing on computer and may slow/crash\n",
    "    * Very good way to get an overview of what’s known about a protein’s function\n",
    "* <b>Where</b>: \n",
    "    * <a href=\"http://www.nextprot.org/\">http://www.nextprot.org/</a>\n",
    "* <b>How</b>: "
   ]
  },
  {
   "cell_type": "markdown",
   "metadata": {},
   "source": [
    "## Harmonizome\n",
    "* <b>Why</b>:  \n",
    "    * Need to fetch protein sequences\n",
    "    * How far back is the protein conserved?\n",
    "    * What’s its general structure characterestics?\n",
    "* <b>What</b>:\n",
    "    * Amalgamation of many data dumps, such as Human Proteome\n",
    "    * Interface can be taxing on computer and may slow/crash\n",
    "    * Very good way to get an overview of what’s known about a protein’s function\n",
    "* <b>Where</b>: \n",
    "    * <a href=\"http://www.nextprot.org/\">http://www.nextprot.org/</a>\n",
    "* <b>How</b>: "
   ]
  },
  {
   "cell_type": "markdown",
   "metadata": {},
   "source": [
    "## Encode\n",
    "* <b>Why</b>:  \n",
    "    * Need to fetch protein sequences\n",
    "    * How far back is the protein conserved?\n",
    "    * What’s its general structure characterestics?\n",
    "* <b>What</b>:\n",
    "    * Amalgamation of many data dumps, such as Human Proteome\n",
    "    * Interface can be taxing on computer and may slow/crash\n",
    "    * Very good way to get an overview of what’s known about a protein’s function\n",
    "* <b>Where</b>: \n",
    "    * <a href=\"http://www.nextprot.org/\">http://www.nextprot.org/</a>\n",
    "* <b>How</b>: "
   ]
  },
  {
   "cell_type": "markdown",
   "metadata": {},
   "source": [
    "## UCSC Xena Browser\n",
    "* <b>Why</b>:  \n",
    "    * Need to fetch protein sequences\n",
    "    * How far back is the protein conserved?\n",
    "    * What’s its general structure characterestics?\n",
    "* <b>What</b>:\n",
    "    * Amalgamation of many data dumps, such as Human Proteome\n",
    "    * Interface can be taxing on computer and may slow/crash\n",
    "    * Very good way to get an overview of what’s known about a protein’s function\n",
    "* <b>Where</b>: \n",
    "    * <a href=\"http://www.nextprot.org/\">http://www.nextprot.org/</a>\n",
    "* <b>How</b>: "
   ]
  },
  {
   "cell_type": "markdown",
   "metadata": {},
   "source": [
    "## Ensembl\n",
    "* <b>Why</b>:  \n",
    "    * Need to fetch protein sequences\n",
    "    * How far back is the protein conserved?\n",
    "    * What’s its general structure characterestics?\n",
    "* <b>What</b>:\n",
    "    * Amalgamation of many data dumps, such as Human Proteome\n",
    "    * Interface can be taxing on computer and may slow/crash\n",
    "    * Very good way to get an overview of what’s known about a protein’s function\n",
    "* <b>Where</b>: \n",
    "    * <a href=\"http://www.nextprot.org/\">http://www.nextprot.org/</a>\n",
    "* <b>How</b>: "
   ]
  }
 ],
 "metadata": {
  "anaconda-cloud": {},
  "kernelspec": {
   "display_name": "Python [conda root]",
   "language": "python",
   "name": "conda-root-py"
  },
  "language_info": {
   "codemirror_mode": {
    "name": "ipython",
    "version": 2
   },
   "file_extension": ".py",
   "mimetype": "text/x-python",
   "name": "python",
   "nbconvert_exporter": "python",
   "pygments_lexer": "ipython2",
   "version": "2.7.12"
  }
 },
 "nbformat": 4,
 "nbformat_minor": 2
}
