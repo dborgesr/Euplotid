{
 "cells": [
  {
   "cell_type": "code",
   "execution_count": 2,
   "metadata": {
    "collapsed": true,
    "init_cell": true,
    "slideshow": {
     "slide_type": "skip"
    }
   },
   "outputs": [],
   "source": [
    "from ipynb_latex_setup import *"
   ]
  },
  {
   "cell_type": "markdown",
   "metadata": {
    "latex_figure": {
     "caption": "A nice picture.",
     "label": "fig:example2",
     "placement": "H"
    },
    "nbpresent": {
     "id": "8c3d4cb9-495d-4b75-a20b-674e7ccacbe3"
    }
   },
   "source": [
    "# Introduction"
   ]
  },
  {
   "cell_type": "markdown",
   "metadata": {
    "nbpresent": {
     "id": "2eab60c1-7f96-42b6-880a-47bf814e08bf"
    }
   },
   "source": [
    "<img src=\"https://raw.githubusercontent.com/dborgesr/Euplotid/gh-pages/web_euplotid/lab_meeting_slides_Intro_slide.png\" style=\"width: 1000px\">"
   ]
  },
  {
   "cell_type": "markdown",
   "metadata": {
    "nbpresent": {
     "id": "d135315b-d1b6-4331-842a-55fe47a15c05"
    }
   },
   "source": [
    "## Deuterium model\n",
    "\n",
    "<img src=\"https://raw.githubusercontent.com/dborgesr/Euplotid/gh-pages/web_euplotid/deuterium_model.png\" style=\"width: 500px;\">\n",
    "\n",
    "Autocad model <http://a360.co/2rOLjlg>\n",
    "\n",
    "### 3D printable model\n",
    "<http://a360.co/2q4cgnw>\n",
    "\n",
    "<img src=\"https://raw.githubusercontent.com/dborgesr/Euplotid/gh-pages/web_euplotid/print_deut_model.png\" style=\"width: 500px;\">\n",
    "\n",
    "#### Assembly instructions:\n",
    "* Print using any 3D printer by printing 3 STL files, 1 Proton, 1 Electron, 1 Neutron\n",
    "* Use a paperclip to put through the electron and attach to neutron\n",
    "* Use [these](https://www.amazon.com/gp/product/B01MRUA4YN/ref=oh_aui_search_detailpage?ie=UTF8&psc=1) craft magnets to attach the pieces together"
   ]
  },
  {
   "cell_type": "code",
   "execution_count": 28,
   "metadata": {
    "nbpresent": {
     "id": "9a71b665-10d1-4331-8672-2b64799667bc"
    }
   },
   "outputs": [
    {
     "data": {
      "text/html": [
       "<video width=\"854\" height=\"480\" controls>\n",
       "  <source src=\"https://raw.githubusercontent.com/dborgesr/Euplotid/gh-pages/web_euplotid/deuterium_model.mp4\" type=\"video/mp4\">\n",
       "  Your browser does not support the video tag.\n",
       "</video> "
      ],
      "text/plain": [
       "<IPython.core.display.HTML object>"
      ]
     },
     "metadata": {},
     "output_type": "display_data"
    }
   ],
   "source": [
    "%%html\n",
    "<video width=\"854\" height=\"480\" controls>\n",
    "  <source src=\"https://raw.githubusercontent.com/dborgesr/Euplotid/gh-pages/web_euplotid/deuterium_model.mp4\" type=\"video/mp4\">\n",
    "  Your browser does not support the video tag.\n",
    "</video> "
   ]
  },
  {
   "cell_type": "markdown",
   "metadata": {
    "nbpresent": {
     "id": "d82a2062-576f-43f4-ab84-7a70024772e0"
    }
   },
   "source": [
    "## Atomic model\n",
    "\n",
    "<img src=\"https://raw.githubusercontent.com/dborgesr/Euplotid/gh-pages/web_euplotid/atom.png\" style=\"width: 500px;\">\n",
    "\n",
    "Autocad model <http://a360.co/2seRnoY>"
   ]
  },
  {
   "cell_type": "markdown",
   "metadata": {},
   "source": [
    "   \n",
    "&nbsp;&nbsp;&nbsp;&nbsp;&nbsp;&nbsp;&nbsp;&nbsp;The physical hierarchy of the genome begins with the most simple building block, what we previously though of as the indivisible unit we call elements. The history of elements harps back to 360 B.C. when the philosophy behind the physicality of elements was established , as exemplefied in the Platonic Solids. The philosophical groundwork was laid for the understanding that compounds were made up of space-filling elements, and that through their combination one could create new compounds with very different properties than the sum of their parts. In the early 1800s the first atomic model was developed, able to explain chemical reactions as physical rearrangement of indivisible atoms. The indivisibility of this atom was challenged in 1897 when the electron was discovered; the so called \"plum pudding\" model was born. The plum pudding lasted until 1911 when the infamous gold foil experiment proved that the positively charged \"pudding\" was actually a nucleus. This nucleus contained protons, and later, was found to contain neutrons as well. Although the presence of the electron can be measured all around the positively charged nucleus they appear to be present at higher likelihoods in certain locations. During the 1930s a quantum electro dynamic model was born which is able to predict the probability of observing electrons at specific locations perfectly. In tandem, particle physics gave us a clearer picture of the nucleus, as a tightly packed ball of protons and neutrons, each made up of quarks. This left us with the atom as a tightly packed nucleus surrounded by a field of electron \"probability\", doomed to never truly ever know exactly what will happen. In 2012 an interesting proposition was put forth, what if a quanta of energy itself had a physical shape, albeit 2D? This gave rise to a novel way of interpreting all the previously developed theories, and coincidentally, loops back to Plato's first Platonic solid, the tetrahedron. \n",
    "   "
   ]
  },
  {
   "cell_type": "code",
   "execution_count": 29,
   "metadata": {
    "nbpresent": {
     "id": "a2356050-7a73-4c74-9d93-14a9c2f4ea14"
    }
   },
   "outputs": [
    {
     "data": {
      "text/html": [
       "<video width=\"854\" height=\"480\" controls>\n",
       "  <source src=\"https://raw.githubusercontent.com/dborgesr/Euplotid/gh-pages/web_euplotid/atom.mp4\" type=\"video/mp4\">\n",
       "  Your browser does not support the video tag.\n",
       "</video> "
      ],
      "text/plain": [
       "<IPython.core.display.HTML object>"
      ]
     },
     "metadata": {},
     "output_type": "display_data"
    }
   ],
   "source": [
    "%%html\n",
    "<video width=\"854\" height=\"480\" controls>\n",
    "  <source src=\"https://raw.githubusercontent.com/dborgesr/Euplotid/gh-pages/web_euplotid/atom.mp4\" type=\"video/mp4\">\n",
    "  Your browser does not support the video tag.\n",
    "</video> "
   ]
  },
  {
   "cell_type": "markdown",
   "metadata": {
    "nbpresent": {
     "id": "1cc0e183-0c7d-464b-b9d7-6bd41563b47f"
    }
   },
   "source": [
    "## Nucleotide model\n",
    "\n",
    "<img src=\"https://raw.githubusercontent.com/dborgesr/Euplotid/gh-pages/web_euplotid/nucleotides.png\" style=\"width: 500px;\">\n",
    "\n",
    "Autocad model <http://a360.co/2sjTV72>"
   ]
  },
  {
   "cell_type": "code",
   "execution_count": 30,
   "metadata": {
    "nbpresent": {
     "id": "5752a86d-f8c4-4c0e-a51d-099ae066a5df"
    }
   },
   "outputs": [
    {
     "data": {
      "text/html": [
       "<video width=\"854\" height=\"480\" controls>\n",
       "  <source src=\"https://raw.githubusercontent.com/dborgesr/Euplotid/gh-pages/web_euplotid/nucleotides.mp4\" type=\"video/mp4\">\n",
       "  Your browser does not support the video tag.\n",
       "</video> "
      ],
      "text/plain": [
       "<IPython.core.display.HTML object>"
      ]
     },
     "metadata": {},
     "output_type": "display_data"
    }
   ],
   "source": [
    "%%html\n",
    "<video width=\"854\" height=\"480\" controls>\n",
    "  <source src=\"https://raw.githubusercontent.com/dborgesr/Euplotid/gh-pages/web_euplotid/nucleotides.mp4\" type=\"video/mp4\">\n",
    "  Your browser does not support the video tag.\n",
    "</video> "
   ]
  },
  {
   "cell_type": "markdown",
   "metadata": {
    "nbpresent": {
     "id": "c6c31b68-57d2-4a54-8577-e17d931fe6df"
    }
   },
   "source": [
    "## DNA model  \n",
    "\n",
    "<img src=\"https://raw.githubusercontent.com/dborgesr/Euplotid/gh-pages/web_euplotid/dna.png\" style=\"width: 500px;\">  \n",
    "\n",
    "Autocad model <http://a360.co/2rK8hi8>"
   ]
  },
  {
   "cell_type": "markdown",
   "metadata": {},
   "source": [
    "   \n",
    "&nbsp;&nbsp;&nbsp;&nbsp;&nbsp;&nbsp;&nbsp;&nbsp;Around 1860 the philosophy was developed in order to explain the natural evolution which gave rise to the diversity in organisms as seen today. The concept that all organisms come from a single common ancestor is in some ways disturbing in its simplicity, but is a key insight in order to understand our world as a whole.  At the same time the physical explanation behind the tree of life was being laid down through the use P. Sativum. The understanding that traits are inherited was extended to human disease in 1908 through the study of alkaptonuria. Although the mechanism of inheritance was established, the physical material encoding the instructions for these traits was still hotly debated, was it proteins or nucleuotides? The debate was settled in the 1930s through the use Pneumococcus and its virulence as a phenotypic trait. With the chemical composition of the transforming material settled as nucleotides, the code defining the transition from DNA to RNA and then Amino Acids was solved during the 1950s. Although we had found the chemical composition of the information storing component, we knew almost nothing as to how its shape was used to encode information. Two rules were discovered during the 1950s which began to decode DNA, Chargaff's rules. The first rule laid the groundwork for the structure of DNA to be solved, that is to say %C=%G and %A=%T. DNA's structure was famously solved in 1953, giving a physical explanation to Chargaff's first rule and a major step in the physical organization of the genome was solved, the 3D shape of an oligonucleotide. It is very interesting to note that although a physical explanation was found for Chargaff's first rule, his second remains unexplained.\n",
    "   "
   ]
  },
  {
   "cell_type": "code",
   "execution_count": 31,
   "metadata": {
    "nbpresent": {
     "id": "67a36380-5132-4506-bf5d-33186e5af8a7"
    }
   },
   "outputs": [
    {
     "data": {
      "text/html": [
       "<video width=\"854\" height=\"720\" controls>\n",
       "  <source src=\"https://raw.githubusercontent.com/dborgesr/Euplotid/gh-pages/web_euplotid/DNA.mp4\" type=\"video/mp4\">\n",
       "  Your browser does not support the video tag.\n",
       "</video> "
      ],
      "text/plain": [
       "<IPython.core.display.HTML object>"
      ]
     },
     "metadata": {},
     "output_type": "display_data"
    }
   ],
   "source": [
    "%%html\n",
    "<video width=\"854\" height=\"720\" controls>\n",
    "  <source src=\"https://raw.githubusercontent.com/dborgesr/Euplotid/gh-pages/web_euplotid/DNA.mp4\" type=\"video/mp4\">\n",
    "  Your browser does not support the video tag.\n",
    "</video> "
   ]
  },
  {
   "cell_type": "markdown",
   "metadata": {
    "nbpresent": {
     "id": "ee575daf-7ad2-4352-8347-bcc7a0dc85ca"
    }
   },
   "source": [
    "## Amino acid model\n",
    "\n",
    "<img src=\"https://raw.githubusercontent.com/dborgesr/Euplotid/gh-pages/web_euplotid/amino_acids.png\" style=\"width: 500px;\">\n",
    "\n",
    "Autocad model <http://a360.co/2rK1ZPP>"
   ]
  },
  {
   "cell_type": "markdown",
   "metadata": {},
   "source": [
    "\n",
    "&nbsp;&nbsp;&nbsp;&nbsp;&nbsp;&nbsp;&nbsp;&nbsp;The first amino acid was discovered in 1806, asparganine. Over the next decade the rest of the canonical 20 amino acids were discovered, isolated, and their properties carefully measured. The amino acids form the functional unit of peptides, which when strung together and folded, create proteins. Our understanding of how these mechanical subunits come together is still in its infancy, in much due to our misunderstanding of the charge and mechanics at the most fundamental level. With a sharply defined boundary between energy and matter we are able to model interactions between these small protein building blocks in a far more natural, newtonian manner, while mantaining quantum accuracy.\n"
   ]
  },
  {
   "cell_type": "code",
   "execution_count": 32,
   "metadata": {
    "nbpresent": {
     "id": "a7dfb588-7ebe-41e8-81bc-e7e0049559ca"
    }
   },
   "outputs": [
    {
     "data": {
      "text/html": [
       "<video width=\"854\" height=\"480\" controls>\n",
       "  <source src=\"https://raw.githubusercontent.com/dborgesr/Euplotid/gh-pages/web_euplotid/amino_acids.mp4\" type=\"video/mp4\">\n",
       "  Your browser does not support the video tag.\n",
       "</video> "
      ],
      "text/plain": [
       "<IPython.core.display.HTML object>"
      ]
     },
     "metadata": {},
     "output_type": "display_data"
    }
   ],
   "source": [
    "%%html\n",
    "<video width=\"854\" height=\"480\" controls>\n",
    "  <source src=\"https://raw.githubusercontent.com/dborgesr/Euplotid/gh-pages/web_euplotid/amino_acids.mp4\" type=\"video/mp4\">\n",
    "  Your browser does not support the video tag.\n",
    "</video> "
   ]
  },
  {
   "cell_type": "markdown",
   "metadata": {
    "nbpresent": {
     "id": "5b91db23-39c3-47de-a308-49e4e896a7e5"
    }
   },
   "source": [
    "## Nucleosome model\n",
    "\n",
    "<img src=\"https://raw.githubusercontent.com/dborgesr/Euplotid/gh-pages/web_euplotid/histone_linker.png\" style=\"width: 500px;\">\n",
    "\n",
    "Autocad model <http://a360.co/2skzcQo>\n",
    "\n",
    "Paper: \"Structure and Dynamics of a 197 bp Nucleosome in Complex with Linker Histone H1\"\n",
    "Bednar et al 2017\n",
    "<http://www.cell.com/molecular-cell/abstract/S1097-2765(17)30268-X>"
   ]
  },
  {
   "cell_type": "markdown",
   "metadata": {},
   "source": [
    "    \n",
    "&nbsp;&nbsp;&nbsp;&nbsp;&nbsp;&nbsp;&nbsp;&nbsp;Much of the confusion between the carrier of genetic information was due to DNA's extremely tight association with positively charged protein complexes called the nucleosomes. The nucleosome's components and structures were developed and refined through the 1940s and 50s, with the core nucleosome's structure and components resolved at near atomic resolution. Although the predominant components were solved, new variants of the nucleosome complex were discovered, and continue to be, such as the newly characterized MacroH2A variants. In the 1960s post-translational modifications of the nucleosome's tail were discovered to affect its association with DNA through changing lysine's charge and shape. This level of the genome's physical organization allows for about 200bp to be neatly packaged, tagged and accessed, laying the groundwork for larger diameter fibers.\n",
    "   "
   ]
  },
  {
   "cell_type": "code",
   "execution_count": 33,
   "metadata": {
    "nbpresent": {
     "id": "b15c3aca-7659-484c-bd8d-4062824246b7"
    }
   },
   "outputs": [
    {
     "data": {
      "text/html": [
       "<video width=\"854\" height=\"480\" controls>\n",
       "  <source src=\"https://raw.githubusercontent.com/dborgesr/Euplotid/gh-pages/web_euplotid/histone_linker.mp4\" type=\"video/mp4\">\n",
       "  Your browser does not support the video tag.\n",
       "</video> "
      ],
      "text/plain": [
       "<IPython.core.display.HTML object>"
      ]
     },
     "metadata": {},
     "output_type": "display_data"
    }
   ],
   "source": [
    "%%html\n",
    "<video width=\"854\" height=\"480\" controls>\n",
    "  <source src=\"https://raw.githubusercontent.com/dborgesr/Euplotid/gh-pages/web_euplotid/histone_linker.mp4\" type=\"video/mp4\">\n",
    "  Your browser does not support the video tag.\n",
    "</video> "
   ]
  },
  {
   "cell_type": "markdown",
   "metadata": {
    "nbpresent": {
     "id": "4ce61e50-f363-4aa8-b2f8-adfa86b5314a"
    }
   },
   "source": [
    "## Histone tail Lysine modification model\n",
    "\n",
    "<img src=\"https://raw.githubusercontent.com/dborgesr/Euplotid/gh-pages/web_euplotid/lysine_mods.png\" style=\"width: 500px;\">\n",
    "\n",
    "Autocad model <http://a360.co/2rHPccI>"
   ]
  },
  {
   "cell_type": "code",
   "execution_count": 34,
   "metadata": {
    "nbpresent": {
     "id": "5351c4bc-4be6-4b1d-8193-a21fd40d633c"
    }
   },
   "outputs": [
    {
     "data": {
      "text/html": [
       "<video width=\"854\" height=\"480\" controls>\n",
       "  <source src=\"https://raw.githubusercontent.com/dborgesr/Euplotid/gh-pages/web_euplotid/lysine_mods.mp4\" type=\"video/mp4\">\n",
       "  Your browser does not support the video tag.\n",
       "</video> "
      ],
      "text/plain": [
       "<IPython.core.display.HTML object>"
      ]
     },
     "metadata": {},
     "output_type": "display_data"
    }
   ],
   "source": [
    "%%html\n",
    "<video width=\"854\" height=\"480\" controls>\n",
    "  <source src=\"https://raw.githubusercontent.com/dborgesr/Euplotid/gh-pages/web_euplotid/lysine_mods.mp4\" type=\"video/mp4\">\n",
    "  Your browser does not support the video tag.\n",
    "</video> "
   ]
  },
  {
   "cell_type": "markdown",
   "metadata": {
    "nbpresent": {
     "id": "65eb13b4-56f5-4ae1-93c2-9f08ef7b4bb6"
    }
   },
   "source": [
    "## Hp1a mediated chromatin formation\n",
    "\n",
    "<img src=\"https://raw.githubusercontent.com/dborgesr/Euplotid/gh-pages/web_euplotid/cbx3_h3k9me3.png\" style=\"width: 500px;\">\n",
    "\n",
    "Autocad model <http://a360.co/2rHPccI>"
   ]
  },
  {
   "cell_type": "code",
   "execution_count": 36,
   "metadata": {
    "nbpresent": {
     "id": "841b100a-e35d-4dec-9556-b78753217bab"
    }
   },
   "outputs": [
    {
     "data": {
      "text/html": [
       "<video width=\"854\" height=\"480\" controls>\n",
       "  <source src=\"https://raw.githubusercontent.com/dborgesr/Euplotid/gh-pages/web_euplotid/cbx3_h3k9me3.mp4\" type=\"video/mp4\">\n",
       "  Your browser does not support the video tag.\n",
       "</video> "
      ],
      "text/plain": [
       "<IPython.core.display.HTML object>"
      ]
     },
     "metadata": {},
     "output_type": "display_data"
    }
   ],
   "source": [
    "%%html\n",
    "<video width=\"854\" height=\"480\" controls>\n",
    "  <source src=\"https://raw.githubusercontent.com/dborgesr/Euplotid/gh-pages/web_euplotid/cbx3_h3k9me3.mp4\" type=\"video/mp4\">\n",
    "  Your browser does not support the video tag.\n",
    "</video> "
   ]
  },
  {
   "cell_type": "markdown",
   "metadata": {
    "nbpresent": {
     "id": "58d5f7c2-f79d-467b-b240-da3b318d8a9c"
    }
   },
   "source": [
    "## Chromatin model\n",
    "\n",
    "<img src=\"https://raw.githubusercontent.com/dborgesr/Euplotid/gh-pages/web_euplotid/chromatin_open.png\" style=\"width: 500px;\">\n",
    "\n",
    "Autocad model <http://a360.co/2pWBKA3>\n",
    "\n",
    "Paper: \"Variable chromatin structure revealed by in situ spatially correlated DNA cleavage mapping\"\n",
    "Equilibrium structure of in-silico 30nm chromatin fiber models constrained by specific histone modifications (associated with H3K27Ac) as measured using RICC-Seq in human fibroblasts\n",
    "<https://www.nature.com/nature/journal/v541/n7636/full/nature20781.html>"
   ]
  },
  {
   "cell_type": "markdown",
   "metadata": {},
   "source": [
    "   \n",
    "&nbsp;&nbsp;&nbsp;&nbsp;&nbsp;&nbsp;&nbsp;&nbsp;Chromatin can be understood as any shape of DNA that has a diameter larger than the canonical 10nm beads on a string nucleosome model. The exact shape and the in-vivo existence of the 30nm chromatin fiber has been hotly debated. It appears that there exists evidence for both sides, and in reality, it seems likely that the chromatin is a dynamic fiber, capable of deforming, memorizing, and reacting. Within the last decade we have begun to probe how the shape and regulation of this fiber can impact its shape and function, namely we have just begun to unravel the consequences of histone tail marks on the conformation of chromatin. Seemingly, chromatin is much more than the sum of its parts, and a key way of mainting information in the shape of our genome.\n",
    "    "
   ]
  },
  {
   "cell_type": "code",
   "execution_count": 37,
   "metadata": {
    "nbpresent": {
     "id": "202b8b8e-f740-48b9-825a-3727aa694acf"
    }
   },
   "outputs": [
    {
     "data": {
      "text/html": [
       "<video width=\"854\" height=\"480\" controls>\n",
       "  <source src=\"https://raw.githubusercontent.com/dborgesr/Euplotid/gh-pages/web_euplotid/chromatin_open.mp4\" type=\"video/mp4\">\n",
       "  Your browser does not support the video tag.\n",
       "</video> "
      ],
      "text/plain": [
       "<IPython.core.display.HTML object>"
      ]
     },
     "metadata": {},
     "output_type": "display_data"
    }
   ],
   "source": [
    "%%html\n",
    "<video width=\"854\" height=\"480\" controls>\n",
    "  <source src=\"https://raw.githubusercontent.com/dborgesr/Euplotid/gh-pages/web_euplotid/chromatin_open.mp4\" type=\"video/mp4\">\n",
    "  Your browser does not support the video tag.\n",
    "</video> "
   ]
  },
  {
   "cell_type": "markdown",
   "metadata": {
    "nbpresent": {
     "id": "c8c85e90-2b34-49fe-8fd8-ce1441ac85d0"
    }
   },
   "source": [
    "## Cis-Regulatory Element model\n",
    "\n",
    "<img src=\"https://raw.githubusercontent.com/dborgesr/Euplotid/gh-pages/web_euplotid/5SVA_RNA_polII.png\" style=\"width: 500px;\">\n",
    "\n",
    "Autocad model <http://a360.co/2rVEsLZ>\n",
    "\n",
    "Paper: \"Article Structure of a Complete Mediator-RNA Polymerase II Pre-Initiation Complex\"\n",
    "Resolved structure of entire Mediator PIC complex using cryo-em in yeast cells"
   ]
  },
  {
   "cell_type": "markdown",
   "metadata": {
    "nbpresent": {
     "id": "ddc2b2e5-e298-4922-bbe3-dde5126420ac"
    }
   },
   "source": [
    "   \n",
    "&nbsp;&nbsp;&nbsp;&nbsp;&nbsp;&nbsp;&nbsp;&nbsp;Once we had conclusively settled on DNA as the transforming material we could begin to elucidate the set of ordered reactions which takes DNA and decodes it to amino acids through an RNA intermediate. Throughout the 1970s the first steps of RNA-Polymerase mediated transcription were solved and the key players identified. It was quickly discovered that not all RNA is destined for translation, only a subset coined \"messenger RNA\" or mRNA. RNA-Pol II was shown to be the holoenzyme responsible for the polymerization of this mRNA, which is in the reverse complement of the DNA template. As the constituents discovered for the pre-initiation complex (PIC) grew during the 1980s, it was found to form around the canonical TATA DNA motif, coined the \"TATA-box\". This TATA box has a specific 3D shape which causes a bend of the DNA at approximately 80 degrees when bound by proteins called Transcription Factors (TFs). The Mediator protein \"arm\" complex is attached to this TATA DNA bend. Mediator, aided by Nipbl, allows for the threading of this bent DNA through a small protenaicous band structure known as Cohesin, thereby creating a small loop. The elongation of RNA-Pol II is preceded by TFIIH mediated phosphorylation of the C-Terminal Domain (CTD) of RNA-Pol II. How the phosphorylation of the CTD impacts its interaction with the extremely electronegative surface of RNA-PolII has not been studied at a quantum level. Recently it was found that the natural motor motion of RNA-Pol II during elongation serves to push this Cohesin ring, causing it to extrude a loop, bringing seemingly distant parts of the genome into direct physical proximity. This extrusion process continues until a bound CCCTC-Binding Factor (CTCF) is encountered, stopping the progression of Cohesin and causing the ring to stack at that bound CTCF site. CTCF's history in research took many turns, being assigning a plethora of roles, from enhancer to represessor, until its eventual establishment as a looping factor. The rate of release of Cohesin at CTCF sites is also actively controlled by acetylation of the ring, while CTCF’s binding can be impacted by the methylation of its DNA binding motif. The intricate details are still debated, but overall it appears that the clever regulation of on/off rates on DNA for these three pieces, CTCF, Cohesin, and RNA-Pol II, allows for the creation of dynamic structures capable of reacting to differing cellular states, tuning a gene’s local regulatory structure to adapt to specific environments. Although a CRE is able to influence the expression of any gene in extreme genomic proximity, the larger structures encompassing the CRE can cause it to impact TSSs from seemingly distant promoters. Intriguingly, its local regulatory structure is dependent on its expression, through extrusion of the Cohesin ring, which in turn feeds back into itself, determining what CREs are able to be recruited, creating a form of feedback mechanism. The speed and dynamics of this transcriptional feedback mechanism may be influenced by certain charge dynamics from localized areas of Acetylation, such as those mediated by the H4 HAT complex or the asymetrically loaded Acetylation of H3 at Super Enhancers. Although these effects originate down from the very basic levels of the physical hiearachy, when agreggated together, it may be possible that they impact larger dynamics. We are beginning to see modeling approaches reaching the scales necessary to tackle chromatin looping questions, these models will continue to develop and gain in accuracy and generality. The physical hierarchy that controls the relation between CREs and their respective TSSs is a complex and extremely fine tuned process, but it may be that this complexity originates from very simple building blocks. \n",
    "    "
   ]
  },
  {
   "cell_type": "code",
   "execution_count": 38,
   "metadata": {
    "nbpresent": {
     "id": "9ac3f214-8ae3-4a25-9c12-2751fce647eb"
    }
   },
   "outputs": [
    {
     "data": {
      "text/html": [
       "<video width=\"854\" height=\"480\" controls>\n",
       "  <source src=\"https://raw.githubusercontent.com/dborgesr/Euplotid/gh-pages/web_euplotid/5SVA_RNA_polII.mp4\" type=\"video/mp4\">\n",
       "  Your browser does not support the video tag.\n",
       "</video> "
      ],
      "text/plain": [
       "<IPython.core.display.HTML object>"
      ]
     },
     "metadata": {},
     "output_type": "display_data"
    }
   ],
   "source": [
    "%%html\n",
    "<video width=\"854\" height=\"480\" controls>\n",
    "  <source src=\"https://raw.githubusercontent.com/dborgesr/Euplotid/gh-pages/web_euplotid/5SVA_RNA_polII.mp4\" type=\"video/mp4\">\n",
    "  Your browser does not support the video tag.\n",
    "</video> "
   ]
  },
  {
   "cell_type": "markdown",
   "metadata": {
    "nbpresent": {
     "id": "8050cca7-ebd4-4bbe-b314-4974cc53efea"
    }
   },
   "source": [
    "## C-Terminal RNA Polymerase Domain Phosphorylation model\n",
    "\n",
    "<img src=\"https://raw.githubusercontent.com/dborgesr/Euplotid/gh-pages/web_euplotid/CTD_phospho.png\" style=\"width: 500px;\">\n",
    "\n",
    "Autocad model <http://a360.co/2s0erGq>\n",
    "\n",
    "Built in-silico"
   ]
  },
  {
   "cell_type": "code",
   "execution_count": 42,
   "metadata": {
    "nbpresent": {
     "id": "d8e416de-ff80-4178-8e6e-1ae8bd4123b6"
    }
   },
   "outputs": [
    {
     "data": {
      "text/html": [
       "<video width=\"854\" height=\"480\" controls>\n",
       "  <source src=\"https://raw.githubusercontent.com/dborgesr/Euplotid/gh-pages/web_euplotid/CTD_phospho.mp4\" type=\"video/mp4\">\n",
       "  Your browser does not support the video tag.\n",
       "</video> "
      ],
      "text/plain": [
       "<IPython.core.display.HTML object>"
      ]
     },
     "metadata": {},
     "output_type": "display_data"
    }
   ],
   "source": [
    "%%html\n",
    "<video width=\"854\" height=\"480\" controls>\n",
    "  <source src=\"https://raw.githubusercontent.com/dborgesr/Euplotid/gh-pages/web_euplotid/CTD_phospho.mp4\" type=\"video/mp4\">\n",
    "  Your browser does not support the video tag.\n",
    "</video> "
   ]
  },
  {
   "cell_type": "markdown",
   "metadata": {
    "nbpresent": {
     "id": "8228f2dc-2ed0-4ea8-816b-e87de87ef69c"
    }
   },
   "source": [
    "## CCCTC-Binding Factor (CTCF) model \n",
    " \n",
    "<img src=\"https://raw.githubusercontent.com/dborgesr/Euplotid/gh-pages/web_euplotid/CTCF_motif.png\" style=\"width: 500px;\">  \n",
    "  \n",
    "Autocad model <http://a360.co/2sbbvHX>\n",
    "  \n",
    "Paper:\"Structural Basis for the Versatile and Methylation- Dependent Binding of CTCF to DNA\"\n",
    "http://www.cell.com/molecular-cell/comments/S1097-2765(17)30317-9"
   ]
  },
  {
   "cell_type": "code",
   "execution_count": 1,
   "metadata": {
    "nbpresent": {
     "id": "726007fe-55c9-43af-bece-d18c6caa8c35"
    }
   },
   "outputs": [
    {
     "data": {
      "text/html": [
       "<video width=\"854\" height=\"480\" controls>\n",
       "  <source src=\"https://raw.githubusercontent.com/dborgesr/Euplotid/gh-pages/web_euplotid/CTCF_motif.mp4\" type=\"video/mp4\">\n",
       "  Your browser does not support the video tag.\n",
       "</video> "
      ],
      "text/plain": [
       "<IPython.core.display.HTML object>"
      ]
     },
     "metadata": {},
     "output_type": "display_data"
    }
   ],
   "source": [
    "%%html\n",
    "<video width=\"854\" height=\"480\" controls>\n",
    "  <source src=\"https://raw.githubusercontent.com/dborgesr/Euplotid/gh-pages/web_euplotid/CTCF_motif.mp4\" type=\"video/mp4\">\n",
    "  Your browser does not support the video tag.\n",
    "</video> "
   ]
  },
  {
   "cell_type": "markdown",
   "metadata": {
    "nbpresent": {
     "id": "14c6c71c-f219-4414-a553-1e659d1f5fbf"
    }
   },
   "source": [
    "## Cis-Regulatory Element -- Transcription Start Site Loop model \n",
    " \n",
    "<img src=\"https://raw.githubusercontent.com/dborgesr/Euplotid/gh-pages/web_euplotid/gata4_locus.png\" style=\"width: 500px;\">  \n",
    "  \n",
    "Autocad model <http://a360.co/2snkND7>\n",
    "  \n",
    "Paper:\"Mesoscale Modeling Reveals Hierarchical Looping of Chromatin Fibers Near Gene Regulatory Elements\"\n",
    "<http://pubs.acs.org/doi/abs/10.1021/acs.jpcb.6b03197>"
   ]
  },
  {
   "cell_type": "code",
   "execution_count": 15,
   "metadata": {
    "nbpresent": {
     "id": "f687bb93-24ed-4b06-a752-90297c52bb68"
    }
   },
   "outputs": [
    {
     "data": {
      "text/html": [
       "<video width=\"854\" height=\"480\" controls>\n",
       "  <source src=\"https://raw.githubusercontent.com/dborgesr/Euplotid/gh-pages/web_euplotid/gata4_locus.mp4\" type=\"video/mp4\">\n",
       "  Your browser does not support the video tag.\n",
       "</video> "
      ],
      "text/plain": [
       "<IPython.core.display.HTML object>"
      ]
     },
     "metadata": {},
     "output_type": "display_data"
    }
   ],
   "source": [
    "%%html\n",
    "<video width=\"854\" height=\"480\" controls>\n",
    "  <source src=\"https://raw.githubusercontent.com/dborgesr/Euplotid/gh-pages/web_euplotid/gata4_locus.mp4\" type=\"video/mp4\">\n",
    "  Your browser does not support the video tag.\n",
    "</video> "
   ]
  },
  {
   "cell_type": "markdown",
   "metadata": {},
   "source": [
    "<img src=\"https://raw.githubusercontent.com/dborgesr/Euplotid/gh-pages/web_euplotid/lab_meeting_slides_IN_slide.png\" style=\"width: 1000px\">"
   ]
  },
  {
   "cell_type": "markdown",
   "metadata": {},
   "source": [
    "<img src=\"https://raw.githubusercontent.com/dborgesr/Euplotid/gh-pages/web_euplotid/lab_meeting_slides_Chromatin_Extrusion.png\" style=\"width: 1000px\">"
   ]
  },
  {
   "cell_type": "markdown",
   "metadata": {},
   "source": [
    "<img src=\"https://raw.githubusercontent.com/dborgesr/Euplotid/gh-pages/web_euplotid/lab_meeting_slides_IN_definition_problem.png\" style=\"width: 1000px\">"
   ]
  },
  {
   "cell_type": "markdown",
   "metadata": {
    "nbpresent": {
     "id": "36b6e3ac-a298-45cd-aab8-2f39a700982f"
    }
   },
   "source": [
    "\n",
    "&nbsp;&nbsp;&nbsp;&nbsp;&nbsp;&nbsp;&nbsp;&nbsp;The regulation of transcription through the looping of CREs and TSSs appears to be often perturbed by disease causing mutations, especially those which are associated with non-coding CREs. By combining recently developed methodologies to probe RNA-Seq, DNA-DNA interactions and Chromatin Accessibility with our recently aqcuired knowledge of the physical hierarchy governing the folding of the genome, we are able to build a rough picture of the 3D regulatory landscape of the genome. In order to digest this information in a manner which can guide experimentalists it is key to annotate and allow for easy access of these structures. Taking advantage of a number of recent developments in unrelated fields we are able to do just that; we provide a constantly evolving platform capable of allowing biologists to make physically informed decisions as what variation is causing the phenotype based on quantumly accurate models virtually anywhere, anytime.\n"
   ]
  },
  {
   "cell_type": "markdown",
   "metadata": {
    "nbpresent": {
     "id": "bf5a413e-c52c-4670-8fc0-337a8e3256fe"
    }
   },
   "source": [
    "<img src=\"https://raw.githubusercontent.com/dborgesr/Euplotid/gh-pages/web_euplotid/lab_meeting_slides_Problem.png\" style=\"width: 1000px;\">"
   ]
  },
  {
   "cell_type": "markdown",
   "metadata": {
    "nbpresent": {
     "id": "ae60d289-acd0-4325-90c2-7b2bc4986ca2"
    }
   },
   "source": [
    "<img src=\"https://raw.githubusercontent.com/dborgesr/Euplotid/gh-pages/web_euplotid/lab_meeting_slides_Solution.png\" style=\"width: 1000px;\">"
   ]
  }
 ],
 "metadata": {
  "anaconda-cloud": {},
  "celltoolbar": "Edit Metadata",
  "cite2c": {
   "citations": {
    "1745311/2PZWK5ZD": {
     "DOI": "10.1016/j.celrep.2016.04.085",
     "URL": "http://www.ncbi.nlm.nih.gov/pmc/articles/PMC4889513/",
     "abstract": "Topologically Associating Domains (TADs) are fundamental structural and functional building blocks of human interphase chromosomes, yet mechanisms of TAD formation remain unclear. Here we propose that loop extrusion underlies TAD formation. In this process, cis-acting loop-extruding factors, likely cohesins, form progressively larger loops, but stall at TAD boundaries due to interactions with boundary proteins, including CTCF. Using polymer simulations, we show that this model produces TADs and other fine features of Hi-C data. Contrary to typical illustrations, each TAD consists of multiple loops dynamically formed through extrusion, rather than a single static loop. Loop extrusion both explains diverse experimental observations, including the preferential orientation of CTCF motifs, enrichments of architectural proteins at TAD boundaries, and boundary deletion experiments, and makes specific predictions for depletion of CTCF versus cohesin. Finally, loop extrusion has additional, potentially far-ranging, consequences for processes including enhancer-promoter interactions, orientation-specific chromosomal looping, and compaction of mitotic chromosomes.,",
     "accessed": {
      "day": "16",
      "month": "8",
      "year": "2016"
     },
     "author": [
      {
       "family": "Fudenberg",
       "given": "Geoffrey"
      },
      {
       "family": "Imakaev",
       "given": "Maxim"
      },
      {
       "family": "Lu",
       "given": "Carolyn"
      },
      {
       "family": "Goloborodko",
       "given": "Anton"
      },
      {
       "family": "Abdennur",
       "given": "Nezar"
      },
      {
       "family": "Mirny",
       "given": "Leonid A."
      }
     ],
     "container-title": "Cell reports",
     "container-title-short": "Cell Rep",
     "id": "1745311/2PZWK5ZD",
     "issue": "9",
     "issued": {
      "day": "31",
      "month": "5",
      "year": "2016"
     },
     "journalAbbreviation": "Cell Rep",
     "note": "PMID: 27210764\nPMCID: PMC4889513",
     "page": "2038-2049",
     "page-first": "2038",
     "title": "Formation of Chromosomal Domains by Loop Extrusion",
     "type": "article-journal",
     "volume": "15"
    },
    "1745311/4HW945WM": {
     "URL": "http://jem.rupress.org/content/79/2/137",
     "accessed": {
      "day": "7",
      "month": "7",
      "year": "2017"
     },
     "id": "1745311/4HW945WM",
     "title": "STUDIES ON THE CHEMICAL NATURE OF THE SUBSTANCE INDUCING TRANSFORMATION OF PNEUMOCOCCAL TYPES | JEM",
     "type": "article"
    },
    "1745311/52ZIG87G": {
     "DOI": "10.1038/nature20781",
     "URL": "http://www.nature.com/nature/journal/v541/n7636/full/nature20781.html",
     "abstract": "Chromatin structure at the length scale encompassing local nucleosome–nucleosome interactions is thought to play a crucial role in regulating transcription and access to DNA. However, this secondary structure of chromatin remains poorly understood compared with the primary structure of single nucleosomes or the tertiary structure of long-range looping interactions. Here we report the first genome-wide map of chromatin conformation in human cells at the 1–3 nucleosome (50–500 bp) scale, obtained using ionizing radiation-induced spatially correlated cleavage of DNA with sequencing (RICC-seq) to identify DNA–DNA contacts that are spatially proximal. Unbiased analysis of RICC-seq signal reveals regional enrichment of DNA fragments characteristic of alternating rather than adjacent nucleosome interactions in tri-nucleosome units, particularly in H3K9me3-marked heterochromatin. We infer differences in the likelihood of nucleosome–nucleosome contacts among open chromatin, H3K27me3-marked, and H3K9me3-marked repressed chromatin regions. After calibrating RICC-seq signal to three-dimensional distances, we show that compact two-start helical fibre structures with stacked alternating nucleosomes are consistent with RICC-seq fragmentation patterns from H3K9me3-marked chromatin, while non-compact structures and solenoid structures are consistent with open chromatin. Our data support a model of chromatin architecture in intact interphase nuclei consistent with variable longitudinal compaction of two-start helical fibres.",
     "accessed": {
      "day": "21",
      "month": "4",
      "year": "2017"
     },
     "author": [
      {
       "family": "Risca",
       "given": "Viviana I."
      },
      {
       "family": "Denny",
       "given": "Sarah K."
      },
      {
       "family": "Straight",
       "given": "Aaron F."
      },
      {
       "family": "Greenleaf",
       "given": "William J."
      }
     ],
     "container-title": "Nature",
     "container-title-short": "Nature",
     "id": "1745311/52ZIG87G",
     "issue": "7636",
     "issued": {
      "day": 12,
      "month": "1",
      "year": "2017"
     },
     "journalAbbreviation": "Nature",
     "language": "en",
     "page": "237-241",
     "page-first": "237",
     "title": "Variable chromatin structure revealed by in situ spatially correlated DNA cleavage mapping",
     "type": "article-journal",
     "volume": "541"
    },
    "1745311/54MUDKIJ": {
     "DOI": "10.1080/14786440608563325",
     "URL": "http://dx.doi.org/10.1080/14786440608563325",
     "author": [
      {
       "family": "Dalton",
       "given": "John"
      }
     ],
     "container-title": "Philosophical Magazine",
     "id": "1745311/54MUDKIJ",
     "issue": "93",
     "issued": {
      "day": 1,
      "month": "2",
      "year": "1806"
     },
     "page": "15-24",
     "page-first": "15",
     "title": "III. On the absorption of gases by water and other liquids",
     "type": "article-journal",
     "volume": "24"
    },
    "1745311/559ZWXW7": {
     "abstract": "The simian virus 40 (SV40) origin region includes the viral replication origin and the early and late promoters and consists of a few palindromes, a 17-base-pair (bp) A + T-rich sequence, three copies of a G + C-rich 21-bp repeat, and two copies of a 72-bp repeat. We have made sequential deletions in the SV40 origin region and determined the early promoter efficiencies of these truncated DNA segments by connecting them in the correct orientation with the coding regions of selectable marker genes and assaying the expression of the chimeric marker genes in vivo in different host cell lines. A truncated SV40 early promoter segment containing only the TATA box and the major in vivo mRNA initiation sites has essentially no promoter efficiency. We have located the major component of the SV40 early promoter within the 21-bp repeated sequences, which consist of an alternating and mutually overlapping array of two C-rich oligonucleotides having the consensus sequences Y-Y-C-C-G-C-C-C (Y = pyrimidine nucleoside) and G-C-C-C-(C)-TA-AT-A(T)-C-T. Between one and two copies of the 21-bp repeat were adequate for gene expression under conditions in which the enhancement effect of the 72-bp repeat was minimal. We also find that the SV40 72-bp repeat exhibits a pronounced host range in its enhancement of gene expression; the enhancement is only 2-fold in the nonpermissive mouse cells but amounts to 10- or 20-fold in the permissive monkey cells or the semipermissive human cells, respectively.",
     "author": [
      {
       "family": "Byrne",
       "given": "B. J."
      },
      {
       "family": "Davis",
       "given": "M. S."
      },
      {
       "family": "Yamaguchi",
       "given": "J."
      },
      {
       "family": "Bergsma",
       "given": "D. J."
      },
      {
       "family": "Subramanian",
       "given": "K. N."
      }
     ],
     "container-title": "Proceedings of the National Academy of Sciences of the United States of America",
     "container-title-short": "Proc. Natl. Acad. Sci. U.S.A.",
     "id": "1745311/559ZWXW7",
     "issue": "3",
     "issued": {
      "month": "2",
      "year": "1983"
     },
     "journalAbbreviation": "Proc. Natl. Acad. Sci. U.S.A.",
     "language": "eng",
     "note": "PMID: 6298771\nPMCID: PMC393451",
     "page": "721-725",
     "page-first": "721",
     "title": "Definition of the simian virus 40 early promoter region and demonstration of a host range bias in the enhancement effect of the simian virus 40 72-base-pair repeat",
     "type": "article-journal",
     "volume": "80"
    },
    "1745311/55MXUA5T": {
     "DOI": "10.1002/andp.19263840404",
     "URL": "http://onlinelibrary.wiley.com/doi/10.1002/andp.19263840404/abstract",
     "author": [
      {
       "family": "Schrödinger",
       "given": "E."
      }
     ],
     "container-title": "Annalen der Physik",
     "container-title-short": "Ann. Phys.",
     "id": "1745311/55MXUA5T",
     "issue": "4",
     "issued": {
      "day": 1,
      "month": "1",
      "year": "1926"
     },
     "journalAbbreviation": "Ann. Phys.",
     "language": "en",
     "page": "361-376",
     "page-first": "361",
     "title": "Quantisierung als Eigenwertproblem",
     "type": "article-journal",
     "volume": "384"
    },
    "1745311/5FBBTJR4": {
     "DOI": "10.1038/ncomms12523",
     "URL": "https://www.nature.com/articles/ncomms12523",
     "abstract": "<p>\nCohesin is a ring-shaped protein complex that structures chromatin and mediates sister chromatid cohesion. Here the authors rigidify cohesin using engineered Smc1 and Smc3 and generated 3D models showing how Pds5B forms an integral part of the cohesin ring.</p>",
     "accessed": {
      "day": "7",
      "month": "7",
      "year": "2017"
     },
     "author": [
      {
       "family": "Hons",
       "given": "Michael T."
      },
      {
       "family": "Veld",
       "given": "Pim J. Huis in ‘t"
      },
      {
       "family": "Kaesler",
       "given": "Jan"
      },
      {
       "family": "Rombaut",
       "given": "Pascaline"
      },
      {
       "family": "Schleiffer",
       "given": "Alexander"
      },
      {
       "family": "Herzog",
       "given": "Franz"
      },
      {
       "family": "Stark",
       "given": "Holger"
      },
      {
       "family": "Peters",
       "given": "Jan-Michael"
      }
     ],
     "container-title": "Nature Communications",
     "id": "1745311/5FBBTJR4",
     "issued": {
      "day": "23",
      "month": "8",
      "year": "2016"
     },
     "language": "en",
     "page": "ncomms12523",
     "page-first": "ncomms12523",
     "title": "Topology and structure of an engineered human cohesin complex bound to Pds5B",
     "type": "article-journal",
     "volume": "7"
    },
    "1745311/6ZMA9SIN": {
     "DOI": "10.1016/j.cell.2014.09.030",
     "URL": "http://www.ncbi.nlm.nih.gov/pmc/articles/PMC4197132/",
     "abstract": "The pluripotent state of embryonic stem cells (ESCs) is produced by active transcription of genes that control cell identity and repression of genes encoding lineage-specifying developmental regulators. Here we use ESC cohesin ChIAPET data to identify the local chromosomal structures at both active and repressed genes across the genome. The results produce a map of enhancer-promoter interactions and reveal that super-enhancer driven genes generally occur within chromosome structures that are formed by the looping of two interacting CTCF sites co-occupied by cohesin. These looped structures form insulated neighborhoods whose integrity is important for proper expression of local genes. We also find that repressed genes encoding lineage-specifying developmental regulators occur within insulated neighborhoods. These results provide new insights into the relationship between transcriptional control of cell identity genes and control of local chromosome structure.",
     "accessed": {
      "day": "16",
      "month": "8",
      "year": "2016"
     },
     "author": [
      {
       "family": "Dowen",
       "given": "Jill M."
      },
      {
       "family": "Fan",
       "given": "Zi Peng"
      },
      {
       "family": "Hnisz",
       "given": "Denes"
      },
      {
       "family": "Ren",
       "given": "Gang"
      },
      {
       "family": "Abraham",
       "given": "Brian J."
      },
      {
       "family": "Zhang",
       "given": "Lyndon N."
      },
      {
       "family": "Weintraub",
       "given": "Abraham S."
      },
      {
       "family": "Schujiers",
       "given": "Jurian"
      },
      {
       "family": "Lee",
       "given": "Tong Ihn"
      },
      {
       "family": "Zhao",
       "given": "Keji"
      },
      {
       "family": "Young",
       "given": "Richard A."
      }
     ],
     "container-title": "Cell",
     "container-title-short": "Cell",
     "id": "1745311/6ZMA9SIN",
     "issue": "2",
     "issued": {
      "day": "9",
      "month": "10",
      "year": "2014"
     },
     "journalAbbreviation": "Cell",
     "note": "PMID: 25303531\nPMCID: PMC4197132",
     "page": "374-387",
     "page-first": "374",
     "title": "Control of cell identity genes occurs in insulated neighborhoods in mammalian chromosomes",
     "type": "article-journal",
     "volume": "159"
    },
    "1745311/8QSU689F": {
     "DOI": "10.1080/14786435.2011.617037",
     "URL": "http://dx.doi.org/10.1080/14786435.2011.617037",
     "author": [
      {
       "family": "F.R.S",
       "given": "E. Rutherford"
      }
     ],
     "container-title": "Philosophical Magazine",
     "id": "1745311/8QSU689F",
     "issue": "4",
     "issued": {
      "day": 1,
      "month": "2",
      "year": "2012"
     },
     "page": "379-398",
     "page-first": "379",
     "title": "The scattering of α and β particles by matter and the structure of the atom",
     "type": "article-journal",
     "volume": "92"
    },
    "1745311/ASC64C6C": {
     "DOI": "10.1016/j.cell.2009.06.001",
     "URL": "/cell/abstract/S0092-8674(09)00699-0",
     "abstract": "CTCF is a highly conserved zinc finger protein implicated in diverse regulatory functions, including transcriptional activation/repression, insulation, imprinting, and X chromosome inactivation. Here we re-evaluate data supporting these roles in the context of mechanistic insights provided by recent genome-wide studies and highlight evidence for CTCF-mediated intra- and interchromosomal contacts at several developmentally regulated genomic loci. These analyses support a primary role for CTCF in the global organization of chromatin architecture and suggest that CTCF may be a heritable component of an epigenetic system regulating the interplay between DNA methylation, higher-order chromatin structure, and lineage-specific gene expression.",
     "accessed": {
      "day": "16",
      "month": "8",
      "year": "2016"
     },
     "author": [
      {
       "family": "Phillips",
       "given": "Jennifer E."
      },
      {
       "family": "Corces",
       "given": "Victor G."
      }
     ],
     "container-title": "Cell",
     "container-title-short": "Cell",
     "id": "1745311/ASC64C6C",
     "issue": "7",
     "issued": {
      "day": 26,
      "month": "6",
      "year": "2009"
     },
     "journalAbbreviation": "Cell",
     "language": "English",
     "note": "PMID: 19563753, 19563753",
     "page": "1194-1211",
     "page-first": "1194",
     "shortTitle": "CTCF",
     "title": "CTCF: Master Weaver of the Genome",
     "title-short": "CTCF",
     "type": "article-journal",
     "volume": "137"
    },
    "1745311/BKCSG8F3": {
     "DOI": "10.1083/jcb.200112074",
     "URL": "http://www.ncbi.nlm.nih.gov/pmc/articles/PMC2173542/",
     "abstract": "One of several features acquired by chromatin of the inactive X chromosome (Xi) is enrichment for the core histone H2A variant macroH2A within a distinct nuclear structure referred to as a macrochromatin body (MCB). In addition to localizing to the MCB, macroH2A accumulates at a perinuclear structure centered at the centrosome. To better understand the association of macroH2A1 with the centrosome and the formation of an MCB, we investigated the distribution of macroH2A1 throughout the somatic cell cycle. Unlike Xi-specific RNA, which associates with the Xi throughout interphase, the appearance of an MCB is predominantly a feature of S phase. Although the MCB dissipates during late S phase and G2 before reforming in late G1, macroH2A1 remains associated during mitosis with specific regions of the Xi, including at the X inactivation center. This association yields a distinct macroH2A banding pattern that overlaps with the site of histone H3 lysine-4 methylation centered at the DXZ4 locus in Xq24. The centrosomal pool of macroH2A1 accumulates in the presence of an inhibitor of the 20S proteasome. Therefore, targeting of macroH2A1 to the centrosome is likely part of a degradation pathway, a mechanism common to a variety of other chromatin proteins.",
     "accessed": {
      "day": "11",
      "month": "5",
      "year": "2017"
     },
     "author": [
      {
       "family": "Chadwick",
       "given": "Brian P."
      },
      {
       "family": "Willard",
       "given": "Huntington F."
      }
     ],
     "container-title": "The Journal of Cell Biology",
     "container-title-short": "J Cell Biol",
     "id": "1745311/BKCSG8F3",
     "issue": "7",
     "issued": {
      "day": "24",
      "month": "6",
      "year": "2002"
     },
     "journalAbbreviation": "J Cell Biol",
     "note": "PMID: 12082075\nPMCID: PMC2173542",
     "page": "1113-1123",
     "page-first": "1113",
     "title": "Cell cycle–dependent localization of macroH2A in chromatin of the inactive X chromosome",
     "type": "article-journal",
     "volume": "157"
    },
    "1745311/ERZJ3F64": {
     "DOI": "10.1016/j.cell.2013.03.035",
     "URL": "http://www.cell.com/cell/abstract/S0092-8674(13)00392-9",
     "accessed": {
      "day": "28",
      "month": "4",
      "year": "2017"
     },
     "author": [
      {
       "family": "Whyte",
       "given": "Warren A."
      },
      {
       "family": "Orlando",
       "given": "David A."
      },
      {
       "family": "Hnisz",
       "given": "Denes"
      },
      {
       "family": "Abraham",
       "given": "Brian J."
      },
      {
       "family": "Lin",
       "given": "Charles Y."
      },
      {
       "family": "Kagey",
       "given": "Michael H."
      },
      {
       "family": "Rahl",
       "given": "Peter B."
      },
      {
       "family": "Lee",
       "given": "Tong Ihn"
      },
      {
       "family": "Young",
       "given": "Richard A."
      }
     ],
     "container-title": "Cell",
     "container-title-short": "Cell",
     "id": "1745311/ERZJ3F64",
     "issue": "2",
     "issued": {
      "day": "11",
      "month": "4",
      "year": "2013"
     },
     "journalAbbreviation": "Cell",
     "language": "English",
     "note": "PMID: 23582322",
     "page": "307-319",
     "page-first": "307",
     "title": "Master Transcription Factors and Mediator Establish Super-Enhancers at Key Cell Identity Genes",
     "type": "article-journal",
     "volume": "153"
    },
    "1745311/G8G5FRPZ": {
     "URL": "http://www.cell.com/molecular-cell/comments/S1097-2765(17)30317-9",
     "accessed": {
      "day": "7",
      "month": "7",
      "year": "2017"
     },
     "id": "1745311/G8G5FRPZ",
     "title": "Structural Basis for the Versatile and Methylation-Dependent Binding of CTCF to DNA: Molecular Cell",
     "type": "webpage"
    },
    "1745311/GTG63VGT": {
     "DOI": "10.1111/j.1096-3642.1858.tb02500.x",
     "URL": "http://onlinelibrary.wiley.com/doi/10.1111/j.1096-3642.1858.tb02500.x/abstract",
     "author": [
      {
       "family": "Darwin",
       "given": "Charles"
      },
      {
       "family": "Wallace",
       "given": "Alfred"
      }
     ],
     "container-title": "Journal of the Proceedings of the Linnean Society of London. Zoology",
     "id": "1745311/GTG63VGT",
     "issue": "9",
     "issued": {
      "day": 1,
      "month": "8",
      "year": "1858"
     },
     "language": "en",
     "page": "45-62",
     "page-first": "45",
     "title": "On the Tendency of Species to form Varieties; and on the Perpetuation of Varieties and Species by Natural Means of Selection.",
     "type": "article-journal",
     "volume": "3"
    },
    "1745311/HENMHUN4": {
     "URL": "http://www.cell.com/cell/pdf/S0092-8674(16)31147-3.pdf",
     "accessed": {
      "day": "7",
      "month": "7",
      "year": "2017"
     },
     "id": "1745311/HENMHUN4",
     "title": "Structure of a Complete Mediator-RNA Polymerase II Pre-Initiation Complex: Cell",
     "type": "article"
    },
    "1745311/IBZ7HEDE": {
     "DOI": "10.1080/14786449708621070",
     "URL": "http://dx.doi.org/10.1080/14786449708621070",
     "author": [
      {
       "family": "F.R.S",
       "given": "J. J. Thomson M. A."
      }
     ],
     "container-title": "Philosophical Magazine",
     "id": "1745311/IBZ7HEDE",
     "issue": "269",
     "issued": {
      "day": 1,
      "month": "10",
      "year": "1897"
     },
     "page": "293-316",
     "page-first": "293",
     "title": "XL. Cathode Rays",
     "type": "article-journal",
     "volume": "44"
    },
    "1745311/K57EFW4V": {
     "author": [
      {
       "family": "Watson",
       "given": "J. D."
      },
      {
       "family": "Crick",
       "given": "F. H."
      }
     ],
     "container-title": "Nature",
     "container-title-short": "Nature",
     "id": "1745311/K57EFW4V",
     "issue": "5451",
     "issued": {
      "day": 26,
      "month": "4",
      "year": "1974"
     },
     "journalAbbreviation": "Nature",
     "language": "eng",
     "note": "PMID: 4599080",
     "page": "765",
     "page-first": "765",
     "shortTitle": "Molecular structure of nucleic acids",
     "title": "Molecular structure of nucleic acids: a structure for deoxyribose nucleic acid. J.D. Watson and F.H.C. Crick. Published in Nature, number 4356 April 25, 1953",
     "title-short": "Molecular structure of nucleic acids",
     "type": "article-journal",
     "volume": "248"
    },
    "1745311/MFVSG9DI": {
     "DOI": "10.1101/gad.288324.116",
     "URL": "http://genesdev.cshlp.org/content/30/24/2657",
     "abstract": "The genome is organized into repeating topologically associated domains (TADs), each of which is spatially isolated from its neighbor by poorly understood boundary elements thought to be conserved across cell types. Here, we show that deletion of CTCF (CCCTC-binding factor)-binding sites at TAD and sub-TAD topological boundaries that form within the HoxA and HoxC clusters during differentiation not only disturbs local chromatin domain organization and regulatory interactions but also results in homeotic transformations typical of Hox gene misregulation. Moreover, our data suggest that CTCF-dependent boundary function can be modulated by competing forces, such as the self-assembly of polycomb domains within the nucleus. Therefore, CTCF boundaries are not merely static structural components of the genome but instead are locally dynamic regulatory structures that control gene expression during development.",
     "accessed": {
      "day": "25",
      "month": "1",
      "year": "2017"
     },
     "author": [
      {
       "family": "Narendra",
       "given": "Varun"
      },
      {
       "family": "Bulajić",
       "given": "Milica"
      },
      {
       "family": "Dekker",
       "given": "Job"
      },
      {
       "family": "Mazzoni",
       "given": "Esteban O."
      },
      {
       "family": "Reinberg",
       "given": "Danny"
      }
     ],
     "container-title": "Genes & Development",
     "container-title-short": "Genes Dev.",
     "id": "1745311/MFVSG9DI",
     "issue": "24",
     "issued": {
      "day": 12,
      "day_end": 15,
      "year": "2016",
      "year_end": "2016"
     },
     "journalAbbreviation": "Genes Dev.",
     "language": "en",
     "note": "PMID: 28087711",
     "page": "2657-2662",
     "page-first": "2657",
     "title": "CTCF-mediated topological boundaries during development foster appropriate gene regulation",
     "type": "article-journal",
     "volume": "30"
    },
    "1745311/NM2JT7IP": {
     "URL": "http://www.jbc.org/content/233/1/171",
     "accessed": {
      "day": "7",
      "month": "7",
      "year": "2017"
     },
     "author": [
      {
       "family": "Bessman",
       "given": "Maurice J."
      },
      {
       "family": "Lehman",
       "given": "I. R."
      },
      {
       "family": "Simms",
       "given": "Ernest S."
      },
      {
       "family": "Kornberg",
       "given": "Arthur"
      }
     ],
     "container-title": "Journal of Biological Chemistry",
     "container-title-short": "J. Biol. Chem.",
     "id": "1745311/NM2JT7IP",
     "issue": "1",
     "issued": {
      "day": 7,
      "day_end": 1,
      "year": "1958",
      "year_end": "1958"
     },
     "journalAbbreviation": "J. Biol. Chem.",
     "language": "en",
     "note": "PMID: 13563463",
     "page": "171-177",
     "page-first": "171",
     "title": "Enzymatic Synthesis of Deoxyribonucleic Acid II. GENERAL PROPERTIES OF THE REACTION",
     "type": "article-journal",
     "volume": "233"
    },
    "1745311/PUJBJ2BX": {
     "URL": "http://www.ncbi.nlm.nih.gov/pmc/articles/PMC300163/",
     "author": [
      {
       "family": "Allfrey",
       "given": "V. G."
      },
      {
       "family": "Faulkner",
       "given": "R."
      },
      {
       "family": "Mirsky",
       "given": "A. E."
      }
     ],
     "container-title": "Proceedings of the National Academy of Sciences of the United States of America",
     "container-title-short": "Proc Natl Acad Sci U S A",
     "id": "1745311/PUJBJ2BX",
     "issue": "5",
     "issued": {
      "month": "5",
      "year": "1964"
     },
     "journalAbbreviation": "Proc Natl Acad Sci U S A",
     "note": "PMID: 14172992\nPMCID: PMC300163",
     "page": "786-794",
     "page-first": "786",
     "title": "ACETYLATION AND METHYLATION OF HISTONES AND THEIR POSSIBLE ROLE IN THE REGULATION OF RNA SYNTHESIS*",
     "type": "article-journal",
     "volume": "51"
    },
    "1745311/R5A5BBU8": {
     "URL": "http://vlp.mpiwg-berlin.mpg.de/references?id=lit16533",
     "author": [
      {
       "family": "Baumann",
       "given": "E."
      }
     ],
     "container-title": "Zeitschrift für Physiologische Chemie",
     "id": "1745311/R5A5BBU8",
     "issue": "4",
     "issued": {
      "month": "84",
      "year": "1883"
     },
     "language": "German",
     "page": "299-305",
     "page-first": "299",
     "title": "Ueber Cystin und Cystein",
     "type": "article-journal",
     "volume": "8"
    },
    "1745311/R7UDSURH": {
     "URL": "https://embryo.asu.edu/pages/experiments-plant-hybridization-1866-johann-gregor-mendel",
     "accessed": {
      "day": "7",
      "month": "7",
      "year": "2017"
     },
     "id": "1745311/R7UDSURH",
     "title": "\"Experiments in Plant Hybridization\" (1866), by Johann Gregor Mendel | The Embryo Project Encyclopedia",
     "type": "webpage"
    },
    "1745311/RFQ4WIKS": {
     "DOI": "10.1016/j.stem.2015.11.007",
     "URL": "/cell-stem-cell/abstract/S1934-5909(15)00505-6",
     "abstract": "In this study, we describe the 3D chromosome regulatory landscape of human naive and primed embryonic stem cells. To devise this map, we identified transcriptional enhancers and insulators in these cells and placed them within the context of cohesin-associated CTCF-CTCF loops using cohesin ChIA-PET data. The CTCF-CTCF loops we identified form a chromosomal framework of insulated neighborhoods, which in turn form topologically associating domains (TADs) that are largely preserved during the transition between the naive and primed states. Regulatory changes in enhancer-promoter interactions occur within insulated neighborhoods during cell state transition. The CTCF anchor regions we identified are conserved across species, influence gene expression, and are a frequent site of mutations in cancer cells, underscoring their functional importance in cellular regulation. These 3D regulatory maps of human pluripotent cells therefore provide a foundation for future interrogation of the relationships between chromosome structure and gene control in development and disease.",
     "accessed": {
      "day": "16",
      "month": "8",
      "year": "2016"
     },
     "author": [
      {
       "family": "Ji",
       "given": "Xiong"
      },
      {
       "family": "Dadon",
       "given": "Daniel B."
      },
      {
       "family": "Powell",
       "given": "Benjamin E."
      },
      {
       "family": "Fan",
       "given": "Zi Peng"
      },
      {
       "family": "Borges-Rivera",
       "given": "Diego"
      },
      {
       "family": "Shachar",
       "given": "Sigal"
      },
      {
       "family": "Weintraub",
       "given": "Abraham S."
      },
      {
       "family": "Hnisz",
       "given": "Denes"
      },
      {
       "family": "Pegoraro",
       "given": "Gianluca"
      },
      {
       "family": "Lee",
       "given": "Tong Ihn"
      },
      {
       "family": "Misteli",
       "given": "Tom"
      },
      {
       "family": "Jaenisch",
       "given": "Rudolf"
      },
      {
       "family": "Young",
       "given": "Richard A."
      }
     ],
     "container-title": "Cell Stem Cell",
     "container-title-short": "Cell Stem Cell",
     "id": "1745311/RFQ4WIKS",
     "issue": "2",
     "issued": {
      "day": 4,
      "month": "2",
      "year": "2016"
     },
     "journalAbbreviation": "Cell Stem Cell",
     "language": "English",
     "page": "262-275",
     "page-first": "262",
     "title": "3D Chromosome Regulatory Landscape of Human Pluripotent Cells",
     "type": "article-journal",
     "volume": "18"
    },
    "1745311/S3XIJU4R": {
     "URL": "http://www.ncbi.nlm.nih.gov/pmc/articles/PMC1931864/",
     "author": [
      {
       "family": "Knox",
       "given": "W. Eugene"
      }
     ],
     "container-title": "American Journal of Human Genetics",
     "container-title-short": "Am J Hum Genet",
     "id": "1745311/S3XIJU4R",
     "issue": "1",
     "issued": {
      "month": "3",
      "year": "1958"
     },
     "journalAbbreviation": "Am J Hum Genet",
     "note": "PMID: 13520695\nPMCID: PMC1931864",
     "page": "3-32",
     "page-first": "3",
     "title": "Sir Archibald Garrod's “Inborn Errors of Metabolism.” I. Cystinuria",
     "type": "article-journal",
     "volume": "10"
    },
    "1745311/S4P6BQ7G": {
     "URL": "http://agris.fao.org/agris-search/search.do?recordID=US201300419043",
     "author": [
      {
       "family": "Kossel",
       "given": "Albrecht"
      },
      {
       "family": "others",
       "given": ""
      }
     ],
     "id": "1745311/S4P6BQ7G",
     "issued": {
      "year": "1928"
     },
     "title": "Protamines and histones",
     "type": "article-journal"
    },
    "1745311/SAK4UA3U": {
     "DOI": "10.1101/SQB.1978.042.01.105",
     "URL": "http://symposium.cshlp.org/content/42/1047",
     "abstract": "Excerpt\nThe expression of the genes for each of the five histone proteins is tightly regulated with respect to the cell cycle, the developmental stage, and the expression of the other histone genes. In several species studied, the synthesis of all five proteins occurs exclusively in concert with the DNA synthetic phase of the cell cycle (Robbins and Borun 1967; Kedes et al. 1969; Perry and Kelley 1973); the four histones of the nucleosome core are found in equimolar amounts, whereas H1 protein is found in less than molar quantity (for review, see Kornberg 1974). Variant histone proteins associated with specific developmental stages have been observed (Cohen et al. 1975; Arceci et al. 1976; Newrock and Cohen, this volume), indicating that there must be genes for these variant proteins which are differentially expressed according to precise developmental programs. Drosophila melanogaster is an appealing organism in which to study these genes and...",
     "accessed": {
      "day": "7",
      "month": "7",
      "year": "2017"
     },
     "author": [
      {
       "family": "Lifton",
       "given": "R. P."
      },
      {
       "family": "Goldberg",
       "given": "M. L."
      },
      {
       "family": "Karp",
       "given": "R. W."
      },
      {
       "family": "Hogness",
       "given": "D. S."
      }
     ],
     "container-title": "Cold Spring Harbor Symposia on Quantitative Biology",
     "container-title-short": "Cold Spring Harb Symp Quant Biol",
     "id": "1745311/SAK4UA3U",
     "issued": {
      "day": 1,
      "day_end": 1,
      "year": "1978",
      "year_end": "1978"
     },
     "journalAbbreviation": "Cold Spring Harb Symp Quant Biol",
     "language": "en",
     "note": "PMID: 98262",
     "page": "1047-1051",
     "page-first": "1047",
     "shortTitle": "The Organization of the Histone Genes in Drosophila melanogaster",
     "title": "The Organization of the Histone Genes in Drosophila melanogaster: Functional and Evolutionary Implications",
     "title-short": "The Organization of the Histone Genes in Drosophila melanogaster",
     "type": "article-journal",
     "volume": "42"
    },
    "1745311/THQN83ND": {
     "URL": "https://plato.stanford.edu/archives/spr2014/entries/plato-timaeus/",
     "abstract": "In the Timaeus Plato presents an elaborately wroughtaccount of the formation of the universe. Plato is deeply impressedwith the order and beauty he observes in the universe, and his projectin the dialogue is to explain that order and beauty. The universe, heproposes, is the product of rational, purposive, and beneficent agency.It is the handiwork of a divine Craftsman (“Demiurge,”dêmiourgos, 28a6), who, imitating an unchanging andeternal model, imposes mathematical order on a preexistent chaos togenerate the ordered universe (kosmos). The governingexplanatory principle of the account is teleological: the universe as awhole as well as its various parts are so arranged as to produce a vastarray of good effects. It strikes Plato strongly that this arrangementis not fortuitous, but the outcome of the deliberate intent ofIntellect (nous), anthropomorphically represented by thefigure of the Craftsman who plans and constructs a world that is asexcellent as its nature permits it to be., As Plato tells it, the beautiful orderliness of the universe is notonly the manifestation of Intellect; it is also the model for rationalsouls to understand and to emulate. Such understanding and emulationrestores those souls to their original state of excellence, a statethat was lost in their embodiment. There is, then, an explicit ethicaland religious dimension to the discourse., This picture of a divinely created universe, though controversialfrom the start (see below, section 2), has captured the imagination and admiration of numerous generationsof philosophers and theologians though the centuries.[1] Because of the vast scope of the work, as well as its character as amonologue—by excluding exchanges between interlocutors thediscourse is much more like an authoritative statement than a set ofquestions to be investigated—the Timaeus was generallytaken to be the culmination of its author's intellectualachievement, particularly by thinkers in sympathy with its portrayalof the universe. Not surprisingly, as after the Renaissance thetheological worldview gave way to a more secular one, the culturalinfluence of the Timaeus began to wane over time. In thelatter part of the nineteenth and earlier part of the twentiethcentury interest in the Timaeus was again stimulated by therefinement of philological methods and exact historical scholarship,[2] but for most of the second half of the twentieth century the dialoguewas frequently dismissed as philosophically insignificant at best andregressive at worst. It played an important role in debates about thedevelopment of Plato's philosophy, but not much more. Recentdecades, however, have witnessed a revival of interest in theTimaeus: philosophers, historians of science and of ideas,and philologists, while not persuaded by the dialogue's boldclaims, have been fascinated by its majestic account and havesympathetically entered into and sought to elucidate its conceptualstructure.",
     "author": [
      {
       "family": "Zeyl",
       "given": "Donald"
      }
     ],
     "container-title": "The Stanford Encyclopedia of Philosophy",
     "edition": "Spring 2014",
     "editor": [
      {
       "family": "Zalta",
       "given": "Edward N."
      }
     ],
     "id": "1745311/THQN83ND",
     "issued": {
      "year": "2014"
     },
     "publisher": "Metaphysics Research Lab, Stanford University",
     "title": "Plato's <em>Timaeus</em>",
     "type": "chapter"
    },
    "1745311/U8PS4M6J": {
     "DOI": "10.1126/science.172.3984.637",
     "URL": "http://science.sciencemag.org/content/172/3984/637",
     "accessed": {
      "day": "7",
      "month": "7",
      "year": "2017"
     },
     "author": [
      {
       "family": "Chargaff",
       "given": "Erwin"
      }
     ],
     "container-title": "Science",
     "id": "1745311/U8PS4M6J",
     "issue": "3984",
     "issued": {
      "day": 14,
      "month": "5",
      "year": "1971"
     },
     "language": "en",
     "note": "PMID: 4929532",
     "page": "637-642",
     "page-first": "637",
     "title": "Preface to a Grammar of Biology",
     "type": "article-journal",
     "volume": "172"
    },
    "1745311/VSS83AZA": {
     "URL": "http://www.ijsrp.org/research-paper-0514.php?rp=P292642",
     "accessed": {
      "day": "7",
      "month": "7",
      "year": "2017"
     },
     "id": "1745311/VSS83AZA",
     "title": "An Introduction to Tetryonic Theory | IJSRP February 2013 Publication",
     "type": "webpage"
    },
    "1745311/WA5RN2W9": {
     "DOI": "10.1016/j.yexcr.2012.02.014",
     "URL": "http://www.sciencedirect.com/science/article/pii/S0014482712000900",
     "abstract": "Despite over 30years of work, the fundamental structure of eukaryotic chromatin remains controversial. Here, we review the roots of this controversy in disparities between results derived from studies of chromatin in nuclei, chromatin isolated from nuclei, and chromatin reconstituted from defined components. Thanks to recent advances in imaging, modeling, and other approaches, it is now possible to recognize some unifying principles driving chromatin architecture at the level of the ubiquitous ‘30nm’ chromatin fiber. These suggest that fiber architecture involves both zigzag and bent linker motifs, and that such heteromorphic structures facilitate the observed high packing ratios. Interactions between neighboring fibers in highly compact chromatin lead to extensive interdigitation of nucleosomes and the inability to resolve individual fibers in compact chromatin in situ.",
     "author": [
      {
       "family": "Grigoryev",
       "given": "Sergei A."
      },
      {
       "family": "Woodcock",
       "given": "Christopher L."
      }
     ],
     "collection-title": "Experimental Cell Research Special Review Issue: Chromosome Biology, 2012",
     "container-title": "Experimental Cell Research",
     "container-title-short": "Experimental Cell Research",
     "id": "1745311/WA5RN2W9",
     "issue": "12",
     "issued": {
      "day": 15,
      "month": "7",
      "year": "2012"
     },
     "journalAbbreviation": "Experimental Cell Research",
     "page": "1448-1455",
     "page-first": "1448",
     "title": "Chromatin organization — The 30nm fiber",
     "type": "article-journal",
     "volume": "318"
    },
    "1745311/XCP4K4I6": {
     "DOI": "10.1126/science.aad9024",
     "URL": "http://science.sciencemag.org/content/351/6280/1454",
     "abstract": "The spread of bad neighborhoods\nOur genomes have complex three-dimensional (3D) arrangements that partition and regulate gene expression. Cancer cells frequently have their genomes grossly rearranged, disturbing this intricate 3D organization. Hnisz et al. show that the disruption of these 3D neighborhoods can bring oncogenes under the control of regulatory elements normally kept separate from them (see the Perspective by Wala and Beroukim). These novel juxtapositions can result in the inappropriate activation of oncogenes.\nScience, this issue p. 1454; see also p. 1398\nOncogenes are activated through well-known chromosomal alterations such as gene fusion, translocation, and focal amplification. In light of recent evidence that the control of key genes depends on chromosome structures called insulated neighborhoods, we investigated whether proto-oncogenes occur within these structures and whether oncogene activation can occur via disruption of insulated neighborhood boundaries in cancer cells. We mapped insulated neighborhoods in T cell acute lymphoblastic leukemia (T-ALL) and found that tumor cell genomes contain recurrent microdeletions that eliminate the boundary sites of insulated neighborhoods containing prominent T-ALL proto-oncogenes. Perturbation of such boundaries in nonmalignant cells was sufficient to activate proto-oncogenes. Mutations affecting chromosome neighborhood boundaries were found in many types of cancer. Thus, oncogene activation can occur via genetic alterations that disrupt insulated neighborhoods in malignant cells.\nDisrupting the boundaries between three-dimensional neighborhoods in the genome can activate cancer-promoting genes. [Also see Perspective by Wala and Beroukim]\nDisrupting the boundaries between three-dimensional neighborhoods in the genome can activate cancer-promoting genes. [Also see Perspective by Wala and Beroukim]",
     "accessed": {
      "day": "16",
      "month": "8",
      "year": "2016"
     },
     "author": [
      {
       "family": "Hnisz",
       "given": "Denes"
      },
      {
       "family": "Weintraub",
       "given": "Abraham S."
      },
      {
       "family": "Day",
       "given": "Daniel S."
      },
      {
       "family": "Valton",
       "given": "Anne-Laure"
      },
      {
       "family": "Bak",
       "given": "Rasmus O."
      },
      {
       "family": "Li",
       "given": "Charles H."
      },
      {
       "family": "Goldmann",
       "given": "Johanna"
      },
      {
       "family": "Lajoie",
       "given": "Bryan R."
      },
      {
       "family": "Fan",
       "given": "Zi Peng"
      },
      {
       "family": "Sigova",
       "given": "Alla A."
      },
      {
       "family": "Reddy",
       "given": "Jessica"
      },
      {
       "family": "Borges-Rivera",
       "given": "Diego"
      },
      {
       "family": "Lee",
       "given": "Tong Ihn"
      },
      {
       "family": "Jaenisch",
       "given": "Rudolf"
      },
      {
       "family": "Porteus",
       "given": "Matthew H."
      },
      {
       "family": "Dekker",
       "given": "Job"
      },
      {
       "family": "Young",
       "given": "Richard A."
      }
     ],
     "container-title": "Science",
     "id": "1745311/XCP4K4I6",
     "issue": "6280",
     "issued": {
      "day": 25,
      "month": "3",
      "year": "2016"
     },
     "language": "en",
     "note": "PMID: 26940867",
     "page": "1454-1458",
     "page-first": "1454",
     "title": "Activation of proto-oncogenes by disruption of chromosome neighborhoods",
     "type": "article-journal",
     "volume": "351"
    },
    "1745311/ZBJ7JQIC": {
     "DOI": "10.1016/0006-3002(56)90280-3",
     "URL": "http://www.sciencedirect.com/science/article/pii/0006300256902803",
     "author": [
      {
       "family": "Kornberg",
       "given": "Arthur"
      },
      {
       "family": "Kornberg",
       "given": "S. R."
      },
      {
       "family": "Simms",
       "given": "Ernest S."
      }
     ],
     "container-title": "Biochimica et Biophysica Acta",
     "container-title-short": "Biochimica et Biophysica Acta",
     "id": "1745311/ZBJ7JQIC",
     "issued": {
      "day": 1,
      "month": "1",
      "year": "1956"
     },
     "journalAbbreviation": "Biochimica et Biophysica Acta",
     "page": "215-227",
     "page-first": "215",
     "title": "Metaphosphate synthesis by an enzyme from Escherichia coli",
     "type": "article-journal",
     "volume": "20"
    },
    "undefined": {
     "DOI": "10.1016/j.cell.2014.09.030",
     "URL": "http://www.ncbi.nlm.nih.gov/pmc/articles/PMC4197132/",
     "abstract": "The pluripotent state of embryonic stem cells (ESCs) is produced by active transcription of genes that control cell identity and repression of genes encoding lineage-specifying developmental regulators. Here we use ESC cohesin ChIAPET data to identify the local chromosomal structures at both active and repressed genes across the genome. The results produce a map of enhancer-promoter interactions and reveal that super-enhancer driven genes generally occur within chromosome structures that are formed by the looping of two interacting CTCF sites co-occupied by cohesin. These looped structures form insulated neighborhoods whose integrity is important for proper expression of local genes. We also find that repressed genes encoding lineage-specifying developmental regulators occur within insulated neighborhoods. These results provide new insights into the relationship between transcriptional control of cell identity genes and control of local chromosome structure.",
     "accessed": {
      "day": "16",
      "month": "8",
      "year": "2016"
     },
     "author": [
      {
       "family": "Dowen",
       "given": "Jill M."
      },
      {
       "family": "Fan",
       "given": "Zi Peng"
      },
      {
       "family": "Hnisz",
       "given": "Denes"
      },
      {
       "family": "Ren",
       "given": "Gang"
      },
      {
       "family": "Abraham",
       "given": "Brian J."
      },
      {
       "family": "Zhang",
       "given": "Lyndon N."
      },
      {
       "family": "Weintraub",
       "given": "Abraham S."
      },
      {
       "family": "Schujiers",
       "given": "Jurian"
      },
      {
       "family": "Lee",
       "given": "Tong Ihn"
      },
      {
       "family": "Zhao",
       "given": "Keji"
      },
      {
       "family": "Young",
       "given": "Richard A."
      }
     ],
     "container-title": "Cell",
     "container-title-short": "Cell",
     "id": "undefined",
     "issue": "2",
     "issued": {
      "day": "9",
      "month": "10",
      "year": "2014"
     },
     "journalAbbreviation": "Cell",
     "note": "PMID: 25303531\nPMCID: PMC4197132",
     "page": "374-387",
     "page-first": "374",
     "title": "Control of cell identity genes occurs in insulated neighborhoods in mammalian chromosomes",
     "type": "article-journal",
     "volume": "159"
    }
   }
  },
  "kernelspec": {
   "display_name": "Python [conda root]",
   "language": "python",
   "name": "conda-root-py"
  },
  "language_info": {
   "codemirror_mode": {
    "name": "ipython",
    "version": 2
   },
   "file_extension": ".py",
   "mimetype": "text/x-python",
   "name": "python",
   "nbconvert_exporter": "python",
   "pygments_lexer": "ipython2",
   "version": "2.7.13"
  },
  "latex_envs": {
   "LaTeX_envs_menu_present": true,
   "autocomplete": true,
   "bibliofile": "biblio.bib",
   "cite_by": "apalike",
   "current_citInitial": 1,
   "eqLabelWithNumbers": true,
   "eqNumInitial": 0,
   "hotkeys": {
    "equation": "Ctrl-E",
    "itemize": "Ctrl-I"
   },
   "labels_anchors": false,
   "latex_user_defs": false,
   "report_style_numbering": false,
   "user_envs_cfg": false
  },
  "nbpresent": {
   "slides": {
    "99b59bc1-c061-4249-816c-7ce1cd2b72c6": {
     "id": "99b59bc1-c061-4249-816c-7ce1cd2b72c6",
     "prev": "9d53a074-f921-4888-8075-1383e8aef286",
     "regions": {
      "b6875074-ce44-4d6b-9f02-725c3273966b": {
       "attrs": {
        "height": 1,
        "width": 1,
        "x": 0,
        "y": 0
       },
       "id": "b6875074-ce44-4d6b-9f02-725c3273966b"
      }
     }
    },
    "9d53a074-f921-4888-8075-1383e8aef286": {
     "id": "9d53a074-f921-4888-8075-1383e8aef286",
     "prev": null,
     "regions": {
      "ed354834-8993-4592-aacc-7ab35fc8aadd": {
       "attrs": {
        "height": 1,
        "width": 1,
        "x": 0,
        "y": 0
       },
       "content": {
        "cell": "2eab60c1-7f96-42b6-880a-47bf814e08bf",
        "part": "source"
       },
       "id": "ed354834-8993-4592-aacc-7ab35fc8aadd"
      }
     }
    }
   },
   "themes": {}
  }
 },
 "nbformat": 4,
 "nbformat_minor": 2
}
