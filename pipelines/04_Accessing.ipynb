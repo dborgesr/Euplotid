{
 "cells": [
  {
   "cell_type": "markdown",
   "metadata": {},
   "source": [
    "# Accessing"
   ]
  },
  {
   "cell_type": "markdown",
   "metadata": {},
   "source": [
    "<img src=\"https://raw.githubusercontent.com/dborgesr/Euplotid/gh-pages/web_euplotid/lab_meeting_slides_Accessing.png\" style=\"width: 1000px;\">"
   ]
  },
  {
   "cell_type": "markdown",
   "metadata": {},
   "source": [
    "&nbsp;&nbsp;&nbsp;&nbsp;&nbsp;&nbsp;&nbsp;&nbsp;Visualization of large graphical structures with huge amounts of data which are navigable in a stable easy to deploy environment has been a huge barrier. Docker, Python, Plotly and Jupyter together allow for deployment, visualization, and interactivity across all computing architectures \\cite{docker_docker_2017}\\cite{python_welcome_2017}\\cite{plotly_visualize_2017}\\cite{jupyter_project_2017}. Entire analysis can be replicated in front of your eyes creating transparency between input data and output analysis. You can use Euplotid to make mechanistic predictions from any device, in any web browser, running on vitually anything, from almost anywhere. "
   ]
  },
  {
   "cell_type": "markdown",
   "metadata": {
    "collapsed": true
   },
   "source": [
    "## Pick cell type and condition\n",
    "Using widgets in Jupyter we are able to dynamically access the annotated Insulated Neighborhoods which are stored as JSONs in the backend. A Jupyter widget is a simple lightweight node.js wrapper to traditional python methods. Here we can pick what cell type and condition we want to investigate. "
   ]
  },
  {
   "cell_type": "markdown",
   "metadata": {
    "collapsed": true
   },
   "source": [
    "## Pick annotated Insulated Neighborhood\n",
    "After picking a cell type and condition the list of annotated INs will be populated. A simple dropdown sorted by name is provided."
   ]
  },
  {
   "cell_type": "markdown",
   "metadata": {
    "collapsed": true
   },
   "source": [
    "## UCSC genome browser view\n",
    "If the user wants visualize the data in the traditional 1D manner it is possible to load the data into the UCSC genome browser. In this case we set the linear left and right boundaries as the leftmost and rightmost node within the IN currently being viewed."
   ]
  },
  {
   "cell_type": "markdown",
   "metadata": {
    "collapsed": true
   },
   "source": [
    "## Annotated Insulated Neighborhood\n",
    "Annotated IN layout out according to the Fruchterman-Reingold force-directed algorithm on DNA-interaction read count in order to have a more visually pleasing view. By employing 3Djs and Plotly we are able to navigate large graphical structures with relative ease. When hovering over every DNA-Interaction node the following pieces of data are shown if available:\n",
    "* eQTL in 32 tissues (FastQTL+GTeX)\n",
    "* Ease of CRISPR editing (GT-Scan2)\n",
    "* Results of over 2,000 GWAS studies (GRASP)\n",
    "* 667 Methylomes (NGSMethDB)\n",
    "* Estimate of deleteriousness (CADD Score)\n",
    "* Convolutional Neural Network prediction of TF identity"
   ]
  },
  {
   "cell_type": "markdown",
   "metadata": {
    "collapsed": true
   },
   "source": [
    "## DNA-DNA interaction heatmap view [Higlass.io](http://higlass.io)\n",
    "Awesome tile-based viewing tool for DNA-DNA interaction data \\cite{_higlass:_????}. Employing D3.js to query a robust backend this dockerized application is able to serve huge compressed multi-resolution Hi-C data essentially instantly. The compression and raw interaction handling is done by [Cooler](http://cooler.readthedocs.io/en/latest/)."
   ]
  },
  {
   "cell_type": "markdown",
   "metadata": {
    "collapsed": true
   },
   "source": [
    "## SNP accessibility difference prediction\n",
    "Employing Convolutional Neural Networks previously trained on Chip-Seq and SELEX data and combining them with Long Short-Term memory networks we are able to predict the chromatin accessibility of a particular sequence in a given cell type. Taking all SNPs/CNVs which fall within the IN we then predict the impact of each of those on the accessibility of chromatin. "
   ]
  },
  {
   "cell_type": "markdown",
   "metadata": {
    "collapsed": true
   },
   "source": [
    "## Global view [HSA](https://genomebiology.biomedcentral.com/articles/10.1186/s13059-016-0896-1)\n",
    "Using the X,Y,Z coordinates previously generated for each IN by using HSA we are able to have a small \"mini-map\" corresponding to a global view of the entire nucleus. Each IN node is colored according to chromsome and the INs are connected according to genomic coordinate."
   ]
  },
  {
   "cell_type": "markdown",
   "metadata": {
    "collapsed": true
   },
   "source": [
    "## In-silico mutational analysis [Basset](http://genome.cshlp.org/content/early/2016/06/10/gr.200535.115.abstract)\n",
    "Using previously trined neural networks we are able to view the predicted image for a given in-silico mutatation. This gives a quick easy to assess view of the predicted impact a given SNP has on a Cis-Regulatory element, potentially affecting its function."
   ]
  },
  {
   "cell_type": "markdown",
   "metadata": {},
   "source": [
    "## Virtual reality view\n",
    "Taking advantage of Virtual Reality (VR) technology developed for both the military and consumer markets we are able to render the annotated INs in full [immersive VR](https://github.com/christinakayastha/VirtuallyAGenome). We use [Unreal Engine](https://www.youtube.com/watch?v=DshYHUvLaDc) to design, build, and deploy the VR view \\cite{unreal_what_2017}. Tested with the [HTC Vive](https://www.youtube.com/watch?v=qOE0aWWwdbo) allowing for fully immersive room-scale exploration of large complex annotated INs. A more detailed explanation is available below"
   ]
  },
  {
   "cell_type": "code",
   "execution_count": 1,
   "metadata": {},
   "outputs": [
    {
     "data": {
      "text/html": [
       "<div style=\"position:relative;height:0;padding-bottom:56.25%\"><iframe src=\"https://www.youtube.com/embed/ONR4-uxzAwg?ecver=2\" width=\"640\" height=\"360\" frameborder=\"0\" style=\"position:absolute;width:100%;height:100%;left:0\" allowfullscreen></iframe></div>"
      ],
      "text/plain": [
       "<IPython.core.display.HTML object>"
      ]
     },
     "metadata": {},
     "output_type": "display_data"
    }
   ],
   "source": [
    "%%html\n",
    "<div style=\"position:relative;height:0;padding-bottom:56.25%\"><iframe src=\"https://www.youtube.com/embed/ONR4-uxzAwg?ecver=2\" width=\"640\" height=\"360\" frameborder=\"0\" style=\"position:absolute;width:100%;height:100%;left:0\" allowfullscreen></iframe></div>"
   ]
  },
  {
   "cell_type": "markdown",
   "metadata": {},
   "source": [
    "## Deployment of Euplotid\n",
    "[**INSTALL DOCKER HERE**](https://www.docker.com/community-edition#/download\")\n",
    "Then open your terminal or cmd and:\n",
    "~~~\n",
    "docker run --name euplotid -p 8890:8890 -tid \\\n",
    "\t-v \"/your/input/directory:/input_dir\" \\\n",
    "\t-v \"/your/temporary/directory/:/tmp_dir\" \\\n",
    "\t-v \"/your/output/directory/:/output_dir\" \\\n",
    "\t-v \"/your/annotation/directory/:/annotation_dir\" \\\n",
    "\tdborgesr/euplotid:euplotid\n",
    "~~~"
   ]
  },
  {
   "cell_type": "markdown",
   "metadata": {},
   "source": [
    "## Try it out!\n",
    "<http://localhost:8890>"
   ]
  }
 ],
 "metadata": {
  "anaconda-cloud": {},
  "celltoolbar": "Edit Metadata",
  "cite2c": {
   "citations": {
    "1745311/7G34C47I": {
     "URL": "https://plot.ly/",
     "abstract": "Plotly is the modern platform for agile business intelligence and data science.",
     "accessed": {
      "day": "7",
      "month": "7",
      "year": "2017"
     },
     "container-title": "plotly",
     "id": "1745311/7G34C47I",
     "title": "Visualize Data, Together",
     "type": "webpage"
    },
    "1745311/G2NMM4SK": {
     "URL": "http://www.jupyter.org",
     "abstract": "The Jupyter Notebook is a web-based interactive computing platform. The notebook combines live code, equations, narrative text, visualizations, interactive dashboards and other media.",
     "accessed": {
      "day": "7",
      "month": "7",
      "year": "2017"
     },
     "id": "1745311/G2NMM4SK",
     "title": "Project Jupyter",
     "type": "webpage"
    },
    "1745311/JSAQI4Q8": {
     "URL": "https://www.unrealengine.com/what-is-unreal-engine-4",
     "accessed": {
      "day": "7",
      "month": "7",
      "year": "2017"
     },
     "id": "1745311/JSAQI4Q8",
     "title": "What is Unreal Engine 4",
     "type": "article"
    },
    "1745311/NCATVHJZ": {
     "URL": "https://www.python.org/",
     "abstract": "The official home of the Python Programming Language",
     "accessed": {
      "day": "7",
      "month": "7",
      "year": "2017"
     },
     "container-title": "Python.org",
     "id": "1745311/NCATVHJZ",
     "title": "Welcome to Python.org",
     "type": "webpage"
    },
    "1745311/PAURNGHH": {
     "URL": "https://www.docker.com/",
     "accessed": {
      "day": "7",
      "month": "7",
      "year": "2017"
     },
     "id": "1745311/PAURNGHH",
     "title": "Docker - Build, Ship, and Run Any App, Anywhere",
     "type": "article"
    },
    "1745311/V4UTE4N7": {
     "URL": "http://www.biorxiv.org/content/early/2017/03/31/121889",
     "accessed": {
      "day": "7",
      "month": "7",
      "year": "2017"
     },
     "id": "1745311/V4UTE4N7",
     "title": "HiGlass: Web-based Visual Comparison And Exploration Of Genome Interaction Maps | bioRxiv",
     "type": "article"
    }
   }
  },
  "kernelspec": {
   "display_name": "Python [conda root]",
   "language": "python",
   "name": "conda-root-py"
  },
  "language_info": {
   "codemirror_mode": {
    "name": "ipython",
    "version": 2
   },
   "file_extension": ".py",
   "mimetype": "text/x-python",
   "name": "python",
   "nbconvert_exporter": "python",
   "pygments_lexer": "ipython2",
   "version": "2.7.13"
  },
  "latex_envs": {
   "LaTeX_envs_menu_present": true,
   "autocomplete": true,
   "bibliofile": "biblio.bib",
   "cite_by": "apalike",
   "current_citInitial": 1,
   "eqLabelWithNumbers": true,
   "eqNumInitial": 0,
   "hotkeys": {
    "equation": "Ctrl-E",
    "itemize": "Ctrl-I"
   },
   "labels_anchors": false,
   "latex_user_defs": false,
   "report_style_numbering": false,
   "user_envs_cfg": false
  }
 },
 "nbformat": 4,
 "nbformat_minor": 2
}
