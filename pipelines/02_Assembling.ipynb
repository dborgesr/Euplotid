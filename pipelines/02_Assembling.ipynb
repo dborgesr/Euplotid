{
 "cells": [
  {
   "cell_type": "code",
   "execution_count": 2,
   "metadata": {
    "collapsed": true,
    "init_cell": true,
    "slideshow": {
     "slide_type": "skip"
    }
   },
   "outputs": [],
   "source": [
    "from ipynb_latex_setup import *"
   ]
  },
  {
   "cell_type": "markdown",
   "metadata": {},
   "source": [
    "# Assembling"
   ]
  },
  {
   "cell_type": "markdown",
   "metadata": {},
   "source": [
    "<img src=\"https://raw.githubusercontent.com/dborgesr/Euplotid/gh-pages/web_euplotid/lab_meeting_slides_Assembling.png\" style=\"width: 1000px;\">\n",
    "&nbsp;&nbsp;&nbsp;&nbsp;&nbsp;&nbsp;&nbsp;&nbsp;Determining the right INs can be easy by eye but defining and performing this task computationally is very difficult."
   ]
  },
  {
   "cell_type": "markdown",
   "metadata": {},
   "source": [
    "## Define Graphs\n",
    "We begin with set of Nodes, defined as a DNA range, with a left and right boundary, for example: chr16:55155024-53806737. We then add a set of Edges, defined as DNA-DNA interactions, or loops. These loops can be recovered from living cells using a variety of methods, such as Hi-C, In-situ Hi-C, ChiA-PET, HiChIP, GAM, etc, each having their own lab and bioinformatic processsing protocol, all implemented within Megatid."
   ]
  },
  {
   "cell_type": "markdown",
   "metadata": {},
   "source": [
    "## Define starting nodes\n",
    "The initial starting conditions are when every Node is its own unique IN of size 1. We can use RNA-seq as a poor-man's proxy for the rate of Cohesin-RNAPolII mediated chromatin extrusion. The processing of raw RNA-Seq reads can be quickly performed within Megatid using [STAR](https://academic.oup.com/bioinformatics/article-lookup/doi/10.1093/bioinformatics/bts635) to align the reads and [RSEM](https://bmcbioinformatics.biomedcentral.com/articles/10.1186/1471-2105-12-3230) to quantify RPKM. We begin the algorithm by sorting the starting nodes by RPKM. "
   ]
  },
  {
   "cell_type": "markdown",
   "metadata": {},
   "source": [
    "## Crawl outward adding nodes\n",
    "Beginning at each highly transcribed Transcription Start Site we select the neighbor which would increase the overall network architecture the most as defined by [Modularity](https://en.wikipedia.org/wiki/Modularity_(networks)) and reassign its IN if the entire IN is encompassed within a single CTCF-CTCF interaction."
   ]
  },
  {
   "cell_type": "markdown",
   "metadata": {},
   "source": [
    "## Reach modularity equlibrium\n",
    "Continue checking for valid reassignments until no more moves exist which increase the overall graph's modularity thereby reaching an equilibrium."
   ]
  },
  {
   "cell_type": "markdown",
   "metadata": {},
   "source": [
    "## Recover rough X,Y,Z location of IN\n",
    "Take all DNA-DNA interactions and combined with Lamin A/B1 Chip-Seq estimate the rough nuclear X,Y,Z position of each IN node by feeding the data through HSA. The size of the node is defined using the sum of all reads falling within chromatin accessible regions."
   ]
  }
 ],
 "metadata": {
  "anaconda-cloud": {},
  "celltoolbar": "Edit Metadata",
  "cite2c": {
   "citations": {
    "1745311/CVUBTK3N": {
     "DOI": "10.1186/s13637-015-0022-9",
     "URL": "http://bsb.eurasipjournals.com/content/2015/1/3",
     "accessed": {
      "day": "18",
      "month": "7",
      "year": "2016"
     },
     "author": [
      {
       "family": "Faisal",
       "given": "Fazle E"
      },
      {
       "family": "Meng",
       "given": "Lei"
      },
      {
       "family": "Crawford",
       "given": "Joseph"
      },
      {
       "family": "Milenković",
       "given": "Tijana"
      }
     ],
     "container-title": "EURASIP Journal on Bioinformatics and Systems Biology",
     "id": "1745311/CVUBTK3N",
     "issue": "1",
     "issued": {
      "month": "12",
      "year": "2015"
     },
     "language": "en",
     "title": "The post-genomic era of biological network alignment",
     "type": "article-journal",
     "volume": "2015"
    },
    "1745311/PQW5JBFN": {
     "DOI": "10.1186/s13059-016-0896-1",
     "URL": "http://www.ncbi.nlm.nih.gov/pmc/articles/PMC4774023/",
     "abstract": "Genome-wide 3C technologies (Hi-C) are being increasingly employed to study three-dimensional (3D) genome conformations. Existing computational approaches are unable to integrate accumulating data to facilitate studying 3D chromatin structure and function. We present HSA (http://ouyanglab.jax.org/hsa/), a flexible tool that jointly analyzes multiple contact maps to infer 3D chromatin structure at the genome scale. HSA globally searches the latent structure underlying different cleavage footprints. Its robustness and accuracy outperform or rival existing tools on extensive simulations and orthogonal experiment validations. Applying HSA to recent in situ Hi-C data, we found the 3D chromatin structures are highly conserved across various human cell types.",
     "accessed": {
      "day": "27",
      "month": "7",
      "year": "2016"
     },
     "author": [
      {
       "family": "Zou",
       "given": "Chenchen"
      },
      {
       "family": "Zhang",
       "given": "Yuping"
      },
      {
       "family": "Ouyang",
       "given": "Zhengqing"
      }
     ],
     "container-title": "Genome Biology",
     "container-title-short": "Genome Biol",
     "id": "1745311/PQW5JBFN",
     "issued": {
      "day": "2",
      "month": "3",
      "year": "2016"
     },
     "journalAbbreviation": "Genome Biol",
     "note": "PMID: 26936376\nPMCID: PMC4774023",
     "shortTitle": "HSA",
     "title": "HSA: integrating multi-track Hi-C data for genome-scale reconstruction of 3D chromatin structure",
     "title-short": "HSA",
     "type": "article-journal",
     "volume": "17"
    },
    "1745311/QE9U67ZH": {
     "DOI": "10.1073/pnas.0601602103",
     "URL": "http://www.ncbi.nlm.nih.gov/pmc/articles/PMC1482622/",
     "abstract": "Many networks of interest in the sciences, including social networks, computer networks, and metabolic and regulatory networks, are found to divide naturally into communities or modules. The problem of detecting and characterizing this community structure is one of the outstanding issues in the study of networked systems. One highly effective approach is the optimization of the quality function known as “modularity” over the possible divisions of a network. Here I show that the modularity can be expressed in terms of the eigenvectors of a characteristic matrix for the network, which I call the modularity matrix, and that this expression leads to a spectral algorithm for community detection that returns results of demonstrably higher quality than competing methods in shorter running times. I illustrate the method with applications to several published network data sets.",
     "accessed": {
      "day": "5",
      "month": "9",
      "year": "2016"
     },
     "author": [
      {
       "family": "Newman",
       "given": "M. E. J."
      }
     ],
     "container-title": "Proceedings of the National Academy of Sciences of the United States of America",
     "container-title-short": "Proc Natl Acad Sci U S A",
     "id": "1745311/QE9U67ZH",
     "issue": "23",
     "issued": {
      "day": "6",
      "month": "6",
      "year": "2006"
     },
     "journalAbbreviation": "Proc Natl Acad Sci U S A",
     "note": "PMID: 16723398\nPMCID: PMC1482622",
     "page": "8577-8582",
     "page-first": "8577",
     "title": "Modularity and community structure in networks",
     "type": "article-journal",
     "volume": "103"
    },
    "1745311/RN6VBMV6": {
     "URL": "https://bmcbioinformatics.biomedcentral.com/articles/10.1186/1471-2105-12-323",
     "accessed": {
      "day": "7",
      "month": "7",
      "year": "2017"
     },
     "id": "1745311/RN6VBMV6",
     "title": "RSEM: accurate transcript quantification from RNA-Seq data with or without a reference genome | BMC Bioinformatics | Full Text",
     "type": "article"
    },
    "1745311/VSI4IZ4P": {
     "DOI": "10.1073/pnas.0605965104",
     "URL": "http://www.ncbi.nlm.nih.gov/pmc/articles/PMC1765466/",
     "abstract": "Detecting community structure is fundamental for uncovering the links between structure and function in complex networks and for practical applications in many disciplines such as biology and sociology. A popular method now widely used relies on the optimization of a quantity called modularity, which is a quality index for a partition of a network into communities. We find that modularity optimization may fail to identify modules smaller than a scale which depends on the total size of the network and on the degree of interconnectedness of the modules, even in cases where modules are unambiguously defined. This finding is confirmed through several examples, both in artificial and in real social, biological, and technological networks, where we show that modularity optimization indeed does not resolve a large number of modules. A check of the modules obtained through modularity optimization is thus necessary, and we provide here key elements for the assessment of the reliability of this community detection method.",
     "accessed": {
      "day": "5",
      "month": "9",
      "year": "2016"
     },
     "author": [
      {
       "family": "Fortunato",
       "given": "Santo"
      },
      {
       "family": "Barthélemy",
       "given": "Marc"
      }
     ],
     "container-title": "Proceedings of the National Academy of Sciences of the United States of America",
     "container-title-short": "Proc Natl Acad Sci U S A",
     "id": "1745311/VSI4IZ4P",
     "issue": "1",
     "issued": {
      "day": "2",
      "month": "1",
      "year": "2007"
     },
     "journalAbbreviation": "Proc Natl Acad Sci U S A",
     "note": "PMID: 17190818\nPMCID: PMC1765466",
     "page": "36-41",
     "page-first": "36",
     "title": "Resolution limit in community detection",
     "type": "article-journal",
     "volume": "104"
    }
   }
  },
  "kernelspec": {
   "display_name": "Python [conda root]",
   "language": "python",
   "name": "conda-root-py"
  },
  "language_info": {
   "codemirror_mode": {
    "name": "ipython",
    "version": 2
   },
   "file_extension": ".py",
   "mimetype": "text/x-python",
   "name": "python",
   "nbconvert_exporter": "python",
   "pygments_lexer": "ipython2",
   "version": "2.7.13"
  },
  "latex_envs": {
   "LaTeX_envs_menu_present": true,
   "autocomplete": true,
   "bibliofile": "biblio.bib",
   "cite_by": "apalike",
   "current_citInitial": 1,
   "eqLabelWithNumbers": true,
   "eqNumInitial": 0,
   "hotkeys": {
    "equation": "Ctrl-E",
    "itemize": "Ctrl-I"
   },
   "labels_anchors": false,
   "latex_user_defs": false,
   "report_style_numbering": false,
   "user_envs_cfg": false
  },
  "nbpresent": {
   "slides": {
    "379c43dc-1378-4fc3-8c40-e95b131c6a9d": {
     "id": "379c43dc-1378-4fc3-8c40-e95b131c6a9d",
     "prev": null,
     "regions": {
      "3a5b0988-65f6-4a20-aa31-851f645f7415": {
       "attrs": {
        "height": 0.7231613611416027,
        "width": 0.8,
        "x": 0.09876509330406145,
        "y": 0.034138309549945144
       },
       "content": {
        "cell": "4c1f1ff2-60d4-431e-a15e-76c5ea3c2c2a",
        "part": "outputs"
       },
       "id": "3a5b0988-65f6-4a20-aa31-851f645f7415"
      },
      "c13799da-97af-49af-acb5-dc5474de2cba": {
       "attrs": {
        "height": 0.19626783754116364,
        "width": 0.8,
        "x": 0.0962952799121844,
        "y": 0.7739846322722284
       },
       "content": {
        "cell": "8a60210b-3198-4b43-9597-441fa31ec87f",
        "part": "source"
       },
       "id": "c13799da-97af-49af-acb5-dc5474de2cba"
      }
     }
    },
    "55abea95-9cb0-4f92-92e5-100f62088b81": {
     "id": "55abea95-9cb0-4f92-92e5-100f62088b81",
     "prev": "91d15105-9e43-4055-860a-645cfec561d6",
     "regions": {
      "5e43c560-e69b-4233-8eb2-821b28e81e6d": {
       "attrs": {
        "height": 0.2050493962678376,
        "width": 0.8,
        "x": 0.1,
        "y": 0.04950603732162461
       },
       "content": {
        "cell": "ec7e1831-e61f-4a5b-acc3-cf1e4bc68c5c",
        "part": "source"
       },
       "id": "5e43c560-e69b-4233-8eb2-821b28e81e6d"
      },
      "a023a4d9-f91d-4b12-a0ea-070a61e78d19": {
       "attrs": {
        "height": 0.6572996706915478,
        "width": 0.8,
        "x": 0.1,
        "y": 0.26245883644346873
       },
       "content": {
        "cell": "a5106460-347f-4c0d-b229-a2cebd1ed6b4",
        "part": "outputs"
       },
       "id": "a023a4d9-f91d-4b12-a0ea-070a61e78d19"
      }
     }
    },
    "659ba81b-4bd5-40c0-8b49-b68242260962": {
     "id": "659ba81b-4bd5-40c0-8b49-b68242260962",
     "prev": "55abea95-9cb0-4f92-92e5-100f62088b81",
     "regions": {
      "6e4134c7-0dd0-48bb-8906-6a4ce0c07e36": {
       "attrs": {
        "height": 0.6594950603732164,
        "width": 0.8,
        "x": 0.10246981339187704,
        "y": 0.2668496158068057
       },
       "content": {
        "cell": "8b4aec87-33ff-426b-bc93-477975c01ee4",
        "part": "outputs"
       },
       "id": "6e4134c7-0dd0-48bb-8906-6a4ce0c07e36"
      },
      "7e27d7e3-7c65-4b41-9a80-fe0422892045": {
       "attrs": {
        "height": 0.2138309549945116,
        "width": 0.8,
        "x": 0.1,
        "y": 0.027552140504939652
       },
       "content": {
        "cell": "2215fec4-be92-4b0c-b901-8df7ce65dd4c",
        "part": "source"
       },
       "id": "7e27d7e3-7c65-4b41-9a80-fe0422892045"
      }
     }
    },
    "70919fbc-999a-411c-a2b2-9882c8a1bd36": {
     "id": "70919fbc-999a-411c-a2b2-9882c8a1bd36",
     "prev": "8336b343-aeb1-4eb4-ac78-82e4747ccfdd",
     "regions": {
      "3c551b76-056e-4eac-bc53-b3d92b54e956": {
       "attrs": {
        "height": 0.18309549945115267,
        "width": 0.8,
        "x": 0.09506037321624587,
        "y": 0.06487376509330409
       },
       "content": {
        "cell": "543344ad-fd25-4fb1-ad92-d150b71f6248",
        "part": "source"
       },
       "id": "3c551b76-056e-4eac-bc53-b3d92b54e956"
      },
      "c31b1687-cc6c-4b76-98e8-3a44cecccd87": {
       "attrs": {
        "height": 0.6880351262349068,
        "width": 0.8,
        "x": 0.0962952799121844,
        "y": 0.2690450054884742
       },
       "content": {
        "cell": "58bff1ae-d553-4072-bbed-82b93929a26a",
        "part": "outputs"
       },
       "id": "c31b1687-cc6c-4b76-98e8-3a44cecccd87"
      }
     }
    },
    "8336b343-aeb1-4eb4-ac78-82e4747ccfdd": {
     "id": "8336b343-aeb1-4eb4-ac78-82e4747ccfdd",
     "prev": "85d50842-f7fb-4dfc-81b9-bddb9b137595",
     "regions": {
      "dee79155-a418-4515-ae73-9744fb3edbf5": {
       "attrs": {
        "height": 0.2072447859495061,
        "width": 0.8,
        "x": 0.1,
        "y": 0.036333699231613635
       },
       "content": {
        "cell": "36fd182b-6d07-4c5c-8ed2-88c46f36834f",
        "part": "source"
       },
       "id": "dee79155-a418-4515-ae73-9744fb3edbf5"
      },
      "ec6b2c45-4aab-48a5-9af6-c4a8b024f978": {
       "attrs": {
        "height": 0.6726673984632273,
        "width": 0.8,
        "x": 0.09876509330406145,
        "y": 0.27782656421514823
       },
       "content": {
        "cell": "171a8087-02dd-48a0-8307-ee4e26e6bd0b",
        "part": "outputs"
       },
       "id": "ec6b2c45-4aab-48a5-9af6-c4a8b024f978"
      }
     }
    },
    "85d50842-f7fb-4dfc-81b9-bddb9b137595": {
     "id": "85d50842-f7fb-4dfc-81b9-bddb9b137595",
     "prev": "659ba81b-4bd5-40c0-8b49-b68242260962",
     "regions": {
      "0205bd78-1886-4341-8ddb-d3e1498375ac": {
       "attrs": {
        "height": 0.6397365532381999,
        "width": 0.8,
        "x": 0.1,
        "y": 0.26026344676180024
       },
       "content": {
        "cell": "c5e5ab4e-8a31-4116-81cd-110535594b19",
        "part": "outputs"
       },
       "id": "0205bd78-1886-4341-8ddb-d3e1498375ac"
      },
      "22d4cd36-4b32-45a9-ac1e-5fe24cb75bc3": {
       "attrs": {
        "height": 0.1633369923161362,
        "width": 0.8,
        "x": 0.1,
        "y": 0.0560922063666301
       },
       "content": {
        "cell": "1ab673f2-25f1-4cd1-98aa-d03c85e82055",
        "part": "source"
       },
       "id": "22d4cd36-4b32-45a9-ac1e-5fe24cb75bc3"
      }
     }
    },
    "8cabed44-29ad-4b0f-9ba2-607c60fd0994": {
     "id": "8cabed44-29ad-4b0f-9ba2-607c60fd0994",
     "prev": "70919fbc-999a-411c-a2b2-9882c8a1bd36",
     "regions": {
      "229e55fb-5288-4c7d-b2b0-42709410b4c5": {
       "attrs": {
        "height": 0.13260153677277725,
        "width": 0.8,
        "x": 0.10246981339187704,
        "y": 0.012184412733260163
       },
       "content": {
        "cell": "70b6a431-d1e0-4a14-9a52-94e0f37abef3",
        "part": "source"
       },
       "id": "229e55fb-5288-4c7d-b2b0-42709410b4c5"
      },
      "cf872733-0db0-4361-9ffa-25d4fdf05dc3": {
       "attrs": {
        "height": 0.13479692645444574,
        "width": 0.8,
        "x": 0.09125076438709685,
        "y": 0.869148303579169
       },
       "content": {
        "cell": "ec9cebf6-998a-4fb9-bc1f-96b14cac87ea",
        "part": "source"
       },
       "id": "cf872733-0db0-4361-9ffa-25d4fdf05dc3"
      },
      "d7b2abbf-b050-439c-a55c-ddf7d2f1c936": {
       "attrs": {
        "height": 0.31262349066959394,
        "width": 0.8,
        "x": 0.10245332965400017,
        "y": 0.039171344181667914
       },
       "content": {
        "cell": "8a9878c4-6361-49d8-a7a5-4494e5498851",
        "part": "source"
       },
       "id": "d7b2abbf-b050-439c-a55c-ddf7d2f1c936"
      },
      "fe8e266f-1787-4fa4-99fb-4cbb91994329": {
       "attrs": {
        "height": 0.31920965971459936,
        "width": 0.8,
        "x": 0.109994639732646,
        "y": 0.4574968650372594
       },
       "content": {
        "cell": "4e8efe48-8eed-4479-8fac-04c58da6d319",
        "part": "source"
       },
       "id": "fe8e266f-1787-4fa4-99fb-4cbb91994329"
      }
     }
    },
    "91d15105-9e43-4055-860a-645cfec561d6": {
     "id": "91d15105-9e43-4055-860a-645cfec561d6",
     "prev": "379c43dc-1378-4fc3-8c40-e95b131c6a9d",
     "regions": {
      "03d0c67c-49fe-49e4-807a-755a4a719363": {
       "attrs": {
        "height": 0.18090010976948415,
        "width": 0.8,
        "x": 0.10123490669593851,
        "y": 0.04291986827661912
       },
       "content": {
        "cell": "c793df9b-3b35-4175-bbec-7ad9fb1d8363",
        "part": "source"
       },
       "id": "03d0c67c-49fe-49e4-807a-755a4a719363"
      },
      "b4e8bb70-0440-4b79-ad47-a08e2e5ee30c": {
       "attrs": {
        "height": 0.7385290889132822,
        "width": 0.8,
        "x": 0.1049396267837541,
        "y": 0.2251372118551043
       },
       "content": {
        "cell": "f9a2c24a-f06d-4b7e-83cf-87d2a40a3e0d",
        "part": "outputs"
       },
       "id": "b4e8bb70-0440-4b79-ad47-a08e2e5ee30c"
      }
     }
    }
   },
   "themes": {}
  }
 },
 "nbformat": 4,
 "nbformat_minor": 2
}
