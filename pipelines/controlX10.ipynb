{
 "cells": [
  {
   "cell_type": "code",
   "execution_count": 98,
   "metadata": {},
   "outputs": [
    {
     "name": "stdout",
     "output_type": "stream",
     "text": [
      "Received 5266700\n",
      "Received pulse 191\n",
      "Received 5264844\n",
      "Received pulse 190\n",
      "Received 5264844\n",
      "Received pulse 192\n",
      "Received 5264700\n",
      "Received pulse 192\n",
      "Received 5265164\n",
      "Received pulse 192\n",
      "Received 5272844\n",
      "Received pulse 192\n",
      "Received 5265164\n",
      "Received pulse 192\n",
      "Received 5264844\n",
      "Received pulse 192\n",
      "Received 5264691\n",
      "Received pulse 192\n",
      "Received 5272835\n",
      "Received pulse 192\n",
      "Received 5264835\n",
      "Received pulse 192\n",
      "Received 5274892\n",
      "Received pulse 191\n",
      "^C\n"
     ]
    }
   ],
   "source": [
    "#Use the sniffer to find the codes for your X10 devices\n",
    "!/var/www/rfoutlet/RFSniffer\n",
    "#Then edit the codes below and write to file"
   ]
  },
  {
   "cell_type": "code",
   "execution_count": 76,
   "metadata": {},
   "outputs": [
    {
     "name": "stdout",
     "output_type": "stream",
     "text": [
      "Sending Code: 5266691. PIN: 0. Pulse Length: 192\n",
      "Sending Code: 5272835. PIN: 0. Pulse Length: 192\n"
     ]
    }
   ],
   "source": [
    "%%bash\n",
    "#Set 1: On lights\n",
    "#/var/www/rfoutlet/codesend 5264691 -l 192 -p 0\n",
    "#/var/www/rfoutlet/codesend 5264835 -l 192 -p 0 # AC\n",
    "#/var/www/rfoutlet/codesend 5265155 -l 192 -p 0 # \n",
    "/var/www/rfoutlet/codesend 5266691 -l 192 -p 0 # Back light\n",
    "/var/www/rfoutlet/codesend 5272835 -l 192 -p 0 # Front light\n",
    "\n",
    "#Set 2: On lights\n",
    "#/var/www/rfoutlet/codesend 267571 -l 185 -p 0 # Laundry lights\n",
    "#/var/www/rfoutlet/codesend 267715 -l 187 -p 0 #\n",
    "#/var/www/rfoutlet/codesend 268035 -l 186 -p 0 # Pump\n",
    "/var/www/rfoutlet/codesend 269571 -l 186 -p 0 # \n",
    "/var/www/rfoutlet/codesend 275715 -l 186 -p 0 # Tent lights"
   ]
  },
  {
   "cell_type": "code",
   "execution_count": 26,
   "metadata": {},
   "outputs": [
    {
     "name": "stdout",
     "output_type": "stream",
     "text": [
      "Sending Code: 5266700. PIN: 0. Pulse Length: 192\n",
      "Sending Code: 5272844. PIN: 0. Pulse Length: 192\n"
     ]
    }
   ],
   "source": [
    "%%bash\n",
    "#Set 1: Off lights\n",
    "#/var/www/rfoutlet/codesend 5264700 -l 192 -p 0 # \n",
    "#/var/www/rfoutlet/codesend 5264844 -l 192 -p 0 # AC\n",
    "#/var/www/rfoutlet/codesend 5265164 -l 192 -p 0 # \n",
    "#/var/www/rfoutlet/codesend 5266700 -l 192 -p 0 # Back light\n",
    "/var/www/rfoutlet/codesend 5272844 -l 192 -p 0 # Front light\n",
    "\n",
    "#Set 2: Off lights\n",
    "#/var/www/rfoutlet/codesend 267580 -l 186 -p 0 # Laundry lights\n",
    "#/var/www/rfoutlet/codesend 267724 -l 185 -p 0 # \n",
    "#/var/www/rfoutlet/codesend 268044 -l 187 -p 0 # Pump\n",
    "#/var/www/rfoutlet/codesend 269580 -l 186 -p 0 #\n",
    "/var/www/rfoutlet/codesend 275724 -l 186 -p 0 # Tent lights"
   ]
  },
  {
   "cell_type": "code",
   "execution_count": 91,
   "metadata": {
    "collapsed": true
   },
   "outputs": [],
   "source": [
    "%%bash\n",
<<<<<<< HEAD
    "#Schedule lights using cron for 10am on, 10pm off\n",
=======
    "#Schedule lights using cron for 10am on, 2am off\n",
>>>>>>> 57b841b819a707d5213102f4c59f219b50c5cb2d
    "#Remember time is UTC, so EST+4\n",
    "\n",
    "# do each light 2 times to makes sure\n",
    "#on lights \n",
<<<<<<< HEAD
    "echo \"00 14 * * * /var/www/rfoutlet/codesend 5266691 -l 192 -p 0\" > /var/spool/cron/crontabs/root\n",
    "echo \"01 14 * * * /var/www/rfoutlet/codesend 5266691 -l 192 -p 0\" > /var/spool/cron/crontabs/root\n",
    "echo \"02 14 * * * /var/www/rfoutlet/codesend 5272835 -l 192 -p 0\" >> /var/spool/cron/crontabs/root\n",
    "echo \"03 14 * * * /var/www/rfoutlet/codesend 5272835 -l 192 -p 0\" >> /var/spool/cron/crontabs/root\n",
    "\n",
    "#off lights\n",
    "echo \"00 02 * * * /var/www/rfoutlet/codesend 5266700 -l 192 -p 0\" >> /var/spool/cron/crontabs/root\n",
    "echo \"01 02 * * * /var/www/rfoutlet/codesend 5266700 -l 192 -p 0\" >> /var/spool/cron/crontabs/root\n",
    "echo \"02 02 * * * /var/www/rfoutlet/codesend 5272844 -l 192 -p 0\" >> /var/spool/cron/crontabs/root\n",
    "echo \"03 02 * * * /var/www/rfoutlet/codesend 5272844 -l 192 -p 0\" >> /var/spool/cron/crontabs/root\n",
    "echo \"\" >> /var/spool/cron/crontabs/root\n",
=======
    "#echo \"00 14 * * * /var/www/rfoutlet/codesend 5266691 -l 192 -p 0\" > /root/Euplotid/cron_file.txt\n",
    "#echo \"01 14 * * * /var/www/rfoutlet/codesend 5266691 -l 192 -p 0\" > /root/Euplotid/cron_file.txt\n",
    "echo \"02 14 * * * /var/www/rfoutlet/codesend 5272835 -l 192 -p 0\" > /root/Euplotid/cron_file.txt\n",
    "echo \"03 14 * * * /var/www/rfoutlet/codesend 5272835 -l 192 -p 0\" >> /root/Euplotid/cron_file.txt\n",
    "\n",
    "#off lights\n",
    "#echo \"00 02 * * * /var/www/rfoutlet/codesend 5266700 -l 192 -p 0\" >> /root/Euplotid/cron_file.txt\n",
    "#echo \"01 02 * * * /var/www/rfoutlet/codesend 5266700 -l 192 -p 0\" >> /root/Euplotid/cron_file.txt\n",
    "echo \"03 06 * * * /var/www/rfoutlet/codesend 5272844 -l 192 -p 0\" >> /root/Euplotid/cron_file.txt\n",
    "echo \"04 06 * * * /var/www/rfoutlet/codesend 5272844 -l 192 -p 0\" >> /root/Euplotid/cron_file.txt\n",
    "echo \"\" >> /root/Euplotid/cron_file.txt\n",
    "crontab /root/Euplotid/cron_file.txt\n",
>>>>>>> 57b841b819a707d5213102f4c59f219b50c5cb2d
    "service cron restart"
   ]
  },
  {
   "cell_type": "code",
   "execution_count": 84,
   "metadata": {},
   "outputs": [
    {
     "name": "stdout",
     "output_type": "stream",
     "text": [
      "* * * * * /var/www/rfoutlet/codesend 5266700 -l 192 -p 0\r\n",
      "\r\n"
     ]
    }
   ],
   "source": [
    "!crontab -l"
   ]
  }
 ],
 "metadata": {
  "kernelspec": {
   "display_name": "Python 3",
   "language": "python",
   "name": "python3"
  },
  "language_info": {
   "codemirror_mode": {
    "name": "ipython",
    "version": 3
   },
   "file_extension": ".py",
   "mimetype": "text/x-python",
   "name": "python",
   "nbconvert_exporter": "python",
   "pygments_lexer": "ipython3",
<<<<<<< HEAD
   "version": "3.4.2"
=======
   "version": "3.6.1"
>>>>>>> 57b841b819a707d5213102f4c59f219b50c5cb2d
  }
 },
 "nbformat": 4,
 "nbformat_minor": 2
}
