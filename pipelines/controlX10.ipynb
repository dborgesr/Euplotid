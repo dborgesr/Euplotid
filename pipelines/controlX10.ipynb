{
 "cells": [
  {
   "cell_type": "code",
   "execution_count": 98,
   "metadata": {},
   "outputs": [
    {
     "name": "stdout",
     "output_type": "stream",
     "text": [
      "Received 5266700\n",
      "Received pulse 191\n",
      "Received 5264844\n",
      "Received pulse 190\n",
      "Received 5264844\n",
      "Received pulse 192\n",
      "Received 5264700\n",
      "Received pulse 192\n",
      "Received 5265164\n",
      "Received pulse 192\n",
      "Received 5272844\n",
      "Received pulse 192\n",
      "Received 5265164\n",
      "Received pulse 192\n",
      "Received 5264844\n",
      "Received pulse 192\n",
      "Received 5264691\n",
      "Received pulse 192\n",
      "Received 5272835\n",
      "Received pulse 192\n",
      "Received 5264835\n",
      "Received pulse 192\n",
      "Received 5274892\n",
      "Received pulse 191\n",
      "^C\n"
     ]
    }
   ],
   "source": [
    "#Use the sniffer to find the codes for your X10 devices\n",
    "!/var/www/rfoutlet/RFSniffer\n",
    "#Then edit the codes below and write to file"
   ]
  },
  {
   "cell_type": "code",
   "execution_count": 108,
   "metadata": {},
   "outputs": [
    {
     "name": "stdout",
     "output_type": "stream",
     "text": [
      "Sending Code: 5264691. PIN: 0. Pulse Length: 192\n",
      "Sending Code: 5264835. PIN: 0. Pulse Length: 192\n",
      "Sending Code: 5265155. PIN: 0. Pulse Length: 192\n",
      "Sending Code: 5266691. PIN: 0. Pulse Length: 192\n",
      "Sending Code: 5272835. PIN: 0. Pulse Length: 192\n"
     ]
    }
   ],
   "source": [
    "%%bash\n",
    "#On lights\n",
    "/var/www/rfoutlet/codesend 5264691 -l 192 -p 0\n",
    "/var/www/rfoutlet/codesend 5264835 -l 192 -p 0\n",
    "/var/www/rfoutlet/codesend 5265155 -l 192 -p 0\n",
    "/var/www/rfoutlet/codesend 5266691 -l 192 -p 0\n",
    "/var/www/rfoutlet/codesend 5272835 -l 192 -p 0"
   ]
  },
  {
   "cell_type": "code",
   "execution_count": 110,
   "metadata": {},
   "outputs": [
    {
     "name": "stdout",
     "output_type": "stream",
     "text": [
      "Sending Code: 5264700. PIN: 0. Pulse Length: 192\n",
      "Sending Code: 5264844. PIN: 0. Pulse Length: 192\n",
      "Sending Code: 5265164. PIN: 0. Pulse Length: 192\n",
      "Sending Code: 5266700. PIN: 0. Pulse Length: 192\n",
      "Sending Code: 5272844. PIN: 0. Pulse Length: 192\n"
     ]
    }
   ],
   "source": [
    "%%bash\n",
    "#Off lights\n",
    "/var/www/rfoutlet/codesend 5264700 -l 192 -p 0\n",
    "/var/www/rfoutlet/codesend 5264844 -l 192 -p 0\n",
    "/var/www/rfoutlet/codesend 5265164 -l 192 -p 0\n",
    "/var/www/rfoutlet/codesend 5266700 -l 192 -p 0\n",
    "/var/www/rfoutlet/codesend 5272844 -l 192 -p 0"
   ]
  }
 ],
 "metadata": {
  "kernelspec": {
   "display_name": "Python 3",
   "language": "python",
   "name": "python3"
  },
  "language_info": {
   "codemirror_mode": {
    "name": "ipython",
    "version": 3
   },
   "file_extension": ".py",
   "mimetype": "text/x-python",
   "name": "python",
   "nbconvert_exporter": "python",
   "pygments_lexer": "ipython3",
   "version": "3.4.2"
  }
 },
 "nbformat": 4,
 "nbformat_minor": 2
}
