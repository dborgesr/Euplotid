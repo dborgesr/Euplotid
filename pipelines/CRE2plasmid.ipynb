{
 "cells": [
  {
   "cell_type": "markdown",
   "metadata": {},
   "source": [
    "# Build sgRNA and Base Editor plasmids to transmute picked Cis-Regulatory Element"
   ]
  },
  {
   "cell_type": "markdown",
   "metadata": {},
   "source": [
    "## GREAT! in-depth tutorial [here](https://blog.benchling.com/base-editor/) while the overall process is described [here](https://benchling.com/pub/liu-base-editor) and the original [paper](http://www.nature.com/nature/journal/v533/n7603/full/nature17946.html)"
   ]
  },
  {
   "cell_type": "markdown",
   "metadata": {},
   "source": [
    "## Pull CRE region into Benchling\n",
    "<img src=\"web_euplotid/cre2bench.gif\" style=\"width: 500px;\">"
   ]
  },
  {
   "cell_type": "markdown",
   "metadata": {},
   "source": [
    "## Tile region with sgRNAs\n",
    "<img src=\"web_euplotid/get_all_sgRNAs.gif\" style=\"width: 500px;\">"
   ]
  },
  {
   "cell_type": "markdown",
   "metadata": {},
   "source": [
    "## Pick best sgRNA and make expression plasmid\n",
    "<img src=\"web_euplotid/picksgRNA2plasmid.gif\" style=\"width: 500px;\">"
   ]
  },
  {
   "cell_type": "markdown",
   "metadata": {},
   "source": [
    "## Snag Base Editor 2/3 plasmid from [tutorial](https://blog.benchling.com/base-editor/)\n",
    "<img src=\"web_euplotid/getBE.gif\" style=\"width: 500px;\">"
   ]
  }
 ],
 "metadata": {
  "anaconda-cloud": {},
  "kernelspec": {
   "display_name": "Python [conda root]",
   "language": "python",
   "name": "conda-root-py"
  },
  "language_info": {
   "codemirror_mode": {
    "name": "ipython",
    "version": 2
   },
   "file_extension": ".py",
   "mimetype": "text/x-python",
   "name": "python",
   "nbconvert_exporter": "python",
   "pygments_lexer": "ipython2",
   "version": "2.7.13"
  }
 },
 "nbformat": 4,
 "nbformat_minor": 2
}
