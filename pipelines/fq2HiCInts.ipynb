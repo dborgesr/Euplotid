{
 "cells": [
  {
   "cell_type": "code",
   "execution_count": 3,
   "metadata": {
    "collapsed": true
   },
   "outputs": [],
   "source": [
    "#Take fastq in and spit out chilled normalized Hi-C matrix\n",
    "#Define data folders, data, and sample name\n",
    "annotation=\"/annotation/hg19_ref\"\n",
    "tmp=\"/input_data/\"\n",
    "input_dir=\"/coop_SE/primed_testing/\"\n",
    "output_dir=\"/coop_SE/primed_testing\"\n",
    "input_fq_1t=\"HiC_hesc_1_1M.fq.gz\"\n",
    "input_fq_2=\"HiC_hesc_2_1M.fq.gz\"\n",
    "sample_name=\"test\""
   ]
  },
  {
   "cell_type": "code",
   "execution_count": null,
   "metadata": {
    "collapsed": true
   },
   "outputs": [],
   "source": [
    "# %load /root/HiC-Pro/config-install.txt\n",
    "\n",
    "#########################################################################\n",
    "## Paths and Settings  - Start editing here !\n",
    "#########################################################################\n",
    "\n",
    "PREFIX=\"/root/\"\n",
    "BOWTIE2_PATH=\"/root/bowtie2-2.3.1/bowtie2\"\n",
    "SAMTOOLS_PATH=\"/root/samtools\" \n",
    "R_PATH = \n",
    "PYTHON_PATH = \n",
    "CLUSTER_SYS = \n"
   ]
  },
  {
   "cell_type": "code",
   "execution_count": null,
   "metadata": {
    "collapsed": true
   },
   "outputs": [],
   "source": [
    "# %load /root/HiC-Pro/config-hicpro.txt\n",
    "# Please change the variable settings below if necessary\n",
    "\n",
    "#########################################################################\n",
    "## Paths and Settings  - Do not edit !\n",
    "#########################################################################\n",
    "\n",
    "TMP_DIR = $tmp\n",
    "LOGS_DIR = logs\n",
    "BOWTIE2_OUTPUT_DIR = bowtie_results\n",
    "MAPC_OUTPUT = hic_results\n",
    "RAW_DIR = rawdata\n",
    "\n",
    "#######################################################################\n",
    "## SYSTEM AND SCHEDULER - Start Editing Here !!\n",
    "#######################################################################\n",
    "N_CPU = 8\n",
    "LOGFILE = hicpro.log\n",
    "\n",
    "JOB_NAME = hic_test \n",
    "JOB_MEM = 15\n",
    "JOB_WALLTIME = \n",
    "JOB_QUEUE = \n",
    "JOB_MAIL = \n",
    "\n",
    "#########################################################################\n",
    "## Data\n",
    "#########################################################################\n",
    "\n",
    "PAIR1_EXT = _1\n",
    "PAIR2_EXT = _2\n",
    "\n",
    "#######################################################################\n",
    "## Alignment options\n",
    "#######################################################################\n",
    "\n",
    "FORMAT = phred33\n",
    "MIN_MAPQ = 0\n",
    "\n",
    "BOWTIE2_IDX_PATH = $annotation \n",
    "BOWTIE2_GLOBAL_OPTIONS = --very-sensitive -L 30 --score-min L,-0.6,-0.2 --end-to-end --reorder\n",
    "BOWTIE2_LOCAL_OPTIONS =  --very-sensitive -L 20 --score-min L,-0.6,-0.2 --end-to-end --reorder\n",
    "\n",
    "#######################################################################\n",
    "## Annotation files\n",
    "#######################################################################\n",
    "\n",
    "REFERENCE_GENOME = hg19_ref\n",
    "GENOME_SIZE = chrom_hg19.sizes\n",
    "CAPTURE_TARGET = \n",
    "\n",
    "#######################################################################\n",
    "## Allele specific analysis\n",
    "#######################################################################\n",
    "\n",
    "ALLELE_SPECIFIC_SNP = \n",
    "\n",
    "#######################################################################\n",
    "## Digestion Hi-C\n",
    "#######################################################################\n",
    "\n",
    "GENOME_FRAGMENT = hg19_MboI.bed\n",
    "LIGATION_SITE = \n",
    "MIN_FRAG_SIZE = \n",
    "MAX_FRAG_SIZE =\n",
    "MIN_INSERT_SIZE =\n",
    "MAX_INSERT_SIZE =\n",
    "\n",
    "#######################################################################\n",
    "## Hi-C processing\n",
    "#######################################################################\n",
    "\n",
    "MIN_CIS_DIST = 1000\n",
    "GET_ALL_INTERACTION_CLASSES = 1\n",
    "GET_PROCESS_SAM = 0\n",
    "RM_SINGLETON = 1\n",
    "RM_MULTI = 1\n",
    "RM_DUP = 1\n",
    "\n",
    "#######################################################################\n",
    "## Contact Maps\n",
    "#######################################################################\n",
    "\n",
    "BIN_SIZE = 1000 10000 40000 150000 1000000\n",
    "MATRIX_FORMAT = upper\n",
    "\n",
    "#######################################################################\n",
    "## Normalization\n",
    "#######################################################################\n",
    "MAX_ITER = 100\n",
    "FILTER_LOW_COUNT_PERC = 0.02\n",
    "FILTER_HIGH_COUNT_PERC = 0\n",
    "EPS = 0.1\n"
   ]
  },
  {
   "cell_type": "code",
   "execution_count": null,
   "metadata": {
    "collapsed": true
   },
   "outputs": [],
   "source": [
    "!/root/HiC-Pro_2.8.1_devel/bin/HiC-Pro \\\n",
    "    -i /hic_in/fastq/smc1a/ -c config-hicpro_smc1a.txt \\\n",
    "    -s mapping -s proc_hic -s quality_checks -s merge_persample -s build_contact_maps -s ice_norm \\\n",
    "    -o /hic_in/out_hic/smc1a"
   ]
  },
  {
   "cell_type": "code",
   "execution_count": 11,
   "metadata": {},
   "outputs": [
    {
     "name": "stdout",
     "output_type": "stream",
     "text": [
      "Usage: cooler csort [OPTIONS] PAIRS_PATH CHROMOSOMES_PATH\n",
      "\n",
      "Error: Invalid value for \"pairs_path\": Path \"hg19.chrom.sizes\" does not exist.\n",
      "/bin/sh: 1: Syntax error: Unterminated quoted string\n",
      "/bin/sh: 1: Syntax error: Unterminated quoted string\n"
     ]
    }
   ],
   "source": [
    "!cooler csort hg19.chrom.sizes [input_origami_contact_list]\n",
    "!cooler cload tabix hg19.chrom.sizes:$bin_size  [input_origami_contact_list].sorted.txt.gz  [input_origami_contact_list].cool\"\n",
    "!cooler coarsegrain --no-balance  [input_origami_contact_list].cool\""
   ]
  },
  {
   "cell_type": "code",
   "execution_count": null,
   "metadata": {
    "collapsed": true
   },
   "outputs": [],
   "source": [
    "!docker exec higlass-container python higlass-server/manage.py ingest_tileset \\\n",
    "    --filename \"/data/[input_origami_contact_list].multires.cool\" \\\n",
    "    --datatype matrix --filetype cooler --uid cooler-demo"
   ]
  }
 ],
 "metadata": {
  "anaconda-cloud": {},
  "kernelspec": {
   "display_name": "Python [conda root]",
   "language": "python",
   "name": "conda-root-py"
  },
  "language_info": {
   "codemirror_mode": {
    "name": "ipython",
    "version": 3
   },
   "file_extension": ".py",
   "mimetype": "text/x-python",
   "name": "python",
   "nbconvert_exporter": "python",
   "pygments_lexer": "ipython3",
   "version": "3.6.1"
  }
 },
 "nbformat": 4,
 "nbformat_minor": 2
}
