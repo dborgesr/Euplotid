{
 "cells": [
  {
   "cell_type": "markdown",
   "metadata": {},
   "source": [
    "# Call DNA-DNA interactions using raw HiC data"
   ]
  },
  {
   "cell_type": "markdown",
   "metadata": {},
   "source": [
    "### Install instructions for HiCPro required after first image pull\n",
    "        cd /root/HiC-Pro/\n",
    "        source activate py27\n",
    "        R\n",
    "        install.packages(\"ggplot2\")\n",
    "        install.packages(\"RColorBrewer\")\n",
    "        make configure\n",
    "        make install\n"
   ]
  },
  {
   "cell_type": "markdown",
   "metadata": {},
   "source": [
    "# Take fastq in and spit out chilled normalized Hi-C matrix"
   ]
  },
  {
   "cell_type": "markdown",
   "metadata": {},
   "source": [
    "## Define data folders, data, and sample name"
   ]
  },
  {
   "cell_type": "code",
   "execution_count": null,
   "metadata": {
    "collapsed": true
   },
   "outputs": [],
   "source": [
    "annotation=\"/input_dir/mm9\"\n",
    "tmp=\"/input_dir/\"\n",
    "input_dir=\"/input_dir/\"\n",
    "output_dir=\"/output_dir/\"\n",
    "input_fq_1=\"HiC_mesc_1_1M.fq.gz\"\n",
    "input_fq_2=\"HiC_mesc_2_1M.fq.gz\"\n",
    "sample_name=\"test\"\n",
    "bin_size=\"10000\""
   ]
  },
  {
   "cell_type": "markdown",
   "metadata": {},
   "source": [
    "## Set up directories for HiCPro"
   ]
  },
  {
   "cell_type": "code",
   "execution_count": 27,
   "metadata": {
    "collapsed": true
   },
   "outputs": [],
   "source": [
    "!mkdir  $output_dir\"/rawdata/mesc_test\"\n",
    "!cp $output_dir\"$input_fq_1\" $output_dir\"/rawdata/mesc_test\"test_1_1M.fq.gz\n",
    "!cp $output_dir\"$input_fq_2\" $output_dir\"/rawdata/mesc_test\"test_2_1M.fq.gz"
   ]
  },
  {
   "cell_type": "markdown",
   "metadata": {},
   "source": [
    "## Edit and save HiCPro config file using Jupyter magic"
   ]
  },
  {
   "cell_type": "code",
   "execution_count": 31,
   "metadata": {},
   "outputs": [
    {
     "name": "stdout",
     "output_type": "stream",
     "text": [
      "Overwriting /root/HiC-Pro_2.8.1_devel/config-hicpro_mesc.txt\n"
     ]
    }
   ],
   "source": [
    "%%writefile /root/HiC-Pro_2.8.1_devel/config-hicpro_mesc.txt\n",
    "# %load /root/HiC-Pro_2.8.1_devel/config-hicpro.txt\n",
    "# Please change the variable settings below if necessary\n",
    "\n",
    "#########################################################################\n",
    "## Paths and Settings  - Do not edit !\n",
    "#########################################################################\n",
    "\n",
    "TMP_DIR = $tmp\n",
    "LOGS_DIR = logs\n",
    "BOWTIE2_OUTPUT_DIR = bowtie_results\n",
    "MAPC_OUTPUT = hic_results\n",
    "RAW_DIR = rawdata\n",
    "\n",
    "#######################################################################\n",
    "## SYSTEM AND SCHEDULER - Start Editing Here !!\n",
    "#######################################################################\n",
    "N_CPU = 2\n",
    "LOGFILE = hicpro.log\n",
    "\n",
    "JOB_NAME = \n",
    "JOB_MEM = \n",
    "JOB_WALLTIME = \n",
    "JOB_QUEUE = \n",
    "JOB_MAIL = \n",
    "\n",
    "#########################################################################\n",
    "## Data\n",
    "#########################################################################\n",
    "\n",
    "PAIR1_EXT = _1\n",
    "PAIR2_EXT = _2\n",
    "\n",
    "#######################################################################\n",
    "## Alignment options\n",
    "#######################################################################\n",
    "\n",
    "FORMAT = phred33\n",
    "MIN_MAPQ = 0\n",
    "\n",
    "BOWTIE2_IDX_PATH = \n",
    "BOWTIE2_GLOBAL_OPTIONS = --very-sensitive -L 30 --score-min L,-0.6,-0.2 --end-to-end --reorder\n",
    "BOWTIE2_LOCAL_OPTIONS =  --very-sensitive -L 20 --score-min L,-0.6,-0.2 --end-to-end --reorder\n",
    "\n",
    "#######################################################################\n",
    "## Annotation files\n",
    "#######################################################################\n",
    "\n",
    "REFERENCE_GENOME = mm9\n",
    "GENOME_SIZE = chrom_hg19.sizes\n",
    "CAPTURE_TARGET =\n",
    "\n",
    "#######################################################################\n",
    "## Allele specific analysis\n",
    "#######################################################################\n",
    "\n",
    "ALLELE_SPECIFIC_SNP = \n",
    "\n",
    "#######################################################################\n",
    "## Digestion Hi-C\n",
    "#######################################################################\n",
    "\n",
    "GENOME_FRAGMENT = HindIII_resfrag_mm9.bed\n",
    "LIGATION_SITE = AAGCTAGCTT\n",
    "MIN_FRAG_SIZE = \n",
    "MAX_FRAG_SIZE =\n",
    "MIN_INSERT_SIZE =\n",
    "MAX_INSERT_SIZE =\n",
    "\n",
    "#######################################################################\n",
    "## Hi-C processing\n",
    "#######################################################################\n",
    "\n",
    "MIN_CIS_DIST =\n",
    "GET_ALL_INTERACTION_CLASSES = 1\n",
    "GET_PROCESS_SAM = 0\n",
    "RM_SINGLETON = 1\n",
    "RM_MULTI = 1\n",
    "RM_DUP = 1\n",
    "\n",
    "#######################################################################\n",
    "## Contact Maps\n",
    "#######################################################################\n",
    "\n",
    "BIN_SIZE = 20000 40000 150000 500000 1000000\n",
    "MATRIX_FORMAT = upper\n",
    "\n",
    "#######################################################################\n",
    "## Normalization\n",
    "#######################################################################\n",
    "MAX_ITER = 100\n",
    "FILTER_LOW_COUNT_PERC = 0.02\n",
    "FILTER_HIGH_COUNT_PERC = 0\n",
    "EPS = 0.1\n"
   ]
  },
  {
   "cell_type": "markdown",
   "metadata": {},
   "source": [
    "## Run HiCPro through all steps"
   ]
  },
  {
   "cell_type": "code",
   "execution_count": 32,
   "metadata": {},
   "outputs": [
    {
     "name": "stdout",
     "output_type": "stream",
     "text": [
      "make: *** No targets.  Stop.\r\n"
     ]
    }
   ],
   "source": [
    "!/root/HiC-Pro_2.8.1_devel/bin/HiC-Pro \\\n",
    "    -i $output_dir -c /root/HiC-Pro_2.8.1_devel/config-hicpro_mesc.txt \\\n",
    "    -s mapping -s proc_hic -s quality_checks -s merge_persample -s build_contact_maps -s ice_norm \\\n",
    "    -o $output_dir"
   ]
  }
 ],
 "metadata": {
  "anaconda-cloud": {},
  "kernelspec": {
   "display_name": "Python [conda env:py27]",
   "language": "python",
   "name": "conda-env-py27-py"
  },
  "language_info": {
   "codemirror_mode": {
    "name": "ipython",
    "version": 2
   },
   "file_extension": ".py",
   "mimetype": "text/x-python",
   "name": "python",
   "nbconvert_exporter": "python",
   "pygments_lexer": "ipython2",
   "version": "2.7.13"
  }
 },
 "nbformat": 4,
 "nbformat_minor": 2
}
