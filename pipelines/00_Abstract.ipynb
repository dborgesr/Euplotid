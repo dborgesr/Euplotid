{
 "cells": [
  {
   "cell_type": "markdown",
   "metadata": {},
   "source": [
    "\n",
    "<div style=\"text-align:center\"><img src=\"https://raw.githubusercontent.com/dborgesr/Euplotid/gh-pages/web_euplotid/Title_slide.png\" style=\"width: 1000px;\"></div>\n",
    "\n",
    "# Abstract\n",
    "### http://dborgesr.github.io/Euplotid/\n",
    "### http://www.biorxiv.org/content/early/2017/08/03/170159\n",
    "&nbsp;&nbsp;&nbsp;&nbsp;&nbsp;&nbsp;&nbsp;&nbsp;Life as we know it has continued to shock and amaze us, consistently reminding us that truth is far stranger than fiction. Euplotid is a quantized geometric model of life, a first attempt at quantifying, using planck's constant geometric shape as its base, the incredibly combinatorial complexity that defines a living cell. By beginning from the very bottom we are able to build the pieces, which when hierarchically and combinatorially combined, can produce the emergent complex behavior that even a single celled organism can show. Euplotid is composed of a set of quantized geometric 3D building blocks and constantly evolving bioinformatic pipelines encapsulated and running in Docker containers enabling a user to build and annotate the local regulatory structure of every gene starting from raw sequencing reads of DNA-interactions, chromatin accessibility, and RNA-sequencing. Reads are quantified using the latest computational tools and the results are normalized, quality-checked, and stored. The local regulatory neighborhood of each gene is built using a Louvain based graph partitioning algorithm parameterized by the chromatin extrusion model and CTCF-CTCF interactions. Cis-Regulatory Elements are defined using chromatin accessibility peaks which are then mapped to Transcription Start Sites based on inclusion within the same neighborhood. Deep Neural Networks are trained in order to provide a statistical model mimicking transcription factor binding, giving the ability to identify all TFs within a given chromatin accessibility peak. By in-silico mutating and re-applying the neural network we are able to gauge the impact of a transition mutation on the binding of any human transcription factor. The annotated output can be visualized in a variety of 1D, 2D, 3D and 4D ways overlaid with existing bodies of knowledge, such as GWAS results or PDB structures. Once a particular CRE of interest has been identified by a biologist the difficulty of a Base Editor mediated transition mutation can be quantitatively observed and induced in a model organism.\n",
    "\n",
    "<div style=\"text-align:center\"><img src=\"https://raw.githubusercontent.com/dborgesr/Euplotid/gh-pages/web_euplotid/graphical_abstract.png\" style=\"width: 5=800px;\"></div>\n",
    "\n",
    "## Get Docker\n",
    "[**INSTALL DOCKER HERE**](https://www.docker.com/community-edition#/download\")\n",
    "\n",
    "The pipelines available and their capabilities are described in [Methods](docs/07_Methods.md)  which helps you pick the right of 3 Docker images.\n",
    "\n",
    "Remember to define the correct directories when running the Docker image depending on your local OS machine, ex:\n",
    "\n",
    "Cluster (Linux):\n",
    "~~~\n",
    "    -v \"/lab/solexa_public:/input_dir\" \\\n",
    "    -v \"/home/dborgesr/work_space/tmp:/tmp_dir\" \\\n",
    "    -v \"/home/dborgesr/work_space/out_dir:/output_dir\" \\\n",
    "    -v \"/home/dborgesr/work_space/annotation:/annotation_dir\" \\\n",
    "~~~\n",
    "\n",
    "## Pull and run your image!\n",
    "\n",
    "* Megatid: process sequencing data into quantified values (FPKM,peaks,etc)\n",
    "~~~ \n",
    "docker run --name megatid -p 8891:8891 -tid \\\n",
    "\t-v \"/your/input/directory:/input_dir\" \\\n",
    "\t-v \"/your/temporary/directory/:/tmp_dir\" \\\n",
    "\t-v \"/your/output/directory/:/output_dir\" \\\n",
    "\t-v \"/your/annotation/directory/:/annotation_dir\" \\\n",
    "\tdborgesr/euplotid:megatid\n",
    "~~~\n",
    "* Euplotid: build and visualize INs and learn/predict TFs bound at CREs\n",
    "~~~\n",
    "docker run --name euplotid -p 8890:8890 -tid \\\n",
    "\t-v \"/your/input/directory:/input_dir\" \\\n",
    "\t-v \"/your/temporary/directory/:/tmp_dir\" \\\n",
    "\t-v \"/your/output/directory/:/output_dir\" \\\n",
    "\t-v \"/your/annotation/directory/:/annotation_dir\" \\\n",
    "\tdborgesr/euplotid:euplotid\n",
    "~~~\n",
    "* Minitid: visualize and interact with built and annotated INs\n",
    "~~~\n",
    "docker run --name minitid -p 8892:8892 -tid \\\n",
    "\t-v \"/your/input/directory:/input_dir\" \\\n",
    "\t-v \"/your/temporary/directory/:/tmp_dir\" \\\n",
    "\t-v \"/your/output/directory/:/output_dir\" \\\n",
    "\t-v \"/your/annotation/directory/:/annotation_dir\" \\\n",
    "\tdborgesr/euplotid:minitid\n",
    "~~~\n",
    "* Nanotid: ARM architecture image to build and visualize INs and learn/predict TFs bound at CREs\n",
    "~~~\n",
    "docker run --name nanotid -p 8893:8893 -tid \\\n",
    "\t-v \"/your/input/directory:/input_dir\" \\\n",
    "\t-v \"/your/temporary/directory/:/tmp_dir\" \\\n",
    "\t-v \"/your/output/directory/:/output_dir\" \\\n",
    "\t-v \"/your/annotation/directory/:/annotation_dir\" \\\n",
    "\tdborgesr/euplotid:nanotid\n",
    "~~~\n",
    "Your Docker image should be running on your computer (local), now you can access and use it!\n",
    "\n",
    "## Go to your image!\n",
    "* Megatid <br> local:[http://localhost:8891](http://localhost:8891) Whitehead internal:[http://airstream:8891](http://airstream:8891)\n",
    "* Euplotid <br> local:[http://localhost:8890](http://localhost:8890) Whitehead internal:[http://airstream:8890](http://airstream:8890)\n",
    "* Minitid <br> local:[http://localhost:8892](http://localhost:8892) Whitehead internal:[http://airstream:8892](http://airstream:8892)\n",
    "* Nanotid <br> local:[http://localhost:8893](http://localhost:8893) Whitehead internal:[http://airstream:8893](http://airstream:8893)\n",
    "\n",
    "Each Docker image has different capabilities (packages installed in each Docker image are described in [packageManagement](docs/packageManagement.md))"
   ]
  }
 ],
 "metadata": {
  "anaconda-cloud": {},
  "celltoolbar": "Edit Metadata",
  "hide_input": false,
  "kernelspec": {
   "display_name": "Python 3",
   "language": "python",
   "name": "python3"
  },
  "language_info": {
   "codemirror_mode": {
    "name": "ipython",
    "version": 3
   },
   "file_extension": ".py",
   "mimetype": "text/x-python",
   "name": "python",
   "nbconvert_exporter": "python",
   "pygments_lexer": "ipython3",
   "version": "3.6.3"
  },
  "latex_envs": {
   "LaTeX_envs_menu_present": true,
   "autocomplete": true,
   "bibliofile": "Euplotid.bib",
   "cite_by": "apalike",
   "current_citInitial": 1,
   "eqLabelWithNumbers": true,
   "eqNumInitial": 1,
   "hotkeys": {
    "equation": "Ctrl-E",
    "itemize": "Ctrl-I"
   },
   "labels_anchors": false,
   "latex_user_defs": false,
   "report_style_numbering": false,
   "user_envs_cfg": false
  },
  "latex_metadata": {
   "author": "Diego Borges",
   "email": "dborgesr@mit.edu",
   "institution": [
    "Massachusetts Institute of Technology"
   ],
   "logo": "mit-university-logo",
   "subtitle": "A linux-based platform to identify, predict, and assess the difficulty of inducing transition mutations on Cis-Regulatory Elements constrained within Insulated Neighborhoods",
   "supervisors": [
    "Richard Young"
   ],
   "tagline": "https://dborgesr.github.io/Euplotid/",
   "title": "Euplotid"
  }
 },
 "nbformat": 4,
 "nbformat_minor": 2
}
