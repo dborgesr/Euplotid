{
 "cells": [
  {
   "cell_type": "code",
   "execution_count": null,
   "metadata": {
    "collapsed": true,
    "init_cell": true,
    "slideshow": {
     "slide_type": "skip"
    }
   },
   "outputs": [],
   "source": [
    "from ipynb_latex_setup import *"
   ]
  },
  {
   "cell_type": "markdown",
   "metadata": {},
   "source": [
    "# Abstract"
   ]
  },
  {
   "cell_type": "code",
   "execution_count": 8,
   "metadata": {
    "latex_figure": {
     "caption": "Graphical Abstract",
     "label": "fig:abstract",
     "placement": "H",
     "widefigure": false
    },
    "scrolled": false
   },
   "outputs": [],
   "source": [
    "#Image(\"https://raw.githubusercontent.com/dborgesr/Euplotid/gh-pages/web_euplotid/lab_meeting_slides_Title_slide.png\",width=1000)"
   ]
  },
  {
   "cell_type": "code",
   "execution_count": 9,
   "metadata": {
    "latex_figure": {
     "caption": "Detailed Abstract",
     "label": "fig:detailed_abstract",
     "placement": "H",
     "widefigure": false
    },
    "scrolled": true
   },
   "outputs": [],
   "source": [
    "#Image(\"https://raw.githubusercontent.com/dborgesr/Euplotid/gh-pages/web_euplotid/https://raw.githubusercontent.com/dborgesr/Euplotid/gh-pages/web_euplotid/lab_meeting_slides_graphical_abstract.png\",width=1000)"
   ]
  },
  {
   "cell_type": "markdown",
   "metadata": {},
   "source": [
    "\n",
    "<div style=\"text-align:center\"><img src=\"https://raw.githubusercontent.com/dborgesr/Euplotid/gh-pages/web_euplotid/lab_meeting_slides_Title_slide.png\" style=\"width: 1000px;\"></div>\n",
    "\n",
    "### http://dborgesr.github.io/Euplotid/\n",
    "&nbsp;&nbsp;&nbsp;&nbsp;&nbsp;&nbsp;&nbsp;&nbsp;Euplotid is composed of a set of constantly evolving bioinformatic pipelines encapsulated and running in Docker containars enabling a user to build and annotate Insulated Neighborhoods genomewide starting from raw sequencing reads of DNA-interactions, chromatin accessibility, and RNA-sequencing. Reads are quantified using the latest computational tools and the results are normalized, quality-checked, and stored. Insulated Neighborhoods are then built using a Louvain based graph partioning algorithm parametrized by the chromatin extrusion model and CTCF-CTCF interactions. Cis-Regulatory Elements are defined using chromatin accessibility peaks which are then mapped to Transcription Start Sites based on inclusion within the same neighborhood. Convolutional Neural Networks are combined with Long-Short Term Memory in order to provide a statistical model mimicking transcription factor binding, one neural network for each protein in the genome is trained on all available Chip-Seq and SELEX data, learning what pattern of DNA oligonucleotides the factor can bind. The neural networks are then merged and trained on chromatin accessibility data, building a rationally designed neural network architecture capable of predicting chromatin accessibility. Transcription factor binding and identity at each peak is annotated using this trained neural network architecture. By in-silico mutating and re-applying the neural network we are able to gauge the impact of a transition mutation on the binding of any human transcription factor. The annotated output can be visualized in a variety of 1D, 2D and 3D ways overlayed with existing bodies of knowledge, such as GWAS results. Once a particular CRE of interest has been identified by a biologist the difficulty of a <a href=\"https://blog.benchling.com/base-editor/\"> Base Editor 2 (BE2) </a> mediated transition mutation can be quantitatively assesed and induced in a model organism. \n",
    "<div style=\"text-align:center\"><img src=\"https://raw.githubusercontent.com/dborgesr/Euplotid/gh-pages/web_euplotid/lab_meeting_slides_graphical_abstract.png\" style=\"width: 5=800px;\"></div>\n",
    "\n",
    "## Get Docker\n",
    "[**INSTALL DOCKER HERE**](https://www.docker.com/community-edition#/download\")\n",
    "\n",
    "The pipelines available and their capabilities are described in [Methods](docs/07_Methods.md)  which helps you pick the right of 3 Docker images.\n",
    "\n",
    "Remember to define the correct directories when running the Docker image depending on your local OS machine, ex:\n",
    "\n",
    "Whitehead (Linux):\n",
    "~~~\n",
    "    -v \"/lab/solexa_public:/input_dir\" \\\n",
    "    -v \"/home/dborgesr/work_space/tmp:/tmp_dir\" \\\n",
    "    -v \"/home/dborgesr/work_space/out_dir:/output_dir\" \\\n",
    "    -v \"/home/dborgesr/work_space/annotation:/annotation_dir\" \\\n",
    "~~~\n",
    "\n",
    "## Pull and run your image!\n",
    "\n",
    "* Megatid: process sequencing data into quantified values (FPKM,peaks,etc)\n",
    "~~~ \n",
    "docker run --name megatid -p 8891:8891 -tid \\\n",
    "\t-v \"/your/input/directory:/input_dir\" \\\n",
    "\t-v \"/your/temporary/directory/:/tmp_dir\" \\\n",
    "\t-v \"/your/output/directory/:/output_dir\" \\\n",
    "\t-v \"/your/annotation/directory/:/annotation_dir\" \\\n",
    "\tdborgesr/euplotid:megatid\n",
    "~~~\n",
    "* Euplotid: build and visualize INs and learn/predict TFs bound at CREs\n",
    "~~~\n",
    "docker run --name euplotid -p 8890:8890 -tid \\\n",
    "\t-v \"/your/input/directory:/input_dir\" \\\n",
    "\t-v \"/your/temporary/directory/:/tmp_dir\" \\\n",
    "\t-v \"/your/output/directory/:/output_dir\" \\\n",
    "\t-v \"/your/annotation/directory/:/annotation_dir\" \\\n",
    "\tdborgesr/euplotid:euplotid\n",
    "~~~\n",
    "* Minitid: visualize and interact with built and annotated INs\n",
    "~~~\n",
    "docker run --name minitid -p 8892:8892 -tid \\\n",
    "\t-v \"/your/input/directory:/input_dir\" \\\n",
    "\t-v \"/your/temporary/directory/:/tmp_dir\" \\\n",
    "\t-v \"/your/output/directory/:/output_dir\" \\\n",
    "\t-v \"/your/annotation/directory/:/annotation_dir\" \\\n",
    "\tdborgesr/euplotid:minitid\n",
    "~~~\n",
    "* Nanotid: ARM architecture image to build and visualize INs and learn/predict TFs bound at CREs\n",
    "~~~\n",
    "docker run --name nanotid -p 8893:8893 -tid \\\n",
    "\t-v \"/your/input/directory:/input_dir\" \\\n",
    "\t-v \"/your/temporary/directory/:/tmp_dir\" \\\n",
    "\t-v \"/your/output/directory/:/output_dir\" \\\n",
    "\t-v \"/your/annotation/directory/:/annotation_dir\" \\\n",
    "\tdborgesr/euplotid:nanotid\n",
    "~~~\n",
    "Your Docker image should be running on your computer (local), now you can access and use it!\n",
    "\n",
    "## Go to your image!\n",
    "* Megatid <br> local:[http://localhost:8891](http://localhost:8891) Whitehead internal:[http://airstream:8891](http://airstream:8891)\n",
    "* Euplotid <br> local:[http://localhost:8890](http://localhost:8890) Whitehead internal:[http://airstream:8890](http://airstream:8890)\n",
    "* Minitid <br> local:[http://localhost:8892](http://localhost:8892) Whitehead internal:[http://airstream:8892](http://airstream:8892)\n",
    "* Nanotid <br> local:[http://localhost:8893](http://localhost:8893) Whitehead internal:[http://airstream:8893](http://airstream:8893)\n",
    "\n",
    "Each Docker image has different capabilities (packages installed in each Docker image are described in [packageManagement](docs/packageManagement.md))"
   ]
  }
 ],
 "metadata": {
  "anaconda-cloud": {},
  "celltoolbar": "Edit Metadata",
  "hide_input": false,
  "kernelspec": {
   "display_name": "Python [conda root]",
   "language": "python",
   "name": "conda-root-py"
  },
  "language_info": {
   "codemirror_mode": {
    "name": "ipython",
    "version": 2
   },
   "file_extension": ".py",
   "mimetype": "text/x-python",
   "name": "python",
   "nbconvert_exporter": "python",
   "pygments_lexer": "ipython2",
   "version": "2.7.13"
  },
  "latex_envs": {
   "LaTeX_envs_menu_present": true,
   "autocomplete": true,
   "bibliofile": "Euplotid.bib",
   "cite_by": "apalike",
   "current_citInitial": 1,
   "eqLabelWithNumbers": true,
   "eqNumInitial": 1,
   "hotkeys": {
    "equation": "Ctrl-E",
    "itemize": "Ctrl-I"
   },
   "labels_anchors": false,
   "latex_user_defs": false,
   "report_style_numbering": false,
   "user_envs_cfg": false
  },
  "latex_metadata": {
   "author": "Diego Borges",
   "email": "dborgesr@mit.edu",
   "institution": [
    "Massachusetts Institute of Technology"
   ],
   "logo": "mit-university-logo",
   "subtitle": "A linux-based platform to identify, predict, and assess the difficulty of inducing transition mutations on Cis-Regulatory Elements constrained within Insulated Neighborhoods",
   "supervisors": [
    "Richard Young"
   ],
   "tagline": "https://dborgesr.github.io/Euplotid/",
   "title": "Euplotid"
  }
 },
 "nbformat": 4,
 "nbformat_minor": 2
}
