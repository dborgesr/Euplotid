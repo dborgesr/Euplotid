{
 "cells": [
  {
   "cell_type": "markdown",
   "metadata": {},
   "source": [
    "# Abstract\n",
    "Integrative analysis of multiple data types to address complex biomedical questions requires the use of multiple software tools in concert and remains an enormous challenge for most of the biomedical research community. Here we introduce GenomeSpace (http://www.genomespace.org), a cloud-based, cooperative community resource. Seeded as a collaboration of six of the most popular genomics analysis tools, GenomeSpace now supports the streamlined interaction of 20 bioinformatics tools and data resources. To facilitate the ability of non-programming users’ to leverage GenomeSpace in integrative analysis, it offers a growing set of ‘recipes’, short workflows involving a few tools and steps to guide investigators through high utility analysis tasks."
   ]
  },
  {
   "cell_type": "code",
   "execution_count": null,
   "metadata": {
    "collapsed": true,
    "latex_figure": {
     "caption": "",
     "label": "fig:fig1",
     "placement": "H",
     "widefigure": false
    }
   },
   "outputs": [],
   "source": [
    "Image(\"fig1.png\",width=1000)"
   ]
  },
  {
   "cell_type": "markdown",
   "metadata": {
    "latex_doc": {
     "caption": "fig:fig1"
    }
   },
   "source": [
    "Figure 1. The GenomeSpace environment for interoperation of bioinformatics tools"
   ]
  },
  {
   "cell_type": "code",
   "execution_count": null,
   "metadata": {
    "collapsed": true,
    "latex_figure": {
     "caption": "",
     "label": "fig:table1",
     "placement": "H",
     "widefigure": false
    }
   },
   "outputs": [],
   "source": [
    "Image(\"table1.png\",width=1000)"
   ]
  },
  {
   "cell_type": "markdown",
   "metadata": {
    "latex_doc": {
     "caption": "fig:table1"
    }
   },
   "source": [
    "Table 1. GenomeSpace provides access to a diverse set of bioinformatics tools and resources"
   ]
  },
  {
   "cell_type": "markdown",
   "metadata": {},
   "source": [
    "# Main text\n",
    "\n",
    "Building on the Human Genome Project \\cite{lander_initial_2001} and the advent of high-throughput genomic technologies, the past two decades of biomedical research are yielding a flood of massive and varied biological datasets. As a result, numerous databases and analysis software tools have been developed for researchers to access, visualize, and analyze different data types.\n",
    "\n",
    "However, integrative analysis of diverse data types through multiple analysis tools remains an enormous challenge for many biologists. There is an ever-growing gap between the need to use various analysis and visualization software tools and the difficulty of getting tools from different sources to work together. Moreover, the wealth of existing and emerging analytical methods makes it difficult – even for experts, but especially for less computationally oriented biologists – to keep up with all of the available tools, and to identify the right recipe to follow, particularly in the absence of an accepted “laboratory manual” for analytic protocols. These difficulties curtail the agility and creativity of researchers and may prevent them from adopting alternative or new methods.\n",
    "Here, we present GenomeSpace, a cooperative community resource that provides an open- source interoperability platform to enable non-programming scientists to work easily across data types, tools, and analysis methods. GenomeSpace provides a “tool launch pad” into which tools can be seamlessly added, and a “data highway” that handles transfers between tools through format converters, relieving scientists of the burden of identifying and scripting the conversions. The GenomeSpace Recipe Resource is a growing set of high- utility use cases that demonstrate how to leverage multiple tools, and also serve as quick guides to analysis tasks using GenomeSpace and the GenomeSpace tools. The GenomeSpace website, http://www.genomespace.org, serves as a knowledge base, newsstand, and point of online contact and help for the GenomeSpace community of users and tool developers.\n",
    "\n",
    "Initially seeded by a consortium of biology research labs and development teams of six popular bioinformatics tools (Cytoscape \\cite{demchak_cytoscape:_2014}, Galaxy \\cite{giardine_galaxy:_2005}, GenePattern \\cite{reich_genepattern_2006}, Genomica \\cite{segal_module_2004}, the Integrative Genomics Viewer (IGV), and the UCSC Table Browser \\cite{karolchik_ucsc_2004}), GenomeSpace now connects 20 tools and data resources. Our consortium labs provided real driving biological projects and analytical needs to shape the design and development of the GenomeSpace architecture and software. For example, we recapitulated the steps and results of published analyses \\cite{ben-porath_embryonic_2008} \\cite{wong_module_2008}, within GenomeSpace (Supplementary Figs. 1-2), dissecting and visualizing the gene regulatory networks in human cancer stem cells (Supplementary Note 1, Supplementary Figs. 2–5). This illustrates how GenomeSpace enables a non-programming biologist to conduct a rich and involved integrative analysis, which previously led to a novelresult. The study required diverse data types, analytical steps, methods, tools, and multiple data transfers between the tools. While originally requiring substantial scripting, this work can now be performed using only the tools within, and capabilities of, GenomeSpace.\n",
    "\n",
    "From a user’s perspective (Fig. 1, Supplementary Fig. 6), GenomeSpace has several key features that together facilitate integrative analysis with a low barrier to user entry: (1) The collection of resident tools spanning a broad range of applications (Table 1); (2) Easy dataset management in a variety of cloud storage types, alongside data sharing capabilities. All GenomeSpace account holders receive an allocation of cloud storage, and GenomeSpace also supports connections to other cloud accounts (Dropbox, Google Drive, Amazon S3); (3) The ability to launch tools and to move data and analyses between tools, all facilitated by “behind-the-scenes” file format converters; (4) A lightweight, simple, unifying web interface. In summary, from the web interface a researcher can launch a desired tool and simultaneously feed it input data files, move analysis results into other tools as needed through simple launching operations, and collect additional processed data within their GenomeSpace cloud account, other cloud accounts, or local storage.\n",
    "\n",
    "We developed the GenomeSpace Recipe Resource to aid biomedical researchers in identifying the steps required to perform a genomic analysis – a challenging task even for short analyses. Although pre-constructed pipelines can embody the entire workflow of a study, they may be insufficiently open-ended or flexible for exploratory research. We took an alternative approach by providing a collection or “cookbook” of recipes, i.e., comprehensive descriptions of cross-tool analysis workflows. Recipes are generally short – involving two or three tools – but commoditize important research tasks that investigators can employ in many ways as part of more complex analyses. The notion of our Recipe Resource is modeled after the classical lab guide “Molecular cloning: A laboratory manual” \\cite{green_molecular_2012}, which used a similar approach to democratize molecular biology three decades ago.\n",
    "Each GenomeSpace recipe contains a motivating biological problem, a relevant example dataset, detailed recipe steps, and one possible interpretation of the results, illustrated on the example data. A variety of media accompany the recipe steps including screenshot guides and videos that together walk users through the workflow. The recipes are served on our Recipe web page (http://www.genomespace.org/recipes), the most frequently visited section of the GenomeSpace website after the home page. The current recipes cover diverse genomic analyses as well as basic utilities for using GenomeSpace itself (Supplementary Table 1). Since no single lab can supply the expertise or effort required to create a comprehensive recipe collection, we are adding social media vehicles to make recipe collection a crowd-sourced, collaborative effort through community contributions. We encourage suggestions for new and useful multi-tool recipes and ideas to improve existing recipes.\n",
    "\n",
    "An illustrative example from the GenomeSpace Recipe Resource is “Find subnetworks of differentially expressed genes and identify associated biological functions”. Briefly, given a gene expression dataset, this recipe identifies network interactions between differentially expressed genes, and annotates the biological functions within subnetworks via the Gene Ontology (GO) (Supplementary Fig. 7). The example dataset provided with this recipe is gene expression data from a study in which granulocyte-macrophage progenitor cells were transformed into leukemia stem cells by introduction of an oncogene, MLL-AF9 \\cite{krivtsov_transformation_2006}. Applying the recipe identifies processes that are correlated with transformation from a normal to a leukemic phenotype (Supplementary Fig. 8), such as SMAD1-dependent signaling, a process associated with the regulation of hematopoietic differentiation by TGF-β and BMP14. A second recipe example, “Identify biological functions for genes in copy number variation (CNV) regions”, is described in Supplementary Note 2 (Supplementary Figs. 9–10).\n",
    "\n",
    "An important GenomeSpace design goal was to facilitate rapid addition of diverse tools contributed by the developer community. This mutually benefits GenomeSpace and independent tool developers by extending the capabilities of GenomeSpace while also giving developers’ tools access to all GenomeSpace-connected tools and data sources, circumventing the need to connect to each one individually. Recent cross-tool interoperability efforts have used one of several approaches: aggregators host a large number of command line tools (Galaxy, GenePattern); plug-in architectures provide a way to extend the functionality of a basic package (Cytoscape, geWorkbench, MeV \\cite{shannon_gaggle:_2006,mannisto_teaching_2008,saeed_tm4:_2003,larsson_role_2005}), and messaging systems send data and instructions between tools (MeDICi \\cite{mostafavi_genemania:_2008}, Gaggle \\cite{floratos_geworkbench:_2010,larsson_role_2005-1}). Our open-source, lightweight, hybrid approach combines aspects of both messaging and aggregating systems. The resulting platform (Supplementary Fig. 11 and Online Methods) provides single sign- on for GenomeSpace tools and data resources; security mechanisms and user-controlled levels of sharing; and a common interface to multiple cloud storage providers. Moreover, this approach supports interoperation among diverse desktop and web-based tools, while minimizing the amount of effort required to connect to the platform (Online Methods).\n",
    "\n",
    "To further facilitate cross-tool interoperability, GenomeSpace offers a range of file converters for directly converting between pairs of file formats (Supplementary Note 3). Our direct conversion approach confers a number of benefits. Notably, it obviates the development burden of defining and supporting central data models for tools, especially legacy ones, connecting to GenomeSpace. Moreover, since converters are independent and do not rely on a GenomeSpace-specific data model, we can expand the set of supported formats by leveraging converters that are developed outside of GenomeSpace.\n",
    "\n",
    "In conclusion, GenomeSpace has several key benefits. First, it allows seamless transition between tools. Automatic inter-tool file format converters speed tasks like launching and moving data between tools and obviate the need for custom conversion scripts, an insurmountable barrier for many biologists. Second, the large set of connected tools enriches the interpretation of integrative analyses. Exploring the same data in multiple tools—each designed to highlight distinct features of the data—allows the analysis to be examined in greater depth and diversity than with any single tool. Third, we encourage the inclusion of multiple tools with similar capabilities. Therefore many analysis steps can be performed with alternative tools from the GenomeSpace suite, allowing investigators to test their findings for robustness and reproducibility. It also permits them to use the tool with which they are most familiar. Fourth, recipes play an important role in making integrative analysis accessible. Conceived of as small analysis components, recipes describe short workflows that guide users to perform analysis tasks. Recipes can be assembled into more complex analysis scenarios and can also introduce investigators to new analysis methods and tools. In this way, GenomeSpace and the Recipe Resource can greatly expand the analytic universe accessible to investigators and help to move their research agenda forward.\n"
   ]
  },
  {
   "cell_type": "markdown",
   "metadata": {},
   "source": [
    "# Online Methods\n",
    "\n",
    "## GenomeSpace Architecture\n",
    "From a tool developer’s perspective, GenomeSpace presents a “connection layer” that includes a collection of web services with well defined entry points to the GenomeSpace server that provides the core system functionality (Supplementary Figure 11). The GenomeSpace web user interface also interacts with the server through these entry points. The GenomeSpace server currently runs as an Amazon Machine Instance (AMI) in the Amazon Elastic Compute Cloud (EC2). It consists of three components: (1) An Identity Service manages sign-on credentials, including single sign-on to the GenomeSpace tools, and data access. GenomeSpace leverages the Amazon AWS security mechanisms, which are compliant with the requirements from many standards organizations and government agencies. All data is private by default, but users may share directories or files with other users or groups of users. (2) An Analysis Tools Manager maintains information about tool capabilities and dependencies and coordinates tool launches, including the ability to launch other GenomeSpace tools from within a tool; (3) A Data Manager handles data storage, transfer to/from the cloud (including Amazon S3, Google Drive, and Dropbox), data sharing, and the file format conversions that provide a smooth script-free connection between tools.\n",
    "\n",
    "## Connecting Tools to GenomeSpace\n",
    "The GenomeSpace connection layer includes a collection of web services with well-defined entry points to the GenomeSpace server that provides the core system functionality. It is available as Java and JavaScript client development kits for tools developed in those languages, or as web services with a RESTful application programming interface (API) for any language. Developers can also take advantage of a number of user interface widgets that are available for common user tasks, including file chooser dialogs and authentication panels. Adding a tool to GenomeSpace, using these resources, typically takes on the order of two programmer days or less, depending on the type of tool. The most recent tool to join the community was cBioPortal (http://www.cbioportal.org) from Memorial Sloan Kettering Cancer Center, and the development team reported that it took an hour to connect this web- based portal as a data source to GenomeSpace. We note that command line tools that do not have their own user interface can join the GenomeSpace community via either of its current aggregator members – GenePattern and Galaxy."
   ]
  },
  {
   "cell_type": "markdown",
   "metadata": {},
   "source": [
    "# Acknowledgements\n",
    "\n",
    "We thank other members of the GenomeSpace and GenePattern Teams for their contributions and input: P. Carr, B. Hill-Meyers, S. H. Lee, and T. Tabor (Broad Institute of MIT and Harvard); J. Zhang (Stanford University); and H. Carter and M. Smoot (University of California San Diego). Special thanks to D. Haussler and J. Kent (University of"
   ]
  }
 ],
 "metadata": {
  "anaconda-cloud": {},
  "celltoolbar": "Edit Metadata",
  "hide_input": false,
  "kernelspec": {
   "display_name": "Python [conda root]",
   "language": "python",
   "name": "conda-root-py"
  },
  "language_info": {
   "codemirror_mode": {
    "name": "ipython",
    "version": 2
   },
   "file_extension": ".py",
   "mimetype": "text/x-python",
   "name": "python",
   "nbconvert_exporter": "python",
   "pygments_lexer": "ipython2",
   "version": "2.7.13"
  },
  "latex_envs": {
   "LaTeX_envs_menu_present": true,
   "autocomplete": true,
   "bibliofile": "masters_refs.bib",
   "cite_by": "apalike",
   "current_citInitial": 1,
   "eqLabelWithNumbers": true,
   "eqNumInitial": 1,
   "hotkeys": {
    "equation": "Ctrl-E",
    "itemize": "Ctrl-I"
   },
   "labels_anchors": false,
   "latex_user_defs": false,
   "report_style_numbering": false,
   "user_envs_cfg": false
  },
  "latex_metadata": {
   "author": "Kun Qu, Sara Garamszegi, Felix Wu, Helga Thorvaldsdottir, Ted Liefeld, Marco Ocana, Diego Borges-Rivera, Nathalie Pochet, James T. Robinson, Barry Demchak, Tim Hull, Gil Ben-Artzi, Daniel Blankenberg, Galt P. Barber, Brian T. Lee, Robert M. Kuhn, Anton Nekrutenko, Eran Segal, Trey Ideker, Michael Reich, Aviv Regev, Howard Y. Chang1, and Jill P. Mesirov",
   "email": "dborgesr@mit.edu",
   "logo": "mit-university-logo",
   "publisher": [
    "Nature Methods"
   ],
   "title": "Integrative genomic analysis by interoperation of bioinformatics tools in GenomeSpace"
  }
 },
 "nbformat": 4,
 "nbformat_minor": 2
}
