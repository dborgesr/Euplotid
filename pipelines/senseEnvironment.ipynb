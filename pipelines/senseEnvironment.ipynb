{
 "cells": [
  {
   "cell_type": "code",
   "execution_count": 1,
   "metadata": {
    "collapsed": true
   },
   "outputs": [],
   "source": [
    "import io         # used to create file streams\n",
    "import fcntl      # used to access I2C parameters like addresses\n",
    "import time       # used for sleep delay and timestamps\n",
    "import string     # helps parse strings\n",
    "from sense_hat import SenseHat\n",
    "import subprocess\n",
    "import re\n",
    "\n",
    "class AtlasI2C:\n",
    "    long_timeout = 1.5 # the timeout needed to query readings and calibrations\n",
    "    short_timeout = .5 # timeout for regular commands\n",
    "    default_bus = 1 # the default bus for I2C on the newer Raspberry Pis, certain older boards use bus 0\n",
    "    default_address = 100 # the default address for the sensor\n",
    "    current_addr = default_address\n",
    "    \n",
    "    def __init__(self, address=default_address, bus=default_bus):\n",
    "        self.file_read = io.open(\"/dev/i2c-\"+str(bus), \"rb\", buffering=0)\n",
    "        self.file_write = io.open(\"/dev/i2c-\"+str(bus), \"wb\", buffering=0)\n",
    "        self.set_i2c_address(address)\n",
    "\n",
    "    def set_i2c_address(self, addr):\n",
    "        I2C_SLAVE = 0x703\n",
    "        fcntl.ioctl(self.file_read, I2C_SLAVE, addr)\n",
    "        fcntl.ioctl(self.file_write, I2C_SLAVE, addr)\n",
    "        self.current_addr = addr\n",
    "\n",
    "    def write(self, cmd):\n",
    "        cmd += \"\\00\"\n",
    "        self.file_write.write(bytes(cmd, 'UTF-8'))\n",
    "\n",
    "    def read(self, num_of_bytes=31):\n",
    "        # reads a specified number of bytes from I2C, then parses and displays the result\n",
    "        res = self.file_read.read(num_of_bytes)         # read from the board\n",
    "        response = list(filter(lambda x: x != '\\x00', res))    # remove the null characters to get the response\n",
    "        check_err = response[0]\n",
    "        if check_err == 1:            \n",
    "            # change MSB to 0 for all received characters except the first and get a list of characters\n",
    "            char_list = map(lambda x: chr(x & ~0x80), list(response[1:]))\n",
    "            # NOTE: having to change the MSB to 0 is a glitch in the raspberry pi, and you shouldn't have to do this!\n",
    "            return ''.join(char_list)     # convert the char list to a string and returns it\n",
    "        else:\n",
    "            return \"Error \" + str(check_err)\n",
    "\n",
    "    def query(self, string):\n",
    "        # write a command to the board, wait the correct timeout, and read the response\",\n",
    "        self.write(string)\n",
    "        # the read and calibration commands require a longer timeout\",\n",
    "        if((string.upper().startswith(\"R\")) or\n",
    "            (string.upper().startswith(\"CAL\"))):\n",
    "            time.sleep(self.long_timeout)\n",
    "        elif string.upper().startswith(\"SLEEP\"):\n",
    "            return \"sleep mode\"\n",
    "        else:\n",
    "            time.sleep(self.short_timeout)\n",
    "        return self.read()\n",
    "\n",
    "    def close(self):\n",
    "        self.file_read.close()\n",
    "        self.file_write.close()\n",
    "        \n",
    "    def list_i2c_devices(self):\n",
    "        prev_addr = self.current_addr # save the current address so we can restore it after\",\n",
    "        i2c_devices = []\n",
    "        for i in range (0,128):\n",
    "            try:\n",
    "                self.set_i2c_address(i)\n",
    "                self.read()\n",
    "                i2c_devices.append(i)\n",
    "            except IOError:\n",
    "                pass\n",
    "        self.set_i2c_address(prev_addr) # restore the address we were using\",\n",
    "        return i2c_devices"
   ]
  },
  {
   "cell_type": "code",
   "execution_count": 3,
   "metadata": {
    "scrolled": false
   },
   "outputs": [
    {
     "name": "stdout",
     "output_type": "stream",
     "text": [
      "Error 0\n",
      "Error 0\n"
     ]
    }
   ],
   "source": [
    "#Start and calibrate devices\n",
    "sense = SenseHat()\n",
    "device = AtlasI2C() # creates the I2C port object, specify the address or bus if necessary\",\n",
    "delaytime = AtlasI2C.long_timeout\n",
    "\n",
    "#Setup and maintenance for pH and EC\n",
    "devices = device.list_i2c_devices()\n",
    "device.set_i2c_address(99)\n",
    "device.query(\"Cal,mid,7.0\") #calibrate pH\n",
    "#device.set_i2c_address(100)\n",
    "#device.query(\"Cal,dry\") #calibrate E.C. Dry\n",
    "#device.query(\"Cal,low,1413\") #calibrate E.C. low/single\n"
   ]
  },
  {
   "cell_type": "code",
   "execution_count": 4,
   "metadata": {},
   "outputs": [
    {
     "ename": "ValueError",
     "evalue": "could not convert string to float: 'Error 0'",
     "output_type": "error",
     "traceback": [
      "\u001b[0;31m\u001b[0m",
      "\u001b[0;31mValueError\u001b[0mTraceback (most recent call last)",
      "\u001b[0;32m<ipython-input-4-f9ab353a6433>\u001b[0m in \u001b[0;36m<module>\u001b[0;34m()\u001b[0m\n\u001b[1;32m     13\u001b[0m     \u001b[0;31m#query tentacle shield: 99 = pH, 100 = E.C.\u001b[0m\u001b[0;34m\u001b[0m\u001b[0;34m\u001b[0m\u001b[0m\n\u001b[1;32m     14\u001b[0m     \u001b[0mdevice\u001b[0m\u001b[0;34m.\u001b[0m\u001b[0mset_i2c_address\u001b[0m\u001b[0;34m(\u001b[0m\u001b[0;36m99\u001b[0m\u001b[0;34m)\u001b[0m\u001b[0;34m\u001b[0m\u001b[0m\n\u001b[0;32m---> 15\u001b[0;31m     \u001b[0mpH\u001b[0m \u001b[0;34m=\u001b[0m \u001b[0mround\u001b[0m\u001b[0;34m(\u001b[0m\u001b[0mfloat\u001b[0m\u001b[0;34m(\u001b[0m\u001b[0mdevice\u001b[0m\u001b[0;34m.\u001b[0m\u001b[0mquery\u001b[0m\u001b[0;34m(\u001b[0m\u001b[0;34m\"R\"\u001b[0m\u001b[0;34m)\u001b[0m\u001b[0;34m.\u001b[0m\u001b[0mrstrip\u001b[0m\u001b[0;34m(\u001b[0m\u001b[0;34m\"\\x00\"\u001b[0m\u001b[0;34m)\u001b[0m\u001b[0;34m)\u001b[0m\u001b[0;34m,\u001b[0m\u001b[0;36m2\u001b[0m\u001b[0;34m)\u001b[0m\u001b[0;34m\u001b[0m\u001b[0m\n\u001b[0m\u001b[1;32m     16\u001b[0m     \u001b[0mdevice\u001b[0m\u001b[0;34m.\u001b[0m\u001b[0mset_i2c_address\u001b[0m\u001b[0;34m(\u001b[0m\u001b[0;36m100\u001b[0m\u001b[0;34m)\u001b[0m\u001b[0;34m\u001b[0m\u001b[0m\n\u001b[1;32m     17\u001b[0m     \u001b[0mec\u001b[0m \u001b[0;34m=\u001b[0m \u001b[0mdevice\u001b[0m\u001b[0;34m.\u001b[0m\u001b[0mquery\u001b[0m\u001b[0;34m(\u001b[0m\u001b[0;34m\"R\"\u001b[0m\u001b[0;34m)\u001b[0m\u001b[0;34m.\u001b[0m\u001b[0mrstrip\u001b[0m\u001b[0;34m(\u001b[0m\u001b[0;34m\"\\x00\"\u001b[0m\u001b[0;34m)\u001b[0m\u001b[0;34m\u001b[0m\u001b[0m\n",
      "\u001b[0;31mValueError\u001b[0m: could not convert string to float: 'Error 0'"
     ]
    }
   ],
   "source": [
    "while True:\n",
    "    t = sense.get_temperature()\n",
    "    cpu_temp = str((str(subprocess.check_output(\"vcgencmd measure_temp\", shell=True)).replace(\"temp=\",\"\")).replace(\"'C\",\"\"))\n",
    "    cpu_temp = float(re.findall(\"\\d+\\.\\d+\", cpu_temp)[0])\n",
    "    t_c = t - ((cpu_temp - t)/1.166) # calibrate according to CPU temp\n",
    "    t_c = ((t_c/5.0)*9)+32 #farenheit\n",
    "    p = sense.get_pressure()\n",
    "    h = sense.get_humidity()\n",
    "    t_c = round(t_c, 1)\n",
    "    p = round(p, 1)\n",
    "    h = round(h, 1)\n",
    "    \n",
    "    #query tentacle shield: 99 = pH, 100 = E.C.\n",
    "    device.set_i2c_address(99)\n",
    "    pH = round(float(device.query(\"R\").rstrip(\"\\x00\")),2)\n",
    "    device.set_i2c_address(100)\n",
    "    ec = device.query(\"R\").rstrip(\"\\x00\")\n",
    "    \n",
    "    msg = \"Euplotid says: Temp = {0}'F, Press = {1}Pa, Humidity = {2}%, pH = {3}, E.C. = {4}\".format(t_c,p,h,pH,ec)\n",
    "    sense.show_message(msg, scroll_speed=0.02)\n",
    "#    time.sleep(delaytime)"
   ]
  },
  {
   "cell_type": "code",
   "execution_count": null,
   "metadata": {
    "collapsed": true
   },
   "outputs": [],
   "source": []
  }
 ],
 "metadata": {
  "kernelspec": {
   "display_name": "Python 3",
   "language": "python",
   "name": "python3"
  },
  "language_info": {
   "codemirror_mode": {
    "name": "ipython",
    "version": 3
   },
   "file_extension": ".py",
   "mimetype": "text/x-python",
   "name": "python",
   "nbconvert_exporter": "python",
   "pygments_lexer": "ipython3",
   "version": "3.4.2"
  }
 },
 "nbformat": 4,
 "nbformat_minor": 2
}
