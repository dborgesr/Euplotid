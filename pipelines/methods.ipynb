{
 "cells": [
  {
   "cell_type": "markdown",
   "metadata": {},
   "source": [
    "# Methods\n",
    "## Each jupyter notebook is one bioinformatic pipeline:\n",
    "1. Hello world intro to programming and Jupyter's capabilities [helloWorld](helloWorld.md) O*.\n",
    "2. Databases and good tools to crawl the internet for interesting datasets and hypothesis [databasesTools](databasesTools.md) O*.\n",
    "3. Fetch any type of sequencing data from SRA [getFastqReads](getFastqReads.md) O\n",
    "4. QC, trim, and filter sequencing reads [fq2preppedReads](fq2preppedReads.md) O\n",
    "5. Call peaks from Chip-Seq and Chromatin Accessibility reads [fq2peaks](fq2peaks.md) O\n",
    "6. Call normalized interactions from ChiA-PET reads [fq2ChIAInts](fq2ChIAInts.md) O\n",
    "7. Call normalized Interactions from HiC reads [fq2HiCInts](fq2HiCInts.md) O\n",
    "8. Call normalized interactions from Hi-ChIP reads [fq2HiChIPInts](fq2HiChIPInts.md) O\n",
    "9. Call normalized interactions from DNAse-HiC reads [fq2DNAseHiCInts](fq2DNAseHiCInts.md) O\n",
    "10. Call normalized expression and counts from RNA-Seq reads [fq2countsFPKM](fq2countsFPKM.md) O\n",
    "11. Call differentially expressed genes from RNA-seq counts [countsFPKM2DiffExp](countsFPKM2DiffExp.md) O\n",
    "12. Call normalized counts, miRNA promoters, and nascent transcripts from Gro-Seq reads [fq2GroRPKM](fq2GroRPKM.md) O\n",
    "13. Call normalized interactions from 4C [fq24CInts](fq24CInts.md) O\n",
    "14. Build, annotate and add INs to global graph for a given cell state using DNA-DNA interactions, Chromatin Accesibility, and FPKM [addINs](addINs.md) *\n",
    "15. View current built and annotated INs for all cell types [viewINs](viewINs.md) O*.\n",
    "16. Search for and/or manipulate annotation and other data available to euplotid [annotationManagement](annotationManagement.md) O*.\n",
    "17. Description of default software packages and images installed, how to get new ones, and which ones are currently installed. [packageManagement](packageManagement.md) O*.\n",
    "18. Find clusters of interconnected nodes (Communities) using a Louvain algorithm then visualize the results [vanillaCommunities](vanillaCommunities.md)\n",
    "19. Create, manipulate, and visualize cool DNA-DNA interaction files [chilledInteractions](chilledInteractions.md)\n",
    "20. Design Base Editor and sgRNA plasmids for transition mutation at picked Cis-Regulatory Element [CRE2plasmid](CRE2plasmid.md)\n",
    "\n",
    " [O] = Megatid compatible\n",
    " [*] = Euplotid compatible\n",
    " [.] = Minitid compatible"
   ]
  },
  {
   "cell_type": "markdown",
   "metadata": {},
   "source": [
    "## 1. [helloWorld](helloWorld.md)\n",
    "Hello world intro to programming, ipython, and Euplotid"
   ]
  },
  {
   "cell_type": "markdown",
   "metadata": {},
   "source": [
    "## 2. [databasesTools](databasesTools.md)\n",
    "Databases and good tools to crawl the internet for interesting datasets and hypothesis. Some examples include GTeX, uniprot, SRA, GEO, etc, check them out!!"
   ]
  },
  {
   "cell_type": "markdown",
   "metadata": {},
   "source": [
    "## 3. [getFastqReads](getFastqReads.md)\n",
    "Allows you to use Tony to find local fastq.gz files OR provide an SRA number to pull from"
   ]
  },
  {
   "cell_type": "markdown",
   "metadata": {},
   "source": [
    "## 4. [fq2preppedReads](fq2preppedReads.md)\n",
    "Take fq.gz reads and QC them using FastQC checking for over-represented sequences potentially indicating adapter contamination. Then use cutadapt and sickle to filter and remove adapters. Can also use trimmomatic for flexible trimming. "
   ]
  },
  {
   "cell_type": "markdown",
   "metadata": {},
   "source": [
    "## 5. [fq2peaks](fq2peaks.md)\n",
    "Take fq.gz align it using bowtie2 to the genome. Then using Homer software pick the type of peak (histone, chip-seq, dnase, etc) and chug through to get bed files of peaks. Can also use MACS2 w/ specific analysis parameters to deal with different types of peak finding problems."
   ]
  },
  {
   "cell_type": "markdown",
   "metadata": {},
   "source": [
    "## 6. [fq2ChIAInts](fq2ChIAInts.md)\n",
    "Take fq.gz reads, prep them by removing bridge adapters (can deal with either bridges), align, find interactions, normalize, and spit into cooler format for later viewing. Can perform analysis using either Origami or ChiA-PET2"
   ]
  },
  {
   "cell_type": "markdown",
   "metadata": {},
   "source": [
    "## 7. [fq2HiCInts](fq2HiCInts.md)\n",
    "Take fq.gz reads and chug them through HiCPro w/ tuned relevant parameters. In the end spits out a cooler file which can be loaded for further visualization."
   ]
  },
  {
   "cell_type": "markdown",
   "metadata": {},
   "source": [
    "## 8. [fq2HiChIPInts](fq2HiChIPInts.md)\n",
    "Take fq.gz reads and chug them through customized Origami pipeline and customized HiCPro pipeline. In the end spits out a cooler file which can be loaded for further visualization."
   ]
  },
  {
   "cell_type": "markdown",
   "metadata": {},
   "source": [
    "## 9. [fq2DNAseHiCInts](fq2DNAseHiCInts.md)\n",
    "Take fq.gz reads and chug them through HiCPro pipeline. In the end spits out a cooler file which can be loaded for further visualization."
   ]
  },
  {
   "cell_type": "markdown",
   "metadata": {},
   "source": [
    "## 10. [fq2countsFPKM](fq2countsFPKM.md)\n",
    "Take fq.gz reads and chug them through STAR aligner and then RSEM pipeline. In the end spits out a counts vs transcripts matrix and a normalized transcript/gene FPKM matrix."
   ]
  },
  {
   "cell_type": "markdown",
   "metadata": {},
   "source": [
    "## 11. [countsFPKM2DiffExp](countsFPKM2DiffExp.md)\n",
    "Take RNA-seq count and FPKM matrix and run any one of many R packages (DESeq2,DESeq,EBSeq,edgeR...) to call differentially expressed genes. Plotting and interactive visualization of results included"
   ]
  },
  {
   "cell_type": "markdown",
   "metadata": {},
   "source": [
    "## 12. [fq2GroRPKM](fq2GroRPKM.md)\n",
    "Take fq.gz reads and align them using bowtie2 then find nascent transcripts using FStitch and miRNA promoters using mirSTP"
   ]
  },
  {
   "cell_type": "markdown",
   "metadata": {},
   "source": [
    "## 13. [fq24CInts](fq24CInts.md)\n",
    "Take fq.gz reads and align them using bowtie2. Chug them through HiCPro and/or custom pipeline to get cooler file"
   ]
  },
  {
   "cell_type": "markdown",
   "metadata": {},
   "source": [
    "## 14.  [addINs](addINs.md)\n",
    "Build, annotate and add INs to global graph for a given cell state using DNA-DNA interactions, Chromatin Accesibility, and FPKM."
   ]
  },
  {
   "cell_type": "markdown",
   "metadata": {},
   "source": [
    "## 15. [viewINs](viewINs.md)\n",
    "View current built and annotated INs for all cell types"
   ]
  },
  {
   "cell_type": "markdown",
   "metadata": {},
   "source": [
    "## 16. [annotationManagement](annotationManagement.md)\n",
    "Search for and/or manipulate annotation and other data available to euplotid"
   ]
  },
  {
   "cell_type": "markdown",
   "metadata": {},
   "source": [
    "## 17. [packageManagement](packageManagement.md)\n",
    "Description of default image and the software packages that are installed, also how to get new packages, and how to export environment in yaml file for others to replicate analysis."
   ]
  },
  {
   "cell_type": "markdown",
   "metadata": {},
   "source": [
    "## 18. [vanillaCommunities](vanillaCommunities.md) \n",
    "Find clusters of interconnected nodes (Communities) using a Louvain algorithm then visualize the results "
   ]
  },
  {
   "cell_type": "markdown",
   "metadata": {},
   "source": [
    "## 19. [chilledInteractions](chilledInteractions.md) \n",
    "Create, manipulate, and visualize cool DNA-DNA interaction files "
   ]
  },
  {
   "cell_type": "markdown",
   "metadata": {},
   "source": [
    "## 20. [CRE2plasmid](CRE2plasmid.md) \n",
    "Design Base Editor and sgRNA plasmids for transition mutation at picked Cis-Regulatory Element "
   ]
  }
 ],
 "metadata": {
  "anaconda-cloud": {},
  "kernelspec": {
   "display_name": "Python [conda root]",
   "language": "python",
   "name": "conda-root-py"
  },
  "language_info": {
   "codemirror_mode": {
    "name": "ipython",
    "version": 2
   },
   "file_extension": ".py",
   "mimetype": "text/x-python",
   "name": "python",
   "nbconvert_exporter": "python",
   "pygments_lexer": "ipython2",
   "version": "2.7.13"
  }
 },
 "nbformat": 4,
 "nbformat_minor": 2
}
