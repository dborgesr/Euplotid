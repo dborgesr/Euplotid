{
 "cells": [
  {
   "cell_type": "markdown",
   "metadata": {},
   "source": [
    "# Create, manipulate, and visualize cool DNA-DNA interaction files"
   ]
  },
  {
   "cell_type": "markdown",
   "metadata": {},
   "source": [
    "## Dump cool file into human readable bedpe like file"
   ]
  },
  {
   "cell_type": "code",
   "execution_count": null,
   "metadata": {
    "collapsed": true
   },
   "outputs": [],
   "source": [
    "%%bash\n",
    "source activate py27\n",
    "conda install numpy scipy pandas h5py\n",
    "cooler dump -t pixels --join GSM2644945_Untreated-R1.100000.cool.gz > /output_dir/GSM2644945.txt"
   ]
  },
  {
   "cell_type": "markdown",
   "metadata": {},
   "source": [
    "## Take input contact list, sort and chill into cool file"
   ]
  },
  {
   "cell_type": "code",
   "execution_count": null,
   "metadata": {
    "collapsed": true
   },
   "outputs": [],
   "source": [
    "%%bash\n",
    "source activate py27\n",
    "cooler csort hg19.chrom.sizes [input_origami_contact_list]\n",
    "cooler cload tabix hg19.chrom.sizes:$bin_size  [input_origami_contact_list].sorted.txt.gz  [input_origami_contact_list].cool\"\n",
    "cooler coarsegrain --no-balance  [input_origami_contact_list].cool\""
   ]
  },
  {
   "cell_type": "markdown",
   "metadata": {},
   "source": [
    "## Load chilled and sorted file into HiGlass"
   ]
  },
  {
   "cell_type": "code",
   "execution_count": null,
   "metadata": {
    "collapsed": true
   },
   "outputs": [],
   "source": [
    "!docker exec higlass-container python higlass-server/manage.py ingest_tileset \\\n",
    "    --filename \"/data/[input_origami_contact_list].multires.cool\" \\\n",
    "    --datatype matrix --filetype cooler --uid cooler-demo"
   ]
  },
  {
   "cell_type": "markdown",
   "metadata": {},
   "source": [
    "## Take a peek at the chilled file in HiGlass"
   ]
  },
  {
   "cell_type": "code",
   "execution_count": null,
   "metadata": {
    "collapsed": true
   },
   "outputs": [],
   "source": [
    "%%javascript\n",
    "\n",
    "var config = {\n",
    "  \"editable\": true,\n",
    "  \"zoomFixed\": false,\n",
    "  \"trackSourceServers\": [\n",
    "    \"http://higlass.io/api/v1\"\n",
    "  ],\n",
    "  \"exportViewUrl\": \"http://higlass.io/api/v1/viewconfs/\",\n",
    "  \"views\": [\n",
    "    {\n",
    "      \"uid\": \"aa\",\n",
    "      \"initialXDomain\": [\n",
    "        509161199.6251172,\n",
    "        2590838800.374883\n",
    "      ],\n",
    "      \"autocompleteSource\": \"http://higlass.io/api/v1/suggest/?d=OHJakQICQD6gTD7skx4EWA&\",\n",
    "      \"genomePositionSearchBoxVisible\": true,\n",
    "      \"chromInfoPath\": \"//s3.amazonaws.com/pkerp/data/hg19/chromSizes.tsv\",\n",
    "      \"tracks\": {\n",
    "        \"top\": [\n",
    "          {\n",
    "            \"type\": \"horizontal-gene-annotations\",\n",
    "            \"height\": 60,\n",
    "            \"tilesetUid\": \"OHJakQICQD6gTD7skx4EWA\",\n",
    "            \"server\": \"http://higlass.io/api/v1\",\n",
    "            \"position\": \"top\",\n",
    "            \"uid\": \"OHJakQICQD6gTD7skx4EWA\",\n",
    "            \"name\": \"Gene Annotations (hg19)\",\n",
    "            \"options\": {\n",
    "              \"name\": \"Gene Annotations (hg19)\"\n",
    "            },\n",
    "            \"maxWidth\": 4294967296,\n",
    "            \"maxZoom\": 22\n",
    "          },\n",
    "          {\n",
    "            \"chromInfoPath\": \"//s3.amazonaws.com/pkerp/data/hg19/chromSizes.tsv\",\n",
    "            \"type\": \"horizontal-chromosome-labels\",\n",
    "            \"position\": \"top\",\n",
    "            \"name\": \"Chromosome Labels (hg19)\",\n",
    "            \"height\": 30,\n",
    "            \"uid\": \"N_w4XVIpTPSpq2xBVTToLA\",\n",
    "            \"options\": {}\n",
    "          }\n",
    "        ],\n",
    "        \"left\": [\n",
    "          {\n",
    "            \"type\": \"vertical-gene-annotations\",\n",
    "            \"width\": 60,\n",
    "            \"tilesetUid\": \"OHJakQICQD6gTD7skx4EWA\",\n",
    "            \"server\": \"http://higlass.io/api/v1\",\n",
    "            \"position\": \"left\",\n",
    "            \"name\": \"Gene Annotations (hg19)\",\n",
    "            \"options\": {\n",
    "              \"labelPosition\": \"bottomRight\",\n",
    "              \"name\": \"Gene Annotations (hg19)\"\n",
    "            },\n",
    "            \"uid\": \"BtHSrxzrSUy21KQ7D6lmZA\",\n",
    "            \"maxWidth\": 4294967296,\n",
    "            \"maxZoom\": 22\n",
    "          },\n",
    "          {\n",
    "            \"chromInfoPath\": \"//s3.amazonaws.com/pkerp/data/hg19/chromSizes.tsv\",\n",
    "            \"type\": \"vertical-chromosome-labels\",\n",
    "            \"position\": \"left\",\n",
    "            \"name\": \"Chromosome Labels (hg19)\",\n",
    "            \"width\": 30,\n",
    "            \"uid\": \"V74xYbctSbKB2XSesy2Glg\",\n",
    "            \"options\": {}\n",
    "          }\n",
    "        ],\n",
    "        \"center\": [\n",
    "          {\n",
    "            \"uid\": \"c1\",\n",
    "            \"type\": \"combined\",\n",
    "            \"height\": 200,\n",
    "            \"contents\": [\n",
    "              {\n",
    "                \"server\": \"http://higlass.io/api/v1\",\n",
    "                \"tilesetUid\": \"CQMd6V_cRw6iCI_-Unl3PQ\",\n",
    "                \"type\": \"heatmap\",\n",
    "                \"position\": \"center\",\n",
    "                \"options\": {\n",
    "                  \"colorRange\": [\n",
    "                    \"#FFFFFF\",\n",
    "                    \"#F8E71C\",\n",
    "                    \"#F5A623\",\n",
    "                    \"#D0021B\"\n",
    "                  ],\n",
    "                  \"maxZoom\": null,\n",
    "                  \"labelPosition\": \"bottomRight\",\n",
    "                  \"name\": \"Rao et al. (2014) GM12878 MboI (allreps) 1kb\"\n",
    "                },\n",
    "                \"uid\": \"QGf8KgUsSPCoVlk-EPWn3w\",\n",
    "                \"name\": \"Rao et al. (2014) GM12878 MboI (allreps) 1kb\",\n",
    "                \"maxWidth\": 4194304000,\n",
    "                \"binsPerDimension\": 256,\n",
    "                \"maxZoom\": 14\n",
    "              }\n",
    "            ],\n",
    "            \"position\": \"center\",\n",
    "            \"options\": {}\n",
    "          }\n",
    "        ],\n",
    "        \"right\": [],\n",
    "        \"bottom\": []\n",
    "      },\n",
    "      \"initialYDomain\": [\n",
    "        619564198.6879103,\n",
    "        2480435801.312089\n",
    "      ],\n",
    "      \"layout\": {\n",
    "        \"w\": 6,\n",
    "        \"h\": 12,\n",
    "        \"x\": 0,\n",
    "        \"y\": 0,\n",
    "        \"i\": \"aa\",\n",
    "        \"moved\": false,\n",
    "        \"static\": false\n",
    "      }\n",
    "    }\n",
    "  ],\n",
    "  \"zoomLocks\": {\n",
    "    \"locksByViewUid\": {},\n",
    "    \"locksDict\": {}\n",
    "  },\n",
    "  \"locationLocks\": {\n",
    "    \"locksByViewUid\": {},\n",
    "    \"locksDict\": {}\n",
    "  }\n",
    "};\n",
    "\n",
    "element.append('<div><div id=\"higlass\" class=\"full-dim\"></div></div>');\n",
    "\n",
    "requirejs.config({\n",
    "    paths: {\n",
    "        \"hglib\": \"//higlass.io/assets/scripts-third-party/hglib\"\n",
    "    },\n",
    "    waitSeconds: 2\n",
    "});\n",
    "\n",
    "require(['hglib'], function(hglib) {\n",
    "    hglib.createHgComponent( \n",
    "        document.querySelector(\"#higlass\"), \n",
    "        config, \n",
    "        { bounded: true}, \n",
    "        function (api) { window.higlassApi = api; }\n",
    "    );\n",
    "});\n"
   ]
  }
 ],
 "metadata": {
  "kernelspec": {
   "display_name": "Python [conda root]",
   "language": "python",
   "name": "conda-root-py"
  },
  "language_info": {
   "codemirror_mode": {
    "name": "ipython",
    "version": 3
   },
   "file_extension": ".py",
   "mimetype": "text/x-python",
   "name": "python",
   "nbconvert_exporter": "python",
   "pygments_lexer": "ipython3",
   "version": "3.5.3"
  }
 },
 "nbformat": 4,
 "nbformat_minor": 2
}
