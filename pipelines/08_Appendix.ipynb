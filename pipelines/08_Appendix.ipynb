{
 "cells": [
  {
   "cell_type": "markdown",
   "metadata": {},
   "source": [
    "## Appendix: Naming of Euplotid\n",
    "&nbsp;&nbsp;&nbsp;&nbsp;&nbsp;&nbsp;&nbsp;&nbsp;The [Cambrian explosion](https://en.wikipedia.org/wiki/Cambrian_explosion) is responsible for the cementing of animal life on this planet; phylogenetic analysis appears to indicate that all metazoans originated from a single common flagellated organism, something resembling a Euplotid. Darwin has noted that this event does not seem to follow with a traditional evolutionary view, the speed and emergence of metazoans accelerated orders of magnitude when compared to the life that preceded them. There have been many attempts to explain this event, from Oxygen concentration to complexity thresholds, but no-one has considered that clues may lie within the genetic code itself, after all, this code is fundamental for the evolution of life as we know it.\n",
    "\n",
    "&nbsp;&nbsp;&nbsp;&nbsp;&nbsp;&nbsp;&nbsp;&nbsp;A number of patterns have been observed within the codons, but a particularly interesting combination of two rules allows for the writing of the Euplotid genetic code in a contracted manner. By combining Rumer's Bisection with Hisagawa-Minata's ordering by codon redundancy/mass and applying them to the Euplotid genetic code we are able to contract the codons as first shown in Makukov et al.\n",
    "&nbsp;&nbsp;&nbsp;&nbsp;&nbsp;&nbsp;&nbsp;&nbsp; Makukov et al discovered the protacted Euplotid codon arrangement and go well into the arithmetic interpretation, that is to say the part dealing with arithmatic. Below is an ideographical interpretation:"
   ]
  },
  {
   "cell_type": "markdown",
   "metadata": {
    "latex_doc": {
     "figure": {
      "caption": "Contracted codons of the Euplotid Genetic code",
      "label": "fig:app_2",
      "placement": "H",
      "widefigure": false
     }
    }
   },
   "source": [
    "<img src=\"https://raw.githubusercontent.com/dborgesr/Euplotid/gh-pages/web_euplotid/lab_meeting_slides_Appendix.png\" style=\"width: 1000px\">"
   ]
  },
  {
   "cell_type": "markdown",
   "metadata": {},
   "source": [
    "1. GGTCGACC: How to number DNA, 0=T, C=1, G=2, A=3\n",
    "2. GCCCTCTG: What [radix](https://en.wikipedia.org/wiki/Radix) number system to use. CCC = 111 (base 4) = digital symmetry needed for [digital sums](https://en.wikipedia.org/wiki/Digit_sum), and TCT = 010 = 4 (base 10) is one full rotation in base 4\n",
    "3. NNNNNNNN: Is able to complement \"GGTCGACC\"  \n",
    "4. TATATAGCAGCTATAT: Euplotids remove Internal Eliminated Sequences (IESs) in the process of generating the large vegetative Macronucleus (MAC) from the small sexually produced Micronucleus (MIC).  \"Together, these observations highlight programmed elimination of short IESs flanked by TA (or, in Tetrahymena, TTAA) repeats as a common theme in ciliate genome rearrangements\" (bracht_genomes_2013)\n",
    "    * Euplote Crassus consensus sequence: 5′-TATrGCRN-3′\n",
    "5. GTAGTAAAAAATGATG: Translating from left to right starting w/ TAG would produce: Stop-Stop-Lys-Start-Start normally, but in Euplotids +1 Programmed Ribosomal Frameshifting (+1 PRF) occurs at AAA sites preceding stop codons due to a tRNA recognizing UAAA instead of UAA. So if we perform a +1 PRF and read starting at AGT we get: Ser-Lys-Lys-Cys. This is only in Euplotids due to TGA coding for Cys instead of stop. +1 PRF in Euplotids is used to generate functional proteins from fusing different reading frames in over 3,700 proteins, including the Reverse Transcriptase of LINE-elements, ORF2\n",
    "6. HHRYRYYRRRYYRYGG: Is able to complement \"TATATAGCAGCTATAT\"\n",
    "\n",
    "### Using DNA as a checksum\n",
    "The ability to quickly verify accurate information transfer between a 1D DNA sequence and a 3D Matter topology is possible given certain assumptions hold:\n",
    "* Standard genetic code\n",
    "* Cytoplasmic pH conditions\n",
    " \n",
    "#### [Checksum functions](https://en.wikipedia.org/wiki/Checksum)\n",
    "  \n",
    "* DNA side (base 4):  \n",
    "<img src=\"https://raw.githubusercontent.com/dborgesr/Euplotid/gh-pages/web_euplotid/DNA_checksum.png\" style=\"width: 1000px\">\n",
    "* Amino Acid side (base 10):   \n",
    "<img src=\"https://raw.githubusercontent.com/dborgesr/Euplotid/gh-pages/web_euplotid/AA_checksum.png\" style=\"width: 1000px\">\n",
    "The ability becomes useful as an indexing to find errors when you realize that certain parameters are mapped to physical realities, namely the DNA backbone and the amino acid backbone.  \n",
    "* Z-DNA is 12=3*4 bp per full turn  \n",
    "* Amino acids have 74=37*2 Deuteriums per backbone chain  \n",
    "You can start using the process of doing the checksum as a way to check for errors in physical reality.\n",
    "It remains an open question if a similar approach can be taken towards more complex systems, such as the cytoskeleton and signal transduction cascades.   "
   ]
  }
 ],
 "metadata": {
  "anaconda-cloud": {},
  "kernelspec": {
   "display_name": "Python [conda root]",
   "language": "python",
   "name": "conda-root-py"
  },
  "language_info": {
   "codemirror_mode": {
    "name": "ipython",
    "version": 2
   },
   "file_extension": ".py",
   "mimetype": "text/x-python",
   "name": "python",
   "nbconvert_exporter": "python",
   "pygments_lexer": "ipython2",
   "version": "2.7.13"
  },
  "latex_envs": {
   "LaTeX_envs_menu_present": true,
   "autocomplete": true,
   "bibliofile": "biblio.bib",
   "cite_by": "apalike",
   "current_citInitial": 1,
   "eqLabelWithNumbers": true,
   "eqNumInitial": 1,
   "hotkeys": {
    "equation": "Ctrl-E",
    "itemize": "Ctrl-I"
   },
   "labels_anchors": false,
   "latex_user_defs": false,
   "report_style_numbering": false,
   "user_envs_cfg": false
  }
 },
 "nbformat": 4,
 "nbformat_minor": 2
}
