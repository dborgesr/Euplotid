{
 "cells": [
  {
   "cell_type": "markdown",
   "metadata": {},
   "source": [
    "## Appendix:\n",
    "\n",
    "### Using DNA as a checksum\n",
    "The ability to quickly verify accurate information transfer between a 1D DNA sequence and a 3D Matter topology is possible given certain assumptions hold:\n",
    "* Standard genetic code\n",
    "* Cytoplasmic pH conditions\n",
    " \n",
    "### [Checksum functions](https://en.wikipedia.org/wiki/Checksum)\n",
    "  \n",
    "* DNA side (base 4) \\cite{shcherbak_wow!_2013}:  \n",
    "  <img src=\"https://raw.githubusercontent.com/dborgesr/Euplotid/gh-pages/web_euplotid/DNA_checksum.png\" style=\"width: 1000px\">\n",
    "* Amino Acid side (base 10):   \n",
    "<img src=\"https://raw.githubusercontent.com/dborgesr/Euplotid/gh-pages/web_euplotid/AA_checksum.png\" style=\"width: 1000px\">\n",
    "&nbsp;&nbsp;&nbsp;&nbsp;&nbsp;&nbsp;&nbsp;&nbsp;The ability becomes useful as an indexing method to find errors when certain parameters are mapped to physical realities, namely the DNA backbone and the amino acid backbone.  \n",
    "* Z-DNA is 12=3*4 bp per full turn  \n",
    "* Amino acids have 74=37*2 Deuteriums per backbone chain \n",
    "  \n",
    "&nbsp;&nbsp;&nbsp;&nbsp;&nbsp;&nbsp;&nbsp;&nbsp;You can start using the process of doing the checksum as a way to check for errors in physical reality. It remains an open question if a similar approach can be taken towards more complex systems, such as the cytoskeleton and signal transduction cascades.   "
   ]
  }
 ],
 "metadata": {
  "anaconda-cloud": {},
  "kernelspec": {
   "display_name": "Python [conda root]",
   "language": "python",
   "name": "conda-root-py"
  },
  "language_info": {
   "codemirror_mode": {
    "name": "ipython",
    "version": 2
   },
   "file_extension": ".py",
   "mimetype": "text/x-python",
   "name": "python",
   "nbconvert_exporter": "python",
   "pygments_lexer": "ipython2",
   "version": "2.7.13"
  },
  "latex_envs": {
   "LaTeX_envs_menu_present": true,
   "autocomplete": true,
   "bibliofile": "biblio.bib",
   "cite_by": "apalike",
   "current_citInitial": 1,
   "eqLabelWithNumbers": true,
   "eqNumInitial": 1,
   "hotkeys": {
    "equation": "Ctrl-E",
    "itemize": "Ctrl-I"
   },
   "labels_anchors": false,
   "latex_user_defs": false,
   "report_style_numbering": false,
   "user_envs_cfg": false
  }
 },
 "nbformat": 4,
 "nbformat_minor": 2
}
