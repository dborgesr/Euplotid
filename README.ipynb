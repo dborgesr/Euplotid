{
 "cells": [
  {
   "cell_type": "markdown",
   "metadata": {},
   "source": [
    "<h1><center>Euplotid</center></h1>\n",
    "<img src=\"docs/graphical_abstract.png\" style=\"width: 500px;\">\n",
    "<h2><center> A linux-based platform to identify, predict, and assess the difficulty of inducing transition mutations on Cis-Regulatory Elements constrained within Insulated Neighborhoods </center></h2>\n",
    "Euplotid is composed of a set of constantly updating bioinformatic pipelines running on Docker images which enables a user to build and annotate Insulated Neighborhoods (INs) genomewide starting from raw sequencing reads of DNA-interactions, chromatin accessibility, and RNA-sequencing. Reads are quantified using the latest computational tools (RSEM, STAR, Origami, HiCPro) and the results are normalized, quality-checked, and stored. INs are then built using a Louvain based graph partioning algorithm parametrized by the chromatin extrusion model and CTCF-CTCF interactions. Cis-Regulatory Elements (CREs) are defined using chromatin accessibility peaks which are then mapped to Transcription Start Sites (TSSs) based on inclusion within the same IN. Convolutional Neural Networks (CNNs) are combined with Long-Short Term Memory (LSTM) in order to provide a statistical model mimicking Transcription Factor (TF) binding, one (CNN+LSTM) for each TF in the genome is trained on all available Chip-Seq and SELEX data for that TF to learn its binding motifs. The TF-(CNN+LSTM)s are then merged and trained on chromatin accessibility data thereby building a rationally designed neural network architecture capable of predicting chromatin accessibility. TF binding and identity at each peak is annotated using this trained neural network architecture. By in-silico mutating and re-applying the neural network we are able to gauge the impact of a transition mutation on the binding of any human TF. The annotated output can be visualized in a variety of 1D, 2D and 3D ways overlayed with existing bodies of knowledge, such as GWAS results. Once a particular CRE of interest has been identified by a biologist the difficulty of a <a href=\"https://benchling.com/editor?utm_source=liu-mini-site&utm_medium=editor-note&utm_campaign=liu-base-edit#\"> Base Editor 2 (BE2) </a> mediated transition mutation can be quantitatively assesed and induced in a model organism. \n",
    "<img src=\"docs/fig1_overview.png\" style=\"width: 5=800px;\">\n",
    "\n",
    "The pipelines available and their capabilities are described in [pipeline README] which helps you pick the right of 3 Docker images:\n",
    "* Megatid: process sequencing data into quantified values (FPKM,peaks,etc)\n",
    "~~~ \n",
    "docker pull dborgesr/euplotid:megatid #port 8891 \n",
    "~~~\n",
    "* Euplotid: build and visualize INs and learn/predict TFs bound at CREs\n",
    "~~~\n",
    "docker pull dborgesr/euplotid:euplotid #port 8890\n",
    "~~~\n",
    "* Minitid: visualize and interact with built and annotated INs\n",
    "~~~\n",
    "docker pull dborgesr/euplotid:minitid #port 8892\n",
    "~~~\n",
    "\n",
    "Run your image:<br>\n",
    "~~~\n",
    "docker run --name megatid -p [8891|8890|8892]:[8891|8890|8892] -tid \\\n",
    "\t-v \"/your/input/directory:/input_dir\" \\\n",
    "\t-v \"/your/temporary/directory/:/tmp_dir\" \\\n",
    "\t-v \"/your/output/directory/:/output_dir\" \\\n",
    "\t-v \"/your/annotation/directory/:/annotation_dir\" \\\n",
    "\tdborgesr/euplotid:[megatid|euplotid|minitid]\n",
    "~~~\n",
    "NOTE: make sure publish the right port for the matching image (-p) when using docker run! <br><br>\n",
    "If you ran the \n",
    "~~~\n",
    "docker pull \n",
    "~~~ \n",
    "and \n",
    "~~~ \n",
    "docker run\n",
    "~~~ \n",
    "commands as shown above then your Docker image is running on your computer (local), now you can access and use it!\n",
    "## Go to your image!\n",
    "* Megatid <br> local:[http://localhost:8891](http://localhost:8891) Whitehead internal:[http://airstream:8891](http://airstream:8891)\n",
    "* Euplotid <br> local:[http://localhost:8890](http://localhost:8890) Whitehead internal:[http://airstream:8890](http://airstream:8890)\n",
    "* Minitid <br> local:[http://localhost:8892](http://localhost:8892) Whitehead internal:[http://airstream:8892](http://airstream:8892)\n",
    "\n",
    "Each Docker image has different capabilities (packages installed in each Docker image are described in [packageManagement](docs/packageManagement.md) "
   ]
  }
 ],
 "metadata": {
  "anaconda-cloud": {},
  "kernelspec": {
   "display_name": "Python [conda root]",
   "language": "python",
   "name": "conda-root-py"
  },
  "language_info": {
   "codemirror_mode": {
    "name": "ipython",
    "version": 2
   },
   "file_extension": ".py",
   "mimetype": "text/x-python",
   "name": "python",
   "nbconvert_exporter": "python",
   "pygments_lexer": "ipython2",
   "version": "2.7.12"
  }
 },
 "nbformat": 4,
 "nbformat_minor": 2
}
